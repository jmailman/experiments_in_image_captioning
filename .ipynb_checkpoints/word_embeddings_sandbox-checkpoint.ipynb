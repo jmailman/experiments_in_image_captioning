{
 "cells": [
  {
   "cell_type": "code",
   "execution_count": 1,
   "id": "minimal-crazy",
   "metadata": {},
   "outputs": [],
   "source": [
    "import gensim"
   ]
  },
  {
   "cell_type": "code",
   "execution_count": 2,
   "id": "suspected-atmosphere",
   "metadata": {},
   "outputs": [],
   "source": [
    "from gensim.models import Word2Vec"
   ]
  },
  {
   "cell_type": "code",
   "execution_count": 3,
   "id": "affecting-reply",
   "metadata": {},
   "outputs": [],
   "source": [
    "from gensim.models import Word2Vec\n",
    "# sentences = [[\"cat\", \"say\", \"meow\"], [\"dog\", \"say\", \"woof\"]]\n",
    "\n",
    "# model = Word2Vec(min_count=1)\n",
    "# model.build_vocab(sentences)  # prepare the model vocabulary\n",
    "# model.train(sentences, total_examples=model.corpus_count, epochs=model.epochs)  # train word vectors\n",
    "# (1, 30)"
   ]
  },
  {
   "cell_type": "code",
   "execution_count": 4,
   "id": "refined-model",
   "metadata": {},
   "outputs": [],
   "source": [
    "\n",
    "documents = [\"Scratching and meowing the cat was purring and her fur was soft to the touch \",\n",
    "             \"The candle was bright and hot to the touch. It was electric \",\n",
    "             \"african elephants have the longer trunks\",\n",
    "             \"the rodeo was full of horses and saddles all around\",\n",
    "              \"the kitchen table had plates and glasses with chairs all around \",\n",
    "            \"Scratching and meowing the cat was purring and her fur was soft to the touch \",\n",
    "             \"The candle was bright and hot to the touch. It was electric \",\n",
    "             \"african elephants have the longest trunks of all \",\n",
    "             \"the rodeo was full of horses and saddles \",\n",
    "              \"the kitchen table had plates and glasses with chairs all around \",\n",
    "             \"the rodeo was full of horses and saddles \",\n",
    "             \"The candle was bright and hot to the touch. It was electric and longer than others\",\n",
    "              \"the kitchen table had plates and glasses with chairs all around \"\n",
    "             \"african elephants have the longer trunks \",\n",
    "            \"Scratching and meowing the cat was purring and her fur was soft to the touch \"]\n"
   ]
  },
  {
   "cell_type": "code",
   "execution_count": 5,
   "id": "neutral-exhibition",
   "metadata": {},
   "outputs": [],
   "source": [
    "sent_tokenized_docs = [gensim.utils.simple_preprocess(d) for d in documents]"
   ]
  },
  {
   "cell_type": "code",
   "execution_count": 6,
   "id": "young-independence",
   "metadata": {},
   "outputs": [],
   "source": [
    "#tokenized_docs"
   ]
  },
  {
   "cell_type": "code",
   "execution_count": 7,
   "id": "correct-switzerland",
   "metadata": {},
   "outputs": [],
   "source": [
    "model = Word2Vec(min_count=1)\n",
    "#model = gensim.models.Word2Vec(sentences = sent_tokenized_docs, size=10, window=4,min_count=1, sg=1)\n",
    "#model = Word2Vec(tokenized_docs, min_count=1)"
   ]
  },
  {
   "cell_type": "code",
   "execution_count": 8,
   "id": "republican-james",
   "metadata": {},
   "outputs": [],
   "source": [
    "model.build_vocab(sent_tokenized_docs)  # prepare the model vocabulary\n"
   ]
  },
  {
   "cell_type": "code",
   "execution_count": 9,
   "id": "later-crazy",
   "metadata": {},
   "outputs": [
    {
     "data": {
      "text/plain": [
       "(1, 30)"
      ]
     },
     "execution_count": 9,
     "metadata": {},
     "output_type": "execute_result"
    }
   ],
   "source": [
    "\n",
    "model.train(sent_tokenized_docs, total_examples=model.corpus_count, epochs=model.epochs)  # train word vectors\n",
    "(1, 30)"
   ]
  },
  {
   "cell_type": "code",
   "execution_count": 18,
   "id": "accredited-metropolitan",
   "metadata": {},
   "outputs": [],
   "source": [
    "model_output = model.predict_output_word(['horses'], topn=4)"
   ]
  },
  {
   "cell_type": "code",
   "execution_count": 20,
   "id": "naked-symphony",
   "metadata": {},
   "outputs": [
    {
     "data": {
      "text/html": [
       "<div>\n",
       "<style scoped>\n",
       "    .dataframe tbody tr th:only-of-type {\n",
       "        vertical-align: middle;\n",
       "    }\n",
       "\n",
       "    .dataframe tbody tr th {\n",
       "        vertical-align: top;\n",
       "    }\n",
       "\n",
       "    .dataframe thead th {\n",
       "        text-align: right;\n",
       "    }\n",
       "</style>\n",
       "<table border=\"1\" class=\"dataframe\">\n",
       "  <thead>\n",
       "    <tr style=\"text-align: right;\">\n",
       "      <th></th>\n",
       "      <th>0</th>\n",
       "      <th>1</th>\n",
       "    </tr>\n",
       "  </thead>\n",
       "  <tbody>\n",
       "    <tr>\n",
       "      <th>0</th>\n",
       "      <td>all</td>\n",
       "      <td>0.025641</td>\n",
       "    </tr>\n",
       "    <tr>\n",
       "      <th>1</th>\n",
       "      <td>was</td>\n",
       "      <td>0.025641</td>\n",
       "    </tr>\n",
       "    <tr>\n",
       "      <th>2</th>\n",
       "      <td>saddles</td>\n",
       "      <td>0.025641</td>\n",
       "    </tr>\n",
       "    <tr>\n",
       "      <th>3</th>\n",
       "      <td>longer</td>\n",
       "      <td>0.025641</td>\n",
       "    </tr>\n",
       "  </tbody>\n",
       "</table>\n",
       "</div>"
      ],
      "text/plain": [
       "         0         1\n",
       "0      all  0.025641\n",
       "1      was  0.025641\n",
       "2  saddles  0.025641\n",
       "3   longer  0.025641"
      ]
     },
     "execution_count": 20,
     "metadata": {},
     "output_type": "execute_result"
    }
   ],
   "source": [
    "import pandas as pd\n",
    "pd.DataFrame(model_output)"
   ]
  },
  {
   "cell_type": "code",
   "execution_count": 12,
   "id": "catholic-barcelona",
   "metadata": {},
   "outputs": [
    {
     "name": "stderr",
     "output_type": "stream",
     "text": [
      "<ipython-input-12-acc4107239c1>:1: DeprecationWarning: Call to deprecated `similar_by_word` (Method will be removed in 4.0.0, use self.wv.similar_by_word() instead).\n",
      "  model.similar_by_word('cat', topn=3)\n"
     ]
    },
    {
     "data": {
      "text/plain": [
       "[('elephants', 0.14560294151306152),\n",
       " ('glasses', 0.14171257615089417),\n",
       " ('candle', 0.11035917699337006)]"
      ]
     },
     "execution_count": 12,
     "metadata": {},
     "output_type": "execute_result"
    }
   ],
   "source": [
    "#model.similar_by_word('cat', topn=3)"
   ]
  },
  {
   "cell_type": "code",
   "execution_count": null,
   "id": "experienced-romania",
   "metadata": {},
   "outputs": [],
   "source": []
  },
  {
   "cell_type": "code",
   "execution_count": 21,
   "id": "senior-premises",
   "metadata": {},
   "outputs": [],
   "source": [
    "from sklearn.feature_extraction.text import CountVectorizer, TfidfVectorizer"
   ]
  },
  {
   "cell_type": "code",
   "execution_count": 35,
   "id": "eleven-raising",
   "metadata": {},
   "outputs": [],
   "source": [
    "vectorizer = TfidfVectorizer(ngram_range=(1,1), stop_words='english')\n",
    "X_tfidf = vectorizer.fit_transform(documents)"
   ]
  },
  {
   "cell_type": "code",
   "execution_count": 36,
   "id": "sporting-announcement",
   "metadata": {},
   "outputs": [
    {
     "data": {
      "text/plain": [
       "matrix([[0.   , 0.   , 0.   , 0.39 , 0.   , 0.   , 0.   , 0.39 , 0.   ,\n",
       "         0.   , 0.   , 0.   , 0.   , 0.   , 0.39 , 0.   , 0.39 , 0.   ,\n",
       "         0.   , 0.39 , 0.39 , 0.   , 0.296, 0.   ],\n",
       "        [0.   , 0.467, 0.467, 0.   , 0.   , 0.467, 0.   , 0.   , 0.   ,\n",
       "         0.   , 0.467, 0.   , 0.   , 0.   , 0.   , 0.   , 0.   , 0.   ,\n",
       "         0.   , 0.   , 0.   , 0.   , 0.355, 0.   ],\n",
       "        [0.5  , 0.   , 0.   , 0.   , 0.   , 0.   , 0.5  , 0.   , 0.   ,\n",
       "         0.   , 0.   , 0.   , 0.5  , 0.   , 0.   , 0.   , 0.   , 0.   ,\n",
       "         0.   , 0.   , 0.   , 0.   , 0.   , 0.5  ],\n",
       "        [0.   , 0.   , 0.   , 0.   , 0.   , 0.   , 0.   , 0.   , 0.   ,\n",
       "         0.577, 0.   , 0.   , 0.   , 0.   , 0.   , 0.   , 0.   , 0.577,\n",
       "         0.577, 0.   , 0.   , 0.   , 0.   , 0.   ],\n",
       "        [0.   , 0.   , 0.   , 0.   , 0.447, 0.   , 0.   , 0.   , 0.447,\n",
       "         0.   , 0.   , 0.447, 0.   , 0.   , 0.   , 0.447, 0.   , 0.   ,\n",
       "         0.   , 0.   , 0.   , 0.447, 0.   , 0.   ],\n",
       "        [0.   , 0.   , 0.   , 0.39 , 0.   , 0.   , 0.   , 0.39 , 0.   ,\n",
       "         0.   , 0.   , 0.   , 0.   , 0.   , 0.39 , 0.   , 0.39 , 0.   ,\n",
       "         0.   , 0.39 , 0.39 , 0.   , 0.296, 0.   ],\n",
       "        [0.   , 0.467, 0.467, 0.   , 0.   , 0.467, 0.   , 0.   , 0.   ,\n",
       "         0.   , 0.467, 0.   , 0.   , 0.   , 0.   , 0.   , 0.   , 0.   ,\n",
       "         0.   , 0.   , 0.   , 0.   , 0.355, 0.   ],\n",
       "        [0.462, 0.   , 0.   , 0.   , 0.   , 0.   , 0.462, 0.   , 0.   ,\n",
       "         0.   , 0.   , 0.   , 0.   , 0.6  , 0.   , 0.   , 0.   , 0.   ,\n",
       "         0.   , 0.   , 0.   , 0.   , 0.   , 0.462],\n",
       "        [0.   , 0.   , 0.   , 0.   , 0.   , 0.   , 0.   , 0.   , 0.   ,\n",
       "         0.577, 0.   , 0.   , 0.   , 0.   , 0.   , 0.   , 0.   , 0.577,\n",
       "         0.577, 0.   , 0.   , 0.   , 0.   , 0.   ],\n",
       "        [0.   , 0.   , 0.   , 0.   , 0.447, 0.   , 0.   , 0.   , 0.447,\n",
       "         0.   , 0.   , 0.447, 0.   , 0.   , 0.   , 0.447, 0.   , 0.   ,\n",
       "         0.   , 0.   , 0.   , 0.447, 0.   , 0.   ],\n",
       "        [0.   , 0.   , 0.   , 0.   , 0.   , 0.   , 0.   , 0.   , 0.   ,\n",
       "         0.577, 0.   , 0.   , 0.   , 0.   , 0.   , 0.   , 0.   , 0.577,\n",
       "         0.577, 0.   , 0.   , 0.   , 0.   , 0.   ],\n",
       "        [0.   , 0.423, 0.423, 0.   , 0.   , 0.423, 0.   , 0.   , 0.   ,\n",
       "         0.   , 0.423, 0.   , 0.423, 0.   , 0.   , 0.   , 0.   , 0.   ,\n",
       "         0.   , 0.   , 0.   , 0.   , 0.321, 0.   ],\n",
       "        [0.333, 0.   , 0.   , 0.   , 0.333, 0.   , 0.333, 0.   , 0.333,\n",
       "         0.   , 0.   , 0.333, 0.333, 0.   , 0.   , 0.333, 0.   , 0.   ,\n",
       "         0.   , 0.   , 0.   , 0.333, 0.   , 0.333],\n",
       "        [0.   , 0.   , 0.   , 0.39 , 0.   , 0.   , 0.   , 0.39 , 0.   ,\n",
       "         0.   , 0.   , 0.   , 0.   , 0.   , 0.39 , 0.   , 0.39 , 0.   ,\n",
       "         0.   , 0.39 , 0.39 , 0.   , 0.296, 0.   ]])"
      ]
     },
     "execution_count": 36,
     "metadata": {},
     "output_type": "execute_result"
    }
   ],
   "source": [
    "X_tfidf.todense()"
   ]
  },
  {
   "cell_type": "code",
   "execution_count": 39,
   "id": "equal-christianity",
   "metadata": {},
   "outputs": [
    {
     "data": {
      "text/plain": [
       "['african',\n",
       " 'bright',\n",
       " 'candle',\n",
       " 'cat',\n",
       " 'chairs',\n",
       " 'electric',\n",
       " 'elephants',\n",
       " 'fur',\n",
       " 'glasses',\n",
       " 'horses',\n",
       " 'hot',\n",
       " 'kitchen',\n",
       " 'longer',\n",
       " 'longest',\n",
       " 'meowing',\n",
       " 'plates',\n",
       " 'purring',\n",
       " 'rodeo',\n",
       " 'saddles',\n",
       " 'scratching',\n",
       " 'soft',\n",
       " 'table',\n",
       " 'touch',\n",
       " 'trunks']"
      ]
     },
     "execution_count": 39,
     "metadata": {},
     "output_type": "execute_result"
    }
   ],
   "source": [
    "vectorizer.get_feature_names()"
   ]
  },
  {
   "cell_type": "code",
   "execution_count": 37,
   "id": "careful-worthy",
   "metadata": {},
   "outputs": [
    {
     "name": "stdout",
     "output_type": "stream",
     "text": [
      "TFIDF: [0.    0.    0.    0.39  0.    0.    0.    0.39  0.    0.    0.    0.\n",
      " 0.    0.    0.39  0.    0.39  0.    0.    0.39  0.39  0.    0.296 0.   ]\n"
     ]
    }
   ],
   "source": [
    "import numpy as np\n",
    "# How do these two representations compare?\n",
    "# Let's look at the first 50 dimensions of the first document to gain some intuition\n",
    "\n",
    "np.set_printoptions(precision=3) # This just makes things a little easier to read\n",
    "\n",
    "#print(f\"CountVector: {X.toarray()[0,0:50]}\\n\\n\")\n",
    "\n",
    "print(f\"TFIDF: {X_tfidf.toarray()[0,0:50]}\")"
   ]
  },
  {
   "cell_type": "code",
   "execution_count": 38,
   "id": "sitting-bidder",
   "metadata": {},
   "outputs": [
    {
     "data": {
      "text/plain": [
       "(14, 24)"
      ]
     },
     "execution_count": 38,
     "metadata": {},
     "output_type": "execute_result"
    }
   ],
   "source": [
    "X_tfidf.shape"
   ]
  },
  {
   "cell_type": "code",
   "execution_count": 41,
   "id": "north-campus",
   "metadata": {},
   "outputs": [
    {
     "name": "stdout",
     "output_type": "stream",
     "text": [
      "TFIDF: [[0.    0.    0.    0.39  0.    0.    0.    0.39  0.    0.    0.    0.\n",
      "  0.    0.    0.39  0.    0.39  0.    0.    0.39  0.39  0.    0.296 0.   ]\n",
      " [0.    0.467 0.467 0.    0.    0.467 0.    0.    0.    0.    0.467 0.\n",
      "  0.    0.    0.    0.    0.    0.    0.    0.    0.    0.    0.355 0.   ]\n",
      " [0.5   0.    0.    0.    0.    0.    0.5   0.    0.    0.    0.    0.\n",
      "  0.5   0.    0.    0.    0.    0.    0.    0.    0.    0.    0.    0.5  ]\n",
      " [0.    0.    0.    0.    0.    0.    0.    0.    0.    0.577 0.    0.\n",
      "  0.    0.    0.    0.    0.    0.577 0.577 0.    0.    0.    0.    0.   ]\n",
      " [0.    0.    0.    0.    0.447 0.    0.    0.    0.447 0.    0.    0.447\n",
      "  0.    0.    0.    0.447 0.    0.    0.    0.    0.    0.447 0.    0.   ]\n",
      " [0.    0.    0.    0.39  0.    0.    0.    0.39  0.    0.    0.    0.\n",
      "  0.    0.    0.39  0.    0.39  0.    0.    0.39  0.39  0.    0.296 0.   ]\n",
      " [0.    0.467 0.467 0.    0.    0.467 0.    0.    0.    0.    0.467 0.\n",
      "  0.    0.    0.    0.    0.    0.    0.    0.    0.    0.    0.355 0.   ]\n",
      " [0.462 0.    0.    0.    0.    0.    0.462 0.    0.    0.    0.    0.\n",
      "  0.    0.6   0.    0.    0.    0.    0.    0.    0.    0.    0.    0.462]\n",
      " [0.    0.    0.    0.    0.    0.    0.    0.    0.    0.577 0.    0.\n",
      "  0.    0.    0.    0.    0.    0.577 0.577 0.    0.    0.    0.    0.   ]\n",
      " [0.    0.    0.    0.    0.447 0.    0.    0.    0.447 0.    0.    0.447\n",
      "  0.    0.    0.    0.447 0.    0.    0.    0.    0.    0.447 0.    0.   ]\n",
      " [0.    0.    0.    0.    0.    0.    0.    0.    0.    0.577 0.    0.\n",
      "  0.    0.    0.    0.    0.    0.577 0.577 0.    0.    0.    0.    0.   ]\n",
      " [0.    0.423 0.423 0.    0.    0.423 0.    0.    0.    0.    0.423 0.\n",
      "  0.423 0.    0.    0.    0.    0.    0.    0.    0.    0.    0.321 0.   ]\n",
      " [0.333 0.    0.    0.    0.333 0.    0.333 0.    0.333 0.    0.    0.333\n",
      "  0.333 0.    0.    0.333 0.    0.    0.    0.    0.    0.333 0.    0.333]\n",
      " [0.    0.    0.    0.39  0.    0.    0.    0.39  0.    0.    0.    0.\n",
      "  0.    0.    0.39  0.    0.39  0.    0.    0.39  0.39  0.    0.296 0.   ]]\n"
     ]
    }
   ],
   "source": [
    "print(f\"TFIDF: {X_tfidf.toarray()[:,:]}\")"
   ]
  },
  {
   "cell_type": "code",
   "execution_count": 42,
   "id": "corrected-commons",
   "metadata": {},
   "outputs": [],
   "source": [
    "import seaborn as sns"
   ]
  },
  {
   "cell_type": "code",
   "execution_count": 43,
   "id": "stable-keyboard",
   "metadata": {},
   "outputs": [
    {
     "data": {
      "text/plain": [
       "<matplotlib.axes._subplots.AxesSubplot at 0x7f82413b0490>"
      ]
     },
     "execution_count": 43,
     "metadata": {},
     "output_type": "execute_result"
    },
    {
     "data": {
      "image/png": "[encoded data removed]",
      "text/plain": [
       "<Figure size 432x288 with 2 Axes>"
      ]
     },
     "metadata": {
      "needs_background": "light"
     },
     "output_type": "display_data"
    }
   ],
   "source": []
  },
  {
   "cell_type": "code",
   "execution_count": 48,
   "id": "bizarre-firewall",
   "metadata": {},
   "outputs": [],
   "source": [
    "df = pd.DataFrame(X_tfidf.toarray()[:,:], columns = vectorizer.get_feature_names()).corr()"
   ]
  },
  {
   "cell_type": "code",
   "execution_count": 47,
   "id": "favorite-phoenix",
   "metadata": {},
   "outputs": [
    {
     "data": {
      "text/plain": [
       "<matplotlib.axes._subplots.AxesSubplot at 0x7f82486a4ac0>"
      ]
     },
     "execution_count": 47,
     "metadata": {},
     "output_type": "execute_result"
    },
    {
     "data": {
      "image/png": "[encoded data removed]",
      "text/plain": [
       "<Figure size 432x288 with 2 Axes>"
      ]
     },
     "metadata": {
      "needs_background": "light"
     },
     "output_type": "display_data"
    }
   ],
   "source": [
    "sns.heatmap(df)"
   ]
  },
  {
   "cell_type": "code",
   "execution_count": 110,
   "id": "received-netscape",
   "metadata": {},
   "outputs": [],
   "source": [
    "img_label = 'saddles'\n",
    "related_words = df.nlargest(4,img_label).index.to_list()"
   ]
  },
  {
   "cell_type": "code",
   "execution_count": 111,
   "id": "harmful-refrigerator",
   "metadata": {},
   "outputs": [
    {
     "data": {
      "text/plain": [
       "['horses', 'rodeo', 'longest']"
      ]
     },
     "execution_count": 111,
     "metadata": {},
     "output_type": "execute_result"
    }
   ],
   "source": [
    "related_words.remove(img_label)\n",
    "related_words"
   ]
  },
  {
   "cell_type": "code",
   "execution_count": 100,
   "id": "conservative-muslim",
   "metadata": {},
   "outputs": [
    {
     "ename": "TypeError",
     "evalue": "object of type 'NoneType' has no len()",
     "output_type": "error",
     "traceback": [
      "\u001b[0;31m---------------------------------------------------------------------------\u001b[0m",
      "\u001b[0;31mTypeError\u001b[0m                                 Traceback (most recent call last)",
      "\u001b[0;32m<ipython-input-100-edfa69d6e115>\u001b[0m in \u001b[0;36m<module>\u001b[0;34m\u001b[0m\n\u001b[0;32m----> 1\u001b[0;31m \u001b[0mlen\u001b[0m\u001b[0;34m(\u001b[0m\u001b[0mrelated_words\u001b[0m\u001b[0;34m)\u001b[0m\u001b[0;34m\u001b[0m\u001b[0;34m\u001b[0m\u001b[0m\n\u001b[0m",
      "\u001b[0;31mTypeError\u001b[0m: object of type 'NoneType' has no len()"
     ]
    }
   ],
   "source": []
  },
  {
   "cell_type": "code",
   "execution_count": 97,
   "id": "noted-quest",
   "metadata": {},
   "outputs": [
    {
     "data": {
      "text/plain": [
       "['bright', 'electric', 'hot']"
      ]
     },
     "execution_count": 97,
     "metadata": {},
     "output_type": "execute_result"
    }
   ],
   "source": [
    "related_words"
   ]
  },
  {
   "cell_type": "code",
   "execution_count": 113,
   "id": "fatty-listening",
   "metadata": {},
   "outputs": [],
   "source": [
    "def get_related_words(df_, img_label_word):\n",
    "    related_words = df.nlargest(4,img_label_word).index.to_list()\n",
    "    related_words.remove(img_label)\n",
    "    return related_words"
   ]
  },
  {
   "cell_type": "code",
   "execution_count": null,
   "id": "involved-christopher",
   "metadata": {},
   "outputs": [],
   "source": []
  }
 ],
 "metadata": {
  "kernelspec": {
   "display_name": "Python [conda env:metis] *",
   "language": "python",
   "name": "conda-env-metis-py"
  },
  "language_info": {
   "codemirror_mode": {
    "name": "ipython",
    "version": 3
   },
   "file_extension": ".py",
   "mimetype": "text/x-python",
   "name": "python",
   "nbconvert_exporter": "python",
   "pygments_lexer": "ipython3",
   "version": "3.8.6"
  }
 },
 "nbformat": 4,
 "nbformat_minor": 5
}
