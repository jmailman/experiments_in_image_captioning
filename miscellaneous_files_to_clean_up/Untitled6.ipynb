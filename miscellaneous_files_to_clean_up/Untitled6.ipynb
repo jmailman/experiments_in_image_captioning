{
 "cells": [
  {
   "cell_type": "code",
   "execution_count": 1,
   "id": "worldwide-coating",
   "metadata": {},
   "outputs": [
    {
     "data": {
      "text/plain": [
       "0.33489797668038407"
      ]
     },
     "execution_count": 1,
     "metadata": {},
     "output_type": "execute_result"
    }
   ],
   "source": [
    "(5**6)/(6**6)"
   ]
  },
  {
   "cell_type": "code",
   "execution_count": 2,
   "id": "finished-possible",
   "metadata": {},
   "outputs": [
    {
     "data": {
      "text/plain": [
       "0.6697959533607681"
      ]
     },
     "execution_count": 2,
     "metadata": {},
     "output_type": "execute_result"
    }
   ],
   "source": [
    "2 * (5**6)/(6**6)"
   ]
  },
  {
   "cell_type": "code",
   "execution_count": null,
   "id": "toxic-perry",
   "metadata": {},
   "outputs": [],
   "source": [
    "1- (5^6)/(6^6) - (1-(5^6)/(6^6)) = 2*(5^6)/6^6) =  0.669"
   ]
  },
  {
   "cell_type": "code",
   "execution_count": null,
   "id": "selected-point",
   "metadata": {},
   "outputs": [],
   "source": []
  },
  {
   "cell_type": "code",
   "execution_count": 3,
   "id": "rural-milwaukee",
   "metadata": {},
   "outputs": [
    {
     "data": {
      "text/plain": [
       "0.3055555555555556"
      ]
     },
     "execution_count": 3,
     "metadata": {},
     "output_type": "execute_result"
    }
   ],
   "source": [
    "(11/36)"
   ]
  },
  {
   "cell_type": "code",
   "execution_count": 4,
   "id": "specialized-airplane",
   "metadata": {},
   "outputs": [
    {
     "data": {
      "text/plain": [
       "15.0"
      ]
     },
     "execution_count": 4,
     "metadata": {},
     "output_type": "execute_result"
    }
   ],
   "source": [
    "6*5/2"
   ]
  },
  {
   "cell_type": "code",
   "execution_count": 5,
   "id": "effective-blake",
   "metadata": {},
   "outputs": [
    {
     "data": {
      "text/plain": [
       "4.583333333333334"
      ]
     },
     "execution_count": 5,
     "metadata": {},
     "output_type": "execute_result"
    }
   ],
   "source": [
    "(11/36)*15"
   ]
  },
  {
   "cell_type": "code",
   "execution_count": 6,
   "id": "accredited-sessions",
   "metadata": {},
   "outputs": [
    {
     "data": {
      "text/plain": [
       "0.22431330956923018"
      ]
     },
     "execution_count": 6,
     "metadata": {},
     "output_type": "execute_result"
    }
   ],
   "source": [
    "2*(5**12)/(6**12)"
   ]
  },
  {
   "cell_type": "code",
   "execution_count": 9,
   "id": "handmade-enclosure",
   "metadata": {},
   "outputs": [
    {
     "data": {
      "text/plain": [
       "0.6186673737323085"
      ]
     },
     "execution_count": 9,
     "metadata": {},
     "output_type": "execute_result"
    }
   ],
   "source": [
    "1 - (5/6)**12 - (1/6)*((5/6)**11)*12"
   ]
  },
  {
   "cell_type": "code",
   "execution_count": 10,
   "id": "eight-tumor",
   "metadata": {},
   "outputs": [
    {
     "name": "stdout",
     "output_type": "stream",
     "text": [
      "/Users/joshuamailman/Desktop/Metis_Bootcamp/Metis_Bootcamp_repos/experiments_in_image_captioning\r\n"
     ]
    }
   ],
   "source": [
    "!pwd"
   ]
  },
  {
   "cell_type": "code",
   "execution_count": 11,
   "id": "falling-conference",
   "metadata": {},
   "outputs": [],
   "source": [
    "import json"
   ]
  },
  {
   "cell_type": "code",
   "execution_count": null,
   "id": "waiting-fleet",
   "metadata": {},
   "outputs": [],
   "source": [
    "import json\n",
    "\n",
    "with open('data/imagenet1000_clsidx_to_labels.txt') as f:\n",
    "  data = json.load(f)\n",
    "\n",
    "# Output: {'name': 'Bob', 'languages': ['English', 'Fench']}\n",
    "print(data)"
   ]
  }
 ],
 "metadata": {
  "kernelspec": {
   "display_name": "Python [conda env:metis] *",
   "language": "python",
   "name": "conda-env-metis-py"
  },
  "language_info": {
   "codemirror_mode": {
    "name": "ipython",
    "version": 3
   },
   "file_extension": ".py",
   "mimetype": "text/x-python",
   "name": "python",
   "nbconvert_exporter": "python",
   "pygments_lexer": "ipython3",
   "version": "3.8.6"
  }
 },
 "nbformat": 4,
 "nbformat_minor": 5
}
