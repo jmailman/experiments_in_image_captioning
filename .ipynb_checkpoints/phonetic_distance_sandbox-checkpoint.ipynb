{
 "cells": [
  {
   "cell_type": "code",
   "execution_count": 52,
   "id": "rocky-validation",
   "metadata": {},
   "outputs": [],
   "source": [
    "import fuzzy\n",
    "import phonetics\n",
    "import Levenshtein as lev\n",
    "\n",
    "soundex = fuzzy.Soundex(4)\n",
    "dmeta = fuzzy.DMetaphone()\n",
    "\n",
    "word1 = 'oyster'\n",
    "word2 = 'otter'\n"
   ]
  },
  {
   "cell_type": "code",
   "execution_count": 93,
   "id": "crucial-universe",
   "metadata": {},
   "outputs": [],
   "source": [
    "def phonetic_distance(w1, w2):\n",
    "    print('fuzzy soundex', lev.distance( soundex(w1), soundex(w2)) )\n",
    "    print('fuzzy dmeta  ', lev.distance( dmeta(w1)[0], dmeta(w2)[0]) )\n",
    "    print('phon dmet    ', lev.distance( phonetics.dmetaphone(w1)[0], phonetics.dmetaphone(w2)[0]) )\n",
    "    print('phon met     ', lev.distance( phonetics.metaphone(w1), phonetics.metaphone(w2)) )\n",
    "    print('fuzzy nysiis ', lev.distance( fuzzy.nysiis(w1), fuzzy.nysiis(w2)) )\n",
    "    print('phon nysiis  ', lev.distance( phonetics.nysiis(w1), phonetics.nysiis(w2)) )\n",
    "    return lev.distance( fuzzy.nysiis(w1), fuzzy.nysiis(w2)) )"
   ]
  },
  {
   "cell_type": "code",
   "execution_count": 95,
   "id": "tough-bidder",
   "metadata": {},
   "outputs": [
    {
     "name": "stdout",
     "output_type": "stream",
     "text": [
      "fuzzy soundex 1\n",
      "fuzzy dmeta   1\n",
      "phon dmet     3\n",
      "phon met      3\n",
      "fuzzy nysiis  5\n",
      "phon nysiis   1\n"
     ]
    }
   ],
   "source": [
    "word1 = 'broken'\n",
    "word2 = 'dragonfly'\n",
    "\n",
    "phonetic_distance(word1, word2)"
   ]
  },
  {
   "cell_type": "code",
   "execution_count": null,
   "id": "utility-point",
   "metadata": {},
   "outputs": [],
   "source": []
  },
  {
   "cell_type": "code",
   "execution_count": null,
   "id": "veterinary-humanitarian",
   "metadata": {},
   "outputs": [],
   "source": []
  },
  {
   "cell_type": "code",
   "execution_count": null,
   "id": "ancient-pepper",
   "metadata": {},
   "outputs": [],
   "source": []
  },
  {
   "cell_type": "code",
   "execution_count": null,
   "id": "plastic-grass",
   "metadata": {},
   "outputs": [],
   "source": []
  },
  {
   "cell_type": "code",
   "execution_count": 43,
   "id": "tender-chile",
   "metadata": {},
   "outputs": [
    {
     "data": {
      "text/plain": [
       "'O236'"
      ]
     },
     "execution_count": 43,
     "metadata": {},
     "output_type": "execute_result"
    }
   ],
   "source": [
    "soundex(word2)"
   ]
  },
  {
   "cell_type": "code",
   "execution_count": 40,
   "id": "bright-nickname",
   "metadata": {},
   "outputs": [
    {
     "name": "stdout",
     "output_type": "stream",
     "text": [
      "fuzzy soundex  0\n"
     ]
    }
   ],
   "source": [
    "compare_words(word, word2)"
   ]
  },
  {
   "cell_type": "code",
   "execution_count": 27,
   "id": "imperial-german",
   "metadata": {},
   "outputs": [
    {
     "data": {
      "text/plain": [
       "'O236'"
      ]
     },
     "execution_count": 27,
     "metadata": {},
     "output_type": "execute_result"
    }
   ],
   "source": [
    "soundex(word)"
   ]
  },
  {
   "cell_type": "code",
   "execution_count": 28,
   "id": "affiliated-issue",
   "metadata": {},
   "outputs": [
    {
     "data": {
      "text/plain": [
       "[b'ASTR', None]"
      ]
     },
     "execution_count": 28,
     "metadata": {},
     "output_type": "execute_result"
    }
   ],
   "source": [
    "\n",
    "dmeta(word)"
   ]
  },
  {
   "cell_type": "code",
   "execution_count": 29,
   "id": "chemical-nudist",
   "metadata": {},
   "outputs": [
    {
     "data": {
      "text/plain": [
       "'OSTAR'"
      ]
     },
     "execution_count": 29,
     "metadata": {},
     "output_type": "execute_result"
    }
   ],
   "source": [
    "fuzzy.nysiis(word)"
   ]
  },
  {
   "cell_type": "code",
   "execution_count": 30,
   "id": "incorporate-corporation",
   "metadata": {},
   "outputs": [
    {
     "data": {
      "text/plain": [
       "('ASTR', '')"
      ]
     },
     "execution_count": 30,
     "metadata": {},
     "output_type": "execute_result"
    }
   ],
   "source": [
    "\n",
    "\n",
    "phonetics.dmetaphone(word)"
   ]
  },
  {
   "cell_type": "code",
   "execution_count": 31,
   "id": "laughing-surveillance",
   "metadata": {},
   "outputs": [
    {
     "data": {
      "text/plain": [
       "'ASTR'"
      ]
     },
     "execution_count": 31,
     "metadata": {},
     "output_type": "execute_result"
    }
   ],
   "source": [
    "phonetics.metaphone(word)"
   ]
  },
  {
   "cell_type": "code",
   "execution_count": 63,
   "id": "stainless-regulation",
   "metadata": {},
   "outputs": [
    {
     "data": {
      "text/plain": [
       "'OA'"
      ]
     },
     "execution_count": 63,
     "metadata": {},
     "output_type": "execute_result"
    }
   ],
   "source": [
    "phonetics.nysiis(word)"
   ]
  },
  {
   "cell_type": "code",
   "execution_count": null,
   "id": "critical-investor",
   "metadata": {},
   "outputs": [],
   "source": []
  },
  {
   "cell_type": "code",
   "execution_count": null,
   "id": "previous-housing",
   "metadata": {},
   "outputs": [],
   "source": []
  }
 ],
 "metadata": {
  "kernelspec": {
   "display_name": "Python [conda env:metis] *",
   "language": "python",
   "name": "conda-env-metis-py"
  },
  "language_info": {
   "codemirror_mode": {
    "name": "ipython",
    "version": 3
   },
   "file_extension": ".py",
   "mimetype": "text/x-python",
   "name": "python",
   "nbconvert_exporter": "python",
   "pygments_lexer": "ipython3",
   "version": "3.8.6"
  }
 },
 "nbformat": 4,
 "nbformat_minor": 5
}
