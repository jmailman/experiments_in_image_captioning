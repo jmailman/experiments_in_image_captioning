{
 "cells": [
  {
   "cell_type": "markdown",
   "id": "recognized-reputation",
   "metadata": {},
   "source": [
<<<<<<< HEAD
    "## Construct set of words from the ntlk words corpus and rhymes and image labels"
=======
    "## Construct set of words from the ntlk words corpus, rhymes, and image labels"
   ]
  },
  {
   "cell_type": "markdown",
   "id": "sustained-instruction",
   "metadata": {},
   "source": [
    "#### Massage IMAGENET labels, extracting individual words from multiword labels"
>>>>>>> 5fbfa0a526e9cdb7d5daef7365fc952ae1c61595
   ]
  },
  {
   "cell_type": "code",
<<<<<<< HEAD
   "execution_count": 41,
=======
   "execution_count": 11,
>>>>>>> 5fbfa0a526e9cdb7d5daef7365fc952ae1c61595
   "id": "hispanic-dublin",
   "metadata": {},
   "outputs": [
    {
     "data": {
      "text/plain": [
<<<<<<< HEAD
       "3832"
      ]
     },
     "execution_count": 41,
=======
       "2883"
      ]
     },
     "execution_count": 11,
>>>>>>> 5fbfa0a526e9cdb7d5daef7365fc952ae1c61595
     "metadata": {},
     "output_type": "execute_result"
    }
   ],
   "source": [
    "imagenet_labels_filename = 'imagenet1000_clsidx_to_labels.txt'\n",
    "\n",
    "list_of_duples = []\n",
    "with open('data/' + imagenet_labels_filename) as myfile:\n",
    "    for line in myfile:\n",
    "        num, text = line.partition(':')[::2]\n",
    "        list_of_duples.append(text.replace(',', '').replace('\\\"', '').replace('\\\"', ''))\n",
    "list_of_duples\n",
    "text_lines = [text.replace(\"\\''\", \"\" ).replace(\"\\n\", \"\").replace(\"\\\"\", \"\").rstrip() for text in list_of_duples]\n",
    "text_lines\n",
    "label_word_list = []\n",
    "for line in text_lines:\n",
    "    split_text = line.split(' ')\n",
    "    for word in split_text:\n",
    "        #print(word)\n",
    "        label_word_list.append(word)\n",
    "len(label_word_list)    "
   ]
  },
  {
   "cell_type": "code",
<<<<<<< HEAD
   "execution_count": 42,
=======
   "execution_count": 12,
>>>>>>> 5fbfa0a526e9cdb7d5daef7365fc952ae1c61595
   "id": "classical-headquarters",
   "metadata": {},
   "outputs": [],
   "source": [
    "cleaned_label_word_list = [word.lower() for word in label_word_list if word.isalpha()]"
   ]
  },
  {
   "cell_type": "code",
<<<<<<< HEAD
   "execution_count": 43,
=======
   "execution_count": 13,
>>>>>>> 5fbfa0a526e9cdb7d5daef7365fc952ae1c61595
   "id": "permanent-evening",
   "metadata": {},
   "outputs": [
    {
     "data": {
      "text/plain": [
<<<<<<< HEAD
       "['tinca',\n",
       " 'carassius',\n",
       " 'white',\n",
       " 'shark',\n",
       " 'white',\n",
       " 'shark',\n",
       " 'shark',\n",
       " 'carcharodon',\n",
       " 'shark',\n",
       " 'galeocerdo',\n",
       " 'hammerhead',\n",
       " 'ray',\n",
       " 'crampfish',\n",
       " 'numbfish',\n",
       " 'struthio',\n",
       " 'fringilla',\n",
       " 'carduelis',\n",
       " 'finch',\n",
       " 'linnet',\n",
       " 'carpodacus',\n",
       " 'bunting',\n",
       " 'indigo',\n",
       " 'finch',\n",
       " 'indigo',\n",
       " 'bird',\n",
       " 'passerina',\n",
       " 'american',\n",
       " 'robin',\n",
       " 'turdus',\n",
       " 'ouzel',\n",
       " 'eagle',\n",
       " 'american',\n",
       " 'eagle',\n",
       " 'haliaeetus',\n",
       " 'grey',\n",
       " 'owl',\n",
       " 'great',\n",
       " 'gray',\n",
       " 'owl',\n",
       " 'strix',\n",
       " 'fire',\n",
       " 'salamander',\n",
       " 'salamandra',\n",
       " 'newt',\n",
       " 'triturus',\n",
       " 'salamander',\n",
       " 'ambystoma',\n",
       " 'mud',\n",
       " 'puppy',\n",
       " 'ambystoma',\n",
       " 'rana',\n",
       " 'frog',\n",
       " 'frog',\n",
       " 'bell',\n",
       " 'toad',\n",
       " 'ribbed',\n",
       " 'toad',\n",
       " 'tailed',\n",
       " 'toad',\n",
       " 'ascaphus',\n",
       " 'loggerhead',\n",
       " 'turtle',\n",
       " 'caretta',\n",
       " 'turtle',\n",
       " 'leatherback',\n",
       " 'leathery',\n",
       " 'turtle',\n",
       " 'dermochelys',\n",
       " 'turtle',\n",
       " 'box',\n",
       " 'iguana',\n",
       " 'iguana',\n",
       " 'iguana',\n",
       " 'chameleon',\n",
       " 'anole',\n",
       " 'anolis',\n",
       " 'whiptail',\n",
       " 'lizard',\n",
       " 'chlamydosaurus',\n",
       " 'monster',\n",
       " 'heloderma',\n",
       " 'lizard',\n",
       " 'lacerta',\n",
       " 'chameleon',\n",
       " 'chamaeleo',\n",
       " 'dragon',\n",
       " 'komodo',\n",
       " 'lizard',\n",
       " 'dragon',\n",
       " 'lizard',\n",
       " 'giant',\n",
       " 'lizard',\n",
       " 'varanus',\n",
       " 'crocodile',\n",
       " 'nile',\n",
       " 'crocodile',\n",
       " 'crocodylus',\n",
       " 'alligator',\n",
       " 'alligator',\n",
       " 'snake',\n",
       " 'worm',\n",
       " 'snake',\n",
       " 'carphophis',\n",
       " 'snake',\n",
       " 'snake',\n",
       " 'ring',\n",
       " 'snake',\n",
       " 'puff',\n",
       " 'adder',\n",
       " 'sand',\n",
       " 'snake',\n",
       " 'grass',\n",
       " 'snake',\n",
       " 'snake',\n",
       " 'grass',\n",
       " 'snake',\n",
       " 'hypsiglena',\n",
       " 'constrictor',\n",
       " 'constrictor',\n",
       " 'python',\n",
       " 'rock',\n",
       " 'snake',\n",
       " 'python',\n",
       " 'cobra',\n",
       " 'naja',\n",
       " 'viper',\n",
       " 'cerastes',\n",
       " 'sand',\n",
       " 'viper',\n",
       " 'horned',\n",
       " 'asp',\n",
       " 'cerastes',\n",
       " 'diamondback',\n",
       " 'rattlesnake',\n",
       " 'crotalus',\n",
       " 'horned',\n",
       " 'rattlesnake',\n",
       " 'crotalus',\n",
       " 'daddy',\n",
       " 'longlegs',\n",
       " 'phalangium',\n",
       " 'and',\n",
       " 'gold',\n",
       " 'garden',\n",
       " 'spider',\n",
       " 'argiope',\n",
       " 'spider',\n",
       " 'araneus',\n",
       " 'spider',\n",
       " 'aranea',\n",
       " 'widow',\n",
       " 'latrodectus',\n",
       " 'spider',\n",
       " 'hunting',\n",
       " 'grouse',\n",
       " 'partridge',\n",
       " 'bonasa',\n",
       " 'chicken',\n",
       " 'prairie',\n",
       " 'grouse',\n",
       " 'prairie',\n",
       " 'grey',\n",
       " 'african',\n",
       " 'gray',\n",
       " 'psittacus',\n",
       " 'cockatoo',\n",
       " 'kakatoe',\n",
       " 'galerita',\n",
       " 'cacatua',\n",
       " 'merganser',\n",
       " 'mergus',\n",
       " 'swan',\n",
       " 'cygnus',\n",
       " 'spiny',\n",
       " 'anteater',\n",
       " 'duckbill',\n",
       " 'duckbilled',\n",
       " 'platypus',\n",
       " 'platypus',\n",
       " 'ornithorhynchus',\n",
       " 'brush',\n",
       " 'koala',\n",
       " 'bear',\n",
       " 'kangaroo',\n",
       " 'bear',\n",
       " 'native',\n",
       " 'bear',\n",
       " 'phascolarctos',\n",
       " 'anemone',\n",
       " 'nematode',\n",
       " 'worm',\n",
       " 'slug',\n",
       " 'shell',\n",
       " 'sea',\n",
       " 'cradle',\n",
       " 'nautilus',\n",
       " 'pearly',\n",
       " 'nautilus',\n",
       " 'crab',\n",
       " 'cancer',\n",
       " 'crab',\n",
       " 'cancer',\n",
       " 'crab',\n",
       " 'alaska',\n",
       " 'crab',\n",
       " 'alaskan',\n",
       " 'king',\n",
       " 'crab',\n",
       " 'alaska',\n",
       " 'king',\n",
       " 'crab',\n",
       " 'paralithodes',\n",
       " 'lobster',\n",
       " 'northern',\n",
       " 'lobster',\n",
       " 'maine',\n",
       " 'lobster',\n",
       " 'homarus',\n",
       " 'lobster',\n",
       " 'langouste',\n",
       " 'rock',\n",
       " 'lobster',\n",
       " 'crawfish',\n",
       " 'crayfish',\n",
       " 'sea',\n",
       " 'crawfish',\n",
       " 'crawdad',\n",
       " 'stork',\n",
       " 'ciconia',\n",
       " 'stork',\n",
       " 'ciconia',\n",
       " 'blue',\n",
       " 'heron',\n",
       " 'egretta',\n",
       " 'egret',\n",
       " 'great',\n",
       " 'white',\n",
       " 'heron',\n",
       " 'egretta',\n",
       " 'aramus',\n",
       " 'gallinule',\n",
       " 'porphyrio',\n",
       " 'coot',\n",
       " 'marsh',\n",
       " 'hen',\n",
       " 'mud',\n",
       " 'hen',\n",
       " 'water',\n",
       " 'hen',\n",
       " 'fulica',\n",
       " 'turnstone',\n",
       " 'arenaria',\n",
       " 'sandpiper',\n",
       " 'dunlin',\n",
       " 'erolia',\n",
       " 'tringa',\n",
       " 'oyster',\n",
       " 'penguin',\n",
       " 'aptenodytes',\n",
       " 'whale',\n",
       " 'gray',\n",
       " 'whale',\n",
       " 'devilfish',\n",
       " 'eschrichtius',\n",
       " 'gibbosus',\n",
       " 'eschrichtius',\n",
       " 'whale',\n",
       " 'killer',\n",
       " 'orca',\n",
       " 'grampus',\n",
       " 'sea',\n",
       " 'wolf',\n",
       " 'orcinus',\n",
       " 'dugong',\n",
       " 'dog',\n",
       " 'maltese',\n",
       " 'terrier',\n",
       " 'pekingese',\n",
       " 'hound',\n",
       " 'basset',\n",
       " 'hound',\n",
       " 'walker',\n",
       " 'russian',\n",
       " 'hound',\n",
       " 'ibizan',\n",
       " 'elkhound',\n",
       " 'otter',\n",
       " 'gazelle',\n",
       " 'deerhound',\n",
       " 'bullterrier',\n",
       " 'staffordshire',\n",
       " 'bull',\n",
       " 'staffordshire',\n",
       " 'terrier',\n",
       " 'staffordshire',\n",
       " 'terrier',\n",
       " 'american',\n",
       " 'pit',\n",
       " 'bull',\n",
       " 'terrier',\n",
       " 'pit',\n",
       " 'bull',\n",
       " 'blue',\n",
       " 'fox',\n",
       " 'terrier',\n",
       " 'airedale',\n",
       " 'cairn',\n",
       " 'dinmont',\n",
       " 'dandie',\n",
       " 'dinmont',\n",
       " 'bull',\n",
       " 'boston',\n",
       " 'terrier',\n",
       " 'scottish',\n",
       " 'terrier',\n",
       " 'terrier',\n",
       " 'chrysanthemum',\n",
       " 'terrier',\n",
       " 'sydney',\n",
       " 'wheaten',\n",
       " 'highland',\n",
       " 'white',\n",
       " 'lhasa',\n",
       " 'bay',\n",
       " 'hungarian',\n",
       " 'setter',\n",
       " 'red',\n",
       " 'clumber',\n",
       " 'springer',\n",
       " 'english',\n",
       " 'springer',\n",
       " 'springer',\n",
       " 'spaniel',\n",
       " 'english',\n",
       " 'cocker',\n",
       " 'spaniel',\n",
       " 'water',\n",
       " 'english',\n",
       " 'sheepdog',\n",
       " 'sheepdog',\n",
       " 'shetland',\n",
       " 'sheep',\n",
       " 'dog',\n",
       " 'des',\n",
       " 'flandres',\n",
       " 'bouviers',\n",
       " 'des',\n",
       " 'shepherd',\n",
       " 'german',\n",
       " 'shepherd',\n",
       " 'dog',\n",
       " 'german',\n",
       " 'police',\n",
       " 'dog',\n",
       " 'doberman',\n",
       " 'swiss',\n",
       " 'mountain',\n",
       " 'mountain',\n",
       " 'bernard',\n",
       " 'st',\n",
       " 'dog',\n",
       " 'malemute',\n",
       " 'alaskan',\n",
       " 'coach',\n",
       " 'dog',\n",
       " 'carriage',\n",
       " 'monkey',\n",
       " 'pinscher',\n",
       " 'monkey',\n",
       " 'newfoundland',\n",
       " 'chow',\n",
       " 'pembroke',\n",
       " 'welsh',\n",
       " 'cardigan',\n",
       " 'welsh',\n",
       " 'wolf',\n",
       " 'grey',\n",
       " 'wolf',\n",
       " 'gray',\n",
       " 'wolf',\n",
       " 'canis',\n",
       " 'wolf',\n",
       " 'arctic',\n",
       " 'wolf',\n",
       " 'canis',\n",
       " 'lupus',\n",
       " 'wolf',\n",
       " 'maned',\n",
       " 'wolf',\n",
       " 'canis',\n",
       " 'rufus',\n",
       " 'canis',\n",
       " 'prairie',\n",
       " 'wolf',\n",
       " 'brush',\n",
       " 'wolf',\n",
       " 'canis',\n",
       " 'warrigal',\n",
       " 'warragal',\n",
       " 'canis',\n",
       " 'cuon',\n",
       " 'hunting',\n",
       " 'dog',\n",
       " 'hyena',\n",
       " 'dog',\n",
       " 'cape',\n",
       " 'hunting',\n",
       " 'dog',\n",
       " 'lycaon',\n",
       " 'fox',\n",
       " 'vulpes',\n",
       " 'fox',\n",
       " 'vulpes',\n",
       " 'fox',\n",
       " 'white',\n",
       " 'fox',\n",
       " 'alopex',\n",
       " 'fox',\n",
       " 'gray',\n",
       " 'fox',\n",
       " 'urocyon',\n",
       " 'tabby',\n",
       " 'cat',\n",
       " 'puma',\n",
       " 'catamount',\n",
       " 'mountain',\n",
       " 'lion',\n",
       " 'painter',\n",
       " 'panther',\n",
       " 'felis',\n",
       " 'panthera',\n",
       " 'leopard',\n",
       " 'ounce',\n",
       " 'panthera',\n",
       " 'panther',\n",
       " 'panthera',\n",
       " 'onca',\n",
       " 'felis',\n",
       " 'king',\n",
       " 'of',\n",
       " 'beasts',\n",
       " 'panthera',\n",
       " 'panthera',\n",
       " 'chetah',\n",
       " 'acinonyx',\n",
       " 'bear',\n",
       " 'bruin',\n",
       " 'ursus',\n",
       " 'black',\n",
       " 'bear',\n",
       " 'black',\n",
       " 'bear',\n",
       " 'ursus',\n",
       " 'americanus',\n",
       " 'euarctos',\n",
       " 'bear',\n",
       " 'polar',\n",
       " 'bear',\n",
       " 'ursus',\n",
       " 'maritimus',\n",
       " 'thalarctos',\n",
       " 'bear',\n",
       " 'melursus',\n",
       " 'ursinus',\n",
       " 'ursus',\n",
       " 'ladybeetle',\n",
       " 'lady',\n",
       " 'beetle',\n",
       " 'ladybird',\n",
       " 'ladybird',\n",
       " 'beetle',\n",
       " 'carabid',\n",
       " 'beetle',\n",
       " 'longicorn',\n",
       " 'longicorn',\n",
       " 'beetle',\n",
       " 'emmet',\n",
       " 'stick',\n",
       " 'walkingstick',\n",
       " 'stick',\n",
       " 'lacewing',\n",
       " 'dragonfly',\n",
       " 'darning',\n",
       " 'needle',\n",
       " 'darning',\n",
       " 'needle',\n",
       " 'sewing',\n",
       " 'needle',\n",
       " 'snake',\n",
       " 'feeder',\n",
       " 'snake',\n",
       " 'doctor',\n",
       " 'mosquito',\n",
       " 'hawk',\n",
       " 'skeeter',\n",
       " 'hawk',\n",
       " 'ringlet',\n",
       " 'monarch',\n",
       " 'butterfly',\n",
       " 'milkweed',\n",
       " 'butterfly',\n",
       " 'danaus',\n",
       " 'butterfly',\n",
       " 'sulfur',\n",
       " 'lycaenid',\n",
       " 'sea',\n",
       " 'cucumber',\n",
       " 'rabbit',\n",
       " 'cottontail',\n",
       " 'cottontail',\n",
       " 'angora',\n",
       " 'squirrel',\n",
       " 'eastern',\n",
       " 'fox',\n",
       " 'squirrel',\n",
       " 'sciurus',\n",
       " 'pig',\n",
       " 'cavia',\n",
       " 'pig',\n",
       " 'grunter',\n",
       " 'squealer',\n",
       " 'sus',\n",
       " 'boar',\n",
       " 'boar',\n",
       " 'sus',\n",
       " 'hippo',\n",
       " 'river',\n",
       " 'horse',\n",
       " 'hippopotamus',\n",
       " 'buffalo',\n",
       " 'water',\n",
       " 'ox',\n",
       " 'asiatic',\n",
       " 'buffalo',\n",
       " 'bubalus',\n",
       " 'bighorn',\n",
       " 'sheep',\n",
       " 'cimarron',\n",
       " 'rocky',\n",
       " 'mountain',\n",
       " 'bighorn',\n",
       " 'rocky',\n",
       " 'mountain',\n",
       " 'sheep',\n",
       " 'ovis',\n",
       " 'capra',\n",
       " 'aepyceros',\n",
       " 'camel',\n",
       " 'dromedary',\n",
       " 'camelus',\n",
       " 'fitch',\n",
       " 'foulmart',\n",
       " 'foumart',\n",
       " 'mustela',\n",
       " 'ferret',\n",
       " 'ferret',\n",
       " 'mustela',\n",
       " 'polecat',\n",
       " 'wood',\n",
       " 'sloth',\n",
       " 'ai',\n",
       " 'bradypus',\n",
       " 'orang',\n",
       " 'orangutang',\n",
       " 'pongo',\n",
       " 'gorilla',\n",
       " 'chimp',\n",
       " 'pan',\n",
       " 'hylobates',\n",
       " 'hylobates',\n",
       " 'syndactylus',\n",
       " 'symphalangus',\n",
       " 'guenon',\n",
       " 'hussar',\n",
       " 'monkey',\n",
       " 'erythrocebus',\n",
       " 'colobus',\n",
       " 'monkey',\n",
       " 'nasalis',\n",
       " 'ringtail',\n",
       " 'cebus',\n",
       " 'monkey',\n",
       " 'titi',\n",
       " 'monkey',\n",
       " 'ateles',\n",
       " 'monkey',\n",
       " 'saimiri',\n",
       " 'cat',\n",
       " 'lemur',\n",
       " 'lemur',\n",
       " 'indris',\n",
       " 'indri',\n",
       " 'indri',\n",
       " 'indri',\n",
       " 'elephant',\n",
       " 'elephas',\n",
       " 'elephant',\n",
       " 'loxodonta',\n",
       " 'panda',\n",
       " 'red',\n",
       " 'panda',\n",
       " 'panda',\n",
       " 'bear',\n",
       " 'cat',\n",
       " 'cat',\n",
       " 'bear',\n",
       " 'ailurus',\n",
       " 'panda',\n",
       " 'panda',\n",
       " 'panda',\n",
       " 'bear',\n",
       " 'coon',\n",
       " 'bear',\n",
       " 'ailuropoda',\n",
       " 'cohoe',\n",
       " 'coho',\n",
       " 'salmon',\n",
       " 'blue',\n",
       " 'jack',\n",
       " 'silver',\n",
       " 'salmon',\n",
       " 'oncorhynchus',\n",
       " 'beauty',\n",
       " 'holocanthus',\n",
       " 'garfish',\n",
       " 'garpike',\n",
       " 'billfish',\n",
       " 'lepisosteus',\n",
=======
       "['shark',\n",
       " 'finch',\n",
       " 'eagle',\n",
       " 'dragon',\n",
       " 'lizard',\n",
       " 'giant',\n",
       " 'crocodile',\n",
       " 'snake',\n",
       " 'constrictor',\n",
       " 'bear',\n",
       " 'slug',\n",
       " 'crawfish',\n",
       " 'crawfish',\n",
       " 'crawdad',\n",
       " 'boston',\n",
       " 'terrier',\n",
       " 'terrier',\n",
       " 'springer',\n",
       " 'hungarian',\n",
       " 'dog',\n",
       " 'fox',\n",
       " 'gray',\n",
       " 'panther',\n",
       " 'king',\n",
       " 'panthera',\n",
       " 'beetle',\n",
       " 'mantidfly',\n",
       " 'netwing',\n",
       " 'dragonfly',\n",
       " 'mosquitohawk',\n",
       " 'beige',\n",
       " 'butterfly',\n",
       " 'winged',\n",
       " 'sea',\n",
       " 'pig',\n",
       " 'grunter',\n",
       " 'ox',\n",
       " 'bighorn',\n",
       " 'capra',\n",
       " 'camel',\n",
       " 'monkey',\n",
       " 'monkey',\n",
       " 'garpike',\n",
>>>>>>> 5fbfa0a526e9cdb7d5daef7365fc952ae1c61595
       " 'pufferfish',\n",
       " 'blowfish',\n",
       " 'academic',\n",
       " 'gown',\n",
       " 'academic',\n",
       " 'robe',\n",
       " 'robe',\n",
       " 'piano',\n",
<<<<<<< HEAD
       " 'accordion',\n",
       " 'squeeze',\n",
       " 'carrier',\n",
       " 'carrier',\n",
       " 'flattop',\n",
       " 'attack',\n",
       " 'aircraft',\n",
       " 'amphibious',\n",
       " 'bee',\n",
       " 'trash',\n",
       " 'can',\n",
       " 'garbage',\n",
       " 'can',\n",
       " 'wastebin',\n",
       " 'ash',\n",
       " 'bin',\n",
       " 'ashbin',\n",
       " 'dustbin',\n",
       " 'trash',\n",
       " 'barrel',\n",
       " 'trash',\n",
       " 'rifle',\n",
       " 'assault',\n",
       " 'back',\n",
       " 'pack',\n",
       " 'knapsack',\n",
       " 'packsack',\n",
       " 'rucksack',\n",
       " 'bakeshop',\n",
       " 'beam',\n",
       " 'ballpoint',\n",
       " 'pen',\n",
       " 'ballpen',\n",
       " 'banister',\n",
       " 'balustrade',\n",
       " 'balusters',\n",
       " 'garden',\n",
       " 'cart',\n",
       " 'lawn',\n",
       " 'cart',\n",
=======
       " 'dirigible',\n",
       " 'amphibious',\n",
       " 'trash',\n",
       " 'garbage',\n",
       " 'wastebin',\n",
       " 'bin',\n",
       " 'ashbin',\n",
       " 'dustbin',\n",
       " 'barrel',\n",
       " 'rifle',\n",
       " 'assault',\n",
       " 'knapsack',\n",
       " 'bakeshop',\n",
       " 'ballpoint',\n",
       " 'pen',\n",
       " 'aid',\n",
       " 'banister',\n",
       " 'balustrade',\n",
       " 'balusters',\n",
>>>>>>> 5fbfa0a526e9cdb7d5daef7365fc952ae1c61595
       " 'cap',\n",
       " 'swimming',\n",
       " 'bathing',\n",
       " 'tub',\n",
       " 'bath',\n",
<<<<<<< HEAD
       " 'wagon',\n",
       " 'station',\n",
       " 'wagon',\n",
       " 'wagon',\n",
       " 'estate',\n",
       " 'car',\n",
       " 'beach',\n",
       " 'waggon',\n",
       " 'station',\n",
       " 'waggon',\n",
       " 'lighthouse',\n",
       " 'beacon',\n",
       " 'light',\n",
       " 'busby',\n",
=======
       " 'lighthouse',\n",
       " 'beacon',\n",
>>>>>>> 5fbfa0a526e9cdb7d5daef7365fc952ae1c61595
       " 'cote',\n",
       " 'bell',\n",
       " 'tandem',\n",
       " 'bicycle',\n",
<<<<<<< HEAD
       " 'field',\n",
       " 'glasses',\n",
       " 'opera',\n",
=======
>>>>>>> 5fbfa0a526e9cdb7d5daef7365fc952ae1c61595
       " 'bobsleigh',\n",
       " 'tie',\n",
       " 'bolo',\n",
       " 'bola',\n",
       " 'tie',\n",
<<<<<<< HEAD
       " 'poke',\n",
=======
>>>>>>> 5fbfa0a526e9cdb7d5daef7365fc952ae1c61595
       " 'bookstore',\n",
       " 'tie',\n",
       " 'memorial',\n",
       " 'tablet',\n",
       " 'bra',\n",
<<<<<<< HEAD
       " 'groin',\n",
       " 'groyne',\n",
       " 'mole',\n",
       " 'bulwark',\n",
       " 'seawall',\n",
       " 'aegis',\n",
       " 'train',\n",
       " 'shop',\n",
       " 'meat',\n",
       " 'hack',\n",
       " 'taxi',\n",
       " 'taper',\n",
=======
       " 'bulwark',\n",
       " 'seawall',\n",
       " 'train',\n",
       " 'shop',\n",
       " 'meat',\n",
       " 'taxi',\n",
>>>>>>> 5fbfa0a526e9cdb7d5daef7365fc952ae1c61595
       " 'wax',\n",
       " 'opener',\n",
       " 'tin',\n",
       " 'carrousel',\n",
       " 'roundabout',\n",
       " 'kit',\n",
       " 'tool',\n",
       " 'kit',\n",
       " 'machine',\n",
       " 'cash',\n",
       " 'dispenser',\n",
       " 'automated',\n",
<<<<<<< HEAD
       " 'teller',\n",
       " 'machine',\n",
       " 'automatic',\n",
       " 'teller',\n",
       " 'machine',\n",
       " 'automated',\n",
       " 'teller',\n",
       " 'automatic',\n",
       " 'teller',\n",
=======
>>>>>>> 5fbfa0a526e9cdb7d5daef7365fc952ae1c61595
       " 'telephone',\n",
       " 'cellular',\n",
       " 'phone',\n",
       " 'cellphone',\n",
       " 'cell',\n",
       " 'mobile',\n",
       " 'mail',\n",
       " 'ring',\n",
       " 'mail',\n",
       " 'mail',\n",
       " 'chain',\n",
       " 'armor',\n",
       " 'chain',\n",
       " 'armour',\n",
<<<<<<< HEAD
       " 'ring',\n",
       " 'armor',\n",
       " 'ring',\n",
       " 'saw',\n",
=======
>>>>>>> 5fbfa0a526e9cdb7d5daef7365fc952ae1c61595
       " 'bell',\n",
       " 'cabinet',\n",
       " 'china',\n",
       " 'church',\n",
       " 'movie',\n",
       " 'theater',\n",
<<<<<<< HEAD
       " 'movie',\n",
       " 'theatre',\n",
       " 'movie',\n",
       " 'house',\n",
       " 'picture',\n",
=======
>>>>>>> 5fbfa0a526e9cdb7d5daef7365fc952ae1c61595
       " 'meat',\n",
       " 'cleaver',\n",
       " 'geta',\n",
       " 'patten',\n",
       " 'spiral',\n",
<<<<<<< HEAD
       " 'volute',\n",
       " 'whorl',\n",
=======
>>>>>>> 5fbfa0a526e9cdb7d5daef7365fc952ae1c61595
       " 'keyboard',\n",
       " 'confectionary',\n",
       " 'candy',\n",
       " 'ship',\n",
       " 'containership',\n",
<<<<<<< HEAD
       " 'container',\n",
=======
>>>>>>> 5fbfa0a526e9cdb7d5daef7365fc952ae1c61595
       " 'bottle',\n",
       " 'horn',\n",
       " 'trumpet',\n",
       " 'hat',\n",
<<<<<<< HEAD
=======
       " 'armour',\n",
>>>>>>> 5fbfa0a526e9cdb7d5daef7365fc952ae1c61595
       " 'dike',\n",
       " 'telephone',\n",
       " 'dial',\n",
       " 'nappy',\n",
<<<<<<< HEAD
       " 'table',\n",
=======
>>>>>>> 5fbfa0a526e9cdb7d5daef7365fc952ae1c61595
       " 'dish',\n",
       " 'washer',\n",
       " 'dishwashing',\n",
       " 'brake',\n",
<<<<<<< HEAD
       " 'disc',\n",
       " 'dockage',\n",
       " 'docking',\n",
=======
       " 'dockage',\n",
>>>>>>> 5fbfa0a526e9cdb7d5daef7365fc952ae1c61595
       " 'dog',\n",
       " 'sled',\n",
       " 'dog',\n",
       " 'welcome',\n",
       " 'platform',\n",
       " 'offshore',\n",
       " 'membranophone',\n",
<<<<<<< HEAD
=======
       " 'oven',\n",
       " 'cooking',\n",
>>>>>>> 5fbfa0a526e9cdb7d5daef7365fc952ae1c61595
       " 'fan',\n",
       " 'boa',\n",
       " 'file',\n",
       " 'cabinet',\n",
       " 'filing',\n",
       " 'engine',\n",
       " 'fire',\n",
       " 'screen',\n",
       " 'transverse',\n",
<<<<<<< HEAD
       " 'horn',\n",
=======
>>>>>>> 5fbfa0a526e9cdb7d5daef7365fc952ae1c61595
       " 'pan',\n",
       " 'frypan',\n",
       " 'truck',\n",
       " 'respirator',\n",
       " 'gas',\n",
       " 'pump',\n",
       " 'gasoline',\n",
       " 'pump',\n",
<<<<<<< HEAD
       " 'petrol',\n",
       " 'pump',\n",
       " 'island',\n",
=======
>>>>>>> 5fbfa0a526e9cdb7d5daef7365fc952ae1c61595
       " 'golf',\n",
       " 'piano',\n",
       " 'nursery',\n",
       " 'radiator',\n",
       " 'store',\n",
       " 'grocery',\n",
       " 'food',\n",
       " 'market',\n",
<<<<<<< HEAD
       " 'blower',\n",
       " 'blow',\n",
       " 'dryer',\n",
       " 'blow',\n",
       " 'drier',\n",
=======
       " 'hauler',\n",
       " 'blower',\n",
       " 'blow',\n",
       " 'dryer',\n",
>>>>>>> 5fbfa0a526e9cdb7d5daef7365fc952ae1c61595
       " 'hair',\n",
       " 'dryer',\n",
       " 'hair',\n",
       " 'computer',\n",
       " 'hankie',\n",
       " 'hanky',\n",
<<<<<<< HEAD
       " 'disc',\n",
       " 'hard',\n",
       " 'disk',\n",
       " 'fixed',\n",
       " 'mouth',\n",
       " 'organ',\n",
       " 'harp',\n",
       " 'mouth',\n",
       " 'theater',\n",
       " 'home',\n",
=======
       " 'disk',\n",
       " 'theater',\n",
       " 'home',\n",
       " 'theatre',\n",
       " 'entertainment',\n",
>>>>>>> 5fbfa0a526e9cdb7d5daef7365fc952ae1c61595
       " 'bar',\n",
       " 'high',\n",
       " 'cart',\n",
       " 'smoothing',\n",
       " 'blue',\n",
       " 'jean',\n",
       " 'tee',\n",
       " 'ricksha',\n",
       " 'coat',\n",
       " 'laboratory',\n",
       " 'lamp',\n",
       " 'laptop',\n",
<<<<<<< HEAD
       " 'mower',\n",
       " 'cap',\n",
       " 'lens',\n",
       " 'opener',\n",
       " 'paper',\n",
=======
       " 'cap',\n",
       " 'lens',\n",
>>>>>>> 5fbfa0a526e9cdb7d5daef7365fc952ae1c61595
       " 'knife',\n",
       " 'light',\n",
       " 'igniter',\n",
       " 'ocean',\n",
<<<<<<< HEAD
       " 'lip',\n",
       " 'speaker',\n",
       " 'speaker',\n",
       " 'unit',\n",
       " 'loudspeaker',\n",
       " 'system',\n",
       " 'speaker',\n",
       " 'loupe',\n",
       " 'loupe',\n",
       " 'letter',\n",
=======
       " 'liner',\n",
       " 'lip',\n",
       " 'speaker',\n",
       " 'loupe',\n",
       " 'loupe',\n",
>>>>>>> 5fbfa0a526e9cdb7d5daef7365fc952ae1c61595
       " 'tank',\n",
       " 'chest',\n",
       " 'medicine',\n",
       " 'megalithic',\n",
       " 'microwave',\n",
       " 'home',\n",
<<<<<<< HEAD
       " 'manufactured',\n",
       " 'scooter',\n",
       " 'bike',\n",
       " 'bike',\n",
       " 'computer',\n",
       " 'notebook',\n",
       " 'hautboy',\n",
=======
       " 'scooter',\n",
       " 'bike',\n",
       " 'terrain',\n",
       " 'computer',\n",
       " 'notebook',\n",
>>>>>>> 5fbfa0a526e9cdb7d5daef7365fc952ae1c61595
       " 'sweet',\n",
       " 'hodometer',\n",
       " 'mileometer',\n",
       " 'pipe',\n",
<<<<<<< HEAD
       " 'scope',\n",
       " 'oscilloscope',\n",
       " 'boat',\n",
       " 'paddle',\n",
=======
       " 'organ',\n",
       " 'church',\n",
       " 'scope',\n",
       " 'boat',\n",
>>>>>>> 5fbfa0a526e9cdb7d5daef7365fc952ae1c61595
       " 'pajama',\n",
       " 'pyjama',\n",
       " 'jammies',\n",
       " 'pandean',\n",
       " 'pipe',\n",
       " 'bars',\n",
       " 'car',\n",
<<<<<<< HEAD
       " 'coach',\n",
       " 'plinth',\n",
       " 'box',\n",
       " 'pencil',\n",
=======
       " 'box',\n",
       " 'pencil',\n",
       " 'dish',\n",
>>>>>>> 5fbfa0a526e9cdb7d5daef7365fc952ae1c61595
       " 'plectrum',\n",
       " 'fence',\n",
       " 'pickup',\n",
       " 'bank',\n",
       " 'penny',\n",
       " 'pirate',\n",
       " 'plane',\n",
       " 'plane',\n",
       " 'woodworking',\n",
       " 'plane',\n",
       " 'plunger',\n",
       " 'helper',\n",
       " 'camera',\n",
       " 'polaroid',\n",
<<<<<<< HEAD
       " 'land',\n",
       " 'van',\n",
       " 'police',\n",
       " 'wagon',\n",
       " 'paddy',\n",
       " 'wagon',\n",
       " 'patrol',\n",
       " 'wagon',\n",
       " 'wagon',\n",
       " 'black',\n",
       " 'table',\n",
       " 'billiard',\n",
       " 'table',\n",
=======
       " 'van',\n",
       " 'billiards',\n",
       " 'billiard',\n",
>>>>>>> 5fbfa0a526e9cdb7d5daef7365fc952ae1c61595
       " 'snooker',\n",
       " 'bottle',\n",
       " 'soda',\n",
       " 'wheel',\n",
       " 'rug',\n",
       " 'prayer',\n",
<<<<<<< HEAD
       " 'prison',\n",
=======
>>>>>>> 5fbfa0a526e9cdb7d5daef7365fc952ae1c61595
       " 'hockey',\n",
       " 'bag',\n",
       " 'punch',\n",
       " 'bag',\n",
       " 'punching',\n",
       " 'ball',\n",
       " 'quill',\n",
       " 'comforter',\n",
       " 'comfort',\n",
       " 'race',\n",
       " 'car',\n",
       " 'racing',\n",
       " 'telescope',\n",
       " 'radio',\n",
       " 'vehicle',\n",
       " 'rv',\n",
       " 'control',\n",
       " 'eating',\n",
<<<<<<< HEAD
       " 'house',\n",
       " 'eating',\n",
       " 'place',\n",
       " 'chair',\n",
       " 'eraser',\n",
       " 'rubber',\n",
       " 'pencil',\n",
       " 'salt',\n",
       " 'weighing',\n",
       " 'crt',\n",
       " 'belt',\n",
       " 'shop',\n",
       " 'shoe',\n",
       " 'rule',\n",
       " 'dish',\n",
       " 'solar',\n",
       " 'collector',\n",
       " 'solar',\n",
       " 'spider',\n",
       " 'web',\n",
       " 'web',\n",
       " 'car',\n",
       " 'sport',\n",
       " 'arch',\n",
       " ...]"
      ]
     },
     "execution_count": 43,
=======
       " 'chair',\n",
       " 'eraser',\n",
       " 'pencil',\n",
       " 'salt',\n",
       " 'crt',\n",
       " 'shop',\n",
       " 'shoe',\n",
       " 'precalculator',\n",
       " 'dish',\n",
       " 'solar',\n",
       " 'solar',\n",
       " 'shuttle',\n",
       " 'web',\n",
       " 'car',\n",
       " 'arch',\n",
       " 'tram',\n",
       " 'tramcar',\n",
       " 'trolley',\n",
       " 'pigboat',\n",
       " 'sub',\n",
       " 'swob',\n",
       " 'swimming',\n",
       " 'trunks',\n",
       " 'bathing',\n",
       " 'trunks',\n",
       " 'bathing',\n",
       " 'electric',\n",
       " 'switch',\n",
       " 'electrical',\n",
       " 'army',\n",
       " 'tank',\n",
       " 'armored',\n",
       " 'combat',\n",
       " 'vehicle',\n",
       " 'armoured',\n",
       " 'combat',\n",
       " 'tape',\n",
       " 'teddy',\n",
       " 'television',\n",
       " 'thatched',\n",
       " 'curtain',\n",
       " 'theatre',\n",
       " 'thrasher',\n",
       " 'threshing',\n",
       " 'shop',\n",
       " 'tobacconist',\n",
       " 'truck',\n",
       " 'tow',\n",
       " 'car',\n",
       " 'truck',\n",
       " 'tractor',\n",
       " 'trailer',\n",
       " 'rig',\n",
       " 'trike',\n",
       " 'trolley',\n",
       " 'trackless',\n",
       " 'vacuum',\n",
       " 'billfold',\n",
       " 'military',\n",
       " 'handbasin',\n",
       " 'washbowl',\n",
       " 'washing',\n",
       " 'woolen',\n",
       " 'puzzle',\n",
       " 'light',\n",
       " 'traffic',\n",
       " 'signal',\n",
       " 'cover',\n",
       " 'dustcover',\n",
       " 'pot',\n",
       " 'cream',\n",
       " 'lolly',\n",
       " 'lolly',\n",
       " 'lollipop',\n",
       " 'hot',\n",
       " 'dog',\n",
       " 'red',\n",
       " 'smith',\n",
       " 'sauce',\n",
       " 'chocolate',\n",
       " 'pizza',\n",
       " 'drop',\n",
       " 'headland',\n",
       " 'coast',\n",
       " 'seacoast',\n",
       " 'yellow',\n",
       " 'flower',\n",
       " 'chestnut',\n",
       " 'carrion',\n",
       " 'mushroom',\n",
       " 'tissue']"
      ]
     },
     "execution_count": 13,
>>>>>>> 5fbfa0a526e9cdb7d5daef7365fc952ae1c61595
     "metadata": {},
     "output_type": "execute_result"
    }
   ],
   "source": [
    "cleaned_label_word_list "
   ]
  },
  {
   "cell_type": "code",
<<<<<<< HEAD
   "execution_count": 44,
=======
   "execution_count": 14,
>>>>>>> 5fbfa0a526e9cdb7d5daef7365fc952ae1c61595
   "id": "civic-satisfaction",
   "metadata": {},
   "outputs": [],
   "source": [
    "cleaned_label_word_set = set(cleaned_label_word_list )"
   ]
  },
  {
   "cell_type": "markdown",
   "id": "outer-tiger",
   "metadata": {},
   "source": [
    "### combine with nltk wordsset"
   ]
  },
  {
   "cell_type": "code",
<<<<<<< HEAD
   "execution_count": 11,
   "id": "greater-courtesy",
   "metadata": {},
   "outputs": [
    {
     "ename": "ModuleNotFoundError",
     "evalue": "No module named 'pronunciation'",
     "output_type": "error",
     "traceback": [
      "\u001b[0;31m---------------------------------------------------------------------------\u001b[0m",
      "\u001b[0;31mModuleNotFoundError\u001b[0m                       Traceback (most recent call last)",
      "\u001b[0;32m<ipython-input-11-cd9b83f50536>\u001b[0m in \u001b[0;36m<module>\u001b[0;34m\u001b[0m\n\u001b[1;32m      1\u001b[0m \u001b[0;32mfrom\u001b[0m \u001b[0mnltk\u001b[0m\u001b[0;34m.\u001b[0m\u001b[0mcorpus\u001b[0m \u001b[0;32mimport\u001b[0m \u001b[0mwords\u001b[0m\u001b[0;34m\u001b[0m\u001b[0;34m\u001b[0m\u001b[0m\n\u001b[1;32m      2\u001b[0m \u001b[0;32mimport\u001b[0m \u001b[0meng_to_ipa\u001b[0m \u001b[0;32mas\u001b[0m \u001b[0mipa\u001b[0m\u001b[0;34m\u001b[0m\u001b[0;34m\u001b[0m\u001b[0m\n\u001b[0;32m----> 3\u001b[0;31m \u001b[0;32mimport\u001b[0m \u001b[0mpronunciation\u001b[0m \u001b[0;32mas\u001b[0m \u001b[0mpron\u001b[0m\u001b[0;34m\u001b[0m\u001b[0;34m\u001b[0m\u001b[0m\n\u001b[0m\u001b[1;32m      4\u001b[0m \u001b[0;34m\u001b[0m\u001b[0m\n\u001b[1;32m      5\u001b[0m \u001b[0mwords_set\u001b[0m \u001b[0;34m=\u001b[0m \u001b[0mset\u001b[0m\u001b[0;34m(\u001b[0m \u001b[0mwords\u001b[0m\u001b[0;34m.\u001b[0m\u001b[0mwords\u001b[0m\u001b[0;34m(\u001b[0m\u001b[0;34m)\u001b[0m\u001b[0;34m)\u001b[0m\u001b[0;34m\u001b[0m\u001b[0;34m\u001b[0m\u001b[0m\n",
      "\u001b[0;31mModuleNotFoundError\u001b[0m: No module named 'pronunciation'"
     ]
    }
   ],
   "source": [
    "from nltk.corpus import words\n",
    "import eng_to_ipa as ipa\n",
    "import pronunciation as pron\n",
=======
   "execution_count": 15,
   "id": "greater-courtesy",
   "metadata": {},
   "outputs": [],
   "source": [
    "from nltk.corpus import words\n",
    "import eng_to_ipa as ipa\n",
    "import pronouncing as pron\n",
>>>>>>> 5fbfa0a526e9cdb7d5daef7365fc952ae1c61595
    "\n",
    "words_set = set( words.words())"
   ]
  },
  {
   "cell_type": "code",
<<<<<<< HEAD
   "execution_count": 46,
=======
   "execution_count": 16,
>>>>>>> 5fbfa0a526e9cdb7d5daef7365fc952ae1c61595
   "id": "secret-facility",
   "metadata": {},
   "outputs": [],
   "source": [
    "augmented_words_set = words_set.union(cleaned_label_word_list)"
   ]
  },
  {
   "cell_type": "code",
<<<<<<< HEAD
   "execution_count": null,
=======
   "execution_count": 17,
>>>>>>> 5fbfa0a526e9cdb7d5daef7365fc952ae1c61595
   "id": "dependent-recall",
   "metadata": {},
   "outputs": [],
   "source": [
    "rhymes_of_augmented_words_set={word for rhymes in [pron.rhymes( word ) for word in augmented_words_set] for word in rhymes}"
   ]
  },
  {
   "cell_type": "code",
<<<<<<< HEAD
   "execution_count": null,
=======
   "execution_count": 18,
>>>>>>> 5fbfa0a526e9cdb7d5daef7365fc952ae1c61595
   "id": "proud-retailer",
   "metadata": {},
   "outputs": [],
   "source": [
    "all_words_set = words_set.union(rhymes_of_augmented_words_set)"
   ]
  },
  {
   "cell_type": "code",
<<<<<<< HEAD
   "execution_count": null,
=======
   "execution_count": 19,
>>>>>>> 5fbfa0a526e9cdb7d5daef7365fc952ae1c61595
   "id": "separated-thriller",
   "metadata": {},
   "outputs": [],
   "source": [
    "import pickle\n",
    "with open(\"data/\" + \"rhymes_of_augmented_words_set.pickle\", 'wb') as to_write:\n",
    "    pickle.dump(rhymes_of_augmented_words_set, to_write)"
   ]
  },
  {
   "cell_type": "code",
<<<<<<< HEAD
   "execution_count": 49,
   "id": "fleet-computer",
   "metadata": {},
   "outputs": [],
   "source": [
    "\n",
    "# rhymes_of_augmented_words_set = set()\n",
    "\n",
    "# for word in augmented_words_set:\n",
    "#     rhymes = ipa.get_rhymes( word )\n",
    "#     for rhyme in rhymes:\n",
    "#         rhymes_of_augmented_words_set.add(rhyme)\n",
    "        \n",
    "# import pickle\n",
    "# with open(\"data/\" + \"rhymes_of_augmented_words_set.pickle\", 'wb') as to_write:\n",
    "#     pickle.dump(rhymes_of_augmented_words_set, to_write)"
   ]
  },
  {
   "cell_type": "code",
   "execution_count": 50,
=======
   "execution_count": null,
   "id": "fleet-computer",
   "metadata": {},
   "outputs": [],
   "source": []
  },
  {
   "cell_type": "code",
   "execution_count": 20,
>>>>>>> 5fbfa0a526e9cdb7d5daef7365fc952ae1c61595
   "id": "preliminary-handling",
   "metadata": {},
   "outputs": [],
   "source": [
    "all_words_set = words_set.union(rhymes_of_augmented_words_set)"
   ]
  },
  {
   "cell_type": "code",
<<<<<<< HEAD
   "execution_count": 51,
=======
   "execution_count": 21,
>>>>>>> 5fbfa0a526e9cdb7d5daef7365fc952ae1c61595
   "id": "hired-kinase",
   "metadata": {},
   "outputs": [],
   "source": [
    "\n",
    "with open(\"data/\" + \"all_words_set.pickle\", 'wb') as to_write:\n",
    "    pickle.dump(all_words_set, to_write)"
   ]
  },
  {
   "cell_type": "code",
<<<<<<< HEAD
   "execution_count": 52,
=======
   "execution_count": 22,
>>>>>>> 5fbfa0a526e9cdb7d5daef7365fc952ae1c61595
   "id": "adverse-angola",
   "metadata": {},
   "outputs": [
    {
     "data": {
      "text/plain": [
<<<<<<< HEAD
       "277195"
      ]
     },
     "execution_count": 52,
=======
       "288655"
      ]
     },
     "execution_count": 22,
>>>>>>> 5fbfa0a526e9cdb7d5daef7365fc952ae1c61595
     "metadata": {},
     "output_type": "execute_result"
    }
   ],
   "source": [
    "len(all_words_set)"
   ]
  },
  {
   "cell_type": "code",
<<<<<<< HEAD
   "execution_count": 1,
   "id": "legal-mercury",
   "metadata": {},
   "outputs": [
    {
     "name": "stdout",
     "output_type": "stream",
     "text": [
      "/Users/joshuamailman/Desktop/Metis_Bootcamp/Metis_Bootcamp_repos/experiments_in_image_captioning_test_area\r\n"
     ]
    }
   ],
=======
   "execution_count": null,
   "id": "legal-mercury",
   "metadata": {},
   "outputs": [],
>>>>>>> 5fbfa0a526e9cdb7d5daef7365fc952ae1c61595
   "source": []
  },
  {
   "cell_type": "markdown",
   "id": "copyrighted-mexico",
   "metadata": {},
   "source": [
    "### Make dicts of syllable counts and phonetic similarity"
   ]
  },
  {
   "cell_type": "code",
<<<<<<< HEAD
   "execution_count": 53,
=======
   "execution_count": 23,
>>>>>>> 5fbfa0a526e9cdb7d5daef7365fc952ae1c61595
   "id": "curious-beginning",
   "metadata": {},
   "outputs": [],
   "source": [
    "import fuzzy\n",
    "import phonetics\n",
    "import Levenshtein as lev\n",
    "import numpy as np\n",
    "\n",
    "dmeta = fuzzy.DMetaphone()"
   ]
  },
  {
   "cell_type": "code",
<<<<<<< HEAD
   "execution_count": 54,
=======
   "execution_count": 24,
>>>>>>> 5fbfa0a526e9cdb7d5daef7365fc952ae1c61595
   "id": "sacred-intersection",
   "metadata": {},
   "outputs": [],
   "source": [
    "fuzzy_nysiis_dict = {word: fuzzy.nysiis(word) for word in all_words_set}"
   ]
  },
  {
   "cell_type": "code",
<<<<<<< HEAD
   "execution_count": 56,
=======
   "execution_count": 25,
>>>>>>> 5fbfa0a526e9cdb7d5daef7365fc952ae1c61595
   "id": "confirmed-reminder",
   "metadata": {},
   "outputs": [],
   "source": [
    "fuzzy_meta_dict = {word: dmeta(word)[0] for word in all_words_set if word.isalpha()}"
   ]
  },
  {
   "cell_type": "code",
<<<<<<< HEAD
   "execution_count": 57,
=======
   "execution_count": 26,
>>>>>>> 5fbfa0a526e9cdb7d5daef7365fc952ae1c61595
   "id": "prime-diameter",
   "metadata": {},
   "outputs": [],
   "source": [
    "syllable_count_dict = {word: ipa.syllable_count(word) for word in all_words_set}"
   ]
  },
  {
   "cell_type": "markdown",
   "id": "infrared-disability",
   "metadata": {},
   "source": [
    "### Save these dicts to pickle files"
   ]
  },
  {
   "cell_type": "code",
<<<<<<< HEAD
   "execution_count": 58,
=======
   "execution_count": 27,
>>>>>>> 5fbfa0a526e9cdb7d5daef7365fc952ae1c61595
   "id": "noble-angel",
   "metadata": {},
   "outputs": [],
   "source": [
    "import pickle\n",
    "with open(\"data/\" + \"fuzzy_nysiis_dictionary.pickle\", 'wb') as to_write:\n",
    "    pickle.dump(fuzzy_nysiis_dict, to_write)\n",
    "    \n",
    "\n",
    "    \n",
    "with open(\"data/\" + \"syllable_count_dictionary.pickle\", 'wb') as to_write:\n",
    "        pickle.dump(syllable_count_dict, to_write)"
   ]
  },
  {
   "cell_type": "code",
<<<<<<< HEAD
   "execution_count": 60,
=======
   "execution_count": 28,
>>>>>>> 5fbfa0a526e9cdb7d5daef7365fc952ae1c61595
   "id": "rocky-sandwich",
   "metadata": {},
   "outputs": [],
   "source": [
    "all_words_set_only_alpha = [word for word in all_words_set if word.isalpha()]\n",
    "\n",
    "with open(\"data/\" + \"all_words_set_alpha.pickle\", 'wb') as to_write:\n",
    "    pickle.dump(all_words_set_only_alpha, to_write)"
   ]
  },
  {
   "cell_type": "code",
<<<<<<< HEAD
   "execution_count": 61,
=======
   "execution_count": 29,
>>>>>>> 5fbfa0a526e9cdb7d5daef7365fc952ae1c61595
   "id": "thorough-restoration",
   "metadata": {},
   "outputs": [],
   "source": [
    "fuzzy_meta_dict = {word: dmeta(word)[0] for word in all_words_set_only_alpha}"
   ]
  },
  {
   "cell_type": "code",
<<<<<<< HEAD
   "execution_count": 62,
=======
   "execution_count": 30,
>>>>>>> 5fbfa0a526e9cdb7d5daef7365fc952ae1c61595
   "id": "employed-serbia",
   "metadata": {},
   "outputs": [],
   "source": [
    "with open(\"data/\" + \"fuzzy_meta_dictionary.pickle\", 'wb') as to_write:\n",
    "    pickle.dump(fuzzy_meta_dict, to_write)"
   ]
  },
  {
   "cell_type": "code",
<<<<<<< HEAD
   "execution_count": null,
=======
   "execution_count": 31,
>>>>>>> 5fbfa0a526e9cdb7d5daef7365fc952ae1c61595
   "id": "played-malawi",
   "metadata": {},
   "outputs": [],
   "source": [
    "import pickle"
   ]
  },
  {
   "cell_type": "code",
<<<<<<< HEAD
   "execution_count": 63,
=======
   "execution_count": 32,
>>>>>>> 5fbfa0a526e9cdb7d5daef7365fc952ae1c61595
   "id": "sublime-network",
   "metadata": {},
   "outputs": [],
   "source": [
    "\n",
    "with open(\"data/\" + \"fuzzy_meta_dictionary.pickle\", 'rb') as to_read:\n",
    "    fuzzy_meta_dict =  pickle.load(to_read)\n",
    "with open(\"data/\" + \"fuzzy_nysiis_dictionary.pickle\", 'rb') as to_read:\n",
    "    fuzzy_nysiis_dict =  pickle.load(to_read)\n",
    "with open(\"data/\" + \"syllable_count_dictionary.pickle\", 'rb') as to_read:\n",
    "    syllable_count_dict =  pickle.load(to_read)"
   ]
  },
  {
   "cell_type": "code",
<<<<<<< HEAD
   "execution_count": 64,
=======
   "execution_count": 33,
>>>>>>> 5fbfa0a526e9cdb7d5daef7365fc952ae1c61595
   "id": "transparent-matthew",
   "metadata": {},
   "outputs": [
    {
     "data": {
      "text/plain": [
<<<<<<< HEAD
       "274867"
      ]
     },
     "execution_count": 64,
=======
       "285638"
      ]
     },
     "execution_count": 33,
>>>>>>> 5fbfa0a526e9cdb7d5daef7365fc952ae1c61595
     "metadata": {},
     "output_type": "execute_result"
    }
   ],
   "source": [
    "len(fuzzy_meta_dict)"
   ]
  },
  {
   "cell_type": "code",
<<<<<<< HEAD
   "execution_count": 65,
=======
   "execution_count": 34,
>>>>>>> 5fbfa0a526e9cdb7d5daef7365fc952ae1c61595
   "id": "clinical-establishment",
   "metadata": {},
   "outputs": [
    {
     "data": {
      "text/plain": [
<<<<<<< HEAD
       "277195"
      ]
     },
     "execution_count": 65,
=======
       "288655"
      ]
     },
     "execution_count": 34,
>>>>>>> 5fbfa0a526e9cdb7d5daef7365fc952ae1c61595
     "metadata": {},
     "output_type": "execute_result"
    }
   ],
   "source": [
    "len(fuzzy_nysiis_dict)"
   ]
  },
  {
   "cell_type": "code",
<<<<<<< HEAD
   "execution_count": 66,
=======
   "execution_count": 35,
>>>>>>> 5fbfa0a526e9cdb7d5daef7365fc952ae1c61595
   "id": "nearby-attack",
   "metadata": {},
   "outputs": [
    {
     "data": {
      "text/plain": [
<<<<<<< HEAD
       "277195"
      ]
     },
     "execution_count": 66,
=======
       "288655"
      ]
     },
     "execution_count": 35,
>>>>>>> 5fbfa0a526e9cdb7d5daef7365fc952ae1c61595
     "metadata": {},
     "output_type": "execute_result"
    }
   ],
   "source": [
    "len(syllable_count_dict)"
   ]
  },
  {
   "cell_type": "code",
<<<<<<< HEAD
   "execution_count": 67,
=======
   "execution_count": 36,
>>>>>>> 5fbfa0a526e9cdb7d5daef7365fc952ae1c61595
   "id": "worst-integrity",
   "metadata": {},
   "outputs": [],
   "source": [
    "syllable_count_list = list(syllable_count_dict)"
   ]
  },
  {
   "cell_type": "code",
<<<<<<< HEAD
   "execution_count": 68,
=======
   "execution_count": 37,
>>>>>>> 5fbfa0a526e9cdb7d5daef7365fc952ae1c61595
   "id": "south-notebook",
   "metadata": {},
   "outputs": [
    {
     "data": {
      "text/plain": [
       "0"
      ]
     },
<<<<<<< HEAD
     "execution_count": 68,
=======
     "execution_count": 37,
>>>>>>> 5fbfa0a526e9cdb7d5daef7365fc952ae1c61595
     "metadata": {},
     "output_type": "execute_result"
    }
   ],
   "source": [
    "syllable_count_dict['omelette']"
   ]
  },
  {
   "cell_type": "code",
<<<<<<< HEAD
   "execution_count": 2,
=======
   "execution_count": 38,
>>>>>>> 5fbfa0a526e9cdb7d5daef7365fc952ae1c61595
   "id": "accomplished-audio",
   "metadata": {},
   "outputs": [
    {
<<<<<<< HEAD
     "ename": "NameError",
     "evalue": "name 'all_words_set' is not defined",
     "output_type": "error",
     "traceback": [
      "\u001b[0;31m---------------------------------------------------------------------------\u001b[0m",
      "\u001b[0;31mNameError\u001b[0m                                 Traceback (most recent call last)",
      "\u001b[0;32m<ipython-input-2-56464db2690d>\u001b[0m in \u001b[0;36m<module>\u001b[0;34m\u001b[0m\n\u001b[0;32m----> 1\u001b[0;31m \u001b[0;34m'omelette'\u001b[0m \u001b[0;32min\u001b[0m \u001b[0mall_words_set\u001b[0m\u001b[0;34m\u001b[0m\u001b[0;34m\u001b[0m\u001b[0m\n\u001b[0m",
      "\u001b[0;31mNameError\u001b[0m: name 'all_words_set' is not defined"
     ]
=======
     "data": {
      "text/plain": [
       "True"
      ]
     },
     "execution_count": 38,
     "metadata": {},
     "output_type": "execute_result"
>>>>>>> 5fbfa0a526e9cdb7d5daef7365fc952ae1c61595
    }
   ],
   "source": [
    "'omelette' in all_words_set"
   ]
  },
  {
   "cell_type": "code",
<<<<<<< HEAD
   "execution_count": 70,
=======
   "execution_count": 39,
>>>>>>> 5fbfa0a526e9cdb7d5daef7365fc952ae1c61595
   "id": "classical-three",
   "metadata": {},
   "outputs": [
    {
     "data": {
      "text/plain": [
       "set"
      ]
     },
<<<<<<< HEAD
     "execution_count": 70,
=======
     "execution_count": 39,
>>>>>>> 5fbfa0a526e9cdb7d5daef7365fc952ae1c61595
     "metadata": {},
     "output_type": "execute_result"
    }
   ],
   "source": [
    "type(all_words_set)"
   ]
  },
  {
   "cell_type": "code",
<<<<<<< HEAD
   "execution_count": 71,
=======
   "execution_count": 40,
>>>>>>> 5fbfa0a526e9cdb7d5daef7365fc952ae1c61595
   "id": "violent-peace",
   "metadata": {},
   "outputs": [
    {
     "name": "stdout",
     "output_type": "stream",
     "text": [
<<<<<<< HEAD
      "/Users/joshuamailman/Desktop/Metis_Bootcamp/Metis_Bootcamp_repos/experiments_in_image_captioning_test_area\r\n"
=======
      "/Users/joshuamailman/Desktop/Metis_Bootcamp/Metis_Bootcamp_repos/experiments_in_image_captioning\r\n"
>>>>>>> 5fbfa0a526e9cdb7d5daef7365fc952ae1c61595
     ]
    }
   ],
   "source": [
    "!pwd"
   ]
  },
  {
   "cell_type": "code",
<<<<<<< HEAD
   "execution_count": 4,
=======
   "execution_count": 41,
>>>>>>> 5fbfa0a526e9cdb7d5daef7365fc952ae1c61595
   "id": "awful-harvey",
   "metadata": {},
   "outputs": [
    {
     "data": {
      "text/plain": [
       "'aid'"
      ]
     },
<<<<<<< HEAD
     "execution_count": 4,
=======
     "execution_count": 41,
>>>>>>> 5fbfa0a526e9cdb7d5daef7365fc952ae1c61595
     "metadata": {},
     "output_type": "execute_result"
    }
   ],
   "source": [
    "'band_aid'.split('_')[-1]"
   ]
  },
  {
   "cell_type": "code",
<<<<<<< HEAD
   "execution_count": 7,
=======
   "execution_count": 42,
>>>>>>> 5fbfa0a526e9cdb7d5daef7365fc952ae1c61595
   "id": "controlling-saying",
   "metadata": {},
   "outputs": [],
   "source": [
    "s = set()\n",
    "s.add('word')"
   ]
  },
  {
   "cell_type": "code",
<<<<<<< HEAD
   "execution_count": 8,
=======
   "execution_count": 43,
>>>>>>> 5fbfa0a526e9cdb7d5daef7365fc952ae1c61595
   "id": "transparent-elder",
   "metadata": {},
   "outputs": [
    {
     "data": {
      "text/plain": [
       "{'word'}"
      ]
     },
<<<<<<< HEAD
     "execution_count": 8,
=======
     "execution_count": 43,
>>>>>>> 5fbfa0a526e9cdb7d5daef7365fc952ae1c61595
     "metadata": {},
     "output_type": "execute_result"
    }
   ],
   "source": [
    "s"
   ]
  },
  {
   "cell_type": "code",
<<<<<<< HEAD
   "execution_count": 9,
=======
   "execution_count": 44,
>>>>>>> 5fbfa0a526e9cdb7d5daef7365fc952ae1c61595
   "id": "prerequisite-boost",
   "metadata": {},
   "outputs": [
    {
     "data": {
      "text/plain": [
       "{'one', 'three', 'two', 'word'}"
      ]
     },
<<<<<<< HEAD
     "execution_count": 9,
=======
     "execution_count": 44,
>>>>>>> 5fbfa0a526e9cdb7d5daef7365fc952ae1c61595
     "metadata": {},
     "output_type": "execute_result"
    }
   ],
   "source": [
    "s.union(['one', 'two', 'three'])"
   ]
  },
  {
   "cell_type": "code",
<<<<<<< HEAD
   "execution_count": 10,
=======
   "execution_count": 45,
>>>>>>> 5fbfa0a526e9cdb7d5daef7365fc952ae1c61595
   "id": "academic-destination",
   "metadata": {},
   "outputs": [
    {
     "data": {
      "text/plain": [
       "{'word'}"
      ]
     },
<<<<<<< HEAD
     "execution_count": 10,
=======
     "execution_count": 45,
>>>>>>> 5fbfa0a526e9cdb7d5daef7365fc952ae1c61595
     "metadata": {},
     "output_type": "execute_result"
    }
   ],
   "source": [
    "s"
   ]
  },
  {
   "cell_type": "code",
<<<<<<< HEAD
   "execution_count": 13,
   "id": "explicit-sheep",
   "metadata": {},
   "outputs": [],
=======
   "execution_count": 46,
   "id": "explicit-sheep",
   "metadata": {},
   "outputs": [
    {
     "ename": "FileNotFoundError",
     "evalue": "[Errno 2] No such file or directory: 'data/word_to_phrase_dict.pickle'",
     "output_type": "error",
     "traceback": [
      "\u001b[0;31m---------------------------------------------------------------------------\u001b[0m",
      "\u001b[0;31mFileNotFoundError\u001b[0m                         Traceback (most recent call last)",
      "\u001b[0;32m<ipython-input-46-f033cab254d5>\u001b[0m in \u001b[0;36m<module>\u001b[0;34m\u001b[0m\n\u001b[1;32m      1\u001b[0m \u001b[0;32mimport\u001b[0m \u001b[0mpickle\u001b[0m\u001b[0;34m\u001b[0m\u001b[0;34m\u001b[0m\u001b[0m\n\u001b[0;32m----> 2\u001b[0;31m \u001b[0;32mwith\u001b[0m \u001b[0mopen\u001b[0m\u001b[0;34m(\u001b[0m\u001b[0;34m\"data/\"\u001b[0m \u001b[0;34m+\u001b[0m \u001b[0;34m'word_to_phrase_dict.pickle'\u001b[0m\u001b[0;34m,\u001b[0m \u001b[0;34m'rb'\u001b[0m\u001b[0;34m)\u001b[0m \u001b[0;32mas\u001b[0m \u001b[0mto_read\u001b[0m\u001b[0;34m:\u001b[0m\u001b[0;34m\u001b[0m\u001b[0;34m\u001b[0m\u001b[0m\n\u001b[0m\u001b[1;32m      3\u001b[0m         \u001b[0mword_to_phrase_dict_\u001b[0m  \u001b[0;34m=\u001b[0m  \u001b[0mpickle\u001b[0m\u001b[0;34m.\u001b[0m\u001b[0mload\u001b[0m\u001b[0;34m(\u001b[0m\u001b[0mto_read\u001b[0m\u001b[0;34m)\u001b[0m\u001b[0;34m\u001b[0m\u001b[0;34m\u001b[0m\u001b[0m\n",
      "\u001b[0;31mFileNotFoundError\u001b[0m: [Errno 2] No such file or directory: 'data/word_to_phrase_dict.pickle'"
     ]
    }
   ],
>>>>>>> 5fbfa0a526e9cdb7d5daef7365fc952ae1c61595
   "source": [
    "import pickle\n",
    "with open(\"data/\" + 'word_to_phrase_dict.pickle', 'rb') as to_read:  \n",
    "        word_to_phrase_dict_  =  pickle.load(to_read)      "
   ]
  },
  {
   "cell_type": "code",
<<<<<<< HEAD
   "execution_count": 15,
   "id": "improving-tampa",
   "metadata": {},
   "outputs": [
    {
     "data": {
      "text/plain": [
       "1875"
      ]
     },
     "execution_count": 15,
     "metadata": {},
     "output_type": "execute_result"
    }
   ],
=======
   "execution_count": null,
   "id": "improving-tampa",
   "metadata": {},
   "outputs": [],
>>>>>>> 5fbfa0a526e9cdb7d5daef7365fc952ae1c61595
   "source": [
    "len(word_to_phrase_dict_)"
   ]
  },
  {
   "cell_type": "code",
<<<<<<< HEAD
   "execution_count": 20,
   "id": "automotive-fleet",
   "metadata": {},
   "outputs": [
    {
     "data": {
      "text/plain": [
       "1875"
      ]
     },
     "execution_count": 20,
     "metadata": {},
     "output_type": "execute_result"
    }
   ],
=======
   "execution_count": null,
   "id": "automotive-fleet",
   "metadata": {},
   "outputs": [],
>>>>>>> 5fbfa0a526e9cdb7d5daef7365fc952ae1c61595
   "source": [
    "len(set(word_to_phrase_dict_.keys()))"
   ]
  },
  {
   "cell_type": "code",
   "execution_count": null,
   "id": "seventh-resident",
   "metadata": {},
   "outputs": [],
   "source": []
  },
  {
   "cell_type": "markdown",
   "id": "guided-brown",
   "metadata": {},
   "source": [
<<<<<<< HEAD
    "### Getting the image labels list in order to precompute nearby words"
=======
    "### Getting the image labels list in order to precompute nearby words (Still in progress)"
>>>>>>> 5fbfa0a526e9cdb7d5daef7365fc952ae1c61595
   ]
  },
  {
   "cell_type": "code",
   "execution_count": null,
   "id": "equal-bradley",
   "metadata": {},
   "outputs": [],
   "source": [
    "from nltk.corpus import wordnet\n",
    "\n",
    "def get_synonyms( w ):\n",
    "    syn_list = []\n",
    "    syn_list = [word.split('.')[0] for object_name in \\\n",
    "                                    [syn.name().split('_') for syn in wordnet.synsets( w )[0].hypernyms() ] \\\n",
    "                                    for word in object_name if (('_' not in w) or (word.split('.')[0] != w.split('_')[-1]))]\n",
    "    return syn_list"
   ]
  },
  {
   "cell_type": "code",
   "execution_count": null,
   "id": "looking-fifteen",
   "metadata": {},
   "outputs": [],
   "source": [
    "def get_most_similar( w ):  \n",
    "    synonym_dist_setting = .5\n",
    "    #list_of_duples = [(syn, synonym_dist_setting) for syn in get_synonyms( w ) if syn !=  w.split('_')[0] else (syn, synonym_dist_setting-.5)]\n",
    "    list_of_duples = [(syn, synonym_dist_setting) for syn in get_synonyms( w ) ]\n",
    "    # Replace the above line with a for loop that takes into account the if w has an underscore, it's first\n",
    "    # item could be in the syn list and be more related than the the 1 penalty suggests\n",
    "    \n",
    "    if(w == 'two'):\n",
    "        additional_words =  [('pair', .95), ('twice', .90)]\n",
    "        list_of_duples.extend( additional_words )\n",
    "    list_of_close_words = [Close_word( word=w_str, distance= w_sim) for w_str, w_sim in list_of_duples ]\n",
    "    #print(\"list of semantically close words: \", list_of_close_words)    \n",
    "    return list_of_close_words"
   ]
  },
  {
   "cell_type": "code",
   "execution_count": 2,
   "id": "abstract-defense",
   "metadata": {},
   "outputs": [],
   "source": [
    "import csv\n",
    "img_label_dict = {}\n",
    "\n",
    "with open('data/image_net_labels_with_original_index_numbers.txt', newline = '') as labels:                                                                                          \n",
    "    label_reader = csv.reader(labels, delimiter=' ')\n",
    "    for label_row in label_reader:\n",
    "        img_label_dict[label_row[0]] = label_row[2]"
   ]
  },
  {
   "cell_type": "code",
   "execution_count": 4,
   "id": "champion-mayor",
   "metadata": {},
   "outputs": [
    {
     "data": {
      "text/plain": [
       "{'n02119789': 'kit_fox',\n",
       " 'n02100735': 'English_setter',\n",
       " 'n02110185': 'Siberian_husky',\n",
       " 'n02096294': 'Australian_terrier',\n",
       " 'n02102040': 'English_springer',\n",
       " 'n02066245': 'grey_whale',\n",
       " 'n02509815': 'lesser_panda',\n",
       " 'n02124075': 'Egyptian_cat',\n",
       " 'n02417914': 'ibex',\n",
       " 'n02123394': 'Persian_cat',\n",
       " 'n02125311': 'cougar',\n",
       " 'n02423022': 'gazelle',\n",
       " 'n02346627': 'porcupine',\n",
       " 'n02077923': 'sea_lion',\n",
       " 'n02110063': 'malamute',\n",
       " 'n02447366': 'badger',\n",
       " 'n02109047': 'Great_Dane',\n",
       " 'n02089867': 'Walker_hound',\n",
       " 'n02102177': 'Welsh_springer_spaniel',\n",
       " 'n02091134': 'whippet',\n",
       " 'n02092002': 'Scottish_deerhound',\n",
       " 'n02071294': 'killer_whale',\n",
       " 'n02442845': 'mink',\n",
       " 'n02504458': 'African_elephant',\n",
       " 'n02092339': 'Weimaraner',\n",
       " 'n02098105': 'soft-coated_wheaten_terrier',\n",
       " 'n02096437': 'Dandie_Dinmont',\n",
       " 'n02114712': 'red_wolf',\n",
       " 'n02105641': 'Old_English_sheepdog',\n",
       " 'n02128925': 'jaguar',\n",
       " 'n02091635': 'otterhound',\n",
       " 'n02088466': 'bloodhound',\n",
       " 'n02096051': 'Airedale',\n",
       " 'n02117135': 'hyena',\n",
       " 'n02138441': 'meerkat',\n",
       " 'n02097130': 'giant_schnauzer',\n",
       " 'n02493509': 'titi',\n",
       " 'n02457408': 'three-toed_sloth',\n",
       " 'n02389026': 'sorrel',\n",
       " 'n02443484': 'black-footed_ferret',\n",
       " 'n02110341': 'dalmatian',\n",
       " 'n02089078': 'black-and-tan_coonhound',\n",
       " 'n02086910': 'papillon',\n",
       " 'n02445715': 'skunk',\n",
       " 'n02093256': 'Staffordshire_bullterrier',\n",
       " 'n02113978': 'Mexican_hairless',\n",
       " 'n02106382': 'Bouvier_des_Flandres',\n",
       " 'n02441942': 'weasel',\n",
       " 'n02113712': 'miniature_poodle',\n",
       " 'n02113186': 'Cardigan',\n",
       " 'n02105162': 'malinois',\n",
       " 'n02415577': 'bighorn',\n",
       " 'n02356798': 'fox_squirrel',\n",
       " 'n02488702': 'colobus',\n",
       " 'n02123159': 'tiger_cat',\n",
       " 'n02098413': 'Lhasa',\n",
       " 'n02422699': 'impala',\n",
       " 'n02114855': 'coyote',\n",
       " 'n02094433': 'Yorkshire_terrier',\n",
       " 'n02111277': 'Newfoundland',\n",
       " 'n02132136': 'brown_bear',\n",
       " 'n02119022': 'red_fox',\n",
       " 'n02091467': 'Norwegian_elkhound',\n",
       " 'n02106550': 'Rottweiler',\n",
       " 'n02422106': 'hartebeest',\n",
       " 'n02091831': 'Saluki',\n",
       " 'n02120505': 'grey_fox',\n",
       " 'n02104365': 'schipperke',\n",
       " 'n02086079': 'Pekinese',\n",
       " 'n02112706': 'Brabancon_griffon',\n",
       " 'n02098286': 'West_Highland_white_terrier',\n",
       " 'n02095889': 'Sealyham_terrier',\n",
       " 'n02484975': 'guenon',\n",
       " 'n02137549': 'mongoose',\n",
       " 'n02500267': 'indri',\n",
       " 'n02129604': 'tiger',\n",
       " 'n02090721': 'Irish_wolfhound',\n",
       " 'n02396427': 'wild_boar',\n",
       " 'n02108000': 'EntleBucher',\n",
       " 'n02391049': 'zebra',\n",
       " 'n02412080': 'ram',\n",
       " 'n02108915': 'French_bulldog',\n",
       " 'n02480495': 'orangutan',\n",
       " 'n02110806': 'basenji',\n",
       " 'n02128385': 'leopard',\n",
       " 'n02107683': 'Bernese_mountain_dog',\n",
       " 'n02085936': 'Maltese_dog',\n",
       " 'n02094114': 'Norfolk_terrier',\n",
       " 'n02087046': 'toy_terrier',\n",
       " 'n02100583': 'vizsla',\n",
       " 'n02096177': 'cairn',\n",
       " 'n02494079': 'squirrel_monkey',\n",
       " 'n02105056': 'groenendael',\n",
       " 'n02101556': 'clumber',\n",
       " 'n02123597': 'Siamese_cat',\n",
       " 'n02481823': 'chimpanzee',\n",
       " 'n02105505': 'komondor',\n",
       " 'n02088094': 'Afghan_hound',\n",
       " 'n02085782': 'Japanese_spaniel',\n",
       " 'n02489166': 'proboscis_monkey',\n",
       " 'n02364673': 'guinea_pig',\n",
       " 'n02114548': 'white_wolf',\n",
       " 'n02134084': 'ice_bear',\n",
       " 'n02480855': 'gorilla',\n",
       " 'n02090622': 'borzoi',\n",
       " 'n02113624': 'toy_poodle',\n",
       " 'n02093859': 'Kerry_blue_terrier',\n",
       " 'n02403003': 'ox',\n",
       " 'n02097298': 'Scotch_terrier',\n",
       " 'n02108551': 'Tibetan_mastiff',\n",
       " 'n02493793': 'spider_monkey',\n",
       " 'n02107142': 'Doberman',\n",
       " 'n02096585': 'Boston_bull',\n",
       " 'n02107574': 'Greater_Swiss_Mountain_dog',\n",
       " 'n02107908': 'Appenzeller',\n",
       " 'n02086240': 'Shih-Tzu',\n",
       " 'n02102973': 'Irish_water_spaniel',\n",
       " 'n02112018': 'Pomeranian',\n",
       " 'n02093647': 'Bedlington_terrier',\n",
       " 'n02397096': 'warthog',\n",
       " 'n02437312': 'Arabian_camel',\n",
       " 'n02483708': 'siamang',\n",
       " 'n02097047': 'miniature_schnauzer',\n",
       " 'n02106030': 'collie',\n",
       " 'n02099601': 'golden_retriever',\n",
       " 'n02093991': 'Irish_terrier',\n",
       " 'n02110627': 'affenpinscher',\n",
       " 'n02106166': 'Border_collie',\n",
       " 'n02326432': 'hare',\n",
       " 'n02108089': 'boxer',\n",
       " 'n02097658': 'silky_terrier',\n",
       " 'n02088364': 'beagle',\n",
       " 'n02111129': 'Leonberg',\n",
       " 'n02100236': 'German_short-haired_pointer',\n",
       " 'n02486261': 'patas',\n",
       " 'n02115913': 'dhole',\n",
       " 'n02486410': 'baboon',\n",
       " 'n02487347': 'macaque',\n",
       " 'n02099849': 'Chesapeake_Bay_retriever',\n",
       " 'n02108422': 'bull_mastiff',\n",
       " 'n02104029': 'kuvasz',\n",
       " 'n02492035': 'capuchin',\n",
       " 'n02110958': 'pug',\n",
       " 'n02099429': 'curly-coated_retriever',\n",
       " 'n02094258': 'Norwich_terrier',\n",
       " 'n02099267': 'flat-coated_retriever',\n",
       " 'n02395406': 'hog',\n",
       " 'n02112350': 'keeshond',\n",
       " 'n02109961': 'Eskimo_dog',\n",
       " 'n02101388': 'Brittany_spaniel',\n",
       " 'n02113799': 'standard_poodle',\n",
       " 'n02095570': 'Lakeland_terrier',\n",
       " 'n02128757': 'snow_leopard',\n",
       " 'n02101006': 'Gordon_setter',\n",
       " 'n02115641': 'dingo',\n",
       " 'n02097209': 'standard_schnauzer',\n",
       " 'n02342885': 'hamster',\n",
       " 'n02097474': 'Tibetan_terrier',\n",
       " 'n02120079': 'Arctic_fox',\n",
       " 'n02095314': 'wire-haired_fox_terrier',\n",
       " 'n02088238': 'basset',\n",
       " 'n02408429': 'water_buffalo',\n",
       " 'n02133161': 'American_black_bear',\n",
       " 'n02328150': 'Angora',\n",
       " 'n02410509': 'bison',\n",
       " 'n02492660': 'howler_monkey',\n",
       " 'n02398521': 'hippopotamus',\n",
       " 'n02112137': 'chow',\n",
       " 'n02510455': 'giant_panda',\n",
       " 'n02093428': 'American_Staffordshire_terrier',\n",
       " 'n02105855': 'Shetland_sheepdog',\n",
       " 'n02111500': 'Great_Pyrenees',\n",
       " 'n02085620': 'Chihuahua',\n",
       " 'n02123045': 'tabby',\n",
       " 'n02490219': 'marmoset',\n",
       " 'n02099712': 'Labrador_retriever',\n",
       " 'n02109525': 'Saint_Bernard',\n",
       " 'n02454379': 'armadillo',\n",
       " 'n02111889': 'Samoyed',\n",
       " 'n02088632': 'bluetick',\n",
       " 'n02090379': 'redbone',\n",
       " 'n02443114': 'polecat',\n",
       " 'n02361337': 'marmot',\n",
       " 'n02105412': 'kelpie',\n",
       " 'n02483362': 'gibbon',\n",
       " 'n02437616': 'llama',\n",
       " 'n02107312': 'miniature_pinscher',\n",
       " 'n02325366': 'wood_rabbit',\n",
       " 'n02091032': 'Italian_greyhound',\n",
       " 'n02129165': 'lion',\n",
       " 'n02102318': 'cocker_spaniel',\n",
       " 'n02100877': 'Irish_setter',\n",
       " 'n02074367': 'dugong',\n",
       " 'n02504013': 'Indian_elephant',\n",
       " 'n02363005': 'beaver',\n",
       " 'n02102480': 'Sussex_spaniel',\n",
       " 'n02113023': 'Pembroke',\n",
       " 'n02086646': 'Blenheim_spaniel',\n",
       " 'n02497673': 'Madagascar_cat',\n",
       " 'n02087394': 'Rhodesian_ridgeback',\n",
       " 'n02127052': 'lynx',\n",
       " 'n02116738': 'African_hunting_dog',\n",
       " 'n02488291': 'langur',\n",
       " 'n02091244': 'Ibizan_hound',\n",
       " 'n02114367': 'timber_wolf',\n",
       " 'n02130308': 'cheetah',\n",
       " 'n02089973': 'English_foxhound',\n",
       " 'n02105251': 'briard',\n",
       " 'n02134418': 'sloth_bear',\n",
       " 'n02093754': 'Border_terrier',\n",
       " 'n02106662': 'German_shepherd',\n",
       " 'n02444819': 'otter',\n",
       " 'n01882714': 'koala',\n",
       " 'n01871265': 'tusker',\n",
       " 'n01872401': 'echidna',\n",
       " 'n01877812': 'wallaby',\n",
       " 'n01873310': 'platypus',\n",
       " 'n01883070': 'wombat',\n",
       " 'n04086273': 'revolver',\n",
       " 'n04507155': 'umbrella',\n",
       " 'n04147183': 'schooner',\n",
       " 'n04254680': 'soccer_ball',\n",
       " 'n02672831': 'accordion',\n",
       " 'n02219486': 'ant',\n",
       " 'n02317335': 'starfish',\n",
       " 'n01968897': 'chambered_nautilus',\n",
       " 'n03452741': 'grand_piano',\n",
       " 'n03642806': 'laptop',\n",
       " 'n07745940': 'strawberry',\n",
       " 'n02690373': 'airliner',\n",
       " 'n04552348': 'warplane',\n",
       " 'n02692877': 'airship',\n",
       " 'n02782093': 'balloon',\n",
       " 'n04266014': 'space_shuttle',\n",
       " 'n03344393': 'fireboat',\n",
       " 'n03447447': 'gondola',\n",
       " 'n04273569': 'speedboat',\n",
       " 'n03662601': 'lifeboat',\n",
       " 'n02951358': 'canoe',\n",
       " 'n04612504': 'yawl',\n",
       " 'n02981792': 'catamaran',\n",
       " 'n04483307': 'trimaran',\n",
       " 'n03095699': 'container_ship',\n",
       " 'n03673027': 'liner',\n",
       " 'n03947888': 'pirate',\n",
       " 'n02687172': 'aircraft_carrier',\n",
       " 'n04347754': 'submarine',\n",
       " 'n04606251': 'wreck',\n",
       " 'n03478589': 'half_track',\n",
       " 'n04389033': 'tank',\n",
       " 'n03773504': 'missile',\n",
       " 'n02860847': 'bobsled',\n",
       " 'n03218198': 'dogsled',\n",
       " 'n02835271': 'bicycle-built-for-two',\n",
       " 'n03792782': 'mountain_bike',\n",
       " 'n03393912': 'freight_car',\n",
       " 'n03895866': 'passenger_car',\n",
       " 'n02797295': 'barrow',\n",
       " 'n04204347': 'shopping_cart',\n",
       " 'n03791053': 'motor_scooter',\n",
       " 'n03384352': 'forklift',\n",
       " 'n03272562': 'electric_locomotive',\n",
       " 'n04310018': 'steam_locomotive',\n",
       " 'n02704792': 'amphibian',\n",
       " 'n02701002': 'ambulance',\n",
       " 'n02814533': 'beach_wagon',\n",
       " 'n02930766': 'cab',\n",
       " 'n03100240': 'convertible',\n",
       " 'n03594945': 'jeep',\n",
       " 'n03670208': 'limousine',\n",
       " 'n03770679': 'minivan',\n",
       " 'n03777568': 'Model_T',\n",
       " 'n04037443': 'racer',\n",
       " 'n04285008': 'sports_car',\n",
       " 'n03444034': 'go-kart',\n",
       " 'n03445924': 'golfcart',\n",
       " 'n03785016': 'moped',\n",
       " 'n04252225': 'snowplow',\n",
       " 'n03345487': 'fire_engine',\n",
       " 'n03417042': 'garbage_truck',\n",
       " 'n03930630': 'pickup',\n",
       " 'n04461696': 'tow_truck',\n",
       " 'n04467665': 'trailer_truck',\n",
       " 'n03796401': 'moving_van',\n",
       " 'n03977966': 'police_van',\n",
       " 'n04065272': 'recreational_vehicle',\n",
       " 'n04335435': 'streetcar',\n",
       " 'n04252077': 'snowmobile',\n",
       " 'n04465501': 'tractor',\n",
       " 'n03776460': 'mobile_home',\n",
       " 'n04482393': 'tricycle',\n",
       " 'n04509417': 'unicycle',\n",
       " 'n03538406': 'horse_cart',\n",
       " 'n03599486': 'jinrikisha',\n",
       " 'n03868242': 'oxcart',\n",
       " 'n02804414': 'bassinet',\n",
       " 'n03125729': 'cradle',\n",
       " 'n03131574': 'crib',\n",
       " 'n03388549': 'four-poster',\n",
       " 'n02870880': 'bookcase',\n",
       " 'n03018349': 'china_cabinet',\n",
       " 'n03742115': 'medicine_chest',\n",
       " 'n03016953': 'chiffonier',\n",
       " 'n04380533': 'table_lamp',\n",
       " 'n03337140': 'file',\n",
       " 'n03891251': 'park_bench',\n",
       " 'n02791124': 'barber_chair',\n",
       " 'n04429376': 'throne',\n",
       " 'n03376595': 'folding_chair',\n",
       " 'n04099969': 'rocking_chair',\n",
       " 'n04344873': 'studio_couch',\n",
       " 'n04447861': 'toilet_seat',\n",
       " 'n03179701': 'desk',\n",
       " 'n03982430': 'pool_table',\n",
       " 'n03201208': 'dining_table',\n",
       " 'n03290653': 'entertainment_center',\n",
       " 'n04550184': 'wardrobe',\n",
       " 'n07742313': 'Granny_Smith',\n",
       " 'n07747607': 'orange',\n",
       " 'n07749582': 'lemon',\n",
       " 'n07753113': 'fig',\n",
       " 'n07753275': 'pineapple',\n",
       " 'n07753592': 'banana',\n",
       " 'n07754684': 'jackfruit',\n",
       " 'n07760859': 'custard_apple',\n",
       " 'n07768694': 'pomegranate',\n",
       " 'n12267677': 'acorn',\n",
       " 'n12620546': 'hip',\n",
       " 'n13133613': 'ear',\n",
       " 'n11879895': 'rapeseed',\n",
       " 'n12144580': 'corn',\n",
       " 'n12768682': 'buckeye',\n",
       " 'n03854065': 'organ',\n",
       " 'n04515003': 'upright',\n",
       " 'n03017168': 'chime',\n",
       " 'n03249569': 'drum',\n",
       " 'n03447721': 'gong',\n",
       " 'n03720891': 'maraca',\n",
       " 'n03721384': 'marimba',\n",
       " 'n04311174': 'steel_drum',\n",
       " 'n02787622': 'banjo',\n",
       " 'n02992211': 'cello',\n",
       " 'n04536866': 'violin',\n",
       " 'n03495258': 'harp',\n",
       " 'n02676566': 'acoustic_guitar',\n",
       " 'n03272010': 'electric_guitar',\n",
       " 'n03110669': 'cornet',\n",
       " 'n03394916': 'French_horn',\n",
       " 'n04487394': 'trombone',\n",
       " 'n03494278': 'harmonica',\n",
       " 'n03840681': 'ocarina',\n",
       " 'n03884397': 'panpipe',\n",
       " 'n02804610': 'bassoon',\n",
       " 'n03838899': 'oboe',\n",
       " 'n04141076': 'sax',\n",
       " 'n03372029': 'flute',\n",
       " 'n11939491': 'daisy',\n",
       " 'n12057211': 'moccasin_flower',\n",
       " 'n09246464': 'cliff',\n",
       " 'n09468604': 'valley',\n",
       " 'n09193705': 'alp',\n",
       " 'n09472597': 'volcano',\n",
       " 'n09399592': 'promontory',\n",
       " 'n09421951': 'sandbar',\n",
       " 'n09256479': 'coral_reef',\n",
       " 'n09332890': 'lakeside',\n",
       " 'n09428293': 'seashore',\n",
       " 'n09288635': 'geyser',\n",
       " 'n03498962': 'hatchet',\n",
       " 'n03041632': 'cleaver',\n",
       " 'n03658185': 'letter_opener',\n",
       " 'n03954731': 'plane',\n",
       " 'n03995372': 'power_drill',\n",
       " 'n03649909': 'lawn_mower',\n",
       " 'n03481172': 'hammer',\n",
       " 'n03109150': 'corkscrew',\n",
       " 'n02951585': 'can_opener',\n",
       " 'n03970156': 'plunger',\n",
       " 'n04154565': 'screwdriver',\n",
       " 'n04208210': 'shovel',\n",
       " 'n03967562': 'plow',\n",
       " 'n03000684': 'chain_saw',\n",
       " 'n01514668': 'cock',\n",
       " 'n01514859': 'hen',\n",
       " 'n01518878': 'ostrich',\n",
       " 'n01530575': 'brambling',\n",
       " 'n01531178': 'goldfinch',\n",
       " 'n01532829': 'house_finch',\n",
       " 'n01534433': 'junco',\n",
       " 'n01537544': 'indigo_bunting',\n",
       " 'n01558993': 'robin',\n",
       " 'n01560419': 'bulbul',\n",
       " 'n01580077': 'jay',\n",
       " 'n01582220': 'magpie',\n",
       " 'n01592084': 'chickadee',\n",
       " 'n01601694': 'water_ouzel',\n",
       " 'n01608432': 'kite',\n",
       " 'n01614925': 'bald_eagle',\n",
       " 'n01616318': 'vulture',\n",
       " 'n01622779': 'great_grey_owl',\n",
       " 'n01795545': 'black_grouse',\n",
       " 'n01796340': 'ptarmigan',\n",
       " 'n01797886': 'ruffed_grouse',\n",
       " 'n01798484': 'prairie_chicken',\n",
       " 'n01806143': 'peacock',\n",
       " 'n01806567': 'quail',\n",
       " 'n01807496': 'partridge',\n",
       " 'n01817953': 'African_grey',\n",
       " 'n01818515': 'macaw',\n",
       " 'n01819313': 'sulphur-crested_cockatoo',\n",
       " 'n01820546': 'lorikeet',\n",
       " 'n01824575': 'coucal',\n",
       " 'n01828970': 'bee_eater',\n",
       " 'n01829413': 'hornbill',\n",
       " 'n01833805': 'hummingbird',\n",
       " 'n01843065': 'jacamar',\n",
       " 'n01843383': 'toucan',\n",
       " 'n01847000': 'drake',\n",
       " 'n01855032': 'red-breasted_merganser',\n",
       " 'n01855672': 'goose',\n",
       " 'n01860187': 'black_swan',\n",
       " 'n02002556': 'white_stork',\n",
       " 'n02002724': 'black_stork',\n",
       " 'n02006656': 'spoonbill',\n",
       " 'n02007558': 'flamingo',\n",
       " 'n02009912': 'American_egret',\n",
       " 'n02009229': 'little_blue_heron',\n",
       " 'n02011460': 'bittern',\n",
       " 'n02012849': 'crane',\n",
       " 'n02013706': 'limpkin',\n",
       " 'n02018207': 'American_coot',\n",
       " 'n02018795': 'bustard',\n",
       " 'n02025239': 'ruddy_turnstone',\n",
       " 'n02027492': 'red-backed_sandpiper',\n",
       " 'n02028035': 'redshank',\n",
       " 'n02033041': 'dowitcher',\n",
       " 'n02037110': 'oystercatcher',\n",
       " 'n02017213': 'European_gallinule',\n",
       " 'n02051845': 'pelican',\n",
       " 'n02056570': 'king_penguin',\n",
       " 'n02058221': 'albatross',\n",
       " 'n01484850': 'great_white_shark',\n",
       " 'n01491361': 'tiger_shark',\n",
       " 'n01494475': 'hammerhead',\n",
       " 'n01496331': 'electric_ray',\n",
       " 'n01498041': 'stingray',\n",
       " 'n02514041': 'barracouta',\n",
       " 'n02536864': 'coho',\n",
       " 'n01440764': 'tench',\n",
       " 'n01443537': 'goldfish',\n",
       " 'n02526121': 'eel',\n",
       " 'n02606052': 'rock_beauty',\n",
       " 'n02607072': 'anemone_fish',\n",
       " 'n02643566': 'lionfish',\n",
       " 'n02655020': 'puffer',\n",
       " 'n02640242': 'sturgeon',\n",
       " 'n02641379': 'gar',\n",
       " 'n01664065': 'loggerhead',\n",
       " 'n01665541': 'leatherback_turtle',\n",
       " 'n01667114': 'mud_turtle',\n",
       " 'n01667778': 'terrapin',\n",
       " 'n01669191': 'box_turtle',\n",
       " 'n01675722': 'banded_gecko',\n",
       " 'n01677366': 'common_iguana',\n",
       " 'n01682714': 'American_chameleon',\n",
       " 'n01685808': 'whiptail',\n",
       " 'n01687978': 'agama',\n",
       " 'n01688243': 'frilled_lizard',\n",
       " 'n01689811': 'alligator_lizard',\n",
       " 'n01692333': 'Gila_monster',\n",
       " 'n01693334': 'green_lizard',\n",
       " 'n01694178': 'African_chameleon',\n",
       " 'n01695060': 'Komodo_dragon',\n",
       " 'n01704323': 'triceratops',\n",
       " 'n01697457': 'African_crocodile',\n",
       " 'n01698640': 'American_alligator',\n",
       " 'n01728572': 'thunder_snake',\n",
       " 'n01728920': 'ringneck_snake',\n",
       " 'n01729322': 'hognose_snake',\n",
       " 'n01729977': 'green_snake',\n",
       " 'n01734418': 'king_snake',\n",
       " 'n01735189': 'garter_snake',\n",
       " 'n01737021': 'water_snake',\n",
       " 'n01739381': 'vine_snake',\n",
       " 'n01740131': 'night_snake',\n",
       " 'n01742172': 'boa_constrictor',\n",
       " 'n01744401': 'rock_python',\n",
       " 'n01748264': 'Indian_cobra',\n",
       " 'n01749939': 'green_mamba',\n",
       " 'n01751748': 'sea_snake',\n",
       " 'n01753488': 'horned_viper',\n",
       " 'n01755581': 'diamondback',\n",
       " 'n01756291': 'sidewinder',\n",
       " 'n01629819': 'European_fire_salamander',\n",
       " 'n01630670': 'common_newt',\n",
       " 'n01631663': 'eft',\n",
       " 'n01632458': 'spotted_salamander',\n",
       " 'n01632777': 'axolotl',\n",
       " 'n01641577': 'bullfrog',\n",
       " 'n01644373': 'tree_frog',\n",
       " 'n01644900': 'tailed_frog',\n",
       " 'n04579432': 'whistle',\n",
       " 'n04592741': 'wing',\n",
       " 'n03876231': 'paintbrush',\n",
       " 'n03483316': 'hand_blower',\n",
       " 'n03868863': 'oxygen_mask',\n",
       " 'n04251144': 'snorkel',\n",
       " 'n03691459': 'loudspeaker',\n",
       " 'n03759954': 'microphone',\n",
       " 'n04152593': 'screen',\n",
       " 'n03793489': 'mouse',\n",
       " 'n03271574': 'electric_fan',\n",
       " 'n03843555': 'oil_filter',\n",
       " 'n04332243': 'strainer',\n",
       " 'n04265275': 'space_heater',\n",
       " 'n04330267': 'stove',\n",
       " 'n03467068': 'guillotine',\n",
       " 'n02794156': 'barometer',\n",
       " 'n04118776': 'rule',\n",
       " 'n03841143': 'odometer',\n",
       " 'n04141975': 'scale',\n",
       " 'n02708093': 'analog_clock',\n",
       " 'n03196217': 'digital_clock',\n",
       " 'n04548280': 'wall_clock',\n",
       " 'n03544143': 'hourglass',\n",
       " 'n04355338': 'sundial',\n",
       " 'n03891332': 'parking_meter',\n",
       " 'n04328186': 'stopwatch',\n",
       " 'n03197337': 'digital_watch',\n",
       " 'n04317175': 'stethoscope',\n",
       " 'n04376876': 'syringe',\n",
       " 'n03706229': 'magnetic_compass',\n",
       " 'n02841315': 'binoculars',\n",
       " 'n04009552': 'projector',\n",
       " 'n04356056': 'sunglasses',\n",
       " 'n03692522': 'loupe',\n",
       " 'n04044716': 'radio_telescope',\n",
       " 'n02879718': 'bow',\n",
       " 'n02950826': 'cannon',\n",
       " 'n02749479': 'assault_rifle',\n",
       " 'n04090263': 'rifle',\n",
       " 'n04008634': 'projectile',\n",
       " 'n03085013': 'computer_keyboard',\n",
       " 'n04505470': 'typewriter_keyboard',\n",
       " 'n03126707': 'crane',\n",
       " 'n03666591': 'lighter',\n",
       " 'n02666196': 'abacus',\n",
       " 'n02977058': 'cash_machine',\n",
       " 'n04238763': 'slide_rule',\n",
       " 'n03180011': 'desktop_computer',\n",
       " 'n03485407': 'hand-held_computer',\n",
       " 'n03832673': 'notebook',\n",
       " 'n06359193': 'web_site',\n",
       " 'n03496892': 'harvester',\n",
       " 'n04428191': 'thresher',\n",
       " 'n04004767': 'printer',\n",
       " 'n04243546': 'slot',\n",
       " 'n04525305': 'vending_machine',\n",
       " 'n04179913': 'sewing_machine',\n",
       " 'n03602883': 'joystick',\n",
       " 'n04372370': 'switch',\n",
       " 'n03532672': 'hook',\n",
       " 'n02974003': 'car_wheel',\n",
       " 'n03874293': 'paddlewheel',\n",
       " 'n03944341': 'pinwheel',\n",
       " 'n03992509': \"potter's_wheel\",\n",
       " 'n03425413': 'gas_pump',\n",
       " 'n02966193': 'carousel',\n",
       " 'n04371774': 'swing',\n",
       " 'n04067472': 'reel',\n",
       " 'n04040759': 'radiator',\n",
       " 'n04019541': 'puck',\n",
       " 'n03492542': 'hard_disc',\n",
       " 'n04355933': 'sunglass',\n",
       " 'n03929660': 'pick',\n",
       " 'n02965783': 'car_mirror',\n",
       " 'n04258138': 'solar_dish',\n",
       " 'n04074963': 'remote_control',\n",
       " 'n03208938': 'disk_brake',\n",
       " 'n02910353': 'buckle',\n",
       " 'n03476684': 'hair_slide',\n",
       " 'n03627232': 'knot',\n",
       " 'n03075370': 'combination_lock',\n",
       " 'n03874599': 'padlock',\n",
       " 'n03804744': 'nail',\n",
       " 'n04127249': 'safety_pin',\n",
       " 'n04153751': 'screw',\n",
       " 'n03803284': 'muzzle',\n",
       " 'n04162706': 'seat_belt',\n",
       " 'n04228054': 'ski',\n",
       " 'n02948072': 'candle',\n",
       " 'n03590841': \"jack-o'-lantern\",\n",
       " 'n04286575': 'spotlight',\n",
       " 'n04456115': 'torch',\n",
       " 'n03814639': 'neck_brace',\n",
       " 'n03933933': 'pier',\n",
       " 'n04485082': 'tripod',\n",
       " 'n03733131': 'maypole',\n",
       " 'n03794056': 'mousetrap',\n",
       " 'n04275548': 'spider_web',\n",
       " 'n01768244': 'trilobite',\n",
       " 'n01770081': 'harvestman',\n",
       " 'n01770393': 'scorpion',\n",
       " 'n01773157': 'black_and_gold_garden_spider',\n",
       " 'n01773549': 'barn_spider',\n",
       " 'n01773797': 'garden_spider',\n",
       " 'n01774384': 'black_widow',\n",
       " 'n01774750': 'tarantula',\n",
       " 'n01775062': 'wolf_spider',\n",
       " 'n01776313': 'tick',\n",
       " 'n01784675': 'centipede',\n",
       " 'n01990800': 'isopod',\n",
       " 'n01978287': 'Dungeness_crab',\n",
       " 'n01978455': 'rock_crab',\n",
       " 'n01980166': 'fiddler_crab',\n",
       " 'n01981276': 'king_crab',\n",
       " 'n01983481': 'American_lobster',\n",
       " 'n01984695': 'spiny_lobster',\n",
       " 'n01985128': 'crayfish',\n",
       " 'n01986214': 'hermit_crab',\n",
       " 'n02165105': 'tiger_beetle',\n",
       " 'n02165456': 'ladybug',\n",
       " 'n02167151': 'ground_beetle',\n",
       " 'n02168699': 'long-horned_beetle',\n",
       " 'n02169497': 'leaf_beetle',\n",
       " 'n02172182': 'dung_beetle',\n",
       " 'n02174001': 'rhinoceros_beetle',\n",
       " 'n02177972': 'weevil',\n",
       " 'n02190166': 'fly',\n",
       " 'n02206856': 'bee',\n",
       " 'n02226429': 'grasshopper',\n",
       " 'n02229544': 'cricket',\n",
       " 'n02231487': 'walking_stick',\n",
       " 'n02233338': 'cockroach',\n",
       " 'n02236044': 'mantis',\n",
       " 'n02256656': 'cicada',\n",
       " 'n02259212': 'leafhopper',\n",
       " 'n02264363': 'lacewing',\n",
       " 'n02268443': 'dragonfly',\n",
       " 'n02268853': 'damselfly',\n",
       " 'n02276258': 'admiral',\n",
       " 'n02277742': 'ringlet',\n",
       " 'n02279972': 'monarch',\n",
       " 'n02280649': 'cabbage_butterfly',\n",
       " 'n02281406': 'sulphur_butterfly',\n",
       " 'n02281787': 'lycaenid',\n",
       " 'n01910747': 'jellyfish',\n",
       " 'n01914609': 'sea_anemone',\n",
       " 'n01917289': 'brain_coral',\n",
       " 'n01924916': 'flatworm',\n",
       " 'n01930112': 'nematode',\n",
       " 'n01943899': 'conch',\n",
       " 'n01944390': 'snail',\n",
       " 'n01945685': 'slug',\n",
       " 'n01950731': 'sea_slug',\n",
       " 'n01955084': 'chiton',\n",
       " 'n02319095': 'sea_urchin',\n",
       " 'n02321529': 'sea_cucumber',\n",
       " 'n03584829': 'iron',\n",
       " 'n03297495': 'espresso_maker',\n",
       " 'n03761084': 'microwave',\n",
       " 'n03259280': 'Dutch_oven',\n",
       " 'n04111531': 'rotisserie',\n",
       " 'n04442312': 'toaster',\n",
       " 'n04542943': 'waffle_iron',\n",
       " 'n04517823': 'vacuum',\n",
       " 'n03207941': 'dishwasher',\n",
       " 'n04070727': 'refrigerator',\n",
       " 'n04554684': 'washer',\n",
       " 'n03133878': 'Crock_Pot',\n",
       " 'n03400231': 'frying_pan',\n",
       " 'n04596742': 'wok',\n",
       " 'n02939185': 'caldron',\n",
       " 'n03063689': 'coffeepot',\n",
       " 'n04398044': 'teapot',\n",
       " 'n04270147': 'spatula',\n",
       " 'n02699494': 'altar',\n",
       " 'n04486054': 'triumphal_arch',\n",
       " 'n03899768': 'patio',\n",
       " 'n04311004': 'steel_arch_bridge',\n",
       " 'n04366367': 'suspension_bridge',\n",
       " 'n04532670': 'viaduct',\n",
       " 'n02793495': 'barn',\n",
       " 'n03457902': 'greenhouse',\n",
       " 'n03877845': 'palace',\n",
       " 'n03781244': 'monastery',\n",
       " 'n03661043': 'library',\n",
       " 'n02727426': 'apiary',\n",
       " 'n02859443': 'boathouse',\n",
       " 'n03028079': 'church',\n",
       " 'n03788195': 'mosque',\n",
       " 'n04346328': 'stupa',\n",
       " 'n03956157': 'planetarium',\n",
       " 'n04081281': 'restaurant',\n",
       " 'n03032252': 'cinema',\n",
       " 'n03529860': 'home_theater',\n",
       " 'n03697007': 'lumbermill',\n",
       " 'n03065424': 'coil',\n",
       " 'n03837869': 'obelisk',\n",
       " 'n04458633': 'totem_pole',\n",
       " 'n02980441': 'castle',\n",
       " 'n04005630': 'prison',\n",
       " 'n03461385': 'grocery_store',\n",
       " 'n02776631': 'bakery',\n",
       " 'n02791270': 'barbershop',\n",
       " 'n02871525': 'bookshop',\n",
       " 'n02927161': 'butcher_shop',\n",
       " 'n03089624': 'confectionery',\n",
       " 'n04200800': 'shoe_shop',\n",
       " 'n04443257': 'tobacco_shop',\n",
       " 'n04462240': 'toyshop',\n",
       " 'n03388043': 'fountain',\n",
       " 'n03042490': 'cliff_dwelling',\n",
       " 'n04613696': 'yurt',\n",
       " 'n03216828': 'dock',\n",
       " 'n02892201': 'brass',\n",
       " 'n03743016': 'megalith',\n",
       " 'n02788148': 'bannister',\n",
       " 'n02894605': 'breakwater',\n",
       " 'n03160309': 'dam',\n",
       " 'n03000134': 'chainlink_fence',\n",
       " 'n03930313': 'picket_fence',\n",
       " 'n04604644': 'worm_fence',\n",
       " 'n04326547': 'stone_wall',\n",
       " 'n03459775': 'grille',\n",
       " 'n04239074': 'sliding_door',\n",
       " 'n04501370': 'turnstile',\n",
       " 'n03792972': 'mountain_tent',\n",
       " 'n04149813': 'scoreboard',\n",
       " 'n03530642': 'honeycomb',\n",
       " 'n03961711': 'plate_rack',\n",
       " 'n03903868': 'pedestal',\n",
       " 'n02814860': 'beacon',\n",
       " 'n07711569': 'mashed_potato',\n",
       " 'n07720875': 'bell_pepper',\n",
       " 'n07714571': 'head_cabbage',\n",
       " 'n07714990': 'broccoli',\n",
       " 'n07715103': 'cauliflower',\n",
       " 'n07716358': 'zucchini',\n",
       " 'n07716906': 'spaghetti_squash',\n",
       " 'n07717410': 'acorn_squash',\n",
       " 'n07717556': 'butternut_squash',\n",
       " 'n07718472': 'cucumber',\n",
       " 'n07718747': 'artichoke',\n",
       " 'n07730033': 'cardoon',\n",
       " 'n07734744': 'mushroom',\n",
       " 'n04209239': 'shower_curtain',\n",
       " 'n03594734': 'jean',\n",
       " 'n02971356': 'carton',\n",
       " 'n03485794': 'handkerchief',\n",
       " 'n04133789': 'sandal',\n",
       " 'n02747177': 'ashcan',\n",
       " 'n04125021': 'safe',\n",
       " 'n07579787': 'plate',\n",
       " 'n03814906': 'necklace',\n",
       " 'n03134739': 'croquet_ball',\n",
       " 'n03404251': 'fur_coat',\n",
       " 'n04423845': 'thimble',\n",
       " 'n03877472': 'pajama',\n",
       " 'n04120489': 'running_shoe',\n",
       " 'n03062245': 'cocktail_shaker',\n",
       " 'n03014705': 'chest',\n",
       " 'n03717622': 'manhole_cover',\n",
       " 'n03777754': 'modem',\n",
       " 'n04493381': 'tub',\n",
       " 'n04476259': 'tray',\n",
       " 'n02777292': 'balance_beam',\n",
       " 'n07693725': 'bagel',\n",
       " 'n03998194': 'prayer_rug',\n",
       " 'n03617480': 'kimono',\n",
       " 'n07590611': 'hot_pot',\n",
       " 'n04579145': 'whiskey_jug',\n",
       " 'n03623198': 'knee_pad',\n",
       " 'n07248320': 'book_jacket',\n",
       " 'n04277352': 'spindle',\n",
       " 'n04229816': 'ski_mask',\n",
       " 'n02823428': 'beer_bottle',\n",
       " 'n03127747': 'crash_helmet',\n",
       " 'n02877765': 'bottlecap',\n",
       " 'n04435653': 'tile_roof',\n",
       " 'n03724870': 'mask',\n",
       " 'n03710637': 'maillot',\n",
       " 'n03920288': 'Petri_dish',\n",
       " 'n03379051': 'football_helmet',\n",
       " 'n02807133': 'bathing_cap',\n",
       " 'n04399382': 'teddy',\n",
       " 'n03527444': 'holster',\n",
       " 'n03983396': 'pop_bottle',\n",
       " 'n03924679': 'photocopier',\n",
       " 'n04532106': 'vestment',\n",
       " 'n06785654': 'crossword_puzzle',\n",
       " 'n03445777': 'golf_ball',\n",
       " 'n07613480': 'trifle',\n",
       " 'n04350905': 'suit',\n",
       " 'n04562935': 'water_tower',\n",
       " 'n03325584': 'feather_boa',\n",
       " 'n03045698': 'cloak',\n",
       " 'n07892512': 'red_wine',\n",
       " 'n03250847': 'drumstick',\n",
       " 'n04192698': 'shield',\n",
       " 'n03026506': 'Christmas_stocking',\n",
       " 'n03534580': 'hoopskirt',\n",
       " 'n07565083': 'menu',\n",
       " 'n04296562': 'stage',\n",
       " 'n02869837': 'bonnet',\n",
       " 'n07871810': 'meat_loaf',\n",
       " 'n02799071': 'baseball',\n",
       " 'n03314780': 'face_powder',\n",
       " 'n04141327': 'scabbard',\n",
       " 'n04357314': 'sunscreen',\n",
       " 'n02823750': 'beer_glass',\n",
       " 'n13052670': 'hen-of-the-woods',\n",
       " 'n07583066': 'guacamole',\n",
       " 'n03637318': 'lampshade',\n",
       " 'n04599235': 'wool',\n",
       " 'n07802026': 'hay',\n",
       " 'n02883205': 'bow_tie',\n",
       " 'n03709823': 'mailbag',\n",
       " 'n04560804': 'water_jug',\n",
       " 'n02909870': 'bucket',\n",
       " 'n03207743': 'dishrag',\n",
       " 'n04263257': 'soup_bowl',\n",
       " 'n07932039': 'eggnog',\n",
       " 'n03786901': 'mortar',\n",
       " 'n04479046': 'trench_coat',\n",
       " 'n03873416': 'paddle',\n",
       " 'n02999410': 'chain',\n",
       " 'n04367480': 'swab',\n",
       " 'n03775546': 'mixing_bowl',\n",
       " 'n07875152': 'potpie',\n",
       " 'n04591713': 'wine_bottle',\n",
       " 'n04201297': 'shoji',\n",
       " 'n02916936': 'bulletproof_vest',\n",
       " 'n03240683': 'drilling_platform',\n",
       " 'n02840245': 'binder',\n",
       " 'n02963159': 'cardigan',\n",
       " 'n04370456': 'sweatshirt',\n",
       " 'n03991062': 'pot',\n",
       " 'n02843684': 'birdhouse',\n",
       " 'n03482405': 'hamper',\n",
       " 'n03942813': 'ping-pong_ball',\n",
       " 'n03908618': 'pencil_box',\n",
       " 'n03902125': 'pay-phone',\n",
       " 'n07584110': 'consomme',\n",
       " 'n02730930': 'apron',\n",
       " 'n04023962': 'punching_bag',\n",
       " 'n02769748': 'backpack',\n",
       " 'n10148035': 'groom',\n",
       " 'n02817516': 'bearskin',\n",
       " 'n03908714': 'pencil_sharpener',\n",
       " 'n02906734': 'broom',\n",
       " 'n03788365': 'mosquito_net',\n",
       " 'n02667093': 'abaya',\n",
       " 'n03787032': 'mortarboard',\n",
       " 'n03980874': 'poncho',\n",
       " 'n03141823': 'crutch',\n",
       " 'n03976467': 'Polaroid_camera',\n",
       " 'n04264628': 'space_bar',\n",
       " 'n07930864': 'cup',\n",
       " 'n04039381': 'racket',\n",
       " 'n06874185': 'traffic_light',\n",
       " 'n04033901': 'quill',\n",
       " 'n04041544': 'radio',\n",
       " 'n07860988': 'dough',\n",
       " 'n03146219': 'cuirass',\n",
       " 'n03763968': 'military_uniform',\n",
       " 'n03676483': 'lipstick',\n",
       " 'n04209133': 'shower_cap',\n",
       " 'n03782006': 'monitor',\n",
       " 'n03857828': 'oscilloscope',\n",
       " 'n03775071': 'mitten',\n",
       " 'n02892767': 'brassiere',\n",
       " 'n07684084': 'French_loaf',\n",
       " 'n04522168': 'vase',\n",
       " 'n03764736': 'milk_can',\n",
       " 'n04118538': 'rugby_ball',\n",
       " 'n03887697': 'paper_towel',\n",
       " 'n13044778': 'earthstar',\n",
       " 'n03291819': 'envelope',\n",
       " 'n03770439': 'miniskirt',\n",
       " 'n03124170': 'cowboy_hat',\n",
       " 'n04487081': 'trolleybus',\n",
       " 'n03916031': 'perfume',\n",
       " 'n02808440': 'bathtub',\n",
       " 'n07697537': 'hotdog',\n",
       " 'n12985857': 'coral_fungus',\n",
       " 'n02917067': 'bullet_train',\n",
       " 'n03938244': 'pillow',\n",
       " 'n15075141': 'toilet_tissue',\n",
       " 'n02978881': 'cassette',\n",
       " 'n02966687': \"carpenter's_kit\",\n",
       " 'n03633091': 'ladle',\n",
       " 'n13040303': 'stinkhorn',\n",
       " 'n03690938': 'lotion',\n",
       " 'n03476991': 'hair_spray',\n",
       " 'n02669723': 'academic_gown',\n",
       " 'n03220513': 'dome',\n",
       " 'n03127925': 'crate',\n",
       " 'n04584207': 'wig',\n",
       " 'n07880968': 'burrito',\n",
       " 'n03937543': 'pill_bottle',\n",
       " 'n03000247': 'chain_mail',\n",
       " 'n04418357': 'theater_curtain',\n",
       " 'n04590129': 'window_shade',\n",
       " 'n02795169': 'barrel',\n",
       " 'n04553703': 'washbasin',\n",
       " 'n02783161': 'ballpoint',\n",
       " 'n02802426': 'basketball',\n",
       " 'n02808304': 'bath_towel',\n",
       " 'n03124043': 'cowboy_boot',\n",
       " 'n03450230': 'gown',\n",
       " 'n04589890': 'window_screen',\n",
       " 'n12998815': 'agaric',\n",
       " 'n02992529': 'cellular_telephone',\n",
       " 'n03825788': 'nipple',\n",
       " 'n02790996': 'barbell',\n",
       " 'n03710193': 'mailbox',\n",
       " 'n03630383': 'lab_coat',\n",
       " 'n03347037': 'fire_screen',\n",
       " 'n03769881': 'minibus',\n",
       " 'n03871628': 'packet',\n",
       " 'n03733281': 'maze',\n",
       " 'n03976657': 'pole',\n",
       " 'n03535780': 'horizontal_bar',\n",
       " 'n04259630': 'sombrero',\n",
       " 'n03929855': 'pickelhaube',\n",
       " 'n04049303': 'rain_barrel',\n",
       " 'n04548362': 'wallet',\n",
       " 'n02979186': 'cassette_player',\n",
       " 'n06596364': 'comic_book',\n",
       " 'n03935335': 'piggy_bank',\n",
       " 'n06794110': 'street_sign',\n",
       " 'n02825657': 'bell_cote',\n",
       " 'n03388183': 'fountain_pen',\n",
       " 'n04591157': 'Windsor_tie',\n",
       " 'n04540053': 'volleyball',\n",
       " 'n03866082': 'overskirt',\n",
       " 'n04136333': 'sarong',\n",
       " 'n04026417': 'purse',\n",
       " 'n02865351': 'bolo_tie',\n",
       " 'n02834397': 'bib',\n",
       " 'n03888257': 'parachute',\n",
       " 'n04235860': 'sleeping_bag',\n",
       " 'n04404412': 'television',\n",
       " 'n04371430': 'swimming_trunks',\n",
       " 'n03733805': 'measuring_cup',\n",
       " 'n07920052': 'espresso',\n",
       " 'n07873807': 'pizza',\n",
       " 'n02895154': 'breastplate',\n",
       " 'n04204238': 'shopping_basket',\n",
       " 'n04597913': 'wooden_spoon',\n",
       " 'n04131690': 'saltshaker',\n",
       " 'n07836838': 'chocolate_sauce',\n",
       " 'n09835506': 'ballplayer',\n",
       " 'n03443371': 'goblet',\n",
       " 'n13037406': 'gyromitra',\n",
       " 'n04336792': 'stretcher',\n",
       " 'n04557648': 'water_bottle',\n",
       " 'n03187595': 'dial_telephone',\n",
       " 'n04254120': 'soap_dispenser',\n",
       " 'n03595614': 'jersey',\n",
       " 'n04146614': 'school_bus',\n",
       " 'n03598930': 'jigsaw_puzzle',\n",
       " 'n03958227': 'plastic_bag',\n",
       " 'n04069434': 'reflex_camera',\n",
       " 'n03188531': 'diaper',\n",
       " 'n02786058': 'Band_Aid',\n",
       " 'n07615774': 'ice_lolly',\n",
       " 'n04525038': 'velvet',\n",
       " 'n04409515': 'tennis_ball',\n",
       " 'n03424325': 'gasmask',\n",
       " 'n03223299': 'doormat',\n",
       " 'n03680355': 'Loafer',\n",
       " 'n07614500': 'ice_cream',\n",
       " 'n07695742': 'pretzel',\n",
       " 'n04033995': 'quilt',\n",
       " 'n03710721': 'maillot',\n",
       " 'n04392985': 'tape_player',\n",
       " 'n03047690': 'clog',\n",
       " 'n03584254': 'iPod',\n",
       " 'n13054560': 'bolete',\n",
       " 'n10565667': 'scuba_diver',\n",
       " 'n03950228': 'pitcher',\n",
       " 'n03729826': 'matchstick',\n",
       " 'n02837789': 'bikini',\n",
       " 'n04254777': 'sock',\n",
       " 'n02988304': 'CD_player',\n",
       " 'n03657121': 'lens_cap',\n",
       " 'n04417672': 'thatch',\n",
       " 'n04523525': 'vault',\n",
       " 'n02815834': 'beaker',\n",
       " 'n09229709': 'bubble',\n",
       " 'n07697313': 'cheeseburger',\n",
       " 'n03888605': 'parallel_bars',\n",
       " 'n03355925': 'flagpole',\n",
       " 'n03063599': 'coffee_mug',\n",
       " 'n04116512': 'rubber_eraser',\n",
       " 'n04325704': 'stole',\n",
       " 'n07831146': 'carbonara',\n",
       " 'n03255030': 'dumbbell'}"
      ]
     },
     "execution_count": 4,
     "metadata": {},
     "output_type": "execute_result"
    }
   ],
   "source": [
    "img_label_dict"
   ]
  },
  {
   "cell_type": "code",
   "execution_count": null,
   "id": "sudden-working",
   "metadata": {},
   "outputs": [],
   "source": []
  },
  {
   "cell_type": "code",
   "execution_count": 32,
   "id": "secondary-parts",
   "metadata": {},
   "outputs": [],
   "source": [
    "img_label_word_list = [w.split('_')[-1] for w in img_label_dict.values()]\n",
    "\n"
   ]
  },
  {
   "cell_type": "code",
   "execution_count": 36,
   "id": "particular-filling",
   "metadata": {},
   "outputs": [
    {
     "data": {
      "text/plain": [
       "1000"
      ]
     },
     "execution_count": 36,
     "metadata": {},
     "output_type": "execute_result"
    }
   ],
   "source": [
    "len(img_label_word_list)"
   ]
  },
  {
   "cell_type": "code",
   "execution_count": 33,
   "id": "natural-sacramento",
   "metadata": {},
   "outputs": [],
   "source": [
    "import pickle\n",
    "with open(\"data/\" + \"img_label_word_list\", 'wb') as to_write:\n",
    "    pickle.dump(img_label_word_list, to_write)"
   ]
  },
  {
   "cell_type": "code",
   "execution_count": null,
   "id": "polar-reform",
   "metadata": {},
   "outputs": [],
   "source": []
  },
  {
   "cell_type": "code",
   "execution_count": 37,
   "id": "third-constitutional",
   "metadata": {},
   "outputs": [
    {
     "data": {
      "text/plain": [
       "1000"
      ]
     },
     "execution_count": 37,
     "metadata": {},
     "output_type": "execute_result"
    }
   ],
   "source": [
    "len(img_label_word_list)"
   ]
  },
  {
   "cell_type": "code",
   "execution_count": 38,
   "id": "moved-bangladesh",
   "metadata": {},
   "outputs": [],
   "source": [
    "img_label_word_set = set(img_label_word_list)\n",
    "\n",
    "import pickle\n",
    "with open(\"data/\" + \"img_label_word_set.pickle\", 'wb') as to_write:\n",
    "    pickle.dump(img_label_word_set, to_write)"
   ]
  },
  {
   "cell_type": "code",
   "execution_count": 39,
   "id": "senior-petersburg",
   "metadata": {},
   "outputs": [
    {
     "data": {
      "text/plain": [
       "831"
      ]
     },
     "execution_count": 39,
     "metadata": {},
     "output_type": "execute_result"
    }
   ],
   "source": [
    "len(img_label_word_set) "
   ]
  },
  {
   "cell_type": "code",
   "execution_count": 41,
   "id": "professional-nomination",
   "metadata": {},
   "outputs": [],
   "source": [
    "import numpy as np\n",
    "\n",
    "rng = np.random.default_rng(seed=42)\n",
    "xarr = rng.random((3, 3))\n",
    "\n",
    "\n",
    "\n",
    "import numpy as np\n",
    "rng = np.random.default_rng(seed=42)\n",
    "xarr = rng.random((3, 3))\n"
   ]
  },
  {
   "cell_type": "code",
   "execution_count": 42,
   "id": "wireless-proposal",
   "metadata": {},
   "outputs": [],
   "source": [
    "R1 = np.corrcoef(xarr)"
   ]
  },
  {
   "cell_type": "code",
   "execution_count": 43,
   "id": "potential-ukraine",
   "metadata": {},
   "outputs": [
    {
     "data": {
      "text/plain": [
       "array([[ 1.        ,  0.99256089, -0.68080986],\n",
       "       [ 0.99256089,  1.        , -0.76492172],\n",
       "       [-0.68080986, -0.76492172,  1.        ]])"
      ]
     },
     "execution_count": 43,
     "metadata": {},
     "output_type": "execute_result"
    }
   ],
   "source": [
    "R1"
   ]
  },
  {
   "cell_type": "code",
   "execution_count": 45,
   "id": "stupid-prompt",
   "metadata": {},
   "outputs": [
    {
     "data": {
      "text/plain": [
       "array([[0.45038594, 0.37079802, 0.92676499],\n",
       "       [0.64386512, 0.82276161, 0.4434142 ],\n",
       "       [0.22723872, 0.55458479, 0.06381726]])"
      ]
     },
     "execution_count": 45,
     "metadata": {},
     "output_type": "execute_result"
    }
   ],
   "source": [
    "yarr = rng.random((3, 3))\n",
    "yarr"
   ]
  },
  {
   "cell_type": "code",
   "execution_count": 46,
   "id": "selected-cooperation",
   "metadata": {},
   "outputs": [
    {
     "data": {
      "text/plain": [
       "True"
      ]
     },
     "execution_count": 46,
     "metadata": {},
     "output_type": "execute_result"
    }
   ],
   "source": [
    "'we' in 'weary'"
   ]
  },
  {
   "cell_type": "code",
   "execution_count": null,
   "id": "parental-delhi",
   "metadata": {},
   "outputs": [],
   "source": []
  }
 ],
 "metadata": {
  "kernelspec": {
   "display_name": "Python [conda env:metis] *",
   "language": "python",
   "name": "conda-env-metis-py"
  },
  "language_info": {
   "codemirror_mode": {
    "name": "ipython",
    "version": 3
   },
   "file_extension": ".py",
   "mimetype": "text/x-python",
   "name": "python",
   "nbconvert_exporter": "python",
   "pygments_lexer": "ipython3",
   "version": "3.8.6"
  }
 },
 "nbformat": 4,
 "nbformat_minor": 5
}
