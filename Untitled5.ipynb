{
 "cells": [
  {
   "cell_type": "code",
   "execution_count": 1,
   "id": "thick-launch",
   "metadata": {},
   "outputs": [],
   "source": [
    "s_dict_1 = {'bear': 1, 'lion': 2, 'octopus':3, 'orangatang': 2}\n",
    "s_dict_2 = {'elephant': 3, 'sheep': 2, 'anaconda':4, 'scorpion': 3}"
   ]
  },
  {
   "cell_type": "code",
   "execution_count": 3,
   "id": "oriental-phase",
   "metadata": {},
   "outputs": [],
   "source": [
    "dict_of_dicts ={1: s_dict_1, 2: s_dict_2}"
   ]
  },
  {
   "cell_type": "code",
   "execution_count": 10,
   "id": "popular-comfort",
   "metadata": {},
   "outputs": [
    {
     "name": "stdout",
     "output_type": "stream",
     "text": [
      "{'bear': 1, 'lion': 2, 'octopus': 3, 'orangatang': 2}\n",
      "{'elephant': 3, 'sheep': 2, 'anaconda': 4, 'scorpion': 3}\n"
     ]
    }
   ],
   "source": [
    "for the_dict in dict_of_dicts:\n",
    "    print(dict_of_dicts[the_dict])"
   ]
  },
  {
   "cell_type": "code",
   "execution_count": 11,
   "id": "turkish-traveler",
   "metadata": {},
   "outputs": [],
   "source": [
    "augmented_words_set = {'brotherly', 'squiggle'}"
   ]
  },
  {
   "cell_type": "code",
   "execution_count": 12,
   "id": "increased-beijing",
   "metadata": {},
   "outputs": [],
   "source": [
    "import eng_to_ipa as ipa"
   ]
  },
  {
   "cell_type": "code",
   "execution_count": 14,
   "id": "horizontal-prospect",
   "metadata": {},
   "outputs": [
    {
     "ename": "TypeError",
     "evalue": "unhashable type: 'list'",
     "output_type": "error",
     "traceback": [
      "\u001b[0;31m---------------------------------------------------------------------------\u001b[0m",
      "\u001b[0;31mTypeError\u001b[0m                                 Traceback (most recent call last)",
      "\u001b[0;32m<ipython-input-14-861e0c45849b>\u001b[0m in \u001b[0;36m<module>\u001b[0;34m\u001b[0m\n\u001b[0;32m----> 1\u001b[0;31m \u001b[0;34m{\u001b[0m\u001b[0mipa\u001b[0m\u001b[0;34m.\u001b[0m\u001b[0mget_rhymes\u001b[0m\u001b[0;34m(\u001b[0m \u001b[0mword\u001b[0m \u001b[0;34m)\u001b[0m \u001b[0;32mfor\u001b[0m \u001b[0mword\u001b[0m \u001b[0;32min\u001b[0m \u001b[0maugmented_words_set\u001b[0m\u001b[0;34m}\u001b[0m\u001b[0;34m\u001b[0m\u001b[0;34m\u001b[0m\u001b[0m\n\u001b[0m",
      "\u001b[0;32m<ipython-input-14-861e0c45849b>\u001b[0m in \u001b[0;36m<setcomp>\u001b[0;34m(.0)\u001b[0m\n\u001b[0;32m----> 1\u001b[0;31m \u001b[0;34m{\u001b[0m\u001b[0mipa\u001b[0m\u001b[0;34m.\u001b[0m\u001b[0mget_rhymes\u001b[0m\u001b[0;34m(\u001b[0m \u001b[0mword\u001b[0m \u001b[0;34m)\u001b[0m \u001b[0;32mfor\u001b[0m \u001b[0mword\u001b[0m \u001b[0;32min\u001b[0m \u001b[0maugmented_words_set\u001b[0m\u001b[0;34m}\u001b[0m\u001b[0;34m\u001b[0m\u001b[0;34m\u001b[0m\u001b[0m\n\u001b[0m",
      "\u001b[0;31mTypeError\u001b[0m: unhashable type: 'list'"
     ]
    }
   ],
   "source": [
    "\n",
    "{ipa.get_rhymes( word ) for word in augmented_words_set}"
   ]
  },
  {
   "cell_type": "code",
   "execution_count": null,
   "id": "professional-theology",
   "metadata": {},
   "outputs": [],
   "source": []
  },
  {
   "cell_type": "code",
   "execution_count": 34,
   "id": "aerial-banks",
   "metadata": {},
   "outputs": [
    {
     "data": {
      "text/plain": [
       "3832"
      ]
     },
     "execution_count": 34,
     "metadata": {},
     "output_type": "execute_result"
    }
   ],
   "source": [
    "imagenet_labels_filename = 'imagenet1000_clsidx_to_labels.txt'\n",
    "\n",
    "list_of_duples = []\n",
    "with open('data/' + imagenet_labels_filename) as myfile:\n",
    "    for line in myfile:\n",
    "        num, text = line.partition(':')[::2]\n",
    "        list_of_duples.append(text.replace(',', '').replace('\\\"', '').replace('\\\"', ''))\n",
    "list_of_duples\n",
    "text_lines = [text.replace(\"\\''\", \"\" ).replace(\"\\n\", \"\").replace(\"\\\"\", \"\").rstrip() for text in list_of_duples]\n",
    "text_lines\n",
    "label_word_list = []\n",
    "for line in text_lines:\n",
    "    split_text = line.split(' ')\n",
    "    for word in split_text:\n",
    "        #print(word)\n",
    "        label_word_list.append(word)\n",
    "len(label_word_list)    "
   ]
  },
  {
   "cell_type": "code",
   "execution_count": 35,
   "id": "played-profit",
   "metadata": {},
   "outputs": [],
   "source": [
    "cleaned_label_word_list = [word.lower() for word in label_word_list if word.isalpha()]"
   ]
  },
  {
   "cell_type": "code",
   "execution_count": 36,
   "id": "figured-parks",
   "metadata": {},
   "outputs": [
    {
     "data": {
      "text/plain": [
       "1130"
      ]
     },
     "execution_count": 36,
     "metadata": {},
     "output_type": "execute_result"
    }
   ],
   "source": [
    "len(cleaned_label_word_list)"
   ]
  },
  {
   "cell_type": "code",
   "execution_count": 37,
   "id": "urban-chrome",
   "metadata": {},
   "outputs": [
    {
     "data": {
      "text/plain": [
       "['tinca',\n",
       " 'carassius',\n",
       " 'white',\n",
       " 'shark',\n",
       " 'white',\n",
       " 'shark',\n",
       " 'shark',\n",
       " 'carcharodon',\n",
       " 'shark',\n",
       " 'galeocerdo']"
      ]
     },
     "execution_count": 37,
     "metadata": {},
     "output_type": "execute_result"
    }
   ],
   "source": [
    "cleaned_label_word_list[:10]"
   ]
  },
  {
   "cell_type": "code",
   "execution_count": 38,
   "id": "sticky-packet",
   "metadata": {},
   "outputs": [],
   "source": [
    "cleaned_label_word_set = set(cleaned_label_word_list )"
   ]
  },
  {
   "cell_type": "code",
   "execution_count": 39,
   "id": "bacterial-sleeve",
   "metadata": {},
   "outputs": [],
   "source": [
    "from nltk.corpus import words\n",
    "import eng_to_ipa as ipa\n",
    "\n",
    "words_set = set( words.words())"
   ]
  },
  {
   "cell_type": "code",
   "execution_count": 40,
   "id": "sorted-staff",
   "metadata": {},
   "outputs": [],
   "source": [
    "augmented_words_set = words_set.union(cleaned_label_word_list)"
   ]
  },
  {
   "cell_type": "code",
   "execution_count": null,
   "id": "passing-prophet",
   "metadata": {},
   "outputs": [],
   "source": []
  },
  {
   "cell_type": "code",
   "execution_count": null,
   "id": "surprised-software",
   "metadata": {},
   "outputs": [],
   "source": []
  },
  {
   "cell_type": "code",
   "execution_count": null,
   "id": "popular-teddy",
   "metadata": {},
   "outputs": [],
   "source": [
    "\n"
   ]
  },
  {
   "cell_type": "code",
   "execution_count": 41,
   "id": "charged-digit",
   "metadata": {},
   "outputs": [],
   "source": [
    "rhymes_of_augmented_words_set={word for rhymes in [ipa.get_rhymes( word ) for word in augmented_words_set] for word in rhymes}"
   ]
  },
  {
   "cell_type": "code",
   "execution_count": null,
   "id": "exciting-combining",
   "metadata": {},
   "outputs": [],
   "source": [
    "rhymes_dict = []\n",
    "for word in augmented_words_set:\n",
    "    rhymes_dict[word] = ipa.get_rhymes( word )\n",
    "\n",
    "# rhymes_of_augmented_words_set={word for rhymes in [ipa.get_rhymes( word ) for word in augmented_words_set] for word in rhymes}   \n",
    "    \n",
    "#     for rhyme in rhymes:\n",
    "#         rhymes_of_augmented_words_set.add(rhyme)"
   ]
  },
  {
   "cell_type": "code",
   "execution_count": 25,
   "id": "weekly-deadline",
   "metadata": {},
   "outputs": [
    {
     "data": {
      "text/plain": [
       "15"
      ]
     },
     "execution_count": 25,
     "metadata": {},
     "output_type": "execute_result"
    }
   ],
   "source": [
    "len(rhymes_of_augmented_words_set)"
   ]
  },
  {
   "cell_type": "code",
   "execution_count": 27,
   "id": "voluntary-dakota",
   "metadata": {},
   "outputs": [],
   "source": [
    "import pickle"
   ]
  },
  {
   "cell_type": "code",
   "execution_count": 28,
   "id": "dietary-operations",
   "metadata": {},
   "outputs": [],
   "source": [
    "with open(\"data/\" + \"rhymes_dict.pickle\", 'wb') as to_write:\n",
    "    pickle.dump(rhymes_dict, to_write)\n",
    "\n",
    "with open(\"data/\" + \"rhymes_of_augmented_words_set_.pickle\", 'wb') as to_write:\n",
    "    pickle.dump(rhymes_of_augmented_words_set, to_write)"
   ]
  },
  {
   "cell_type": "code",
   "execution_count": null,
   "id": "ideal-weather",
   "metadata": {},
   "outputs": [],
   "source": []
  },
  {
   "cell_type": "code",
   "execution_count": 30,
   "id": "successful-concrete",
   "metadata": {},
   "outputs": [],
   "source": [
    "all_words_set = words_set.union(rhymes_of_augmented_words_set)"
   ]
  },
  {
   "cell_type": "code",
   "execution_count": 31,
   "id": "indonesian-browse",
   "metadata": {},
   "outputs": [
    {
     "data": {
      "text/plain": [
       "235901"
      ]
     },
     "execution_count": 31,
     "metadata": {},
     "output_type": "execute_result"
    }
   ],
   "source": [
    "len(all_words_set)"
   ]
  },
  {
   "cell_type": "code",
   "execution_count": 45,
   "id": "informational-aircraft",
   "metadata": {},
   "outputs": [
    {
     "data": {
      "text/plain": [
       "[]"
      ]
     },
     "execution_count": 45,
     "metadata": {},
     "output_type": "execute_result"
    }
   ],
   "source": [
    "ipa.get_rhymes('platypus')"
   ]
  },
  {
   "cell_type": "code",
   "execution_count": 55,
   "id": "likely-mixer",
   "metadata": {},
   "outputs": [],
   "source": [
    "import pronouncing as pron"
   ]
  },
  {
   "cell_type": "code",
   "execution_count": 70,
   "id": "becoming-wiring",
   "metadata": {},
   "outputs": [
    {
     "data": {
      "text/plain": [
       "140"
      ]
     },
     "execution_count": 70,
     "metadata": {},
     "output_type": "execute_result"
    }
   ],
   "source": [
    "len(pron.rhymes('nevermore'))"
   ]
  },
  {
   "cell_type": "code",
   "execution_count": 71,
   "id": "varying-crash",
   "metadata": {},
   "outputs": [
    {
     "data": {
      "text/plain": [
       "1"
      ]
     },
     "execution_count": 71,
     "metadata": {},
     "output_type": "execute_result"
    }
   ],
   "source": [
    "len(ipa.get_rhymes('nevermore'))"
   ]
  },
  {
   "cell_type": "code",
   "execution_count": 63,
   "id": "owned-roller",
   "metadata": {},
   "outputs": [
    {
     "ename": "IndexError",
     "evalue": "list index out of range",
     "output_type": "error",
     "traceback": [
      "\u001b[0;31m---------------------------------------------------------------------------\u001b[0m",
      "\u001b[0;31mIndexError\u001b[0m                                Traceback (most recent call last)",
      "\u001b[0;32m<ipython-input-63-7cab196f9c5e>\u001b[0m in \u001b[0;36m<module>\u001b[0;34m\u001b[0m\n\u001b[0;32m----> 1\u001b[0;31m \u001b[0msyllable_count_dict\u001b[0m \u001b[0;34m=\u001b[0m \u001b[0;34m{\u001b[0m\u001b[0mword\u001b[0m\u001b[0;34m:\u001b[0m \u001b[0mpron\u001b[0m\u001b[0;34m.\u001b[0m\u001b[0msyllable_count\u001b[0m\u001b[0;34m(\u001b[0m\u001b[0mpron\u001b[0m\u001b[0;34m.\u001b[0m\u001b[0mphones_for_word\u001b[0m\u001b[0;34m(\u001b[0m\u001b[0mword\u001b[0m\u001b[0;34m)\u001b[0m\u001b[0;34m[\u001b[0m\u001b[0;36m0\u001b[0m\u001b[0;34m]\u001b[0m\u001b[0;34m)\u001b[0m \u001b[0;32mfor\u001b[0m \u001b[0mword\u001b[0m \u001b[0;32min\u001b[0m \u001b[0mall_words_set\u001b[0m\u001b[0;34m}\u001b[0m\u001b[0;34m\u001b[0m\u001b[0;34m\u001b[0m\u001b[0m\n\u001b[0m",
      "\u001b[0;32m<ipython-input-63-7cab196f9c5e>\u001b[0m in \u001b[0;36m<dictcomp>\u001b[0;34m(.0)\u001b[0m\n\u001b[0;32m----> 1\u001b[0;31m \u001b[0msyllable_count_dict\u001b[0m \u001b[0;34m=\u001b[0m \u001b[0;34m{\u001b[0m\u001b[0mword\u001b[0m\u001b[0;34m:\u001b[0m \u001b[0mpron\u001b[0m\u001b[0;34m.\u001b[0m\u001b[0msyllable_count\u001b[0m\u001b[0;34m(\u001b[0m\u001b[0mpron\u001b[0m\u001b[0;34m.\u001b[0m\u001b[0mphones_for_word\u001b[0m\u001b[0;34m(\u001b[0m\u001b[0mword\u001b[0m\u001b[0;34m)\u001b[0m\u001b[0;34m[\u001b[0m\u001b[0;36m0\u001b[0m\u001b[0;34m]\u001b[0m\u001b[0;34m)\u001b[0m \u001b[0;32mfor\u001b[0m \u001b[0mword\u001b[0m \u001b[0;32min\u001b[0m \u001b[0mall_words_set\u001b[0m\u001b[0;34m}\u001b[0m\u001b[0;34m\u001b[0m\u001b[0;34m\u001b[0m\u001b[0m\n\u001b[0m",
      "\u001b[0;31mIndexError\u001b[0m: list index out of range"
     ]
    }
   ],
   "source": [
    "syllable_count_dict = {word: ipa.syllable_count(word) for word in all_words_set}"
   ]
  },
  {
   "cell_type": "code",
   "execution_count": 59,
   "id": "white-measurement",
   "metadata": {},
   "outputs": [
    {
     "data": {
      "text/plain": [
       "['T UW1']"
      ]
     },
     "execution_count": 59,
     "metadata": {},
     "output_type": "execute_result"
    }
   ],
   "source": [
    "pron.phones_for_word('two')"
   ]
  },
  {
   "cell_type": "code",
   "execution_count": 61,
   "id": "laden-organizer",
   "metadata": {},
   "outputs": [
    {
     "data": {
      "text/plain": [
       "3"
      ]
     },
     "execution_count": 61,
     "metadata": {},
     "output_type": "execute_result"
    }
   ],
   "source": [
    "pron.syllable_count(pron.phones_for_word('nobody')[0])"
   ]
  },
  {
   "cell_type": "code",
   "execution_count": 92,
   "id": "polished-lemon",
   "metadata": {},
   "outputs": [
    {
     "data": {
      "text/plain": [
       "9"
      ]
     },
     "execution_count": 92,
     "metadata": {},
     "output_type": "execute_result"
    }
   ],
   "source": [
    "import Levenshtein as lev\n",
    "lev.distance(pron.phones_for_word(\"forrest\")[0], pron.phones_for_word(\"fire\")[0])"
   ]
  },
  {
   "cell_type": "code",
   "execution_count": 83,
   "id": "excellent-fleet",
   "metadata": {},
   "outputs": [
    {
     "data": {
      "text/plain": [
       "'M EY1 B IY0'"
      ]
     },
     "execution_count": 83,
     "metadata": {},
     "output_type": "execute_result"
    }
   ],
   "source": [
    "pron.phones_for_word(\"maybe\")[0]"
   ]
  },
  {
   "cell_type": "code",
   "execution_count": 82,
   "id": "sapphire-quality",
   "metadata": {},
   "outputs": [
    {
     "data": {
      "text/plain": [
       "'EH0 S EY1'"
      ]
     },
     "execution_count": 82,
     "metadata": {},
     "output_type": "execute_result"
    }
   ],
   "source": [
    "pron.phones_for_word(\"essay\")[0]"
   ]
  },
  {
   "cell_type": "code",
   "execution_count": null,
   "id": "familiar-dublin",
   "metadata": {},
   "outputs": [],
   "source": []
  }
 ],
 "metadata": {
  "kernelspec": {
   "display_name": "Python [conda env:metis] *",
   "language": "python",
   "name": "conda-env-metis-py"
  },
  "language_info": {
   "codemirror_mode": {
    "name": "ipython",
    "version": 3
   },
   "file_extension": ".py",
   "mimetype": "text/x-python",
   "name": "python",
   "nbconvert_exporter": "python",
   "pygments_lexer": "ipython3",
   "version": "3.8.6"
  }
 },
 "nbformat": 4,
 "nbformat_minor": 5
}
