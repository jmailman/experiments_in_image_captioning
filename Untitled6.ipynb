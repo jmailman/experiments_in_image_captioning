{
 "cells": [
  {
   "cell_type": "code",
   "execution_count": 1,
   "id": "forced-attraction",
   "metadata": {},
   "outputs": [
    {
     "name": "stdout",
     "output_type": "stream",
     "text": [
      "[32, 2, 12, 14, 15, 16, 48, 47, 20, 52, 54, 23, 26]\n"
     ]
    }
   ],
   "source": [
    "def Union(lst1, lst2): \n",
    "    final_list = list(set(lst1) | set(lst2)) \n",
    "    return final_list \n",
    "  \n",
    "# Driver Code \n",
    "lst1 = [23, 15, 2, 14, 14, 16, 20 ,52] \n",
    "lst2 = [2, 48, 15, 12, 26, 32, 47, 54] \n",
    "\n",
    "\n",
    "\n",
    "print(Union(lst1, lst2)) "
   ]
  },
  {
   "cell_type": "code",
   "execution_count": 3,
   "id": "accurate-object",
   "metadata": {},
   "outputs": [
    {
     "data": {
      "text/plain": [
       "[32, 2, 12, 14, 15, 16, 48, 47, 20, 52, 54, 23, 26]"
      ]
     },
     "execution_count": 3,
     "metadata": {},
     "output_type": "execute_result"
    }
   ],
   "source": [
    "list(  set(lst1) | set(lst2)   )"
   ]
  },
  {
   "cell_type": "code",
   "execution_count": null,
   "id": "intensive-landing",
   "metadata": {},
   "outputs": [],
   "source": []
  }
 ],
 "metadata": {
  "kernelspec": {
   "display_name": "Python [conda env:metis] *",
   "language": "python",
   "name": "conda-env-metis-py"
  },
  "language_info": {
   "codemirror_mode": {
    "name": "ipython",
    "version": 3
   },
   "file_extension": ".py",
   "mimetype": "text/x-python",
   "name": "python",
   "nbconvert_exporter": "python",
   "pygments_lexer": "ipython3",
   "version": "3.8.6"
  }
 },
 "nbformat": 4,
 "nbformat_minor": 5
}
