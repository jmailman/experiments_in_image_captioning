{
 "cells": [
  {
   "cell_type": "code",
   "execution_count": 418,
   "id": "ordered-basis",
   "metadata": {},
   "outputs": [],
   "source": [
    "phrases = ['He said she said', 'All is well that ends well', \"All for one and one for all\"]\n",
    "phrases_word_list = [phrase.split() for phrase in phrases]\n",
    "words = ['a', 'be', 'cat', 'doll', 'eight', 'farmer', 'gorilla', 'heavenly']"
   ]
  },
  {
   "cell_type": "code",
   "execution_count": 419,
   "id": "statewide-insurance",
   "metadata": {},
   "outputs": [],
   "source": [
    "def phrases_with_word( w, phrase_list = phrases ):\n",
    "    return [p for p in phrase_list if w.lower() in p.lower()]"
   ]
  },
  {
   "cell_type": "code",
   "execution_count": 420,
   "id": "turned-vampire",
   "metadata": {},
   "outputs": [
    {
     "data": {
      "text/plain": [
       "['He said she said']"
      ]
     },
     "execution_count": 420,
     "metadata": {},
     "output_type": "execute_result"
    }
   ],
   "source": [
    "phrases_with_word('He')"
   ]
  },
  {
   "cell_type": "code",
   "execution_count": 421,
   "id": "electronic-accent",
   "metadata": {},
   "outputs": [
    {
     "data": {
      "text/plain": [
       "['All is well that ends well', 'All for one and one for all']"
      ]
     },
     "execution_count": 421,
     "metadata": {},
     "output_type": "execute_result"
    }
   ],
   "source": [
    "phrases_with_word('all')"
   ]
  },
  {
   "cell_type": "code",
   "execution_count": 422,
   "id": "possible-joshua",
   "metadata": {},
   "outputs": [],
   "source": [
    "def distance(w1, w2):\n",
    "    #print( w1, w2, abs(len(w1) - len(w2)))\n",
    "    return abs(len(w1) - len(w2))"
   ]
  },
  {
   "cell_type": "code",
   "execution_count": 423,
   "id": "significant-illinois",
   "metadata": {},
   "outputs": [],
   "source": [
    "import pandas as pd\n",
    "def words_similar_to(w, word_list = words):\n",
    "    dist_list = []\n",
    "    for word in word_list:\n",
    "        if w != word:\n",
    "            word_and_dist = {'word':word, 'distance': distance(w, word)}\n",
    "            dist_list.append(word_and_dist)\n",
    "    df = pd.DataFrame(dist_list, columns = ['word', 'distance'])\n",
    "    df.sort_values(by='distance', inplace=True)\n",
    "    return df\n",
    "#    return df['word'].tolist()\n"
   ]
  },
  {
   "cell_type": "code",
   "execution_count": 424,
   "id": "durable-quantum",
   "metadata": {},
   "outputs": [
    {
     "data": {
      "text/html": [
       "<div>\n",
       "<style scoped>\n",
       "    .dataframe tbody tr th:only-of-type {\n",
       "        vertical-align: middle;\n",
       "    }\n",
       "\n",
       "    .dataframe tbody tr th {\n",
       "        vertical-align: top;\n",
       "    }\n",
       "\n",
       "    .dataframe thead th {\n",
       "        text-align: right;\n",
       "    }\n",
       "</style>\n",
       "<table border=\"1\" class=\"dataframe\">\n",
       "  <thead>\n",
       "    <tr style=\"text-align: right;\">\n",
       "      <th></th>\n",
       "      <th>word</th>\n",
       "      <th>distance</th>\n",
       "    </tr>\n",
       "  </thead>\n",
       "  <tbody>\n",
       "    <tr>\n",
       "      <th>6</th>\n",
       "      <td>gorilla</td>\n",
       "      <td>1</td>\n",
       "    </tr>\n",
       "    <tr>\n",
       "      <th>5</th>\n",
       "      <td>farmer</td>\n",
       "      <td>2</td>\n",
       "    </tr>\n",
       "    <tr>\n",
       "      <th>4</th>\n",
       "      <td>eight</td>\n",
       "      <td>3</td>\n",
       "    </tr>\n",
       "    <tr>\n",
       "      <th>3</th>\n",
       "      <td>doll</td>\n",
       "      <td>4</td>\n",
       "    </tr>\n",
       "    <tr>\n",
       "      <th>2</th>\n",
       "      <td>cat</td>\n",
       "      <td>5</td>\n",
       "    </tr>\n",
       "    <tr>\n",
       "      <th>1</th>\n",
       "      <td>be</td>\n",
       "      <td>6</td>\n",
       "    </tr>\n",
       "    <tr>\n",
       "      <th>0</th>\n",
       "      <td>a</td>\n",
       "      <td>7</td>\n",
       "    </tr>\n",
       "  </tbody>\n",
       "</table>\n",
       "</div>"
      ],
      "text/plain": [
       "      word  distance\n",
       "6  gorilla         1\n",
       "5   farmer         2\n",
       "4    eight         3\n",
       "3     doll         4\n",
       "2      cat         5\n",
       "1       be         6\n",
       "0        a         7"
      ]
     },
     "execution_count": 424,
     "metadata": {},
     "output_type": "execute_result"
    }
   ],
   "source": [
    "sim_words = words_similar_to('heavenly')\n",
    "sim_words"
   ]
  },
  {
   "cell_type": "markdown",
   "id": "owned-retention",
   "metadata": {},
   "source": [
    "#### Write function that takes the word and phrase and generates a list of modified phrases with similar words substituted "
   ]
  },
  {
   "cell_type": "code",
   "execution_count": 467,
   "id": "amended-reducing",
   "metadata": {},
   "outputs": [],
   "source": [
    "def modified_phrases( w, p_word_list = phrases_word_list, threshold = 2 ):\n",
    "    df_ = words_similar_to( w )\n",
    "#    print(df_)\n",
    "#    w_sim_words_df = df_.loc[df_['distance'] >= threshold], :]\n",
    "    w_sim_word_list = df_.loc[df_['distance'] <= threshold, 'word'].tolist()    \n",
    "    mod_phrases = []\n",
    "    for phrase in p_word_list:\n",
    "        for word in phrase:\n",
    "\n",
    "            for sim_word in w_sim_word_list:\n",
    "                #print('WORD: ', word, sim_word)\n",
    "                #if word == sim_word:\n",
    "                mod_phrase_word_list = [w  if w!=sim_word else sim_word for w in phrase]\n",
    "                print(mod_phrase_word_list, phrase)\n",
    "                \n",
    "                mod_phrase = ' '.join(mod_phrase_word_list)     \n",
    "                    #mod_phrases.append(phrase.replace(word, w), distance)\n",
    "                mod_phrases.append( mod_phrase )\n",
    "    return mod_phrases"
   ]
  },
  {
   "cell_type": "code",
   "execution_count": null,
   "id": "practical-carry",
   "metadata": {},
   "outputs": [],
   "source": [
    "    for s_word in s_word_dict.keys:\n",
    "            if s_word in p_word_list:\n",
    "                mod_p_word_list = [p_w if p_w !=s_word else s_word for p_w in p_word_list]\n",
    "                mod_p_word_str = ' '.join(mod_p_word_list)"
   ]
  },
  {
   "cell_type": "code",
   "execution_count": 470,
   "id": "proof-motorcycle",
   "metadata": {},
   "outputs": [
    {
     "name": "stdout",
     "output_type": "stream",
     "text": [
      "['He', 'said', 'she', 'said'] ['He', 'said', 'she', 'said']\n",
      "['He', 'said', 'she', 'said'] ['He', 'said', 'she', 'said']\n",
      "['He', 'said', 'she', 'said'] ['He', 'said', 'she', 'said']\n",
      "['He', 'said', 'she', 'said'] ['He', 'said', 'she', 'said']\n",
      "['He', 'said', 'she', 'said'] ['He', 'said', 'she', 'said']\n",
      "['He', 'said', 'she', 'said'] ['He', 'said', 'she', 'said']\n",
      "['He', 'said', 'she', 'said'] ['He', 'said', 'she', 'said']\n",
      "['He', 'said', 'she', 'said'] ['He', 'said', 'she', 'said']\n",
      "['All', 'is', 'well', 'that', 'ends', 'well'] ['All', 'is', 'well', 'that', 'ends', 'well']\n",
      "['All', 'is', 'well', 'that', 'ends', 'well'] ['All', 'is', 'well', 'that', 'ends', 'well']\n",
      "['All', 'is', 'well', 'that', 'ends', 'well'] ['All', 'is', 'well', 'that', 'ends', 'well']\n",
      "['All', 'is', 'well', 'that', 'ends', 'well'] ['All', 'is', 'well', 'that', 'ends', 'well']\n",
      "['All', 'is', 'well', 'that', 'ends', 'well'] ['All', 'is', 'well', 'that', 'ends', 'well']\n",
      "['All', 'is', 'well', 'that', 'ends', 'well'] ['All', 'is', 'well', 'that', 'ends', 'well']\n",
      "['All', 'is', 'well', 'that', 'ends', 'well'] ['All', 'is', 'well', 'that', 'ends', 'well']\n",
      "['All', 'is', 'well', 'that', 'ends', 'well'] ['All', 'is', 'well', 'that', 'ends', 'well']\n",
      "['All', 'is', 'well', 'that', 'ends', 'well'] ['All', 'is', 'well', 'that', 'ends', 'well']\n",
      "['All', 'is', 'well', 'that', 'ends', 'well'] ['All', 'is', 'well', 'that', 'ends', 'well']\n",
      "['All', 'is', 'well', 'that', 'ends', 'well'] ['All', 'is', 'well', 'that', 'ends', 'well']\n",
      "['All', 'is', 'well', 'that', 'ends', 'well'] ['All', 'is', 'well', 'that', 'ends', 'well']\n",
      "['All', 'for', 'one', 'and', 'one', 'for', 'all'] ['All', 'for', 'one', 'and', 'one', 'for', 'all']\n",
      "['All', 'for', 'one', 'and', 'one', 'for', 'all'] ['All', 'for', 'one', 'and', 'one', 'for', 'all']\n",
      "['All', 'for', 'one', 'and', 'one', 'for', 'all'] ['All', 'for', 'one', 'and', 'one', 'for', 'all']\n",
      "['All', 'for', 'one', 'and', 'one', 'for', 'all'] ['All', 'for', 'one', 'and', 'one', 'for', 'all']\n",
      "['All', 'for', 'one', 'and', 'one', 'for', 'all'] ['All', 'for', 'one', 'and', 'one', 'for', 'all']\n",
      "['All', 'for', 'one', 'and', 'one', 'for', 'all'] ['All', 'for', 'one', 'and', 'one', 'for', 'all']\n",
      "['All', 'for', 'one', 'and', 'one', 'for', 'all'] ['All', 'for', 'one', 'and', 'one', 'for', 'all']\n",
      "['All', 'for', 'one', 'and', 'one', 'for', 'all'] ['All', 'for', 'one', 'and', 'one', 'for', 'all']\n",
      "['All', 'for', 'one', 'and', 'one', 'for', 'all'] ['All', 'for', 'one', 'and', 'one', 'for', 'all']\n",
      "['All', 'for', 'one', 'and', 'one', 'for', 'all'] ['All', 'for', 'one', 'and', 'one', 'for', 'all']\n",
      "['All', 'for', 'one', 'and', 'one', 'for', 'all'] ['All', 'for', 'one', 'and', 'one', 'for', 'all']\n",
      "['All', 'for', 'one', 'and', 'one', 'for', 'all'] ['All', 'for', 'one', 'and', 'one', 'for', 'all']\n",
      "['All', 'for', 'one', 'and', 'one', 'for', 'all'] ['All', 'for', 'one', 'and', 'one', 'for', 'all']\n",
      "['All', 'for', 'one', 'and', 'one', 'for', 'all'] ['All', 'for', 'one', 'and', 'one', 'for', 'all']\n"
     ]
    },
    {
     "data": {
      "text/plain": [
       "['He said she said',\n",
       " 'He said she said',\n",
       " 'He said she said',\n",
       " 'He said she said',\n",
       " 'He said she said',\n",
       " 'He said she said',\n",
       " 'He said she said',\n",
       " 'He said she said',\n",
       " 'All is well that ends well',\n",
       " 'All is well that ends well',\n",
       " 'All is well that ends well',\n",
       " 'All is well that ends well',\n",
       " 'All is well that ends well',\n",
       " 'All is well that ends well',\n",
       " 'All is well that ends well',\n",
       " 'All is well that ends well',\n",
       " 'All is well that ends well',\n",
       " 'All is well that ends well',\n",
       " 'All is well that ends well',\n",
       " 'All is well that ends well',\n",
       " 'All for one and one for all',\n",
       " 'All for one and one for all',\n",
       " 'All for one and one for all',\n",
       " 'All for one and one for all',\n",
       " 'All for one and one for all',\n",
       " 'All for one and one for all',\n",
       " 'All for one and one for all',\n",
       " 'All for one and one for all',\n",
       " 'All for one and one for all',\n",
       " 'All for one and one for all',\n",
       " 'All for one and one for all',\n",
       " 'All for one and one for all',\n",
       " 'All for one and one for all',\n",
       " 'All for one and one for all']"
      ]
     },
     "execution_count": 470,
     "metadata": {},
     "output_type": "execute_result"
    }
   ],
   "source": [
    "\n",
    "modified_phrases('heavenly')"
   ]
  },
  {
   "cell_type": "markdown",
   "id": "literary-audit",
   "metadata": {},
   "source": [
    "#### Substitute `distance( w1, w2 )` with one based on phonetic similarity"
   ]
  },
  {
   "cell_type": "code",
   "execution_count": null,
   "id": "prospective-location",
   "metadata": {},
   "outputs": [],
   "source": []
  },
  {
   "cell_type": "code",
   "execution_count": null,
   "id": "local-going",
   "metadata": {},
   "outputs": [],
   "source": []
  },
  {
   "cell_type": "code",
   "execution_count": null,
   "id": "rotary-review",
   "metadata": {},
   "outputs": [],
   "source": []
  },
  {
   "cell_type": "code",
   "execution_count": null,
   "id": "fiscal-stuff",
   "metadata": {},
   "outputs": [],
   "source": []
  },
  {
   "cell_type": "code",
   "execution_count": null,
   "id": "likely-gardening",
   "metadata": {},
   "outputs": [],
   "source": []
  },
  {
   "cell_type": "code",
   "execution_count": null,
   "id": "boring-massage",
   "metadata": {},
   "outputs": [],
   "source": []
  },
  {
   "cell_type": "code",
   "execution_count": null,
   "id": "significant-dutch",
   "metadata": {},
   "outputs": [],
   "source": []
  },
  {
   "cell_type": "code",
   "execution_count": null,
   "id": "assisted-underwear",
   "metadata": {},
   "outputs": [],
   "source": []
  },
  {
   "cell_type": "code",
   "execution_count": null,
   "id": "leading-spotlight",
   "metadata": {},
   "outputs": [],
   "source": []
  },
  {
   "cell_type": "code",
   "execution_count": null,
   "id": "urban-record",
   "metadata": {},
   "outputs": [],
   "source": []
  },
  {
   "cell_type": "code",
   "execution_count": 378,
   "id": "fantastic-pillow",
   "metadata": {},
   "outputs": [],
   "source": [
    "# def words_similar_to(w, word_list = words):\n",
    "#     dist_dict = {}\n",
    "#     for word in word_list:\n",
    "#         if w != word:\n",
    "#             dist_dict[word] = distance(w, word)\n",
    "#             print(word, dist_dict[word])\n",
    "#     return [w for w,num in sort_dist(dist_dict)]\n"
   ]
  },
  {
   "cell_type": "code",
   "execution_count": 198,
   "id": "endless-produce",
   "metadata": {},
   "outputs": [],
   "source": [
    "word_dist_dict_={'orange': 9,'he': 5, 'she': 7, 'ban':1}"
   ]
  },
  {
   "cell_type": "code",
   "execution_count": 199,
   "id": "hungarian-estate",
   "metadata": {},
   "outputs": [
    {
     "data": {
      "text/plain": [
       "[('ban', 1), ('he', 5), ('orange', 9), ('she', 7)]"
      ]
     },
     "execution_count": 199,
     "metadata": {},
     "output_type": "execute_result"
    }
   ],
   "source": [
    "sort_dist(word_dist_dict_)"
   ]
  },
  {
   "cell_type": "code",
   "execution_count": 200,
   "id": "eligible-conversation",
   "metadata": {},
   "outputs": [
    {
     "data": {
      "text/plain": [
       "[('ban', 1), ('he', 5), ('orange', 9), ('she', 7)]"
      ]
     },
     "execution_count": 200,
     "metadata": {},
     "output_type": "execute_result"
    }
   ],
   "source": [
    "sort_dist( word_dist_dict)"
   ]
  },
  {
   "cell_type": "code",
   "execution_count": null,
   "id": "statewide-migration",
   "metadata": {},
   "outputs": [],
   "source": []
  },
  {
   "cell_type": "code",
   "execution_count": 209,
   "id": "living-calibration",
   "metadata": {},
   "outputs": [
    {
     "name": "stdout",
     "output_type": "stream",
     "text": [
      "heavy a 4\n",
      "heavy be 3\n",
      "heavy cat 2\n",
      "heavy doll 1\n",
      "heavy eight 0\n",
      "heavy farmer 1\n",
      "heavy gorilla 2\n",
      "heavy heavenly 3\n"
     ]
    },
    {
     "ename": "KeyError",
     "evalue": "'words'",
     "output_type": "error",
     "traceback": [
      "\u001b[0;31m---------------------------------------------------------------------------\u001b[0m",
      "\u001b[0;31mKeyError\u001b[0m                                  Traceback (most recent call last)",
      "\u001b[0;32m/opt/anaconda3/envs/metis/lib/python3.8/site-packages/pandas/core/indexes/base.py\u001b[0m in \u001b[0;36mget_loc\u001b[0;34m(self, key, method, tolerance)\u001b[0m\n\u001b[1;32m   2897\u001b[0m             \u001b[0;32mtry\u001b[0m\u001b[0;34m:\u001b[0m\u001b[0;34m\u001b[0m\u001b[0;34m\u001b[0m\u001b[0m\n\u001b[0;32m-> 2898\u001b[0;31m                 \u001b[0;32mreturn\u001b[0m \u001b[0mself\u001b[0m\u001b[0;34m.\u001b[0m\u001b[0m_engine\u001b[0m\u001b[0;34m.\u001b[0m\u001b[0mget_loc\u001b[0m\u001b[0;34m(\u001b[0m\u001b[0mcasted_key\u001b[0m\u001b[0;34m)\u001b[0m\u001b[0;34m\u001b[0m\u001b[0;34m\u001b[0m\u001b[0m\n\u001b[0m\u001b[1;32m   2899\u001b[0m             \u001b[0;32mexcept\u001b[0m \u001b[0mKeyError\u001b[0m \u001b[0;32mas\u001b[0m \u001b[0merr\u001b[0m\u001b[0;34m:\u001b[0m\u001b[0;34m\u001b[0m\u001b[0;34m\u001b[0m\u001b[0m\n",
      "\u001b[0;32mpandas/_libs/index.pyx\u001b[0m in \u001b[0;36mpandas._libs.index.IndexEngine.get_loc\u001b[0;34m()\u001b[0m\n",
      "\u001b[0;32mpandas/_libs/index.pyx\u001b[0m in \u001b[0;36mpandas._libs.index.IndexEngine.get_loc\u001b[0;34m()\u001b[0m\n",
      "\u001b[0;32mpandas/_libs/hashtable_class_helper.pxi\u001b[0m in \u001b[0;36mpandas._libs.hashtable.PyObjectHashTable.get_item\u001b[0;34m()\u001b[0m\n",
      "\u001b[0;32mpandas/_libs/hashtable_class_helper.pxi\u001b[0m in \u001b[0;36mpandas._libs.hashtable.PyObjectHashTable.get_item\u001b[0;34m()\u001b[0m\n",
      "\u001b[0;31mKeyError\u001b[0m: 'words'",
      "\nThe above exception was the direct cause of the following exception:\n",
      "\u001b[0;31mKeyError\u001b[0m                                  Traceback (most recent call last)",
      "\u001b[0;32m<ipython-input-209-222a2cbf234e>\u001b[0m in \u001b[0;36m<module>\u001b[0;34m\u001b[0m\n\u001b[0;32m----> 1\u001b[0;31m \u001b[0mwords_similar_to\u001b[0m\u001b[0;34m(\u001b[0m\u001b[0;34m'heavy'\u001b[0m\u001b[0;34m)\u001b[0m\u001b[0;34m\u001b[0m\u001b[0;34m\u001b[0m\u001b[0m\n\u001b[0m",
      "\u001b[0;32m<ipython-input-208-36e36633974b>\u001b[0m in \u001b[0;36mwords_similar_to\u001b[0;34m(w, word_list)\u001b[0m\n\u001b[1;32m      8\u001b[0m             \u001b[0;31m#print(word, dist_df[word])\u001b[0m\u001b[0;34m\u001b[0m\u001b[0;34m\u001b[0m\u001b[0;34m\u001b[0m\u001b[0m\n\u001b[1;32m      9\u001b[0m     \u001b[0mdist_df\u001b[0m\u001b[0;34m.\u001b[0m\u001b[0msort_values\u001b[0m\u001b[0;34m(\u001b[0m\u001b[0mby\u001b[0m\u001b[0;34m=\u001b[0m\u001b[0;34m'distance'\u001b[0m\u001b[0;34m,\u001b[0m \u001b[0minplace\u001b[0m \u001b[0;34m=\u001b[0m \u001b[0;32mTrue\u001b[0m\u001b[0;34m)\u001b[0m\u001b[0;34m\u001b[0m\u001b[0;34m\u001b[0m\u001b[0m\n\u001b[0;32m---> 10\u001b[0;31m     \u001b[0;32mreturn\u001b[0m \u001b[0mdist_df\u001b[0m\u001b[0;34m.\u001b[0m\u001b[0mloc\u001b[0m\u001b[0;34m[\u001b[0m\u001b[0;34m:\u001b[0m\u001b[0;34m,\u001b[0m \u001b[0;34m'words'\u001b[0m\u001b[0;34m]\u001b[0m\u001b[0;34m\u001b[0m\u001b[0;34m\u001b[0m\u001b[0m\n\u001b[0m\u001b[1;32m     11\u001b[0m \u001b[0;31m#    return [w for w,num in sort_dist(dist_dict)]\u001b[0m\u001b[0;34m\u001b[0m\u001b[0;34m\u001b[0m\u001b[0;34m\u001b[0m\u001b[0m\n",
      "\u001b[0;32m/opt/anaconda3/envs/metis/lib/python3.8/site-packages/pandas/core/indexing.py\u001b[0m in \u001b[0;36m__getitem__\u001b[0;34m(self, key)\u001b[0m\n\u001b[1;32m    871\u001b[0m                     \u001b[0;31m# AttributeError for IntervalTree get_value\u001b[0m\u001b[0;34m\u001b[0m\u001b[0;34m\u001b[0m\u001b[0;34m\u001b[0m\u001b[0m\n\u001b[1;32m    872\u001b[0m                     \u001b[0;32mpass\u001b[0m\u001b[0;34m\u001b[0m\u001b[0;34m\u001b[0m\u001b[0m\n\u001b[0;32m--> 873\u001b[0;31m             \u001b[0;32mreturn\u001b[0m \u001b[0mself\u001b[0m\u001b[0;34m.\u001b[0m\u001b[0m_getitem_tuple\u001b[0m\u001b[0;34m(\u001b[0m\u001b[0mkey\u001b[0m\u001b[0;34m)\u001b[0m\u001b[0;34m\u001b[0m\u001b[0;34m\u001b[0m\u001b[0m\n\u001b[0m\u001b[1;32m    874\u001b[0m         \u001b[0;32melse\u001b[0m\u001b[0;34m:\u001b[0m\u001b[0;34m\u001b[0m\u001b[0;34m\u001b[0m\u001b[0m\n\u001b[1;32m    875\u001b[0m             \u001b[0;31m# we by definition only have the 0th axis\u001b[0m\u001b[0;34m\u001b[0m\u001b[0;34m\u001b[0m\u001b[0;34m\u001b[0m\u001b[0m\n",
      "\u001b[0;32m/opt/anaconda3/envs/metis/lib/python3.8/site-packages/pandas/core/indexing.py\u001b[0m in \u001b[0;36m_getitem_tuple\u001b[0;34m(self, tup)\u001b[0m\n\u001b[1;32m   1042\u001b[0m     \u001b[0;32mdef\u001b[0m \u001b[0m_getitem_tuple\u001b[0m\u001b[0;34m(\u001b[0m\u001b[0mself\u001b[0m\u001b[0;34m,\u001b[0m \u001b[0mtup\u001b[0m\u001b[0;34m:\u001b[0m \u001b[0mTuple\u001b[0m\u001b[0;34m)\u001b[0m\u001b[0;34m:\u001b[0m\u001b[0;34m\u001b[0m\u001b[0;34m\u001b[0m\u001b[0m\n\u001b[1;32m   1043\u001b[0m         \u001b[0;32mtry\u001b[0m\u001b[0;34m:\u001b[0m\u001b[0;34m\u001b[0m\u001b[0;34m\u001b[0m\u001b[0m\n\u001b[0;32m-> 1044\u001b[0;31m             \u001b[0;32mreturn\u001b[0m \u001b[0mself\u001b[0m\u001b[0;34m.\u001b[0m\u001b[0m_getitem_lowerdim\u001b[0m\u001b[0;34m(\u001b[0m\u001b[0mtup\u001b[0m\u001b[0;34m)\u001b[0m\u001b[0;34m\u001b[0m\u001b[0;34m\u001b[0m\u001b[0m\n\u001b[0m\u001b[1;32m   1045\u001b[0m         \u001b[0;32mexcept\u001b[0m \u001b[0mIndexingError\u001b[0m\u001b[0;34m:\u001b[0m\u001b[0;34m\u001b[0m\u001b[0;34m\u001b[0m\u001b[0m\n\u001b[1;32m   1046\u001b[0m             \u001b[0;32mpass\u001b[0m\u001b[0;34m\u001b[0m\u001b[0;34m\u001b[0m\u001b[0m\n",
      "\u001b[0;32m/opt/anaconda3/envs/metis/lib/python3.8/site-packages/pandas/core/indexing.py\u001b[0m in \u001b[0;36m_getitem_lowerdim\u001b[0;34m(self, tup)\u001b[0m\n\u001b[1;32m    784\u001b[0m                 \u001b[0;31m# We don't need to check for tuples here because those are\u001b[0m\u001b[0;34m\u001b[0m\u001b[0;34m\u001b[0m\u001b[0;34m\u001b[0m\u001b[0m\n\u001b[1;32m    785\u001b[0m                 \u001b[0;31m#  caught by the _is_nested_tuple_indexer check above.\u001b[0m\u001b[0;34m\u001b[0m\u001b[0;34m\u001b[0m\u001b[0;34m\u001b[0m\u001b[0m\n\u001b[0;32m--> 786\u001b[0;31m                 \u001b[0msection\u001b[0m \u001b[0;34m=\u001b[0m \u001b[0mself\u001b[0m\u001b[0;34m.\u001b[0m\u001b[0m_getitem_axis\u001b[0m\u001b[0;34m(\u001b[0m\u001b[0mkey\u001b[0m\u001b[0;34m,\u001b[0m \u001b[0maxis\u001b[0m\u001b[0;34m=\u001b[0m\u001b[0mi\u001b[0m\u001b[0;34m)\u001b[0m\u001b[0;34m\u001b[0m\u001b[0;34m\u001b[0m\u001b[0m\n\u001b[0m\u001b[1;32m    787\u001b[0m \u001b[0;34m\u001b[0m\u001b[0m\n\u001b[1;32m    788\u001b[0m                 \u001b[0;31m# We should never have a scalar section here, because\u001b[0m\u001b[0;34m\u001b[0m\u001b[0;34m\u001b[0m\u001b[0;34m\u001b[0m\u001b[0m\n",
      "\u001b[0;32m/opt/anaconda3/envs/metis/lib/python3.8/site-packages/pandas/core/indexing.py\u001b[0m in \u001b[0;36m_getitem_axis\u001b[0;34m(self, key, axis)\u001b[0m\n\u001b[1;32m   1108\u001b[0m         \u001b[0;31m# fall thru to straight lookup\u001b[0m\u001b[0;34m\u001b[0m\u001b[0;34m\u001b[0m\u001b[0;34m\u001b[0m\u001b[0m\n\u001b[1;32m   1109\u001b[0m         \u001b[0mself\u001b[0m\u001b[0;34m.\u001b[0m\u001b[0m_validate_key\u001b[0m\u001b[0;34m(\u001b[0m\u001b[0mkey\u001b[0m\u001b[0;34m,\u001b[0m \u001b[0maxis\u001b[0m\u001b[0;34m)\u001b[0m\u001b[0;34m\u001b[0m\u001b[0;34m\u001b[0m\u001b[0m\n\u001b[0;32m-> 1110\u001b[0;31m         \u001b[0;32mreturn\u001b[0m \u001b[0mself\u001b[0m\u001b[0;34m.\u001b[0m\u001b[0m_get_label\u001b[0m\u001b[0;34m(\u001b[0m\u001b[0mkey\u001b[0m\u001b[0;34m,\u001b[0m \u001b[0maxis\u001b[0m\u001b[0;34m=\u001b[0m\u001b[0maxis\u001b[0m\u001b[0;34m)\u001b[0m\u001b[0;34m\u001b[0m\u001b[0;34m\u001b[0m\u001b[0m\n\u001b[0m\u001b[1;32m   1111\u001b[0m \u001b[0;34m\u001b[0m\u001b[0m\n\u001b[1;32m   1112\u001b[0m     \u001b[0;32mdef\u001b[0m \u001b[0m_get_slice_axis\u001b[0m\u001b[0;34m(\u001b[0m\u001b[0mself\u001b[0m\u001b[0;34m,\u001b[0m \u001b[0mslice_obj\u001b[0m\u001b[0;34m:\u001b[0m \u001b[0mslice\u001b[0m\u001b[0;34m,\u001b[0m \u001b[0maxis\u001b[0m\u001b[0;34m:\u001b[0m \u001b[0mint\u001b[0m\u001b[0;34m)\u001b[0m\u001b[0;34m:\u001b[0m\u001b[0;34m\u001b[0m\u001b[0;34m\u001b[0m\u001b[0m\n",
      "\u001b[0;32m/opt/anaconda3/envs/metis/lib/python3.8/site-packages/pandas/core/indexing.py\u001b[0m in \u001b[0;36m_get_label\u001b[0;34m(self, label, axis)\u001b[0m\n\u001b[1;32m   1057\u001b[0m     \u001b[0;32mdef\u001b[0m \u001b[0m_get_label\u001b[0m\u001b[0;34m(\u001b[0m\u001b[0mself\u001b[0m\u001b[0;34m,\u001b[0m \u001b[0mlabel\u001b[0m\u001b[0;34m,\u001b[0m \u001b[0maxis\u001b[0m\u001b[0;34m:\u001b[0m \u001b[0mint\u001b[0m\u001b[0;34m)\u001b[0m\u001b[0;34m:\u001b[0m\u001b[0;34m\u001b[0m\u001b[0;34m\u001b[0m\u001b[0m\n\u001b[1;32m   1058\u001b[0m         \u001b[0;31m# GH#5667 this will fail if the label is not present in the axis.\u001b[0m\u001b[0;34m\u001b[0m\u001b[0;34m\u001b[0m\u001b[0;34m\u001b[0m\u001b[0m\n\u001b[0;32m-> 1059\u001b[0;31m         \u001b[0;32mreturn\u001b[0m \u001b[0mself\u001b[0m\u001b[0;34m.\u001b[0m\u001b[0mobj\u001b[0m\u001b[0;34m.\u001b[0m\u001b[0mxs\u001b[0m\u001b[0;34m(\u001b[0m\u001b[0mlabel\u001b[0m\u001b[0;34m,\u001b[0m \u001b[0maxis\u001b[0m\u001b[0;34m=\u001b[0m\u001b[0maxis\u001b[0m\u001b[0;34m)\u001b[0m\u001b[0;34m\u001b[0m\u001b[0;34m\u001b[0m\u001b[0m\n\u001b[0m\u001b[1;32m   1060\u001b[0m \u001b[0;34m\u001b[0m\u001b[0m\n\u001b[1;32m   1061\u001b[0m     \u001b[0;32mdef\u001b[0m \u001b[0m_handle_lowerdim_multi_index_axis0\u001b[0m\u001b[0;34m(\u001b[0m\u001b[0mself\u001b[0m\u001b[0;34m,\u001b[0m \u001b[0mtup\u001b[0m\u001b[0;34m:\u001b[0m \u001b[0mTuple\u001b[0m\u001b[0;34m)\u001b[0m\u001b[0;34m:\u001b[0m\u001b[0;34m\u001b[0m\u001b[0;34m\u001b[0m\u001b[0m\n",
      "\u001b[0;32m/opt/anaconda3/envs/metis/lib/python3.8/site-packages/pandas/core/generic.py\u001b[0m in \u001b[0;36mxs\u001b[0;34m(self, key, axis, level, drop_level)\u001b[0m\n\u001b[1;32m   3483\u001b[0m \u001b[0;34m\u001b[0m\u001b[0m\n\u001b[1;32m   3484\u001b[0m         \u001b[0;32mif\u001b[0m \u001b[0maxis\u001b[0m \u001b[0;34m==\u001b[0m \u001b[0;36m1\u001b[0m\u001b[0;34m:\u001b[0m\u001b[0;34m\u001b[0m\u001b[0;34m\u001b[0m\u001b[0m\n\u001b[0;32m-> 3485\u001b[0;31m             \u001b[0;32mreturn\u001b[0m \u001b[0mself\u001b[0m\u001b[0;34m[\u001b[0m\u001b[0mkey\u001b[0m\u001b[0;34m]\u001b[0m\u001b[0;34m\u001b[0m\u001b[0;34m\u001b[0m\u001b[0m\n\u001b[0m\u001b[1;32m   3486\u001b[0m \u001b[0;34m\u001b[0m\u001b[0m\n\u001b[1;32m   3487\u001b[0m         \u001b[0mself\u001b[0m\u001b[0;34m.\u001b[0m\u001b[0m_consolidate_inplace\u001b[0m\u001b[0;34m(\u001b[0m\u001b[0;34m)\u001b[0m\u001b[0;34m\u001b[0m\u001b[0;34m\u001b[0m\u001b[0m\n",
      "\u001b[0;32m/opt/anaconda3/envs/metis/lib/python3.8/site-packages/pandas/core/frame.py\u001b[0m in \u001b[0;36m__getitem__\u001b[0;34m(self, key)\u001b[0m\n\u001b[1;32m   2904\u001b[0m             \u001b[0;32mif\u001b[0m \u001b[0mself\u001b[0m\u001b[0;34m.\u001b[0m\u001b[0mcolumns\u001b[0m\u001b[0;34m.\u001b[0m\u001b[0mnlevels\u001b[0m \u001b[0;34m>\u001b[0m \u001b[0;36m1\u001b[0m\u001b[0;34m:\u001b[0m\u001b[0;34m\u001b[0m\u001b[0;34m\u001b[0m\u001b[0m\n\u001b[1;32m   2905\u001b[0m                 \u001b[0;32mreturn\u001b[0m \u001b[0mself\u001b[0m\u001b[0;34m.\u001b[0m\u001b[0m_getitem_multilevel\u001b[0m\u001b[0;34m(\u001b[0m\u001b[0mkey\u001b[0m\u001b[0;34m)\u001b[0m\u001b[0;34m\u001b[0m\u001b[0;34m\u001b[0m\u001b[0m\n\u001b[0;32m-> 2906\u001b[0;31m             \u001b[0mindexer\u001b[0m \u001b[0;34m=\u001b[0m \u001b[0mself\u001b[0m\u001b[0;34m.\u001b[0m\u001b[0mcolumns\u001b[0m\u001b[0;34m.\u001b[0m\u001b[0mget_loc\u001b[0m\u001b[0;34m(\u001b[0m\u001b[0mkey\u001b[0m\u001b[0;34m)\u001b[0m\u001b[0;34m\u001b[0m\u001b[0;34m\u001b[0m\u001b[0m\n\u001b[0m\u001b[1;32m   2907\u001b[0m             \u001b[0;32mif\u001b[0m \u001b[0mis_integer\u001b[0m\u001b[0;34m(\u001b[0m\u001b[0mindexer\u001b[0m\u001b[0;34m)\u001b[0m\u001b[0;34m:\u001b[0m\u001b[0;34m\u001b[0m\u001b[0;34m\u001b[0m\u001b[0m\n\u001b[1;32m   2908\u001b[0m                 \u001b[0mindexer\u001b[0m \u001b[0;34m=\u001b[0m \u001b[0;34m[\u001b[0m\u001b[0mindexer\u001b[0m\u001b[0;34m]\u001b[0m\u001b[0;34m\u001b[0m\u001b[0;34m\u001b[0m\u001b[0m\n",
      "\u001b[0;32m/opt/anaconda3/envs/metis/lib/python3.8/site-packages/pandas/core/indexes/base.py\u001b[0m in \u001b[0;36mget_loc\u001b[0;34m(self, key, method, tolerance)\u001b[0m\n\u001b[1;32m   2898\u001b[0m                 \u001b[0;32mreturn\u001b[0m \u001b[0mself\u001b[0m\u001b[0;34m.\u001b[0m\u001b[0m_engine\u001b[0m\u001b[0;34m.\u001b[0m\u001b[0mget_loc\u001b[0m\u001b[0;34m(\u001b[0m\u001b[0mcasted_key\u001b[0m\u001b[0;34m)\u001b[0m\u001b[0;34m\u001b[0m\u001b[0;34m\u001b[0m\u001b[0m\n\u001b[1;32m   2899\u001b[0m             \u001b[0;32mexcept\u001b[0m \u001b[0mKeyError\u001b[0m \u001b[0;32mas\u001b[0m \u001b[0merr\u001b[0m\u001b[0;34m:\u001b[0m\u001b[0;34m\u001b[0m\u001b[0;34m\u001b[0m\u001b[0m\n\u001b[0;32m-> 2900\u001b[0;31m                 \u001b[0;32mraise\u001b[0m \u001b[0mKeyError\u001b[0m\u001b[0;34m(\u001b[0m\u001b[0mkey\u001b[0m\u001b[0;34m)\u001b[0m \u001b[0;32mfrom\u001b[0m \u001b[0merr\u001b[0m\u001b[0;34m\u001b[0m\u001b[0;34m\u001b[0m\u001b[0m\n\u001b[0m\u001b[1;32m   2901\u001b[0m \u001b[0;34m\u001b[0m\u001b[0m\n\u001b[1;32m   2902\u001b[0m         \u001b[0;32mif\u001b[0m \u001b[0mtolerance\u001b[0m \u001b[0;32mis\u001b[0m \u001b[0;32mnot\u001b[0m \u001b[0;32mNone\u001b[0m\u001b[0;34m:\u001b[0m\u001b[0;34m\u001b[0m\u001b[0;34m\u001b[0m\u001b[0m\n",
      "\u001b[0;31mKeyError\u001b[0m: 'words'"
     ]
    }
   ],
   "source": [
    "words_similar_to('heavy')"
   ]
  },
  {
   "cell_type": "code",
   "execution_count": null,
   "id": "numerical-warehouse",
   "metadata": {},
   "outputs": [],
   "source": []
  },
  {
   "cell_type": "code",
   "execution_count": null,
   "id": "enhanced-minority",
   "metadata": {},
   "outputs": [],
   "source": []
  },
  {
   "cell_type": "code",
   "execution_count": null,
   "id": "unlike-sarah",
   "metadata": {},
   "outputs": [],
   "source": []
  },
  {
   "cell_type": "code",
   "execution_count": 71,
   "id": "continuing-nevada",
   "metadata": {},
   "outputs": [],
   "source": [
    "word_dist_tup_list=[('orange', 9),('he', 5), ('she', 7)]"
   ]
  },
  {
   "cell_type": "code",
   "execution_count": 73,
   "id": "auburn-subscription",
   "metadata": {},
   "outputs": [],
   "source": [
    "word_dist_tup_list.sort()"
   ]
  },
  {
   "cell_type": "code",
   "execution_count": 83,
   "id": "informative-public",
   "metadata": {},
   "outputs": [
    {
     "name": "stdout",
     "output_type": "stream",
     "text": [
      "<zip object at 0x7fea582084c0>\n"
     ]
    }
   ],
   "source": [
    "word_dist_tup_list.sort()\n",
    "u = zip(*word_dist_tup_list)\n",
    "print(u)"
   ]
  },
  {
   "cell_type": "code",
   "execution_count": 84,
   "id": "enormous-suite",
   "metadata": {},
   "outputs": [
    {
     "data": {
      "text/plain": [
       "[('he', 5), ('orange', 9), ('she', 7)]"
      ]
     },
     "execution_count": 84,
     "metadata": {},
     "output_type": "execute_result"
    }
   ],
   "source": [
    "word_dist_tup_list"
   ]
  },
  {
   "cell_type": "code",
   "execution_count": 29,
   "id": "rough-kuwait",
   "metadata": {},
   "outputs": [
    {
     "ename": "AttributeError",
     "evalue": "'dict' object has no attribute 'iteritems'",
     "output_type": "error",
     "traceback": [
      "\u001b[0;31m---------------------------------------------------------------------------\u001b[0m",
      "\u001b[0;31mAttributeError\u001b[0m                            Traceback (most recent call last)",
      "\u001b[0;32m<ipython-input-29-3542219b4b6f>\u001b[0m in \u001b[0;36m<module>\u001b[0;34m\u001b[0m\n\u001b[1;32m      4\u001b[0m \u001b[0;34m\u001b[0m\u001b[0m\n\u001b[1;32m      5\u001b[0m \u001b[0;34m\u001b[0m\u001b[0m\n\u001b[0;32m----> 6\u001b[0;31m \u001b[0msorted\u001b[0m\u001b[0;34m(\u001b[0m\u001b[0mword_dist_dict\u001b[0m\u001b[0;34m.\u001b[0m\u001b[0miteritems\u001b[0m\u001b[0;34m(\u001b[0m\u001b[0;34m)\u001b[0m\u001b[0;34m,\u001b[0m \u001b[0mkey\u001b[0m\u001b[0;34m=\u001b[0m\u001b[0mitemgetter\u001b[0m\u001b[0;34m(\u001b[0m\u001b[0;36m1\u001b[0m\u001b[0;34m)\u001b[0m\u001b[0;34m,\u001b[0m \u001b[0mreverse\u001b[0m\u001b[0;34m=\u001b[0m\u001b[0;32mTrue\u001b[0m\u001b[0;34m)\u001b[0m\u001b[0;34m\u001b[0m\u001b[0;34m\u001b[0m\u001b[0m\n\u001b[0m",
      "\u001b[0;31mAttributeError\u001b[0m: 'dict' object has no attribute 'iteritems'"
     ]
    }
   ],
   "source": [
    "from operator import itemgetter\n",
    "\n",
    "word_dist_dict={'he': 5, 'she': 7}\n",
    "\n",
    "\n",
    "sorted(word_dist_dict.iteritems(), key=itemgetter(1), reverse=True)"
   ]
  },
  {
   "cell_type": "code",
   "execution_count": 30,
   "id": "conditional-oracle",
   "metadata": {},
   "outputs": [
    {
     "ename": "NameError",
     "evalue": "name 'np' is not defined",
     "output_type": "error",
     "traceback": [
      "\u001b[0;31m---------------------------------------------------------------------------\u001b[0m",
      "\u001b[0;31mNameError\u001b[0m                                 Traceback (most recent call last)",
      "\u001b[0;32m<ipython-input-30-cf92bcfaa12b>\u001b[0m in \u001b[0;36m<module>\u001b[0;34m\u001b[0m\n\u001b[1;32m      2\u001b[0m \u001b[0;32mimport\u001b[0m \u001b[0mcollections\u001b[0m\u001b[0;34m\u001b[0m\u001b[0;34m\u001b[0m\u001b[0m\n\u001b[1;32m      3\u001b[0m \u001b[0;34m\u001b[0m\u001b[0m\n\u001b[0;32m----> 4\u001b[0;31m lt= np.array([[ 1,  6, 11],\n\u001b[0m\u001b[1;32m      5\u001b[0m        \u001b[0;34m[\u001b[0m \u001b[0;36m2\u001b[0m\u001b[0;34m,\u001b[0m  \u001b[0;36m7\u001b[0m\u001b[0;34m,\u001b[0m \u001b[0;36m12\u001b[0m\u001b[0;34m]\u001b[0m\u001b[0;34m,\u001b[0m\u001b[0;34m\u001b[0m\u001b[0;34m\u001b[0m\u001b[0m\n\u001b[1;32m      6\u001b[0m        \u001b[0;34m[\u001b[0m \u001b[0;36m3\u001b[0m\u001b[0;34m,\u001b[0m  \u001b[0;36m8\u001b[0m\u001b[0;34m,\u001b[0m \u001b[0;36m13\u001b[0m\u001b[0;34m]\u001b[0m\u001b[0;34m,\u001b[0m\u001b[0;34m\u001b[0m\u001b[0;34m\u001b[0m\u001b[0m\n",
      "\u001b[0;31mNameError\u001b[0m: name 'np' is not defined"
     ]
    }
   ],
   "source": [
    "import numpy\n",
    "import collections\n",
    "\n",
    "lt= np.array([[ 1,  6, 11],\n",
    "       [ 2,  7, 12],\n",
    "       [ 3,  8, 13],\n",
    "       [ 4,  9, 14],\n",
    "       [ 5, 10, 15]])\n",
    "\n",
    "\n",
    "mydict = collections.namedtuple('mydict', list('abc'))\n",
    "tups = [mydict(*row) for row in lt]\n",
    "tups\n",
    "[mydict(a=1, b=6, c=11),\n",
    " mydict(a=2, b=7, c=12),\n",
    " mydict(a=3, b=8, c=13),\n",
    " mydict(a=4, b=9, c=14),\n",
    " mydict(a=5, b=10, c=15)]\n",
    "\n",
    "for row in lt:\n",
    "    myvals = operator.itemgetter(*row)(mydict)\n",
    "    # do stuff with myvals"
   ]
  },
  {
   "cell_type": "code",
   "execution_count": null,
   "id": "fabulous-arrow",
   "metadata": {},
   "outputs": [],
   "source": []
  },
  {
   "cell_type": "code",
   "execution_count": null,
   "id": "academic-support",
   "metadata": {},
   "outputs": [],
   "source": []
  }
 ],
 "metadata": {
  "kernelspec": {
   "display_name": "Python [conda env:metis] *",
   "language": "python",
   "name": "conda-env-metis-py"
  },
  "language_info": {
   "codemirror_mode": {
    "name": "ipython",
    "version": 3
   },
   "file_extension": ".py",
   "mimetype": "text/x-python",
   "name": "python",
   "nbconvert_exporter": "python",
   "pygments_lexer": "ipython3",
   "version": "3.8.6"
  }
 },
 "nbformat": 4,
 "nbformat_minor": 5
}
