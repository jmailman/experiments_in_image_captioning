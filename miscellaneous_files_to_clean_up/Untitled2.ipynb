{
 "cells": [
  {
   "cell_type": "code",
   "execution_count": 1,
   "id": "acceptable-exposure",
   "metadata": {},
   "outputs": [],
   "source": [
    "from nltk.corpus import words"
   ]
  },
  {
   "cell_type": "code",
   "execution_count": 2,
   "id": "satisfied-winter",
   "metadata": {},
   "outputs": [],
   "source": [
    "words_set = set( words.words())"
   ]
  },
  {
   "cell_type": "code",
   "execution_count": 4,
   "id": "strange-object",
   "metadata": {},
   "outputs": [
    {
     "data": {
      "text/plain": [
       "235892"
      ]
     },
     "execution_count": 4,
     "metadata": {},
     "output_type": "execute_result"
    }
   ],
   "source": [
    "len(words_set)"
   ]
  },
  {
   "cell_type": "code",
   "execution_count": 7,
   "id": "purple-unknown",
   "metadata": {},
   "outputs": [],
   "source": [
    "words_set_list = list(words_set)"
   ]
  },
  {
   "cell_type": "code",
   "execution_count": 17,
   "id": "dated-buddy",
   "metadata": {},
   "outputs": [],
   "source": [
    "import eng_to_ipa as ipa\n",
    "syllable_count_dict = {word: ipa.syllable_count(word) for word in words_set_list}"
   ]
  },
  {
   "cell_type": "code",
   "execution_count": 13,
   "id": "treated-slovak",
   "metadata": {},
   "outputs": [
    {
     "data": {
      "text/plain": [
       "{'enam': 0}"
      ]
     },
     "execution_count": 13,
     "metadata": {},
     "output_type": "execute_result"
    }
   ],
   "source": [
    "syllable_count_dict "
   ]
  },
  {
   "cell_type": "code",
   "execution_count": 19,
   "id": "fiscal-translation",
   "metadata": {},
   "outputs": [],
   "source": [
    "import pickle\n",
    "with open(\"data/\" + \"syllable_count_dictionary.pickle\", 'wb') as to_write:\n",
    "        pickle.dump(syllable_count_dict, to_write)"
   ]
  },
  {
   "cell_type": "code",
   "execution_count": null,
   "id": "hundred-setting",
   "metadata": {},
   "outputs": [],
   "source": []
  }
 ],
 "metadata": {
  "kernelspec": {
   "display_name": "Python [conda env:metis] *",
   "language": "python",
   "name": "conda-env-metis-py"
  },
  "language_info": {
   "codemirror_mode": {
    "name": "ipython",
    "version": 3
   },
   "file_extension": ".py",
   "mimetype": "text/x-python",
   "name": "python",
   "nbconvert_exporter": "python",
   "pygments_lexer": "ipython3",
   "version": "3.8.6"
  }
 },
 "nbformat": 4,
 "nbformat_minor": 5
}
