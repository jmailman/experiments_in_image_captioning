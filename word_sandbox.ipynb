{
 "cells": [
  {
   "cell_type": "code",
   "execution_count": 1,
   "id": "smooth-marketing",
   "metadata": {},
   "outputs": [],
   "source": [
    "s_dict_1 = {'bear': 1, 'lion': 2, 'octopus':3, 'orangatang': 2}\n",
    "s_dict_2 = {'elephant': 3, 'sheep': 2, 'anaconda':4, 'scorpion': 3}"
   ]
  },
  {
   "cell_type": "code",
   "execution_count": 3,
   "id": "through-trademark",
   "metadata": {},
   "outputs": [],
   "source": [
    "dict_of_dicts ={1: s_dict_1, 2: s_dict_2}"
   ]
  },
  {
   "cell_type": "code",
   "execution_count": 10,
   "id": "faced-gambling",
   "metadata": {},
   "outputs": [
    {
     "name": "stdout",
     "output_type": "stream",
     "text": [
      "{'bear': 1, 'lion': 2, 'octopus': 3, 'orangatang': 2}\n",
      "{'elephant': 3, 'sheep': 2, 'anaconda': 4, 'scorpion': 3}\n"
     ]
    }
   ],
   "source": [
    "for the_dict in dict_of_dicts:\n",
    "    print(dict_of_dicts[the_dict])"
   ]
  },
  {
   "cell_type": "code",
   "execution_count": 11,
   "id": "related-watts",
   "metadata": {},
   "outputs": [],
   "source": [
    "augmented_words_set = {'brotherly', 'squiggle'}"
   ]
  },
  {
   "cell_type": "code",
   "execution_count": 12,
   "id": "severe-holmes",
   "metadata": {},
   "outputs": [],
   "source": [
    "import eng_to_ipa as ipa"
   ]
  },
  {
   "cell_type": "code",
   "execution_count": 14,
   "id": "sublime-brass",
   "metadata": {},
   "outputs": [
    {
     "ename": "TypeError",
     "evalue": "unhashable type: 'list'",
     "output_type": "error",
     "traceback": [
      "\u001b[0;31m---------------------------------------------------------------------------\u001b[0m",
      "\u001b[0;31mTypeError\u001b[0m                                 Traceback (most recent call last)",
      "\u001b[0;32m<ipython-input-14-861e0c45849b>\u001b[0m in \u001b[0;36m<module>\u001b[0;34m\u001b[0m\n\u001b[0;32m----> 1\u001b[0;31m \u001b[0;34m{\u001b[0m\u001b[0mipa\u001b[0m\u001b[0;34m.\u001b[0m\u001b[0mget_rhymes\u001b[0m\u001b[0;34m(\u001b[0m \u001b[0mword\u001b[0m \u001b[0;34m)\u001b[0m \u001b[0;32mfor\u001b[0m \u001b[0mword\u001b[0m \u001b[0;32min\u001b[0m \u001b[0maugmented_words_set\u001b[0m\u001b[0;34m}\u001b[0m\u001b[0;34m\u001b[0m\u001b[0;34m\u001b[0m\u001b[0m\n\u001b[0m",
      "\u001b[0;32m<ipython-input-14-861e0c45849b>\u001b[0m in \u001b[0;36m<setcomp>\u001b[0;34m(.0)\u001b[0m\n\u001b[0;32m----> 1\u001b[0;31m \u001b[0;34m{\u001b[0m\u001b[0mipa\u001b[0m\u001b[0;34m.\u001b[0m\u001b[0mget_rhymes\u001b[0m\u001b[0;34m(\u001b[0m \u001b[0mword\u001b[0m \u001b[0;34m)\u001b[0m \u001b[0;32mfor\u001b[0m \u001b[0mword\u001b[0m \u001b[0;32min\u001b[0m \u001b[0maugmented_words_set\u001b[0m\u001b[0;34m}\u001b[0m\u001b[0;34m\u001b[0m\u001b[0;34m\u001b[0m\u001b[0m\n\u001b[0m",
      "\u001b[0;31mTypeError\u001b[0m: unhashable type: 'list'"
     ]
    }
   ],
   "source": [
    "\n",
    "{ipa.get_rhymes( word ) for word in augmented_words_set}"
   ]
  },
  {
   "cell_type": "code",
   "execution_count": null,
   "id": "communist-pollution",
   "metadata": {},
   "outputs": [],
   "source": []
  },
  {
   "cell_type": "code",
   "execution_count": 34,
   "id": "overall-chrome",
   "metadata": {},
   "outputs": [
    {
     "data": {
      "text/plain": [
       "3832"
      ]
     },
     "execution_count": 34,
     "metadata": {},
     "output_type": "execute_result"
    }
   ],
   "source": [
    "imagenet_labels_filename = 'imagenet1000_clsidx_to_labels.txt'\n",
    "\n",
    "list_of_duples = []\n",
    "with open('data/' + imagenet_labels_filename) as myfile:\n",
    "    for line in myfile:\n",
    "        num, text = line.partition(':')[::2]\n",
    "        list_of_duples.append(text.replace(',', '').replace('\\\"', '').replace('\\\"', ''))\n",
    "list_of_duples\n",
    "text_lines = [text.replace(\"\\''\", \"\" ).replace(\"\\n\", \"\").replace(\"\\\"\", \"\").rstrip() for text in list_of_duples]\n",
    "text_lines\n",
    "label_word_list = []\n",
    "for line in text_lines:\n",
    "    split_text = line.split(' ')\n",
    "    for word in split_text:\n",
    "        #print(word)\n",
    "        label_word_list.append(word)\n",
    "len(label_word_list)    "
   ]
  },
  {
   "cell_type": "code",
   "execution_count": 35,
   "id": "respiratory-alaska",
   "metadata": {},
   "outputs": [],
   "source": [
    "cleaned_label_word_list = [word.lower() for word in label_word_list if word.isalpha()]"
   ]
  },
  {
   "cell_type": "code",
   "execution_count": 36,
   "id": "velvet-basement",
   "metadata": {},
   "outputs": [
    {
     "data": {
      "text/plain": [
       "1130"
      ]
     },
     "execution_count": 36,
     "metadata": {},
     "output_type": "execute_result"
    }
   ],
   "source": [
    "len(cleaned_label_word_list)"
   ]
  },
  {
   "cell_type": "code",
   "execution_count": 37,
   "id": "acceptable-chambers",
   "metadata": {},
   "outputs": [
    {
     "data": {
      "text/plain": [
       "['tinca',\n",
       " 'carassius',\n",
       " 'white',\n",
       " 'shark',\n",
       " 'white',\n",
       " 'shark',\n",
       " 'shark',\n",
       " 'carcharodon',\n",
       " 'shark',\n",
       " 'galeocerdo']"
      ]
     },
     "execution_count": 37,
     "metadata": {},
     "output_type": "execute_result"
    }
   ],
   "source": [
    "cleaned_label_word_list[:10]"
   ]
  },
  {
   "cell_type": "code",
   "execution_count": 38,
   "id": "protecting-filling",
   "metadata": {},
   "outputs": [],
   "source": [
    "cleaned_label_word_set = set(cleaned_label_word_list )"
   ]
  },
  {
   "cell_type": "code",
   "execution_count": 39,
   "id": "handmade-malawi",
   "metadata": {},
   "outputs": [],
   "source": [
    "from nltk.corpus import words\n",
    "import eng_to_ipa as ipa\n",
    "\n",
    "words_set = set( words.words())"
   ]
  },
  {
   "cell_type": "code",
   "execution_count": 40,
   "id": "appropriate-document",
   "metadata": {},
   "outputs": [],
   "source": [
    "augmented_words_set = words_set.union(cleaned_label_word_list)"
   ]
  },
  {
   "cell_type": "code",
   "execution_count": null,
   "id": "duplicate-window",
   "metadata": {},
   "outputs": [],
   "source": []
  },
  {
   "cell_type": "code",
   "execution_count": null,
   "id": "ignored-november",
   "metadata": {},
   "outputs": [],
   "source": []
  },
  {
   "cell_type": "code",
   "execution_count": null,
   "id": "tough-lease",
   "metadata": {},
   "outputs": [],
   "source": [
    "\n"
   ]
  },
  {
   "cell_type": "code",
   "execution_count": 41,
   "id": "reliable-sharp",
   "metadata": {},
   "outputs": [],
   "source": [
    "rhymes_of_augmented_words_set={word for rhymes in [ipa.get_rhymes( word ) for word in augmented_words_set] for word in rhymes}"
   ]
  },
  {
   "cell_type": "code",
   "execution_count": null,
   "id": "incorporate-increase",
   "metadata": {},
   "outputs": [],
   "source": [
    "rhymes_dict = []\n",
    "for word in augmented_words_set:\n",
    "    rhymes_dict[word] = ipa.get_rhymes( word )\n",
    "\n",
    "# rhymes_of_augmented_words_set={word for rhymes in [ipa.get_rhymes( word ) for word in augmented_words_set] for word in rhymes}   \n",
    "    \n",
    "#     for rhyme in rhymes:\n",
    "#         rhymes_of_augmented_words_set.add(rhyme)"
   ]
  },
  {
   "cell_type": "code",
   "execution_count": 25,
   "id": "super-prompt",
   "metadata": {},
   "outputs": [
    {
     "data": {
      "text/plain": [
       "15"
      ]
     },
     "execution_count": 25,
     "metadata": {},
     "output_type": "execute_result"
    }
   ],
   "source": [
    "len(rhymes_of_augmented_words_set)"
   ]
  },
  {
   "cell_type": "code",
   "execution_count": 27,
   "id": "variable-uzbekistan",
   "metadata": {},
   "outputs": [],
   "source": [
    "import pickle"
   ]
  },
  {
   "cell_type": "code",
   "execution_count": 28,
   "id": "quantitative-chancellor",
   "metadata": {},
   "outputs": [],
   "source": [
    "with open(\"data/\" + \"rhymes_dict.pickle\", 'wb') as to_write:\n",
    "    pickle.dump(rhymes_dict, to_write)\n",
    "\n",
    "with open(\"data/\" + \"rhymes_of_augmented_words_set_.pickle\", 'wb') as to_write:\n",
    "    pickle.dump(rhymes_of_augmented_words_set, to_write)"
   ]
  },
  {
   "cell_type": "code",
   "execution_count": null,
   "id": "composed-sarah",
   "metadata": {},
   "outputs": [],
   "source": []
  },
  {
   "cell_type": "code",
   "execution_count": 30,
   "id": "typical-carry",
   "metadata": {},
   "outputs": [],
   "source": [
    "all_words_set = words_set.union(rhymes_of_augmented_words_set)"
   ]
  },
  {
   "cell_type": "code",
   "execution_count": 31,
   "id": "convenient-grill",
   "metadata": {},
   "outputs": [
    {
     "data": {
      "text/plain": [
       "235901"
      ]
     },
     "execution_count": 31,
     "metadata": {},
     "output_type": "execute_result"
    }
   ],
   "source": [
    "len(all_words_set)"
   ]
  },
  {
   "cell_type": "code",
   "execution_count": 45,
   "id": "heard-samoa",
   "metadata": {},
   "outputs": [
    {
     "data": {
      "text/plain": [
       "[]"
      ]
     },
     "execution_count": 45,
     "metadata": {},
     "output_type": "execute_result"
    }
   ],
   "source": [
    "ipa.get_rhymes('platypus')"
   ]
  },
  {
   "cell_type": "code",
   "execution_count": 4,
   "id": "convinced-rehabilitation",
   "metadata": {},
   "outputs": [],
   "source": [
    "import pronouncing as pron"
   ]
  },
  {
   "cell_type": "code",
   "execution_count": 94,
   "id": "dangerous-dance",
   "metadata": {},
   "outputs": [
    {
     "data": {
      "text/plain": [
       "15"
      ]
     },
     "execution_count": 94,
     "metadata": {},
     "output_type": "execute_result"
    }
   ],
   "source": [
    "len(pron.rhymes('fringe'))"
   ]
  },
  {
   "cell_type": "code",
   "execution_count": 97,
   "id": "departmental-folder",
   "metadata": {},
   "outputs": [
    {
     "data": {
      "text/plain": [
       "['acero',\n",
       " 'acero',\n",
       " 'acero',\n",
       " 'aero',\n",
       " 'aguero',\n",
       " 'alfiero',\n",
       " 'alvero',\n",
       " 'amero',\n",
       " 'arrow',\n",
       " 'barbero',\n",
       " 'barreiro',\n",
       " 'barrow',\n",
       " 'bero',\n",
       " 'bolero',\n",
       " 'borrero',\n",
       " 'botero',\n",
       " 'bracero',\n",
       " 'caballero',\n",
       " 'cafiero',\n",
       " 'calero',\n",
       " 'calogero',\n",
       " 'camaro',\n",
       " 'camero',\n",
       " 'cantero',\n",
       " 'carneiro',\n",
       " 'carnicero',\n",
       " 'carreiro',\n",
       " 'carrero',\n",
       " 'cavallero',\n",
       " 'cepero',\n",
       " 'cerro',\n",
       " 'ciminero',\n",
       " 'colmenero',\n",
       " 'cordeiro',\n",
       " 'cordero',\n",
       " 'cuero',\n",
       " 'darrow',\n",
       " 'delfavero',\n",
       " 'delnero',\n",
       " 'derrow',\n",
       " 'dondero',\n",
       " 'embarcadero',\n",
       " 'eroh',\n",
       " 'escudero',\n",
       " 'faro',\n",
       " 'favero',\n",
       " 'fero',\n",
       " 'ferreiro',\n",
       " 'ferrero',\n",
       " 'ferro',\n",
       " 'financiero',\n",
       " 'garo',\n",
       " 'garrow',\n",
       " 'gero',\n",
       " 'gerow',\n",
       " 'guerrero',\n",
       " 'herrero',\n",
       " 'herro',\n",
       " 'ibero',\n",
       " 'janiero',\n",
       " 'janiero',\n",
       " 'lerro',\n",
       " 'locicero',\n",
       " 'lonero',\n",
       " 'loureiro',\n",
       " 'lucero',\n",
       " 'madero',\n",
       " 'marrero',\n",
       " 'marrow',\n",
       " 'mazzaferro',\n",
       " 'melero',\n",
       " 'mero',\n",
       " 'merow',\n",
       " 'merrow',\n",
       " 'mescalero',\n",
       " 'messeghero',\n",
       " 'minero',\n",
       " 'mistero',\n",
       " 'mogavero',\n",
       " 'monteiro',\n",
       " 'montero',\n",
       " 'mugavero',\n",
       " 'narrow',\n",
       " 'olivero',\n",
       " 'otero',\n",
       " 'palmero',\n",
       " 'passero',\n",
       " 'peguero',\n",
       " 'pharaoh',\n",
       " 'pharoah',\n",
       " 'pineiro',\n",
       " 'pinero',\n",
       " 'pinheiro',\n",
       " 'quintero',\n",
       " 'ranchero',\n",
       " 'ranchero',\n",
       " 'recupero',\n",
       " 'ribeiro',\n",
       " 'rivero',\n",
       " 'romero',\n",
       " 'salguero',\n",
       " 'sendero',\n",
       " 'sherrow',\n",
       " 'silguero',\n",
       " 'soltero',\n",
       " 'sombrero',\n",
       " 'spero',\n",
       " 'taro',\n",
       " 'tercero',\n",
       " 'tinajero',\n",
       " 'valero',\n",
       " 'varo',\n",
       " 'vero',\n",
       " 'xero',\n",
       " 'zifferero']"
      ]
     },
     "execution_count": 97,
     "metadata": {},
     "output_type": "execute_result"
    }
   ],
   "source": [
    "pron.rhymes('sparrow')"
   ]
  },
  {
   "cell_type": "code",
   "execution_count": 71,
   "id": "static-stock",
   "metadata": {},
   "outputs": [
    {
     "data": {
      "text/plain": [
       "1"
      ]
     },
     "execution_count": 71,
     "metadata": {},
     "output_type": "execute_result"
    }
   ],
   "source": [
    "len(ipa.get_rhymes('nevermore'))"
   ]
  },
  {
   "cell_type": "code",
   "execution_count": 63,
   "id": "periodic-commitment",
   "metadata": {},
   "outputs": [
    {
     "ename": "IndexError",
     "evalue": "list index out of range",
     "output_type": "error",
     "traceback": [
      "\u001b[0;31m---------------------------------------------------------------------------\u001b[0m",
      "\u001b[0;31mIndexError\u001b[0m                                Traceback (most recent call last)",
      "\u001b[0;32m<ipython-input-63-7cab196f9c5e>\u001b[0m in \u001b[0;36m<module>\u001b[0;34m\u001b[0m\n\u001b[0;32m----> 1\u001b[0;31m \u001b[0msyllable_count_dict\u001b[0m \u001b[0;34m=\u001b[0m \u001b[0;34m{\u001b[0m\u001b[0mword\u001b[0m\u001b[0;34m:\u001b[0m \u001b[0mpron\u001b[0m\u001b[0;34m.\u001b[0m\u001b[0msyllable_count\u001b[0m\u001b[0;34m(\u001b[0m\u001b[0mpron\u001b[0m\u001b[0;34m.\u001b[0m\u001b[0mphones_for_word\u001b[0m\u001b[0;34m(\u001b[0m\u001b[0mword\u001b[0m\u001b[0;34m)\u001b[0m\u001b[0;34m[\u001b[0m\u001b[0;36m0\u001b[0m\u001b[0;34m]\u001b[0m\u001b[0;34m)\u001b[0m \u001b[0;32mfor\u001b[0m \u001b[0mword\u001b[0m \u001b[0;32min\u001b[0m \u001b[0mall_words_set\u001b[0m\u001b[0;34m}\u001b[0m\u001b[0;34m\u001b[0m\u001b[0;34m\u001b[0m\u001b[0m\n\u001b[0m",
      "\u001b[0;32m<ipython-input-63-7cab196f9c5e>\u001b[0m in \u001b[0;36m<dictcomp>\u001b[0;34m(.0)\u001b[0m\n\u001b[0;32m----> 1\u001b[0;31m \u001b[0msyllable_count_dict\u001b[0m \u001b[0;34m=\u001b[0m \u001b[0;34m{\u001b[0m\u001b[0mword\u001b[0m\u001b[0;34m:\u001b[0m \u001b[0mpron\u001b[0m\u001b[0;34m.\u001b[0m\u001b[0msyllable_count\u001b[0m\u001b[0;34m(\u001b[0m\u001b[0mpron\u001b[0m\u001b[0;34m.\u001b[0m\u001b[0mphones_for_word\u001b[0m\u001b[0;34m(\u001b[0m\u001b[0mword\u001b[0m\u001b[0;34m)\u001b[0m\u001b[0;34m[\u001b[0m\u001b[0;36m0\u001b[0m\u001b[0;34m]\u001b[0m\u001b[0;34m)\u001b[0m \u001b[0;32mfor\u001b[0m \u001b[0mword\u001b[0m \u001b[0;32min\u001b[0m \u001b[0mall_words_set\u001b[0m\u001b[0;34m}\u001b[0m\u001b[0;34m\u001b[0m\u001b[0;34m\u001b[0m\u001b[0m\n\u001b[0m",
      "\u001b[0;31mIndexError\u001b[0m: list index out of range"
     ]
    }
   ],
   "source": [
    "syllable_count_dict = {word: ipa.syllable_count(word) for word in all_words_set}"
   ]
  },
  {
   "cell_type": "code",
   "execution_count": 59,
   "id": "difficult-ethics",
   "metadata": {},
   "outputs": [
    {
     "data": {
      "text/plain": [
       "['T UW1']"
      ]
     },
     "execution_count": 59,
     "metadata": {},
     "output_type": "execute_result"
    }
   ],
   "source": [
    "pron.phones_for_word('two')"
   ]
  },
  {
   "cell_type": "code",
   "execution_count": 61,
   "id": "comparative-reynolds",
   "metadata": {},
   "outputs": [
    {
     "data": {
      "text/plain": [
       "3"
      ]
     },
     "execution_count": 61,
     "metadata": {},
     "output_type": "execute_result"
    }
   ],
   "source": [
    "pron.syllable_count(pron.phones_for_word('nobody')[0])"
   ]
  },
  {
   "cell_type": "code",
   "execution_count": 5,
   "id": "familiar-gathering",
   "metadata": {},
   "outputs": [
    {
     "data": {
      "text/plain": [
       "4"
      ]
     },
     "execution_count": 5,
     "metadata": {},
     "output_type": "execute_result"
    }
   ],
   "source": [
    "import Levenshtein as lev\n",
    "lev.distance(pron.phones_for_word(\"foray\")[0], pron.phones_for_word(\"fire\")[0])"
   ]
  },
  {
   "cell_type": "code",
   "execution_count": 83,
   "id": "interstate-thailand",
   "metadata": {},
   "outputs": [
    {
     "data": {
      "text/plain": [
       "'M EY1 B IY0'"
      ]
     },
     "execution_count": 83,
     "metadata": {},
     "output_type": "execute_result"
    }
   ],
   "source": [
    "pron.phones_for_word(\"maybe\")[0]"
   ]
  },
  {
   "cell_type": "code",
   "execution_count": 82,
   "id": "useful-neutral",
   "metadata": {},
   "outputs": [
    {
     "data": {
      "text/plain": [
       "'EH0 S EY1'"
      ]
     },
     "execution_count": 82,
     "metadata": {},
     "output_type": "execute_result"
    }
   ],
   "source": [
    "pron.phones_for_word(\"essay\")[0]"
   ]
  },
  {
   "cell_type": "code",
   "execution_count": 7,
   "id": "upper-syndrome",
   "metadata": {},
   "outputs": [
    {
     "ename": "IndexError",
     "evalue": "list index out of range",
     "output_type": "error",
     "traceback": [
      "\u001b[0;31m---------------------------------------------------------------------------\u001b[0m",
      "\u001b[0;31mIndexError\u001b[0m                                Traceback (most recent call last)",
      "\u001b[0;32m<ipython-input-7-9ce4e65cfa90>\u001b[0m in \u001b[0;36m<module>\u001b[0;34m\u001b[0m\n\u001b[0;32m----> 1\u001b[0;31m \u001b[0mpron\u001b[0m\u001b[0;34m.\u001b[0m\u001b[0msyllable_count\u001b[0m\u001b[0;34m(\u001b[0m\u001b[0mpron\u001b[0m\u001b[0;34m.\u001b[0m\u001b[0mphones_for_word\u001b[0m\u001b[0;34m(\u001b[0m\u001b[0;34m'desktop_computer'\u001b[0m\u001b[0;34m)\u001b[0m\u001b[0;34m[\u001b[0m\u001b[0;36m0\u001b[0m\u001b[0;34m]\u001b[0m\u001b[0;34m)\u001b[0m\u001b[0;34m\u001b[0m\u001b[0;34m\u001b[0m\u001b[0m\n\u001b[0m",
      "\u001b[0;31mIndexError\u001b[0m: list index out of range"
     ]
    }
   ],
   "source": [
    "pron.syllable_count(pron.phones_for_word('desktop_computer')[0])"
   ]
  },
  {
   "cell_type": "code",
   "execution_count": 13,
   "id": "bizarre-miracle",
   "metadata": {},
   "outputs": [
    {
     "data": {
      "text/plain": [
       "['aesop',\n",
       " 'allsop',\n",
       " 'allsopp',\n",
       " 'alltop',\n",
       " 'backdrop',\n",
       " 'backstop',\n",
       " 'barbershop',\n",
       " 'bebop',\n",
       " 'bellhop',\n",
       " 'blacktop',\n",
       " 'bookshop',\n",
       " 'bookstop',\n",
       " 'co-op',\n",
       " 'countertop',\n",
       " 'daytop',\n",
       " 'dunlop',\n",
       " 'eavesdrop',\n",
       " 'eyedrop',\n",
       " 'gigaflop',\n",
       " 'hilltop',\n",
       " 'lagniappe',\n",
       " 'laptop',\n",
       " 'lollipop',\n",
       " 'malaprop',\n",
       " 'mountaintop',\n",
       " 'pawnshop',\n",
       " 'paysop',\n",
       " 'photoshop',\n",
       " 'picop',\n",
       " 'raindrop',\n",
       " 'rasterop',\n",
       " 'robocop',\n",
       " 'rolltop',\n",
       " 'rooftop',\n",
       " 'sharecrop',\n",
       " 'shortstop',\n",
       " 'sweatshop',\n",
       " 'tabletop',\n",
       " 'turboprop',\n",
       " 'wardrop',\n",
       " 'workshop']"
      ]
     },
     "execution_count": 13,
     "metadata": {},
     "output_type": "execute_result"
    }
   ],
   "source": [
    "pron.rhymes('desktop')"
   ]
  },
  {
   "cell_type": "code",
   "execution_count": null,
   "id": "filled-uruguay",
   "metadata": {},
   "outputs": [],
   "source": []
  }
 ],
 "metadata": {
  "kernelspec": {
   "display_name": "Python [conda env:metis] *",
   "language": "python",
   "name": "conda-env-metis-py"
  },
  "language_info": {
   "codemirror_mode": {
    "name": "ipython",
    "version": 3
   },
   "file_extension": ".py",
   "mimetype": "text/x-python",
   "name": "python",
   "nbconvert_exporter": "python",
   "pygments_lexer": "ipython3",
   "version": "3.8.6"
  }
 },
 "nbformat": 4,
 "nbformat_minor": 5
}
