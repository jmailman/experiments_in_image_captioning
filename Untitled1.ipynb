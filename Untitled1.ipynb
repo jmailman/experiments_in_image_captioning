{
 "cells": [
  {
   "cell_type": "code",
   "execution_count": 10,
   "id": "prepared-computer",
   "metadata": {},
   "outputs": [
    {
     "data": {
      "text/plain": [
       "'D05206'"
      ]
     },
     "execution_count": 10,
     "metadata": {},
     "output_type": "execute_result"
    }
   ],
   "source": [
    "import phonetics\n",
    "import numpy as np\n",
    "\n",
    "import phonetics\n",
    "phonetics.dmetaphone('Danger')\n",
    "\n",
    "#algorithms = [\"soundex\", \"caverphone\", \"metaphone\", \"nysiis\"]\n",
    "phonetics.soundex('Danger')\n",
    "\n",
    "# def levenshtein(seq1, seq2):  \n",
    "#     size_x = len(seq1) + 1\n",
    "#     size_y = len(seq2) + 1\n",
    "#     matrix = np.zeros ((size_x, size_y))\n",
    "#     for x in xrange(size_x):\n",
    "#         matrix [x, 0] = x\n",
    "#     for y in xrange(size_y):\n",
    "#         matrix [0, y] = y\n",
    "\n",
    "#     for x in xrange(1, size_x):\n",
    "#         for y in xrange(1, size_y):\n",
    "#             if seq1[x-1] == seq2[y-1]:\n",
    "#                 matrix [x,y] = min(\n",
    "#                     matrix[x-1, y] + 1,\n",
    "#                     matrix[x-1, y-1],\n",
    "#                     matrix[x, y-1] + 1\n",
    "#                 )\n",
    "#             else:\n",
    "#                 matrix [x,y] = min(\n",
    "#                     matrix[x-1,y] + 1,\n",
    "#                     matrix[x-1,y-1] + 1,\n",
    "#                     matrix[x,y-1] + 1\n",
    "#                 )\n",
    "#     return (matrix[size_x - 1, size_y - 1])\n",
    "\n",
    "# # -- initialize phonetics object\n",
    "\n",
    "# word1 = phonetics.phonetics(\"Knuth\")\n",
    "# word2 = Phonetics(\"Kant\")\n",
    "# print (\"Comparing %s with %s\" % (word1.getText(), word2.getText()))\n",
    "\n",
    "# # -- phonetic code\n",
    "# codeList1 = word1.phoneticCode()\n",
    "# codeList2 = word2.phoneticCode()\n",
    "\n",
    "# # -- weight\n",
    "# weight = {\n",
    "#     \"soundex\": 0.2,\n",
    "#     \"caverphone\": 0.2,\n",
    "#     \"metaphone\": 0.5,\n",
    "#     \"nysiis\": 0.1\n",
    "# }\n",
    "\n",
    "# # -- algorithms\n",
    "# algorithms = [\"soundex\", \"caverphone\", \"metaphone\", \"nysiis\"]\n",
    "\n",
    "# # -- total\n",
    "# total = 0.0\n",
    "# for entry in algorithms:\n",
    "#     code1 = codeList1[entry]\n",
    "#     code2 = codeList2[entry]\n",
    "#     lev = levenshtein (code1, code2)\n",
    "#     currentWeight = weight[entry]\n",
    "#     print (\"comparing %s with %s for %s (%0.2f: weight %0.2f)\" % (code1, code2, entry, lev, currentWeight))\n",
    "#     subtotal = lev * currentWeight\n",
    "#     total += subtotal\n",
    "\n",
    "# print (\"total: %0.2f\" % total)"
   ]
  },
  {
   "cell_type": "code",
   "execution_count": 11,
   "id": "sensitive-squad",
   "metadata": {},
   "outputs": [
    {
     "data": {
      "text/plain": [
       "('TNJR', 'TNKR')"
      ]
     },
     "execution_count": 11,
     "metadata": {},
     "output_type": "execute_result"
    }
   ],
   "source": [
    "phonetics.dmetaphone('Danger')\n",
    "\n",
    "#algorithms = [\"soundex\", \"metaphone\", \"nysiis\"]\n"
   ]
  },
  {
   "cell_type": "code",
   "execution_count": 12,
   "id": "clear-switch",
   "metadata": {},
   "outputs": [
    {
     "data": {
      "text/plain": [
       "'D05206'"
      ]
     },
     "execution_count": 12,
     "metadata": {},
     "output_type": "execute_result"
    }
   ],
   "source": [
    "phonetics.soundex('Danger')"
   ]
  },
  {
   "cell_type": "code",
   "execution_count": 13,
   "id": "attached-antibody",
   "metadata": {},
   "outputs": [
    {
     "data": {
      "text/plain": [
       "'D03206'"
      ]
     },
     "execution_count": 13,
     "metadata": {},
     "output_type": "execute_result"
    }
   ],
   "source": [
    "phonetics.soundex('Dodger')"
   ]
  },
  {
   "cell_type": "code",
   "execution_count": 16,
   "id": "southwest-neighborhood",
   "metadata": {},
   "outputs": [
    {
     "data": {
      "text/plain": [
       "'TJR'"
      ]
     },
     "execution_count": 16,
     "metadata": {},
     "output_type": "execute_result"
    }
   ],
   "source": [
    "phonetics.metaphone('Dodger')"
   ]
  },
  {
   "cell_type": "code",
   "execution_count": 20,
   "id": "polished-allowance",
   "metadata": {},
   "outputs": [
    {
     "data": {
      "text/plain": [
       "'TRKNFL'"
      ]
     },
     "execution_count": 20,
     "metadata": {},
     "output_type": "execute_result"
    }
   ],
   "source": [
    "phonetics.metaphone('dragonfly')"
   ]
  },
  {
   "cell_type": "code",
   "execution_count": 21,
   "id": "premier-giant",
   "metadata": {},
   "outputs": [
    {
     "data": {
      "text/plain": [
       "'TRNKLT'"
      ]
     },
     "execution_count": 21,
     "metadata": {},
     "output_type": "execute_result"
    }
   ],
   "source": [
    "phonetics.metaphone('drank a lot')"
   ]
  },
  {
   "cell_type": "code",
   "execution_count": 22,
   "id": "revolutionary-kenya",
   "metadata": {},
   "outputs": [
    {
     "data": {
      "text/plain": [
       "'DA'"
      ]
     },
     "execution_count": 22,
     "metadata": {},
     "output_type": "execute_result"
    }
   ],
   "source": [
    "phonetics.nysiis('drank a lot')"
   ]
  },
  {
   "cell_type": "code",
   "execution_count": 26,
   "id": "photographic-technical",
   "metadata": {},
   "outputs": [
    {
     "data": {
      "text/plain": [
       "'DA'"
      ]
     },
     "execution_count": 26,
     "metadata": {},
     "output_type": "execute_result"
    }
   ],
   "source": [
    "phonetics.nysiis('dranger')"
   ]
  },
  {
   "cell_type": "code",
   "execution_count": null,
   "id": "portuguese-bulletin",
   "metadata": {},
   "outputs": [],
   "source": []
  }
 ],
 "metadata": {
  "kernelspec": {
   "display_name": "Python [conda env:metis] *",
   "language": "python",
   "name": "conda-env-metis-py"
  },
  "language_info": {
   "codemirror_mode": {
    "name": "ipython",
    "version": 3
   },
   "file_extension": ".py",
   "mimetype": "text/x-python",
   "name": "python",
   "nbconvert_exporter": "python",
   "pygments_lexer": "ipython3",
   "version": "3.8.6"
  }
 },
 "nbformat": 4,
 "nbformat_minor": 5
}
