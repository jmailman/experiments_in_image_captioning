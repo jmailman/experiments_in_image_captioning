{
 "cells": [
  {
   "cell_type": "code",
   "execution_count": 33,
   "id": "annoying-residence",
   "metadata": {},
   "outputs": [],
   "source": [
    "import fuzzy\n",
    "import phonetics\n",
    "import Levenshtein as lev\n",
    "\n",
    "soundex = fuzzy.Soundex(4)\n",
    "dmeta = fuzzy.DMetaphone()\n",
    "\n",
    "word = 'oyster'\n",
    "word2 = 'oyster'\n"
   ]
  },
  {
   "cell_type": "code",
   "execution_count": null,
   "id": "comparative-questionnaire",
   "metadata": {},
   "outputs": [],
   "source": [
    "def compare_words(w1, w2):\n",
    "    print('fuzzy soundex ', lev.distance(soundex(w1, w2)))\n",
    "    "
   ]
  },
  {
   "cell_type": "code",
   "execution_count": 27,
   "id": "above-detection",
   "metadata": {},
   "outputs": [
    {
     "data": {
      "text/plain": [
       "'O236'"
      ]
     },
     "execution_count": 27,
     "metadata": {},
     "output_type": "execute_result"
    }
   ],
   "source": [
    "soundex(word)"
   ]
  },
  {
   "cell_type": "code",
   "execution_count": 28,
   "id": "level-protest",
   "metadata": {},
   "outputs": [
    {
     "data": {
      "text/plain": [
       "[b'ASTR', None]"
      ]
     },
     "execution_count": 28,
     "metadata": {},
     "output_type": "execute_result"
    }
   ],
   "source": [
    "\n",
    "dmeta(word)"
   ]
  },
  {
   "cell_type": "code",
   "execution_count": 29,
   "id": "breathing-retail",
   "metadata": {},
   "outputs": [
    {
     "data": {
      "text/plain": [
       "'OSTAR'"
      ]
     },
     "execution_count": 29,
     "metadata": {},
     "output_type": "execute_result"
    }
   ],
   "source": [
    "fuzzy.nysiis(word)"
   ]
  },
  {
   "cell_type": "code",
   "execution_count": 30,
   "id": "forced-wrong",
   "metadata": {},
   "outputs": [
    {
     "data": {
      "text/plain": [
       "('ASTR', '')"
      ]
     },
     "execution_count": 30,
     "metadata": {},
     "output_type": "execute_result"
    }
   ],
   "source": [
    "\n",
    "\n",
    "phonetics.dmetaphone(word)"
   ]
  },
  {
   "cell_type": "code",
   "execution_count": 31,
   "id": "postal-detroit",
   "metadata": {},
   "outputs": [
    {
     "data": {
      "text/plain": [
       "'ASTR'"
      ]
     },
     "execution_count": 31,
     "metadata": {},
     "output_type": "execute_result"
    }
   ],
   "source": [
    "phonetics.metaphone(word)"
   ]
  },
  {
   "cell_type": "code",
   "execution_count": 32,
   "id": "thirty-editing",
   "metadata": {},
   "outputs": [
    {
     "data": {
      "text/plain": [
       "'OA'"
      ]
     },
     "execution_count": 32,
     "metadata": {},
     "output_type": "execute_result"
    }
   ],
   "source": [
    "phonetics.nysiis(word)"
   ]
  },
  {
   "cell_type": "code",
   "execution_count": null,
   "id": "trying-ultimate",
   "metadata": {},
   "outputs": [],
   "source": []
  },
  {
   "cell_type": "code",
   "execution_count": null,
   "id": "comprehensive-light",
   "metadata": {},
   "outputs": [],
   "source": []
  }
 ],
 "metadata": {
  "kernelspec": {
   "display_name": "Python [conda env:metis] *",
   "language": "python",
   "name": "conda-env-metis-py"
  },
  "language_info": {
   "codemirror_mode": {
    "name": "ipython",
    "version": 3
   },
   "file_extension": ".py",
   "mimetype": "text/x-python",
   "name": "python",
   "nbconvert_exporter": "python",
   "pygments_lexer": "ipython3",
   "version": "3.8.6"
  }
 },
 "nbformat": 4,
 "nbformat_minor": 5
}
