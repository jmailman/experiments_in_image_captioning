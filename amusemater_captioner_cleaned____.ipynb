{
 "cells": [
  {
   "cell_type": "markdown",
   "id": "loving-discipline",
   "metadata": {},
   "source": [
    "## 1 — Recognize objects in image (or classify image)\n",
    "\n",
    "Using trained NN, get object label or labels for image, or otherwise provide a label for the image. Also store the centrality of the object. "
   ]
  },
  {
   "cell_type": "markdown",
   "id": "posted-voltage",
   "metadata": {},
   "source": [
    "## 2  — Generate semantic word families\n",
    "\n",
    "For each label, use Word2Vec `similar` to retrieve list of words semantically related to the image object labels"
   ]
  },
  {
   "cell_type": "markdown",
   "id": "located-chosen",
   "metadata": {},
   "source": [
    "## 3 — Generate all related words\n",
    "\n",
    "For each semantically related (below a distance threshold) word to each object label, measure its phonetic similarity to all words in the dictionary. Also store each words's distance.\n",
    "\n",
    "For each word in each semantic family, sort and choose the phonetically closest (below a distance threshold) words.\n",
    "(One way is to convert the word to IPA and compare to an IPA converted version of every word in the CMU dictionary.)"
   ]
  },
  {
   "cell_type": "markdown",
   "id": "together-mississippi",
   "metadata": {},
   "source": [
    "## 4 — Gather candidate phrases\n",
    "\n",
    "For each word in the phonetic family, of each word in the semantic family, of each object label, retrieve each idiom containing the word.\n",
    "Add the idiom Id, as well as the stats on the object centrality, semantic distance, and phonetic distance, to a dataframe.\n",
    "\n",
    "Compute _suitability score_ for each word-idiom match and add this to that column of the dataframe\n",
    "\n",
    "Also, for each word in the semantic family, search the joke list for match and add that these to a joke_match dataframe, to use if there's too low a suitability score using a substitution.\n"
   ]
  },
  {
   "cell_type": "markdown",
   "id": "incorporate-application",
   "metadata": {},
   "source": [
    "## 5 — Choose captions\n",
    "\n",
    "Sort captions dataframe by the _suitability score_\n",
    "\n",
    "Choose the top 10 and generate a list containing each caption with the original semantic family word substituted into the idiom in addition to jokes containing any of the semantic family words"
   ]
  },
  {
   "cell_type": "code",
   "execution_count": null,
   "id": "destroyed-median",
   "metadata": {},
   "outputs": [],
   "source": [
    "# \"\"\"\n",
    "# In jupyter notebook simple logging to console\n",
    "# \"\"\"\n",
    "# import logging\n",
    "# import sys\n",
    "\n",
    "# logging.basicConfig(stream=sys.stdout, level=logging.INFO)\n",
    "\n",
    "# # Test\n",
    "# logger = logging.getLogger('LOGGER_NAME')\n",
    "\n",
    "# logger.debug('This is hidden')\n",
    "# logger.info('So this is shown on the console')\n",
    "# logger.warning('This too')"
   ]
  },
  {
   "cell_type": "code",
   "execution_count": 9,
   "id": "polished-inside",
   "metadata": {},
   "outputs": [],
   "source": [
    "import pandas as pd\n",
    "from collections import namedtuple\n",
    "import uuid"
   ]
  },
  {
   "cell_type": "markdown",
   "id": "going-waste",
   "metadata": {},
   "source": [
    "## -1  — Webscrape and process phrases (idioms, sayings, aphorisms)\n",
    "\n",
    "They should be converted into lists of phonetic sounds"
   ]
  },
  {
   "cell_type": "markdown",
   "id": "typical-omega",
   "metadata": {},
   "source": [
    "## 0  — Load `phrase_dict` pickled and processed after being scraped"
   ]
  },
  {
   "cell_type": "markdown",
   "id": "material-indication",
   "metadata": {},
   "source": [
    "#### Data structures defined"
   ]
  },
  {
   "cell_type": "code",
   "execution_count": 251,
   "id": "polish-pierre",
   "metadata": {},
   "outputs": [],
   "source": [
    "Phrase = namedtuple('Phrase',['text_string', 'word_list','phon_list','string_length', 'word_count', 'prefix', 'phrase_type'])\n",
    "\n",
    "Close_word = namedtuple('Close_word', ['word', 'distance'])\n",
    "Sem_family = namedtuple('Sem_family', ['locus_word', 'sem_fam_words'])\n",
    "Phon_family = namedtuple('Phon_family', ['locus_word', 'close_words'])"
   ]
  },
  {
   "cell_type": "markdown",
   "id": "unable-browser",
   "metadata": {},
   "source": [
    "#### Temporary toy example of the dict of phrases, to be replaced with idioms etc. scraped from web"
   ]
  },
  {
   "cell_type": "code",
   "execution_count": 252,
   "id": "eastern-brain",
   "metadata": {},
   "outputs": [],
   "source": [
    "def seed_the_phrase_dictionary_with_examples(phrase_dict_ ):\n",
    "    t_string = 'smarter than the average bear'\n",
    "    w_list = t_string.lower().split()\n",
    "    ph_id1 = uuid.uuid1()\n",
    "    phrase_dict_[ph_id1] = Phrase(text_string = t_string, word_list = w_list, phon_list = w_list, string_length = len(t_string), word_count = len(w_list), prefix=\"As usual: \", phrase_type='idiom' )\n",
    "\n",
    "    # toy example of the dict\n",
    "    t_string = 'not a hair out of place'\n",
    "    w_list = t_string.lower().split()\n",
    "    ph_id2 = uuid.uuid1()\n",
    "    phrase_dict_[ph_id2] = Phrase(text_string = t_string, word_list = w_list, phon_list = w_list, string_length = len(t_string), word_count = len(w_list), prefix=\"As usual: \", phrase_type='idiom' )\n",
    "\n",
    "    # toy example of the dict\n",
    "    t_string = 'three blind mice'\n",
    "    w_list = t_string.lower().split()\n",
    "    ph_id3 = uuid.uuid1()\n",
    "    phrase_dict_[ph_id3] = Phrase(text_string = t_string, word_list = w_list, phon_list = w_list, string_length = len(t_string), word_count = len(w_list), prefix=\"As usual: \", phrase_type='idiom' )\n",
    "\n",
    "    # toy example of the dict\n",
    "    t_string = 'i just called to say I love you'\n",
    "    w_list = t_string.lower().split()\n",
    "    ph_id4 = uuid.uuid1()\n",
    "    phrase_dict_[ph_id4] = Phrase(text_string = t_string, word_list = w_list, phon_list = w_list, string_length = len(t_string), word_count = len(w_list), prefix=\"As usual: \", phrase_type='idiom' )\n",
    "\n",
    "    t_string = 'up, up in the air'\n",
    "    w_list = t_string.lower().split()\n",
    "    ph_id5 = uuid.uuid1()\n",
    "    phrase_dict_[ph_id5] = Phrase(text_string = t_string, word_list = w_list, phon_list = w_list, string_length = len(t_string), word_count = len(w_list), prefix=\"As usual: \", phrase_type='idiom' )\n",
    "\n",
    "    t_string = 'wouldn\\'t it be nice'\n",
    "    w_list = t_string.lower().split()\n",
    "    ph_id6 = uuid.uuid1()\n",
    "    phrase_dict_[ph_id6] = Phrase(text_string = t_string, word_list = w_list, phon_list = w_list, string_length = len(t_string), word_count = len(w_list), prefix=\"As usual: \", phrase_type='idiom' )\n",
    "\n",
    "    t_string = 'roses are red, violets are blue'\n",
    "    w_list = t_string.lower().split()\n",
    "    ph_id7 = uuid.uuid1()\n",
    "    phrase_dict_[ph_id7] = Phrase(text_string = t_string, word_list = w_list, phon_list = w_list, string_length = len(t_string), word_count = len(w_list), prefix=\"As usual: \", phrase_type='idiom' )\n",
    "\n",
    "#seed_the_phrase_dictionary_with_examples()"
   ]
  },
  {
   "cell_type": "code",
   "execution_count": 253,
   "id": "brilliant-destination",
   "metadata": {},
   "outputs": [],
   "source": [
    "# change this so that it imports into a pandas dataframe, so that we can import conversational \n",
    "# prefixes and suffixes manually editied in Excel\n",
    "\n",
    "import csv\n",
    "\n",
    "def compile_idiom_lists():\n",
    "    idiom_list_ = []\n",
    "    with open('data/idioms_1500.csv', 'r') as idioms_data: \n",
    "        for line in csv.reader(idioms_data):\n",
    "            idiom_list_.extend(line)\n",
    "    idiom_list_ = idiom_list_[1:]\n",
    "    return idiom_list_\n",
    "    \n",
    "#idiom_list = compile_idiom_lists()\n"
   ]
  },
  {
   "cell_type": "code",
   "execution_count": 254,
   "id": "final-casting",
   "metadata": {},
   "outputs": [],
   "source": [
    "import pickle\n",
    "   "
   ]
  },
  {
   "cell_type": "markdown",
   "id": "innocent-limitation",
   "metadata": {},
   "source": [
    "## 1 — Recognize objects in image (or classify image)\n",
    "\n",
    "Using trained NN, get object label or labels for image, or otherwise provide a label for the image. Also store the centrality of the object. "
   ]
  },
  {
   "cell_type": "code",
   "execution_count": 255,
   "id": "leading-surge",
   "metadata": {},
   "outputs": [],
   "source": [
    "import numpy as np\n",
    "import tensorflow as tf\n",
    "import matplotlib.pyplot as plt\n",
    "from tf_explain.core.activations import ExtractActivations\n",
    "from tensorflow.keras.applications.xception import decode_predictions\n",
    "\n",
    "\n",
    "#%matplotlib inline"
   ]
  },
  {
   "cell_type": "code",
   "execution_count": 256,
   "id": "polar-summer",
   "metadata": {},
   "outputs": [],
   "source": [
    "def load_image_classification_model():\n",
    "    model_ = tf.keras.applications.xception.Xception(weights = 'imagenet', include_top=True)\n",
    "    return model_\n",
    "\n",
    "import requests\n",
    "def get_image_category_labels():  # is this function even necessary?\n",
    "    #fetching labels from Imagenet\n",
    "    response=requests.get('https://storage.googleapis.com/download.tensorflow.org/data/imagenet_class_index.json')\n",
    "    imgnet_map=response.json()\n",
    "    #imgnet_map   # {'0': ['n01440764', 'tench'],   '1': ['n01443537', 'goldfish'], etc.\n",
    "    \n",
    "    imgnet_num_from_label = {v[1]:k for k, v in imgnet_map.items()}\n",
    "    imgnet_label_from_num = {k:v[1] for k, v in imgnet_map.items()}\n",
    "\n",
    "    return ( imgnet_num_from_label, imgnet_label_from_num ) \n",
    "\n",
    "#model = prepare_image_classification_model()"
   ]
  },
  {
   "cell_type": "code",
   "execution_count": 257,
   "id": "tired-lotus",
   "metadata": {},
   "outputs": [],
   "source": [
    "import re\n",
    "import csv\n",
    "\n",
    "def get_curated_img_label_dict():    \n",
    "    img_label_dict = {}\n",
    "\n",
    "    with open('data/image_net_labels_with_original_index_numbers.txt', newline = '') as labels:                                                                                          \n",
    "        label_reader = csv.reader(labels, delimiter=' ')\n",
    "        for label_row in label_reader:\n",
    "            img_label_dict[label_row[0]] = label_row[2]\n",
    "            #img_label_dict        \n",
    "             \n",
    "\n",
    "#     filepath = 'data/imagenet1000_clsidx_to_labels.txt'\n",
    "#     with open(filepath) as fp:\n",
    "#         line = fp.readline()\n",
    "#         cnt = 0\n",
    "#         pattern = re.compile('([^\\s\\w]|_)+')\n",
    "#         while line:\n",
    "#             cleaner_line = re.sub(r'^\"', '', line, flags=re.I)\n",
    "#             cleaner_line = re.sub(r'^\\\"{', '', line, flags=re.I)\n",
    "#             cleaner_line = re.sub(r'\"$', '', cleaner_line, flags=re.I)\n",
    "#             # cleaner_line = re.sub(r'}$', '', cleaner_line, flags=re.I)\n",
    "#             label_string = cleaner_line.split(':')[1]\n",
    "#             stripped_string = pattern.sub('', label_string)\n",
    "#             stripped_string_list = stripped_string.split()\n",
    "#             img_label_dict[cnt] = stripped_string_list\n",
    "#             line=fp.readline()\n",
    "#             cnt+=1\n",
    "\n",
    "    return img_label_dict\n",
    "\n",
    "#img_label_dict = get_curated_img_label_dict()"
   ]
  },
  {
   "cell_type": "code",
   "execution_count": null,
   "id": "sought-dealer",
   "metadata": {},
   "outputs": [],
   "source": []
  },
  {
   "cell_type": "code",
   "execution_count": 258,
   "id": "united-equity",
   "metadata": {},
   "outputs": [],
   "source": [
    "def get_num_str( num, max_digits=4 ):\n",
    "    leading_zeros = int(max_digits - (np.trunc(np.log10(num))+1))\n",
    "    return '0'*leading_zeros + str(num)"
   ]
  },
  {
   "cell_type": "code",
   "execution_count": 259,
   "id": "first-honduras",
   "metadata": {},
   "outputs": [],
   "source": [
    "import random\n",
    "\n",
    "def get_image_path(img_num):\n",
    "    path_prefix = 'data/ILSVRC/Data/DET/test/'\n",
    "    filename_stem ='ILSVRC2017_test_0000'\n",
    "    filename_suffix = '.JPEG'\n",
    "    #file_number = rand_num = np.random.randint(1, 5500)   \n",
    "    IMAGE_PATH_ = path_prefix + filename_stem + get_num_str( img_num ) + filename_suffix\n",
    "    return IMAGE_PATH_\n",
    "    \n",
    "def preprocess_image( IMAGE_PATH_ ):\n",
    "    img_ =tf.keras.preprocessing.image.load_img(IMAGE_PATH_, target_size=(299, 299))\n",
    "    img_ =tf.keras.preprocessing.image.img_to_array(img_)\n",
    "    # prepare to show and save image\n",
    "    ax = plt.axes([0,0,1,1], frameon=False)\n",
    "    ax.get_xaxis().set_visible(False)\n",
    "    ax.get_yaxis().set_visible(False)\n",
    "    plt.autoscale(tight=True)\n",
    "    ax.axes.xaxis.set_visible(False)\n",
    "    ax.axes.yaxis.set_visible(False)\n",
    "    plt.imshow(img_/255.)\n",
    "    plt.savefig('data/temp.png',bbox_inches='tight')\n",
    "    return img_ # It seems futile to return this image\n",
    "\n",
    "def process_and_classify_image( img_, model_):\n",
    "    img_ = tf.keras.applications.xception.preprocess_input(img_)\n",
    "    #print( 'img.shape: ', img_.shape )\n",
    "    prediction_array = model_.predict(np.array([img_]))\n",
    "    return prediction_array\n",
    "\n",
    "def extract_best_prediction(img_label_dict_, prediction_array_ ):\n",
    "    prediction_decoded = decode_predictions(prediction_array_, top=1)\n",
    "    #print( prediction_decoded[0][0][0] )\n",
    "#   best_prediction_str = prediction_decoded[0][0][1]\n",
    "    best_prediction_str = img_label_dict_[ prediction_decoded[0][0][0] ]\n",
    "    #print(best_prediction_str)\n",
    "    return best_prediction_str\n",
    "#    \n",
    "\n",
    "    "
   ]
  },
  {
   "cell_type": "code",
   "execution_count": 260,
   "id": "injured-coast",
   "metadata": {},
   "outputs": [],
   "source": [
    "#!pwd"
   ]
  },
  {
   "cell_type": "code",
   "execution_count": 347,
   "id": "iraqi-cleaners",
   "metadata": {},
   "outputs": [],
   "source": [
    "import pickle\n",
    "import streamlit as st\n",
    "\n",
    "#@st.cache(show_spinner=False)\n",
    "def image_recognition_pipeline( model_,  img_label_dict_, img_num = np.random.randint(1, 5500)):\n",
    "    #model_ = prepare_image_classification_model()\n",
    "    IMAGE_PATH = get_image_path( img_num )\n",
    "    img = preprocess_image( IMAGE_PATH )\n",
    "    prediction_array = process_and_classify_image( img, model_)\n",
    "    # image_topic_ = extract_best_prediction( img_label_dict_, prediction_array )\n",
    "    # image_topics_ = [image_topic_]\n",
    "    image_topics_  = extract_best_prediction( img_label_dict_, prediction_array )\n",
    "    with open(\"data/\" + \"image_topics.pickle\", 'wb') as to_write:\n",
    "        pickle.dump([image_topics_], to_write)\n",
    "      \n",
    "    return  img, [image_topics_]\n",
    "\n",
    "#image_recognition_pipeline(model, img_label_dict )\n",
    "\n",
    "#model = prepare_image_classification_model()\n",
    "#img, image_topics = image_recognition_pipeline(model, img_label_dict )\n",
    "# image_topics"
   ]
  },
  {
   "cell_type": "code",
   "execution_count": 401,
   "id": "consecutive-lemon",
   "metadata": {},
   "outputs": [],
   "source": [
    "import gensim\n",
    "from gensim.models import Word2Vec\n",
    "\n",
    "\n",
    "#@st.cache (show_spinner=False)\n",
    "def load_w2v_kv_model():\n",
    "    glove_file = glove_dir  = 'data/glove.6B/glove.6B.100d.txt'\n",
    "\n",
    "    w2v_output_file = 'data/glove.6B/glove.6B.100d.txt.w2v'\n",
    "    gensim.scripts.glove2word2vec.glove2word2vec(glove_file, w2v_output_file)\n",
    "    # Now we can load it!\n",
    "    model = gensim.models.KeyedVectors.load_word2vec_format(w2v_output_file, binary=False)\n",
    "    return model\n",
    "\n",
    "#load_w2v_kv_model()"
   ]
  },
  {
   "cell_type": "code",
   "execution_count": 522,
   "id": "documentary-analysis",
   "metadata": {},
   "outputs": [
    {
     "name": "stderr",
     "output_type": "stream",
     "text": [
      "2021-03-21 21:03:45.785 INFO    gensim.models.word2vec: collecting all words and their counts\n",
      "2021-03-21 21:03:45.788 INFO    gensim.models.word2vec: PROGRESS: at sentence #0, processed 0 words, keeping 0 word types\n",
      "2021-03-21 21:03:50.121 INFO    gensim.models.word2vec: collected 253854 word types from a corpus of 17005207 raw words and 1701 sentences\n",
      "2021-03-21 21:03:50.121 INFO    gensim.models.word2vec: Loading a fresh vocabulary\n",
      "2021-03-21 21:03:50.390 INFO    gensim.models.word2vec: effective_min_count=5 retains 71290 unique words (28% of original 253854, drops 182564)\n",
      "2021-03-21 21:03:50.390 INFO    gensim.models.word2vec: effective_min_count=5 leaves 16718844 word corpus (98% of original 17005207, drops 286363)\n",
      "2021-03-21 21:03:50.555 INFO    gensim.models.word2vec: deleting the raw counts dictionary of 253854 items\n",
      "2021-03-21 21:03:50.563 INFO    gensim.models.word2vec: sample=0.001 downsamples 38 most-common words\n",
      "2021-03-21 21:03:50.563 INFO    gensim.models.word2vec: downsampling leaves estimated 12506280 word corpus (74.8% of prior 16718844)\n",
      "2021-03-21 21:03:50.761 INFO    gensim.models.base_any2vec: estimated required memory for 71290 words and 100 dimensions: 92677000 bytes\n",
      "2021-03-21 21:03:50.762 INFO    gensim.models.word2vec: resetting layer weights\n",
      "2021-03-21 21:04:00.167 INFO    gensim.models.base_any2vec: training model with 3 workers on 71290 vocabulary and 100 features, using sg=1 hs=0 sample=0.001 negative=5 window=5\n",
      "2021-03-21 21:04:01.174 INFO    gensim.models.base_any2vec: EPOCH 1 - PROGRESS: at 3.35% examples, 419062 words/s, in_qsize 5, out_qsize 0\n",
      "2021-03-21 21:04:02.188 INFO    gensim.models.base_any2vec: EPOCH 1 - PROGRESS: at 6.82% examples, 419359 words/s, in_qsize 5, out_qsize 0\n",
      "2021-03-21 21:04:03.209 INFO    gensim.models.base_any2vec: EPOCH 1 - PROGRESS: at 10.05% examples, 410714 words/s, in_qsize 5, out_qsize 0\n",
      "2021-03-21 21:04:04.249 INFO    gensim.models.base_any2vec: EPOCH 1 - PROGRESS: at 13.58% examples, 413938 words/s, in_qsize 5, out_qsize 0\n",
      "2021-03-21 21:04:05.259 INFO    gensim.models.base_any2vec: EPOCH 1 - PROGRESS: at 16.93% examples, 413813 words/s, in_qsize 5, out_qsize 0\n",
      "2021-03-21 21:04:06.261 INFO    gensim.models.base_any2vec: EPOCH 1 - PROGRESS: at 20.28% examples, 414434 words/s, in_qsize 5, out_qsize 0\n",
      "2021-03-21 21:04:07.281 INFO    gensim.models.base_any2vec: EPOCH 1 - PROGRESS: at 23.69% examples, 415804 words/s, in_qsize 5, out_qsize 0\n",
      "2021-03-21 21:04:08.296 INFO    gensim.models.base_any2vec: EPOCH 1 - PROGRESS: at 27.04% examples, 415609 words/s, in_qsize 5, out_qsize 0\n",
      "2021-03-21 21:04:09.312 INFO    gensim.models.base_any2vec: EPOCH 1 - PROGRESS: at 30.28% examples, 414265 words/s, in_qsize 5, out_qsize 0\n",
      "2021-03-21 21:04:10.325 INFO    gensim.models.base_any2vec: EPOCH 1 - PROGRESS: at 33.45% examples, 412524 words/s, in_qsize 5, out_qsize 0\n",
      "2021-03-21 21:04:11.326 INFO    gensim.models.base_any2vec: EPOCH 1 - PROGRESS: at 36.68% examples, 412149 words/s, in_qsize 5, out_qsize 0\n",
      "2021-03-21 21:04:12.352 INFO    gensim.models.base_any2vec: EPOCH 1 - PROGRESS: at 40.04% examples, 411873 words/s, in_qsize 5, out_qsize 0\n",
      "2021-03-21 21:04:13.377 INFO    gensim.models.base_any2vec: EPOCH 1 - PROGRESS: at 43.39% examples, 411782 words/s, in_qsize 5, out_qsize 0\n",
      "2021-03-21 21:04:14.391 INFO    gensim.models.base_any2vec: EPOCH 1 - PROGRESS: at 46.74% examples, 412054 words/s, in_qsize 5, out_qsize 0\n",
      "2021-03-21 21:04:15.393 INFO    gensim.models.base_any2vec: EPOCH 1 - PROGRESS: at 50.03% examples, 412108 words/s, in_qsize 5, out_qsize 0\n",
      "2021-03-21 21:04:16.400 INFO    gensim.models.base_any2vec: EPOCH 1 - PROGRESS: at 52.97% examples, 409345 words/s, in_qsize 5, out_qsize 0\n",
      "2021-03-21 21:04:17.401 INFO    gensim.models.base_any2vec: EPOCH 1 - PROGRESS: at 56.08% examples, 408317 words/s, in_qsize 5, out_qsize 0\n",
      "2021-03-21 21:04:18.405 INFO    gensim.models.base_any2vec: EPOCH 1 - PROGRESS: at 59.38% examples, 408411 words/s, in_qsize 5, out_qsize 0\n",
      "2021-03-21 21:04:19.405 INFO    gensim.models.base_any2vec: EPOCH 1 - PROGRESS: at 62.73% examples, 408997 words/s, in_qsize 5, out_qsize 0\n",
      "2021-03-21 21:04:20.412 INFO    gensim.models.base_any2vec: EPOCH 1 - PROGRESS: at 66.14% examples, 409744 words/s, in_qsize 5, out_qsize 0\n",
      "2021-03-21 21:04:21.415 INFO    gensim.models.base_any2vec: EPOCH 1 - PROGRESS: at 69.55% examples, 410545 words/s, in_qsize 5, out_qsize 0\n",
      "2021-03-21 21:04:22.427 INFO    gensim.models.base_any2vec: EPOCH 1 - PROGRESS: at 72.90% examples, 410829 words/s, in_qsize 5, out_qsize 0\n",
      "2021-03-21 21:04:23.433 INFO    gensim.models.base_any2vec: EPOCH 1 - PROGRESS: at 76.37% examples, 411254 words/s, in_qsize 5, out_qsize 0\n",
      "2021-03-21 21:04:24.438 INFO    gensim.models.base_any2vec: EPOCH 1 - PROGRESS: at 79.78% examples, 411532 words/s, in_qsize 5, out_qsize 0\n",
      "2021-03-21 21:04:25.439 INFO    gensim.models.base_any2vec: EPOCH 1 - PROGRESS: at 83.19% examples, 411999 words/s, in_qsize 5, out_qsize 0\n",
      "2021-03-21 21:04:26.440 INFO    gensim.models.base_any2vec: EPOCH 1 - PROGRESS: at 86.60% examples, 412580 words/s, in_qsize 4, out_qsize 0\n",
      "2021-03-21 21:04:27.442 INFO    gensim.models.base_any2vec: EPOCH 1 - PROGRESS: at 89.95% examples, 412854 words/s, in_qsize 5, out_qsize 0\n",
      "2021-03-21 21:04:28.449 INFO    gensim.models.base_any2vec: EPOCH 1 - PROGRESS: at 93.36% examples, 413080 words/s, in_qsize 5, out_qsize 0\n",
      "2021-03-21 21:04:29.464 INFO    gensim.models.base_any2vec: EPOCH 1 - PROGRESS: at 96.77% examples, 413267 words/s, in_qsize 5, out_qsize 0\n",
      "2021-03-21 21:04:30.417 INFO    gensim.models.base_any2vec: worker thread finished; awaiting finish of 2 more threads\n",
      "2021-03-21 21:04:30.418 INFO    gensim.models.base_any2vec: worker thread finished; awaiting finish of 1 more threads\n",
      "2021-03-21 21:04:30.439 INFO    gensim.models.base_any2vec: worker thread finished; awaiting finish of 0 more threads\n",
      "2021-03-21 21:04:30.440 INFO    gensim.models.base_any2vec: EPOCH - 1 : training on 17005207 raw words (12506338 effective words) took 30.3s, 413162 effective words/s\n",
      "2021-03-21 21:04:31.475 INFO    gensim.models.base_any2vec: EPOCH 2 - PROGRESS: at 3.23% examples, 392896 words/s, in_qsize 5, out_qsize 0\n",
      "2021-03-21 21:04:32.479 INFO    gensim.models.base_any2vec: EPOCH 2 - PROGRESS: at 6.64% examples, 404625 words/s, in_qsize 5, out_qsize 0\n",
      "2021-03-21 21:04:33.481 INFO    gensim.models.base_any2vec: EPOCH 2 - PROGRESS: at 9.94% examples, 405942 words/s, in_qsize 5, out_qsize 0\n",
      "2021-03-21 21:04:34.520 INFO    gensim.models.base_any2vec: EPOCH 2 - PROGRESS: at 13.46% examples, 410359 words/s, in_qsize 5, out_qsize 0\n",
      "2021-03-21 21:04:35.560 INFO    gensim.models.base_any2vec: EPOCH 2 - PROGRESS: at 16.99% examples, 413062 words/s, in_qsize 5, out_qsize 0\n",
      "2021-03-21 21:04:36.597 INFO    gensim.models.base_any2vec: EPOCH 2 - PROGRESS: at 20.52% examples, 415036 words/s, in_qsize 5, out_qsize 0\n",
      "2021-03-21 21:04:37.602 INFO    gensim.models.base_any2vec: EPOCH 2 - PROGRESS: at 23.87% examples, 416118 words/s, in_qsize 5, out_qsize 0\n",
      "2021-03-21 21:04:38.608 INFO    gensim.models.base_any2vec: EPOCH 2 - PROGRESS: at 27.22% examples, 416380 words/s, in_qsize 5, out_qsize 0\n",
      "2021-03-21 21:04:39.609 INFO    gensim.models.base_any2vec: EPOCH 2 - PROGRESS: at 30.57% examples, 417362 words/s, in_qsize 5, out_qsize 0\n",
      "2021-03-21 21:04:40.620 INFO    gensim.models.base_any2vec: EPOCH 2 - PROGRESS: at 33.92% examples, 417616 words/s, in_qsize 5, out_qsize 0\n",
      "2021-03-21 21:04:41.626 INFO    gensim.models.base_any2vec: EPOCH 2 - PROGRESS: at 37.27% examples, 417824 words/s, in_qsize 5, out_qsize 0\n",
      "2021-03-21 21:04:42.626 INFO    gensim.models.base_any2vec: EPOCH 2 - PROGRESS: at 40.68% examples, 418565 words/s, in_qsize 5, out_qsize 0\n",
      "2021-03-21 21:04:43.670 INFO    gensim.models.base_any2vec: EPOCH 2 - PROGRESS: at 44.15% examples, 418445 words/s, in_qsize 5, out_qsize 0\n",
      "2021-03-21 21:04:44.698 INFO    gensim.models.base_any2vec: EPOCH 2 - PROGRESS: at 47.50% examples, 417850 words/s, in_qsize 5, out_qsize 0\n",
      "2021-03-21 21:04:45.700 INFO    gensim.models.base_any2vec: EPOCH 2 - PROGRESS: at 50.56% examples, 415659 words/s, in_qsize 5, out_qsize 0\n",
      "2021-03-21 21:04:46.701 INFO    gensim.models.base_any2vec: EPOCH 2 - PROGRESS: at 53.85% examples, 415452 words/s, in_qsize 5, out_qsize 0\n"
     ]
    },
    {
     "name": "stderr",
     "output_type": "stream",
     "text": [
      "2021-03-21 21:04:47.709 INFO    gensim.models.base_any2vec: EPOCH 2 - PROGRESS: at 57.08% examples, 414743 words/s, in_qsize 5, out_qsize 0\n",
      "2021-03-21 21:04:48.715 INFO    gensim.models.base_any2vec: EPOCH 2 - PROGRESS: at 60.44% examples, 414977 words/s, in_qsize 5, out_qsize 0\n",
      "2021-03-21 21:04:49.724 INFO    gensim.models.base_any2vec: EPOCH 2 - PROGRESS: at 63.73% examples, 414677 words/s, in_qsize 5, out_qsize 0\n",
      "2021-03-21 21:04:50.751 INFO    gensim.models.base_any2vec: EPOCH 2 - PROGRESS: at 66.78% examples, 412530 words/s, in_qsize 5, out_qsize 0\n",
      "2021-03-21 21:04:51.754 INFO    gensim.models.base_any2vec: EPOCH 2 - PROGRESS: at 70.14% examples, 412837 words/s, in_qsize 5, out_qsize 0\n",
      "2021-03-21 21:04:52.757 INFO    gensim.models.base_any2vec: EPOCH 2 - PROGRESS: at 73.49% examples, 413202 words/s, in_qsize 5, out_qsize 0\n",
      "2021-03-21 21:04:53.782 INFO    gensim.models.base_any2vec: EPOCH 2 - PROGRESS: at 76.95% examples, 413002 words/s, in_qsize 5, out_qsize 0\n",
      "2021-03-21 21:04:54.824 INFO    gensim.models.base_any2vec: EPOCH 2 - PROGRESS: at 80.48% examples, 413291 words/s, in_qsize 5, out_qsize 0\n",
      "2021-03-21 21:04:55.828 INFO    gensim.models.base_any2vec: EPOCH 2 - PROGRESS: at 83.83% examples, 413452 words/s, in_qsize 5, out_qsize 0\n",
      "2021-03-21 21:04:56.847 INFO    gensim.models.base_any2vec: EPOCH 2 - PROGRESS: at 87.18% examples, 413321 words/s, in_qsize 5, out_qsize 0\n",
      "2021-03-21 21:04:57.849 INFO    gensim.models.base_any2vec: EPOCH 2 - PROGRESS: at 90.48% examples, 413337 words/s, in_qsize 5, out_qsize 0\n",
      "2021-03-21 21:04:58.858 INFO    gensim.models.base_any2vec: EPOCH 2 - PROGRESS: at 93.83% examples, 413172 words/s, in_qsize 5, out_qsize 0\n",
      "2021-03-21 21:04:59.860 INFO    gensim.models.base_any2vec: EPOCH 2 - PROGRESS: at 97.12% examples, 413041 words/s, in_qsize 5, out_qsize 0\n",
      "2021-03-21 21:05:00.658 INFO    gensim.models.base_any2vec: worker thread finished; awaiting finish of 2 more threads\n",
      "2021-03-21 21:05:00.676 INFO    gensim.models.base_any2vec: worker thread finished; awaiting finish of 1 more threads\n",
      "2021-03-21 21:05:00.698 INFO    gensim.models.base_any2vec: worker thread finished; awaiting finish of 0 more threads\n",
      "2021-03-21 21:05:00.699 INFO    gensim.models.base_any2vec: EPOCH - 2 : training on 17005207 raw words (12508800 effective words) took 30.3s, 413410 effective words/s\n",
      "2021-03-21 21:05:01.710 INFO    gensim.models.base_any2vec: EPOCH 3 - PROGRESS: at 3.23% examples, 402105 words/s, in_qsize 5, out_qsize 0\n",
      "2021-03-21 21:05:02.711 INFO    gensim.models.base_any2vec: EPOCH 3 - PROGRESS: at 6.64% examples, 409744 words/s, in_qsize 5, out_qsize 0\n",
      "2021-03-21 21:05:03.752 INFO    gensim.models.base_any2vec: EPOCH 3 - PROGRESS: at 10.11% examples, 411223 words/s, in_qsize 5, out_qsize 0\n",
      "2021-03-21 21:05:04.754 INFO    gensim.models.base_any2vec: EPOCH 3 - PROGRESS: at 13.52% examples, 414436 words/s, in_qsize 5, out_qsize 1\n",
      "2021-03-21 21:05:05.755 INFO    gensim.models.base_any2vec: EPOCH 3 - PROGRESS: at 16.93% examples, 416447 words/s, in_qsize 5, out_qsize 0\n",
      "2021-03-21 21:05:06.756 INFO    gensim.models.base_any2vec: EPOCH 3 - PROGRESS: at 20.34% examples, 418025 words/s, in_qsize 5, out_qsize 0\n",
      "2021-03-21 21:05:07.772 INFO    gensim.models.base_any2vec: EPOCH 3 - PROGRESS: at 23.57% examples, 415788 words/s, in_qsize 5, out_qsize 0\n",
      "2021-03-21 21:05:08.775 INFO    gensim.models.base_any2vec: EPOCH 3 - PROGRESS: at 26.93% examples, 416435 words/s, in_qsize 5, out_qsize 0\n",
      "2021-03-21 21:05:09.789 INFO    gensim.models.base_any2vec: EPOCH 3 - PROGRESS: at 30.28% examples, 416654 words/s, in_qsize 5, out_qsize 0\n",
      "2021-03-21 21:05:10.794 INFO    gensim.models.base_any2vec: EPOCH 3 - PROGRESS: at 33.63% examples, 417218 words/s, in_qsize 5, out_qsize 0\n",
      "2021-03-21 21:05:11.799 INFO    gensim.models.base_any2vec: EPOCH 3 - PROGRESS: at 36.92% examples, 416879 words/s, in_qsize 5, out_qsize 0\n",
      "2021-03-21 21:05:12.806 INFO    gensim.models.base_any2vec: EPOCH 3 - PROGRESS: at 40.21% examples, 416203 words/s, in_qsize 5, out_qsize 0\n",
      "2021-03-21 21:05:13.820 INFO    gensim.models.base_any2vec: EPOCH 3 - PROGRESS: at 43.56% examples, 416045 words/s, in_qsize 5, out_qsize 0\n",
      "2021-03-21 21:05:14.826 INFO    gensim.models.base_any2vec: EPOCH 3 - PROGRESS: at 46.74% examples, 414753 words/s, in_qsize 5, out_qsize 0\n",
      "2021-03-21 21:05:15.858 INFO    gensim.models.base_any2vec: EPOCH 3 - PROGRESS: at 50.15% examples, 414819 words/s, in_qsize 5, out_qsize 0\n",
      "2021-03-21 21:05:16.894 INFO    gensim.models.base_any2vec: EPOCH 3 - PROGRESS: at 53.50% examples, 414222 words/s, in_qsize 5, out_qsize 0\n",
      "2021-03-21 21:05:17.903 INFO    gensim.models.base_any2vec: EPOCH 3 - PROGRESS: at 56.85% examples, 414420 words/s, in_qsize 5, out_qsize 0\n",
      "2021-03-21 21:05:18.906 INFO    gensim.models.base_any2vec: EPOCH 3 - PROGRESS: at 60.20% examples, 414718 words/s, in_qsize 5, out_qsize 0\n",
      "2021-03-21 21:05:19.910 INFO    gensim.models.base_any2vec: EPOCH 3 - PROGRESS: at 63.55% examples, 414911 words/s, in_qsize 5, out_qsize 0\n",
      "2021-03-21 21:05:20.911 INFO    gensim.models.base_any2vec: EPOCH 3 - PROGRESS: at 66.96% examples, 415460 words/s, in_qsize 5, out_qsize 0\n",
      "2021-03-21 21:05:21.915 INFO    gensim.models.base_any2vec: EPOCH 3 - PROGRESS: at 70.31% examples, 415647 words/s, in_qsize 4, out_qsize 1\n",
      "2021-03-21 21:05:22.925 INFO    gensim.models.base_any2vec: EPOCH 3 - PROGRESS: at 73.60% examples, 415437 words/s, in_qsize 5, out_qsize 0\n",
      "2021-03-21 21:05:23.954 INFO    gensim.models.base_any2vec: EPOCH 3 - PROGRESS: at 77.13% examples, 415360 words/s, in_qsize 5, out_qsize 0\n",
      "2021-03-21 21:05:24.957 INFO    gensim.models.base_any2vec: EPOCH 3 - PROGRESS: at 80.48% examples, 415341 words/s, in_qsize 5, out_qsize 0\n",
      "2021-03-21 21:05:25.962 INFO    gensim.models.base_any2vec: EPOCH 3 - PROGRESS: at 83.89% examples, 415699 words/s, in_qsize 5, out_qsize 0\n",
      "2021-03-21 21:05:26.963 INFO    gensim.models.base_any2vec: EPOCH 3 - PROGRESS: at 87.24% examples, 415739 words/s, in_qsize 5, out_qsize 0\n",
      "2021-03-21 21:05:27.967 INFO    gensim.models.base_any2vec: EPOCH 3 - PROGRESS: at 90.59% examples, 415896 words/s, in_qsize 5, out_qsize 0\n",
      "2021-03-21 21:05:28.969 INFO    gensim.models.base_any2vec: EPOCH 3 - PROGRESS: at 94.00% examples, 416042 words/s, in_qsize 5, out_qsize 0\n",
      "2021-03-21 21:05:29.983 INFO    gensim.models.base_any2vec: EPOCH 3 - PROGRESS: at 97.35% examples, 415887 words/s, in_qsize 5, out_qsize 0\n",
      "2021-03-21 21:05:30.794 INFO    gensim.models.base_any2vec: worker thread finished; awaiting finish of 2 more threads\n",
      "2021-03-21 21:05:30.798 INFO    gensim.models.base_any2vec: worker thread finished; awaiting finish of 1 more threads\n",
      "2021-03-21 21:05:30.810 INFO    gensim.models.base_any2vec: worker thread finished; awaiting finish of 0 more threads\n",
      "2021-03-21 21:05:30.810 INFO    gensim.models.base_any2vec: EPOCH - 3 : training on 17005207 raw words (12506183 effective words) took 30.1s, 415348 effective words/s\n",
      "2021-03-21 21:05:31.839 INFO    gensim.models.base_any2vec: EPOCH 4 - PROGRESS: at 3.29% examples, 401901 words/s, in_qsize 5, out_qsize 0\n",
      "2021-03-21 21:05:32.857 INFO    gensim.models.base_any2vec: EPOCH 4 - PROGRESS: at 6.82% examples, 413424 words/s, in_qsize 5, out_qsize 0\n",
      "2021-03-21 21:05:33.872 INFO    gensim.models.base_any2vec: EPOCH 4 - PROGRESS: at 10.23% examples, 414796 words/s, in_qsize 5, out_qsize 0\n",
      "2021-03-21 21:05:34.892 INFO    gensim.models.base_any2vec: EPOCH 4 - PROGRESS: at 13.64% examples, 415443 words/s, in_qsize 5, out_qsize 0\n",
      "2021-03-21 21:05:35.895 INFO    gensim.models.base_any2vec: EPOCH 4 - PROGRESS: at 16.99% examples, 415613 words/s, in_qsize 5, out_qsize 0\n",
      "2021-03-21 21:05:36.905 INFO    gensim.models.base_any2vec: EPOCH 4 - PROGRESS: at 20.40% examples, 416607 words/s, in_qsize 5, out_qsize 0\n",
      "2021-03-21 21:05:37.905 INFO    gensim.models.base_any2vec: EPOCH 4 - PROGRESS: at 23.69% examples, 416712 words/s, in_qsize 5, out_qsize 0\n",
      "2021-03-21 21:05:38.910 INFO    gensim.models.base_any2vec: EPOCH 4 - PROGRESS: at 27.10% examples, 417872 words/s, in_qsize 5, out_qsize 0\n",
      "2021-03-21 21:05:39.919 INFO    gensim.models.base_any2vec: EPOCH 4 - PROGRESS: at 30.45% examples, 418279 words/s, in_qsize 5, out_qsize 0\n",
      "2021-03-21 21:05:40.959 INFO    gensim.models.base_any2vec: EPOCH 4 - PROGRESS: at 33.80% examples, 417225 words/s, in_qsize 5, out_qsize 0\n"
     ]
    },
    {
     "name": "stderr",
     "output_type": "stream",
     "text": [
      "2021-03-21 21:05:41.961 INFO    gensim.models.base_any2vec: EPOCH 4 - PROGRESS: at 37.15% examples, 417665 words/s, in_qsize 5, out_qsize 0\n",
      "2021-03-21 21:05:42.997 INFO    gensim.models.base_any2vec: EPOCH 4 - PROGRESS: at 40.51% examples, 416539 words/s, in_qsize 5, out_qsize 0\n",
      "2021-03-21 21:05:44.033 INFO    gensim.models.base_any2vec: EPOCH 4 - PROGRESS: at 43.86% examples, 415693 words/s, in_qsize 5, out_qsize 0\n",
      "2021-03-21 21:05:45.034 INFO    gensim.models.base_any2vec: EPOCH 4 - PROGRESS: at 47.21% examples, 416118 words/s, in_qsize 5, out_qsize 0\n",
      "2021-03-21 21:05:46.035 INFO    gensim.models.base_any2vec: EPOCH 4 - PROGRESS: at 50.62% examples, 416930 words/s, in_qsize 5, out_qsize 0\n",
      "2021-03-21 21:05:47.049 INFO    gensim.models.base_any2vec: EPOCH 4 - PROGRESS: at 53.91% examples, 416320 words/s, in_qsize 5, out_qsize 0\n",
      "2021-03-21 21:05:48.057 INFO    gensim.models.base_any2vec: EPOCH 4 - PROGRESS: at 57.20% examples, 415949 words/s, in_qsize 5, out_qsize 0\n",
      "2021-03-21 21:05:49.062 INFO    gensim.models.base_any2vec: EPOCH 4 - PROGRESS: at 60.55% examples, 416128 words/s, in_qsize 5, out_qsize 0\n",
      "2021-03-21 21:05:50.072 INFO    gensim.models.base_any2vec: EPOCH 4 - PROGRESS: at 63.96% examples, 416467 words/s, in_qsize 5, out_qsize 0\n",
      "2021-03-21 21:05:51.076 INFO    gensim.models.base_any2vec: EPOCH 4 - PROGRESS: at 67.37% examples, 416882 words/s, in_qsize 5, out_qsize 0\n",
      "2021-03-21 21:05:52.082 INFO    gensim.models.base_any2vec: EPOCH 4 - PROGRESS: at 70.78% examples, 417334 words/s, in_qsize 5, out_qsize 0\n",
      "2021-03-21 21:05:53.096 INFO    gensim.models.base_any2vec: EPOCH 4 - PROGRESS: at 74.19% examples, 417625 words/s, in_qsize 5, out_qsize 0\n",
      "2021-03-21 21:05:54.105 INFO    gensim.models.base_any2vec: EPOCH 4 - PROGRESS: at 77.72% examples, 417753 words/s, in_qsize 5, out_qsize 0\n",
      "2021-03-21 21:05:55.135 INFO    gensim.models.base_any2vec: EPOCH 4 - PROGRESS: at 81.19% examples, 417796 words/s, in_qsize 5, out_qsize 0\n",
      "2021-03-21 21:05:56.140 INFO    gensim.models.base_any2vec: EPOCH 4 - PROGRESS: at 84.54% examples, 417735 words/s, in_qsize 5, out_qsize 0\n",
      "2021-03-21 21:05:57.159 INFO    gensim.models.base_any2vec: EPOCH 4 - PROGRESS: at 87.89% examples, 417444 words/s, in_qsize 5, out_qsize 0\n",
      "2021-03-21 21:05:58.175 INFO    gensim.models.base_any2vec: EPOCH 4 - PROGRESS: at 91.24% examples, 417277 words/s, in_qsize 5, out_qsize 0\n",
      "2021-03-21 21:05:59.181 INFO    gensim.models.base_any2vec: EPOCH 4 - PROGRESS: at 94.71% examples, 417633 words/s, in_qsize 5, out_qsize 0\n",
      "2021-03-21 21:06:00.199 INFO    gensim.models.base_any2vec: EPOCH 4 - PROGRESS: at 98.18% examples, 417809 words/s, in_qsize 5, out_qsize 0\n",
      "2021-03-21 21:06:00.689 INFO    gensim.models.base_any2vec: worker thread finished; awaiting finish of 2 more threads\n",
      "2021-03-21 21:06:00.707 INFO    gensim.models.base_any2vec: worker thread finished; awaiting finish of 1 more threads\n",
      "2021-03-21 21:06:00.727 INFO    gensim.models.base_any2vec: worker thread finished; awaiting finish of 0 more threads\n",
      "2021-03-21 21:06:00.727 INFO    gensim.models.base_any2vec: EPOCH - 4 : training on 17005207 raw words (12504793 effective words) took 29.9s, 418010 effective words/s\n",
      "2021-03-21 21:06:01.729 INFO    gensim.models.base_any2vec: EPOCH 5 - PROGRESS: at 3.29% examples, 412820 words/s, in_qsize 5, out_qsize 0\n",
      "2021-03-21 21:06:02.741 INFO    gensim.models.base_any2vec: EPOCH 5 - PROGRESS: at 6.76% examples, 416605 words/s, in_qsize 5, out_qsize 0\n",
      "2021-03-21 21:06:03.770 INFO    gensim.models.base_any2vec: EPOCH 5 - PROGRESS: at 10.29% examples, 419972 words/s, in_qsize 5, out_qsize 0\n",
      "2021-03-21 21:06:04.780 INFO    gensim.models.base_any2vec: EPOCH 5 - PROGRESS: at 13.70% examples, 420260 words/s, in_qsize 5, out_qsize 0\n",
      "2021-03-21 21:06:05.782 INFO    gensim.models.base_any2vec: EPOCH 5 - PROGRESS: at 17.11% examples, 421052 words/s, in_qsize 5, out_qsize 0\n",
      "2021-03-21 21:06:06.783 INFO    gensim.models.base_any2vec: EPOCH 5 - PROGRESS: at 20.52% examples, 421732 words/s, in_qsize 5, out_qsize 0\n",
      "2021-03-21 21:06:07.794 INFO    gensim.models.base_any2vec: EPOCH 5 - PROGRESS: at 23.81% examples, 420467 words/s, in_qsize 5, out_qsize 0\n",
      "2021-03-21 21:06:08.798 INFO    gensim.models.base_any2vec: EPOCH 5 - PROGRESS: at 27.16% examples, 420275 words/s, in_qsize 5, out_qsize 0\n",
      "2021-03-21 21:06:09.808 INFO    gensim.models.base_any2vec: EPOCH 5 - PROGRESS: at 30.51% examples, 420377 words/s, in_qsize 5, out_qsize 0\n",
      "2021-03-21 21:06:10.820 INFO    gensim.models.base_any2vec: EPOCH 5 - PROGRESS: at 33.86% examples, 420255 words/s, in_qsize 5, out_qsize 0\n",
      "2021-03-21 21:06:11.829 INFO    gensim.models.base_any2vec: EPOCH 5 - PROGRESS: at 37.21% examples, 420140 words/s, in_qsize 5, out_qsize 0\n",
      "2021-03-21 21:06:12.832 INFO    gensim.models.base_any2vec: EPOCH 5 - PROGRESS: at 40.56% examples, 419932 words/s, in_qsize 5, out_qsize 0\n",
      "2021-03-21 21:06:13.835 INFO    gensim.models.base_any2vec: EPOCH 5 - PROGRESS: at 43.92% examples, 419858 words/s, in_qsize 5, out_qsize 0\n",
      "2021-03-21 21:06:14.841 INFO    gensim.models.base_any2vec: EPOCH 5 - PROGRESS: at 47.27% examples, 419875 words/s, in_qsize 5, out_qsize 0\n",
      "2021-03-21 21:06:15.851 INFO    gensim.models.base_any2vec: EPOCH 5 - PROGRESS: at 50.68% examples, 420240 words/s, in_qsize 5, out_qsize 0\n",
      "2021-03-21 21:06:16.855 INFO    gensim.models.base_any2vec: EPOCH 5 - PROGRESS: at 54.09% examples, 420631 words/s, in_qsize 5, out_qsize 0\n",
      "2021-03-21 21:06:17.861 INFO    gensim.models.base_any2vec: EPOCH 5 - PROGRESS: at 57.20% examples, 418741 words/s, in_qsize 5, out_qsize 0\n",
      "2021-03-21 21:06:18.895 INFO    gensim.models.base_any2vec: EPOCH 5 - PROGRESS: at 60.55% examples, 418090 words/s, in_qsize 5, out_qsize 0\n",
      "2021-03-21 21:06:19.912 INFO    gensim.models.base_any2vec: EPOCH 5 - PROGRESS: at 63.73% examples, 416663 words/s, in_qsize 5, out_qsize 0\n",
      "2021-03-21 21:06:20.920 INFO    gensim.models.base_any2vec: EPOCH 5 - PROGRESS: at 67.14% examples, 416926 words/s, in_qsize 5, out_qsize 0\n",
      "2021-03-21 21:06:21.926 INFO    gensim.models.base_any2vec: EPOCH 5 - PROGRESS: at 70.55% examples, 417390 words/s, in_qsize 5, out_qsize 0\n",
      "2021-03-21 21:06:22.933 INFO    gensim.models.base_any2vec: EPOCH 5 - PROGRESS: at 73.90% examples, 417475 words/s, in_qsize 5, out_qsize 0\n",
      "2021-03-21 21:06:23.943 INFO    gensim.models.base_any2vec: EPOCH 5 - PROGRESS: at 77.37% examples, 417271 words/s, in_qsize 5, out_qsize 0\n",
      "2021-03-21 21:06:24.949 INFO    gensim.models.base_any2vec: EPOCH 5 - PROGRESS: at 80.72% examples, 417158 words/s, in_qsize 5, out_qsize 0\n",
      "2021-03-21 21:06:25.976 INFO    gensim.models.base_any2vec: EPOCH 5 - PROGRESS: at 84.19% examples, 417356 words/s, in_qsize 5, out_qsize 0\n",
      "2021-03-21 21:06:26.976 INFO    gensim.models.base_any2vec: EPOCH 5 - PROGRESS: at 87.65% examples, 417906 words/s, in_qsize 5, out_qsize 0\n",
      "2021-03-21 21:06:28.011 INFO    gensim.models.base_any2vec: EPOCH 5 - PROGRESS: at 91.06% examples, 417707 words/s, in_qsize 5, out_qsize 0\n",
      "2021-03-21 21:06:29.018 INFO    gensim.models.base_any2vec: EPOCH 5 - PROGRESS: at 94.53% examples, 418026 words/s, in_qsize 5, out_qsize 0\n",
      "2021-03-21 21:06:30.034 INFO    gensim.models.base_any2vec: EPOCH 5 - PROGRESS: at 97.94% examples, 417981 words/s, in_qsize 5, out_qsize 0\n",
      "2021-03-21 21:06:30.607 INFO    gensim.models.base_any2vec: worker thread finished; awaiting finish of 2 more threads\n",
      "2021-03-21 21:06:30.613 INFO    gensim.models.base_any2vec: worker thread finished; awaiting finish of 1 more threads\n",
      "2021-03-21 21:06:30.635 INFO    gensim.models.base_any2vec: worker thread finished; awaiting finish of 0 more threads\n",
      "2021-03-21 21:06:30.636 INFO    gensim.models.base_any2vec: EPOCH - 5 : training on 17005207 raw words (12504434 effective words) took 29.9s, 418107 effective words/s\n",
      "2021-03-21 21:06:30.636 INFO    gensim.models.base_any2vec: training on a 85026035 raw words (62530548 effective words) took 150.5s, 415573 effective words/s\n",
      "2021-03-21 21:06:30.653 INFO    gensim.models.word2vec: collecting all words and their counts\n",
      "2021-03-21 21:06:30.658 INFO    gensim.models.word2vec: PROGRESS: at sentence #0, processed 0 words, keeping 0 word types\n",
      "2021-03-21 21:06:35.038 INFO    gensim.models.word2vec: collected 253854 word types from a corpus of 17005207 raw words and 1701 sentences\n"
     ]
    },
    {
     "name": "stderr",
     "output_type": "stream",
     "text": [
      "2021-03-21 21:06:35.039 INFO    gensim.models.word2vec: Loading a fresh vocabulary\n",
      "2021-03-21 21:06:35.192 INFO    gensim.models.word2vec: effective_min_count=5 retains 71290 unique words (28% of original 253854, drops 182564)\n",
      "2021-03-21 21:06:35.193 INFO    gensim.models.word2vec: effective_min_count=5 leaves 16718844 word corpus (98% of original 17005207, drops 286363)\n",
      "2021-03-21 21:06:35.333 INFO    gensim.models.word2vec: deleting the raw counts dictionary of 253854 items\n",
      "2021-03-21 21:06:35.339 INFO    gensim.models.word2vec: sample=0.001 downsamples 38 most-common words\n",
      "2021-03-21 21:06:35.341 INFO    gensim.models.word2vec: downsampling leaves estimated 12506280 word corpus (74.8% of prior 16718844)\n",
      "2021-03-21 21:06:35.541 INFO    gensim.models.base_any2vec: estimated required memory for 71290 words and 100 dimensions: 92677000 bytes\n",
      "2021-03-21 21:06:35.541 INFO    gensim.models.word2vec: resetting layer weights\n",
      "2021-03-21 21:06:45.097 INFO    gensim.models.base_any2vec: training model with 3 workers on 71290 vocabulary and 100 features, using sg=0 hs=0 sample=0.001 negative=5 window=5\n",
      "2021-03-21 21:06:46.103 INFO    gensim.models.base_any2vec: EPOCH 1 - PROGRESS: at 11.58% examples, 1432009 words/s, in_qsize 0, out_qsize 0\n",
      "2021-03-21 21:06:47.106 INFO    gensim.models.base_any2vec: EPOCH 1 - PROGRESS: at 22.93% examples, 1424637 words/s, in_qsize 0, out_qsize 0\n",
      "2021-03-21 21:06:48.110 INFO    gensim.models.base_any2vec: EPOCH 1 - PROGRESS: at 34.80% examples, 1448656 words/s, in_qsize 0, out_qsize 0\n",
      "2021-03-21 21:06:49.111 INFO    gensim.models.base_any2vec: EPOCH 1 - PROGRESS: at 45.97% examples, 1436898 words/s, in_qsize 0, out_qsize 0\n",
      "2021-03-21 21:06:50.115 INFO    gensim.models.base_any2vec: EPOCH 1 - PROGRESS: at 57.14% examples, 1428957 words/s, in_qsize 0, out_qsize 0\n",
      "2021-03-21 21:06:51.119 INFO    gensim.models.base_any2vec: EPOCH 1 - PROGRESS: at 68.61% examples, 1429639 words/s, in_qsize 0, out_qsize 0\n",
      "2021-03-21 21:06:52.121 INFO    gensim.models.base_any2vec: EPOCH 1 - PROGRESS: at 79.89% examples, 1424637 words/s, in_qsize 0, out_qsize 0\n",
      "2021-03-21 21:06:53.123 INFO    gensim.models.base_any2vec: EPOCH 1 - PROGRESS: at 91.48% examples, 1427020 words/s, in_qsize 0, out_qsize 0\n",
      "2021-03-21 21:06:53.860 INFO    gensim.models.base_any2vec: worker thread finished; awaiting finish of 2 more threads\n",
      "2021-03-21 21:06:53.863 INFO    gensim.models.base_any2vec: worker thread finished; awaiting finish of 1 more threads\n",
      "2021-03-21 21:06:53.865 INFO    gensim.models.base_any2vec: worker thread finished; awaiting finish of 0 more threads\n",
      "2021-03-21 21:06:53.866 INFO    gensim.models.base_any2vec: EPOCH - 1 : training on 17005207 raw words (12508319 effective words) took 8.8s, 1426918 effective words/s\n",
      "2021-03-21 21:06:54.872 INFO    gensim.models.base_any2vec: EPOCH 2 - PROGRESS: at 11.76% examples, 1452544 words/s, in_qsize 0, out_qsize 0\n",
      "2021-03-21 21:06:55.873 INFO    gensim.models.base_any2vec: EPOCH 2 - PROGRESS: at 23.05% examples, 1432274 words/s, in_qsize 0, out_qsize 0\n",
      "2021-03-21 21:06:56.876 INFO    gensim.models.base_any2vec: EPOCH 2 - PROGRESS: at 34.74% examples, 1447268 words/s, in_qsize 0, out_qsize 0\n",
      "2021-03-21 21:06:57.877 INFO    gensim.models.base_any2vec: EPOCH 2 - PROGRESS: at 45.50% examples, 1422800 words/s, in_qsize 0, out_qsize 0\n",
      "2021-03-21 21:06:58.880 INFO    gensim.models.base_any2vec: EPOCH 2 - PROGRESS: at 56.44% examples, 1412221 words/s, in_qsize 0, out_qsize 0\n",
      "2021-03-21 21:06:59.881 INFO    gensim.models.base_any2vec: EPOCH 2 - PROGRESS: at 67.67% examples, 1411268 words/s, in_qsize 0, out_qsize 0\n",
      "2021-03-21 21:07:00.883 INFO    gensim.models.base_any2vec: EPOCH 2 - PROGRESS: at 79.42% examples, 1417284 words/s, in_qsize 0, out_qsize 0\n",
      "2021-03-21 21:07:01.886 INFO    gensim.models.base_any2vec: EPOCH 2 - PROGRESS: at 91.36% examples, 1425785 words/s, in_qsize 0, out_qsize 0\n",
      "2021-03-21 21:07:02.640 INFO    gensim.models.base_any2vec: worker thread finished; awaiting finish of 2 more threads\n",
      "2021-03-21 21:07:02.642 INFO    gensim.models.base_any2vec: worker thread finished; awaiting finish of 1 more threads\n",
      "2021-03-21 21:07:02.644 INFO    gensim.models.base_any2vec: worker thread finished; awaiting finish of 0 more threads\n",
      "2021-03-21 21:07:02.645 INFO    gensim.models.base_any2vec: EPOCH - 2 : training on 17005207 raw words (12506772 effective words) took 8.8s, 1424846 effective words/s\n",
      "2021-03-21 21:07:03.648 INFO    gensim.models.base_any2vec: EPOCH 3 - PROGRESS: at 11.88% examples, 1471802 words/s, in_qsize 0, out_qsize 0\n",
      "2021-03-21 21:07:04.650 INFO    gensim.models.base_any2vec: EPOCH 3 - PROGRESS: at 23.87% examples, 1486100 words/s, in_qsize 0, out_qsize 0\n",
      "2021-03-21 21:07:05.652 INFO    gensim.models.base_any2vec: EPOCH 3 - PROGRESS: at 35.39% examples, 1475189 words/s, in_qsize 0, out_qsize 0\n",
      "2021-03-21 21:07:06.654 INFO    gensim.models.base_any2vec: EPOCH 3 - PROGRESS: at 46.50% examples, 1454347 words/s, in_qsize 0, out_qsize 0\n",
      "2021-03-21 21:07:07.658 INFO    gensim.models.base_any2vec: EPOCH 3 - PROGRESS: at 57.61% examples, 1441586 words/s, in_qsize 0, out_qsize 0\n",
      "2021-03-21 21:07:08.659 INFO    gensim.models.base_any2vec: EPOCH 3 - PROGRESS: at 69.49% examples, 1449282 words/s, in_qsize 0, out_qsize 0\n",
      "2021-03-21 21:07:09.661 INFO    gensim.models.base_any2vec: EPOCH 3 - PROGRESS: at 81.54% examples, 1454818 words/s, in_qsize 0, out_qsize 0\n",
      "2021-03-21 21:07:10.669 INFO    gensim.models.base_any2vec: EPOCH 3 - PROGRESS: at 93.47% examples, 1457818 words/s, in_qsize 0, out_qsize 0\n",
      "2021-03-21 21:07:11.211 INFO    gensim.models.base_any2vec: worker thread finished; awaiting finish of 2 more threads\n",
      "2021-03-21 21:07:11.214 INFO    gensim.models.base_any2vec: worker thread finished; awaiting finish of 1 more threads\n",
      "2021-03-21 21:07:11.216 INFO    gensim.models.base_any2vec: worker thread finished; awaiting finish of 0 more threads\n",
      "2021-03-21 21:07:11.216 INFO    gensim.models.base_any2vec: EPOCH - 3 : training on 17005207 raw words (12505788 effective words) took 8.6s, 1459290 effective words/s\n",
      "2021-03-21 21:07:12.221 INFO    gensim.models.base_any2vec: EPOCH 4 - PROGRESS: at 11.93% examples, 1477868 words/s, in_qsize 0, out_qsize 0\n",
      "2021-03-21 21:07:13.228 INFO    gensim.models.base_any2vec: EPOCH 4 - PROGRESS: at 24.10% examples, 1496871 words/s, in_qsize 0, out_qsize 0\n",
      "2021-03-21 21:07:14.229 INFO    gensim.models.base_any2vec: EPOCH 4 - PROGRESS: at 36.21% examples, 1507889 words/s, in_qsize 0, out_qsize 0\n",
      "2021-03-21 21:07:15.229 INFO    gensim.models.base_any2vec: EPOCH 4 - PROGRESS: at 48.27% examples, 1508685 words/s, in_qsize 0, out_qsize 0\n",
      "2021-03-21 21:07:16.234 INFO    gensim.models.base_any2vec: EPOCH 4 - PROGRESS: at 60.38% examples, 1509533 words/s, in_qsize 0, out_qsize 0\n",
      "2021-03-21 21:07:17.238 INFO    gensim.models.base_any2vec: EPOCH 4 - PROGRESS: at 72.43% examples, 1508762 words/s, in_qsize 1, out_qsize 0\n",
      "2021-03-21 21:07:18.242 INFO    gensim.models.base_any2vec: EPOCH 4 - PROGRESS: at 84.60% examples, 1507223 words/s, in_qsize 0, out_qsize 0\n",
      "2021-03-21 21:07:19.246 INFO    gensim.models.base_any2vec: EPOCH 4 - PROGRESS: at 96.71% examples, 1506903 words/s, in_qsize 0, out_qsize 0\n",
      "2021-03-21 21:07:19.518 INFO    gensim.models.base_any2vec: worker thread finished; awaiting finish of 2 more threads\n",
      "2021-03-21 21:07:19.521 INFO    gensim.models.base_any2vec: worker thread finished; awaiting finish of 1 more threads\n",
      "2021-03-21 21:07:19.523 INFO    gensim.models.base_any2vec: worker thread finished; awaiting finish of 0 more threads\n",
      "2021-03-21 21:07:19.523 INFO    gensim.models.base_any2vec: EPOCH - 4 : training on 17005207 raw words (12505202 effective words) took 8.3s, 1505644 effective words/s\n",
      "2021-03-21 21:07:20.532 INFO    gensim.models.base_any2vec: EPOCH 5 - PROGRESS: at 12.11% examples, 1493911 words/s, in_qsize 0, out_qsize 0\n",
      "2021-03-21 21:07:21.533 INFO    gensim.models.base_any2vec: EPOCH 5 - PROGRESS: at 24.22% examples, 1504753 words/s, in_qsize 1, out_qsize 0\n",
      "2021-03-21 21:07:22.533 INFO    gensim.models.base_any2vec: EPOCH 5 - PROGRESS: at 36.27% examples, 1511346 words/s, in_qsize 0, out_qsize 0\n",
      "2021-03-21 21:07:23.535 INFO    gensim.models.base_any2vec: EPOCH 5 - PROGRESS: at 48.38% examples, 1512569 words/s, in_qsize 0, out_qsize 0\n"
     ]
    },
    {
     "name": "stderr",
     "output_type": "stream",
     "text": [
      "2021-03-21 21:07:24.536 INFO    gensim.models.base_any2vec: EPOCH 5 - PROGRESS: at 60.38% examples, 1511350 words/s, in_qsize 0, out_qsize 0\n",
      "2021-03-21 21:07:25.536 INFO    gensim.models.base_any2vec: EPOCH 5 - PROGRESS: at 72.43% examples, 1511204 words/s, in_qsize 1, out_qsize 0\n",
      "2021-03-21 21:07:26.540 INFO    gensim.models.base_any2vec: EPOCH 5 - PROGRESS: at 84.60% examples, 1509286 words/s, in_qsize 0, out_qsize 0\n",
      "2021-03-21 21:07:27.540 INFO    gensim.models.base_any2vec: EPOCH 5 - PROGRESS: at 96.65% examples, 1508403 words/s, in_qsize 0, out_qsize 0\n",
      "2021-03-21 21:07:27.820 INFO    gensim.models.base_any2vec: worker thread finished; awaiting finish of 2 more threads\n",
      "2021-03-21 21:07:27.822 INFO    gensim.models.base_any2vec: worker thread finished; awaiting finish of 1 more threads\n",
      "2021-03-21 21:07:27.824 INFO    gensim.models.base_any2vec: worker thread finished; awaiting finish of 0 more threads\n",
      "2021-03-21 21:07:27.825 INFO    gensim.models.base_any2vec: EPOCH - 5 : training on 17005207 raw words (12504458 effective words) took 8.3s, 1506621 effective words/s\n",
      "2021-03-21 21:07:27.825 INFO    gensim.models.base_any2vec: training on a 85026035 raw words (62530539 effective words) took 42.7s, 1463482 effective words/s\n",
      "2021-03-21 21:07:27.840 INFO    gensim.models.utils_any2vec: storing 71290x100 projection weights into data/model_skp.bin\n",
      "2021-03-21 21:07:28.216 INFO    gensim.models.utils_any2vec: storing 71290x100 projection weights into data/model_bow.bin\n"
     ]
    }
   ],
   "source": [
    "# import gensim.downloader as api\n",
    "# corpus = api.load(\"text8\")\n",
    "# from gensim.models.word2vec import Word2Vec\n",
    "# model_skp = Word2Vec(corpus, sg=1)\n",
    "# model_bow = Word2Vec(corpus, sg=0)\n",
    "# model_skp.wv.save_word2vec_format('data/model_skp.bin', binary=True)\n",
    "# model_bow.wv.save_word2vec_format('data/model_bow.bin', binary=True)\n",
    "# with open('data/model_bow.pickle','wb') as fout:\n",
    "#     pickle.dump(model_bow, fout)\n",
    "# with open('data/model_skp.pickle','wb') as fout:\n",
    "#     pickle.dump(model_skp, fout)"
   ]
  },
  {
   "cell_type": "code",
   "execution_count": 523,
   "id": "described-checklist",
   "metadata": {},
   "outputs": [],
   "source": []
  },
  {
   "cell_type": "code",
   "execution_count": 524,
   "id": "finnish-cooking",
   "metadata": {},
   "outputs": [],
   "source": []
  },
  {
   "cell_type": "code",
   "execution_count": 525,
   "id": "existing-ordering",
   "metadata": {},
   "outputs": [
    {
     "data": {
      "text/plain": [
       "(<gensim.models.word2vec.Word2Vec at 0x7fcdf281cc70>,\n",
       " <gensim.models.word2vec.Word2Vec at 0x7fcdf281ce20>)"
      ]
     },
     "execution_count": 525,
     "metadata": {},
     "output_type": "execute_result"
    }
   ],
   "source": [
    "#@st.cache (show_spinner=False)\n",
    "def load_w2v_models():\n",
    "    from gensim.models.word2vec import Word2Vec\n",
    "\n",
    "    #model_skp_ = gensim.models.Word2Vec.load('data/model_skp.bin')\n",
    "    #model_bow_ = gensim.models.Word2Vec.load('data/model_bow.bin')\n",
    "    with open(\"data/model_bow.pickle\", mode='rb') as model_data:\n",
    "         model_bow_ = pickle.load(model_data)\n",
    "    with open(\"data/model_bow.pickle\", mode='rb') as model_data:\n",
    "         model_skp_ = pickle.load(model_data)\n",
    "            \n",
    "    #glove_file = glove_dir  = 'data/glove.6B/glove.6B.100d.txt'\n",
    "\n",
    "    return model_bow_, model_skp_\n",
    "\n",
    "load_w2v_models()"
   ]
  },
  {
   "cell_type": "markdown",
   "id": "appropriate-thought",
   "metadata": {},
   "source": [
    "## 2 — Generate semantic word families\n",
    "\n",
    "For each label, use Word2Vec `similar` to retrieve list of words semantically related to the image object labels"
   ]
  },
  {
   "cell_type": "code",
   "execution_count": 263,
   "id": "awful-recipe",
   "metadata": {},
   "outputs": [],
   "source": [
    "from nltk.corpus import wordnet\n",
    "\n",
    "def get_synonyms( w ):\n",
    "   # L = [l.name() if '_' not in l.name() else l.name().split('_') for l in wordnet.synsets( w )[0].lemmas()]  # There may be other synonyms in the synset\n",
    "   # print(L)\n",
    "    #flattened_list = [w if type()]\n",
    "    #return L #flattened_list\n",
    "    syn_list = []\n",
    "    try:\n",
    "        syn_list = [word.split('.')[0] for object_name in \\\n",
    "                                    [syn.name().split('_') for syn in wordnet.synsets( w )[0].hypernyms() ] \\\n",
    "                                    for word in object_name if (('_' not in w) or (word.split('.')[0] != w.split('_')[-1]))]\n",
    "    except:\n",
    "        pass\n",
    "            \n",
    "#    L_set = set(L)\n",
    "#    syn_list_set = set(syn_list)\n",
    "#    unn = ( L_set | syn_list )                  \n",
    "#    syn_list = list(  set(syn_list) | set(L) )    \n",
    "#              list(  set(lst1)     | set(lst2)   )\n",
    "    #syn_list.extend([word.split('.')[0] for object_name in [syn.name().split('_') for syn in wordnet.synsets( w )[0].lemmas() ] for word in object_name])\n",
    "    #syn_list=[word for object_name in [syn.name().split('_') for syn in wordnet.synsets( w )[0].hypernyms()[0].hyponyms() ] for word in object_name]\n",
    "    #syn_list.extend([word for object_name in [syn.name().split('_') for syn in wordnet.synsets( w )[0].root_hypernyms()] for word in object_name])\n",
    " \n",
    "    return syn_list\n",
    "\n"
   ]
  },
  {
   "cell_type": "code",
   "execution_count": null,
   "id": "south-corporation",
   "metadata": {},
   "outputs": [],
   "source": []
  },
  {
   "cell_type": "code",
   "execution_count": 264,
   "id": "involved-sister",
   "metadata": {},
   "outputs": [],
   "source": [
    "#'bird.n.01'.split('.')[0]"
   ]
  },
  {
   "cell_type": "markdown",
   "id": "meaningful-fraction",
   "metadata": {},
   "source": [
    "## 3 — Generate all related words\n",
    "\n",
    "For each semantically related (below a distance threshold) word to each object label, measure its phonetic similarity to all words in the dictionary. Also store each words's distance.\n",
    "\n",
    "For each word in each semantic family, sort and choose the phonetically closest (below a distance threshold) words.\n",
    "(One way is to convert the word to IPA and compare to an IPA converted version of every word in the CMU dictionary.)"
   ]
  },
  {
   "cell_type": "code",
   "execution_count": 265,
   "id": "royal-platinum",
   "metadata": {},
   "outputs": [],
   "source": [
    "from nltk.corpus import words\n",
    "\n",
    "words_set = set( words.words())"
   ]
  },
  {
   "cell_type": "code",
   "execution_count": 266,
   "id": "traditional-detector",
   "metadata": {},
   "outputs": [],
   "source": [
    "import eng_to_ipa as ipa\n",
    "import pronouncing as pron\n",
    "import syllables\n",
    "\n",
    "def syllable_count_diff( w1, w2, syllable_count_dict_ ): \n",
    "    if w2 not in syllable_count_dict_.keys():\n",
    "        try:\n",
    "            syllable_count_dict_[w2] = syllables.estimate(w2)\n",
    "        except:\n",
    "            try:\n",
    "                syllable_count_dict_[w2] = ipa.syllable_count(w2)\n",
    "            except:\n",
    "                try:\n",
    "                    syllable_count_dict_[w2] = pron.syllablle_count(pron.get_phones_for_word( w2 )[0])\n",
    "                except:\n",
    "                    return 0\n",
    "    if w1 not in syllable_count_dict_.keys():\n",
    "        try:\n",
    "            syllable_count_dict_[w1] = syllables.estimate(w1)\n",
    "        except:\n",
    "            try:\n",
    "                syllable_count_dict_[w1] = ipa.syllable_count(w1)\n",
    "            except:\n",
    "                try:\n",
    "                    syllable_count_dict_[w1] = pron.syllablle_count(pron.get_phones_for_word( w1 )[0])\n",
    "                except:\n",
    "                    return 0   \n",
    "\n",
    "    return abs( syllable_count_dict_[ w1 ] - syllable_count_dict_[ w2 ])\n",
    "    #return pron.syllable\n",
    "\n",
    "def same_syllable_count( w1, w2, syllable_count_dict_  ):\n",
    "    return syllable_count_diff(w1, w2, syllable_count_dict_ ) == 0\n",
    "\n",
    "def close_syllable_count( w1, w2, syllable_count_dict_, threshold=2):\n",
    "    return syllable_count_diff( w1, w2, syllable_count_dict_ ) <= threshold"
   ]
  },
  {
   "cell_type": "code",
   "execution_count": 267,
   "id": "encouraging-jacob",
   "metadata": {},
   "outputs": [],
   "source": [
    "#pron.syllable_count(pron.phones_for_word(\"delinquent\")[0])"
   ]
  },
  {
   "cell_type": "code",
   "execution_count": 268,
   "id": "angry-movement",
   "metadata": {},
   "outputs": [],
   "source": [
    "# Eventually will need to to filter for the word-frequency sweet-spot or at least for only Engllish words\n",
    "# Possibly rewrite with a decororater so that it uses memoization to speed this up\n",
    "\n",
    "# Rewrite this so it vectorizes the subtraction of the syllable counts\n",
    "\n",
    "def get_sized_rhymes( w, syllable_count_dict_ ):\n",
    "    word_length_min = 2\n",
    "    rhyme_list = pron.rhymes( w )\n",
    "    #print(rhyme_list)\n",
    "    #rhyme_list = ipa.get_rhymes( w )\n",
    "    return [ [rhyme for rhyme  in rhyme_list if close_syllable_count( w, rhyme, syllable_count_dict_, 1) and len(rhyme) >= word_length_min ]]\n",
    "    #return [ [rhyme for rhyme  in rhyme_list if close_syllable_count( w, rhyme, syllable_count_dict_, 1) and len(rhyme) >= word_length_min and rhyme in words_set]]\n",
    "    #return [ [rhyme for rhyme  in rhyme_list if len(rhyme) >= word_length_min and rhyme in words_set]]\n",
    " "
   ]
  },
  {
   "cell_type": "code",
   "execution_count": 269,
   "id": "controversial-geneva",
   "metadata": {},
   "outputs": [],
   "source": [
    "# pron.rhymes('studio')\n",
    "# syllable_count_dict_ = dict({'studio': 3})\n",
    "# get_sized_rhymes('studio', syllable_count_dict_ )\n",
    "#syllable_count_dict_['studio'] = 3"
   ]
  },
  {
   "cell_type": "code",
   "execution_count": 270,
   "id": "promising-aviation",
   "metadata": {},
   "outputs": [],
   "source": [
    "import fuzzy\n",
    "import phonetics\n",
    "import Levenshtein as lev\n",
    "\n",
    "#soundex = fuzzy.Soundex(4)\n",
    "dmeta = fuzzy.DMetaphone()"
   ]
  },
  {
   "cell_type": "code",
   "execution_count": 271,
   "id": "noble-filling",
   "metadata": {},
   "outputs": [],
   "source": [
    "import eng_to_ipa as ipa\n",
    "\n",
    "\n",
    "def syllable_penalty(w1, w2, syllable_count_dict_, penalty_factor = 0.2):\n",
    "\n",
    "    return syllable_count_diff( w1, w2, syllable_count_dict_ ) * penalty_factor"
   ]
  },
  {
   "cell_type": "code",
   "execution_count": 532,
   "id": "fixed-rover",
   "metadata": {},
   "outputs": [],
   "source": [
    "def first_letter_discount(w1, w2, discount_value = .4):\n",
    "    return discount_value if w1[0] == w2[0] else 0\n",
    "\n",
    "def last_letter_discount(w1, w2, discount_value = .5): # was .3\n",
    "    return discount_value if w1[-1] == w2[-1] else 0"
   ]
  },
  {
   "cell_type": "code",
   "execution_count": 273,
   "id": "fluid-conspiracy",
   "metadata": {},
   "outputs": [],
   "source": [
    "def phonetic_distance(w1, w2, fuzzy_meta_dict_, fuzzy_nysiis_dict_):\n",
    "#     print('fuzzy soundex', lev.distance( soundex(w1), soundex(w2)) )\n",
    "#     print('fuzzy dmeta  ', lev.distance( dmeta(w1)[0], dmeta(w2)[0]) )\n",
    "#     print('phon dmet    ', lev.distance( phonetics.dmetaphone(w1)[0], phonetics.dmetaphone(w2)[0]) )\n",
    "#     print('phon met     ', lev.distance( phonetics.metaphone(w1), phonetics.metaphone(w2)) )\n",
    "#     print('fuzzy nysiis ', lev.distance( fuzzy.nysiis(w1), fuzzy.nysiis(w2)) )\n",
    "#     print('phon nysiis  ', lev.distance( phonetics.nysiis(w1), phonetics.nysiis(w2)) )\n",
    "#     soundex_dist = lev.distance( soundex(w1), soundex(w2))\n",
    "    num_of_measures = 1\n",
    "    sum_of_measures = 0\n",
    "    if w2 not in words_set:\n",
    "        fuzzy_nysiis_dict_[w2] = fuzzy.nysiis(w2)\n",
    "        fuzzy_meta_dict_[w2] = dmeta(w2)[0]\n",
    "        \n",
    "    nysiis_dist = lev.distance( fuzzy_nysiis_dict_[w1],fuzzy_nysiis_dict_[w2])\n",
    "    num_of_measures +=1\n",
    "    sum_of_measures+= nysiis_dist\n",
    "    try:\n",
    "        dmeta_dist  = lev.distance( fuzzy_meta_dict_[w1],fuzzy_meta_dict_[w2])\n",
    "        num_of_measures +=1\n",
    "        sum_of_measures+= dmeta_dist\n",
    "        #return np.mean( np.array([  dmeta_dist, nysiis_dist, pron_dist]) )\n",
    "    except:\n",
    "        pass\n",
    "    try:\n",
    "        pron_dist = round(lev.distance( pron.phones_for_word(w1)[0], pron.phones_for_word(w2)[0]) /3.5)  \n",
    "        num_of_measures +=1\n",
    "        sum_of_measures+= pron_dist\n",
    "    except:\n",
    "        pass\n",
    "    \n",
    "    distance = sum_of_measures/float(num_of_measures)\n",
    "    if (w1 in w2) or (w2 in w1):\n",
    "        distance -= .2\n",
    "    \n",
    "    return distance \n",
    "    # return np.mean( nysiis_dist, pron_dist )\n",
    "   "
   ]
  },
  {
   "cell_type": "code",
   "execution_count": null,
   "id": "moral-sampling",
   "metadata": {},
   "outputs": [],
   "source": []
  },
  {
   "cell_type": "code",
   "execution_count": null,
   "id": "consolidated-performer",
   "metadata": {},
   "outputs": [],
   "source": []
  },
  {
   "cell_type": "code",
   "execution_count": 274,
   "id": "communist-security",
   "metadata": {},
   "outputs": [],
   "source": [
    "#     with open(\"data/\" + \"fuzzy_meta_dictionary.pickle\", 'rb') as to_read:\n",
    "#         fuzzy_meta_dict =  pickle.load(to_read)\n",
    "#     with open(\"data/\" + \"fuzzy_nysiis_dictionary.pickle\", 'rb') as to_read:\n",
    "#         fuzzy_nysiis_dict =  pickle.load(to_read)\n",
    "#     with open(\"data/\" + \"syllable_count_dictionary.pickle\", 'rb') as to_read:\n",
    "#         syllable_count_dict =  pickle.load(to_read)"
   ]
  },
  {
   "cell_type": "code",
   "execution_count": 275,
   "id": "visible-jason",
   "metadata": {},
   "outputs": [],
   "source": [
    "#'sweatshirt' in words_set"
   ]
  },
  {
   "cell_type": "code",
   "execution_count": 276,
   "id": "parental-flush",
   "metadata": {},
   "outputs": [],
   "source": [
    "#syllable_count_dict['sweatshirt']"
   ]
  },
  {
   "cell_type": "code",
   "execution_count": 277,
   "id": "seven-skating",
   "metadata": {},
   "outputs": [],
   "source": [
    "from random import random\n",
    "\n",
    "def make_phon_fam_for_sem_fam_member( w_record, thresh=3 ):\n",
    "    with open(\"data/\" + \"fuzzy_meta_dictionary.pickle\", 'rb') as to_read:\n",
    "        fuzzy_meta_dict =  pickle.load(to_read)\n",
    "    with open(\"data/\" + \"fuzzy_nysiis_dictionary.pickle\", 'rb') as to_read:\n",
    "        fuzzy_nysiis_dict =  pickle.load(to_read)\n",
    "    with open(\"data/\" + \"syllable_count_dictionary.pickle\", 'rb') as to_read:\n",
    "        syllable_count_dict =  pickle.load(to_read)\n",
    "        \n",
    "    \n",
    "    w_phon_code = w_record.word # To be replaced with phonetic version if needed\n",
    "    close_word_list = []\n",
    "    rhyme_dist = .3\n",
    "    non_rhyme_penalty = rhyme_dist + .3\n",
    "    \n",
    "    # Find words that are not necessarily rhyms but phonetically similar\n",
    "\n",
    "    rhyme_word_list = get_sized_rhymes( w_record.word, syllable_count_dict )[0]\n",
    "    rhyme_bounty = len( rhyme_word_list )\n",
    "    #print('length of rhyme list', rhyme_bounty )    \n",
    "    \n",
    "    \n",
    "    for word in words_set:\n",
    "        phon_dist = phonetic_distance( word, w_record.word, fuzzy_meta_dict, fuzzy_nysiis_dict) \n",
    "        if (phon_dist <= thresh) and (word != w_record.word):\n",
    "            syll_pen = syllable_penalty( word, w_record.word, syllable_count_dict)\n",
    "            last_let_disc = last_letter_discount(word, w_record.word)\n",
    "            first_letter_disc = first_letter_discount(word, w_record.word)\n",
    "            close_word_list.append( Close_word(word.lower(), phon_dist + non_rhyme_penalty + syll_pen - last_let_disc - first_letter_disc ))\n",
    "        #if len( close_word_list ) > 100:\n",
    "        #   break\n",
    "    #print(len( close_word_list))       \n",
    "\n",
    "\n",
    "    \n",
    "    # Find words that are rhymes\n",
    "    for word in rhyme_word_list:\n",
    "            syll_pen = syllable_penalty( word, w_record.word, syllable_count_dict)\n",
    "            last_let_disc = last_letter_discount(word, w_record.word)\n",
    "            close_word_list.append( Close_word(word, rhyme_dist + syll_pen - last_let_disc - first_letter_disc) )\n",
    "            first_letter_disc = first_letter_discount(word, w_record.word)\n",
    "            #logger.info('word in rhyme_list: ', word)\n",
    "            \n",
    "    #print(len( close_word_list))           \n",
    "    #logger.info('returning a phonic family: ')\n",
    "    return Phon_family(locus_word = w_record, close_words=close_word_list )\n",
    "    \n",
    "    "
   ]
  },
  {
   "cell_type": "raw",
   "id": "blocked-filter",
   "metadata": {},
   "source": [
    "#with open(\"data/\" + \"syllable_count_dictionary.pickle\", 'rb') as to_read:\n",
    "#    syllable_count_dict =  pickle.load(to_read)"
   ]
  },
  {
   "cell_type": "raw",
   "id": "governmental-ladder",
   "metadata": {},
   "source": [
    "#get_sized_rhymes('entertainment', syllable_count_dict)"
   ]
  },
  {
   "cell_type": "raw",
   "id": "subtle-charge",
   "metadata": {},
   "source": [
    "#syllable_count_diff('entertainment', 'arraignment', syllable_count_dict)"
   ]
  },
  {
   "cell_type": "raw",
   "id": "pressed-litigation",
   "metadata": {},
   "source": [
    "#pron.syllable_count(pron.phones_for_word('liason')[0])"
   ]
  },
  {
   "cell_type": "raw",
   "id": "welcome-vegetarian",
   "metadata": {},
   "source": [
    "#len(syllable_count_dict)"
   ]
  },
  {
   "cell_type": "raw",
   "id": "unavailable-excerpt",
   "metadata": {},
   "source": [
    "#ipa.get_rhymes('entertainment')\n"
   ]
  },
  {
   "cell_type": "raw",
   "id": "bigger-building",
   "metadata": {},
   "source": [
    "#syllable_count_dict['entertainment']"
   ]
  },
  {
   "cell_type": "raw",
   "id": "nervous-preliminary",
   "metadata": {},
   "source": [
    "#'entertainment' in words_set"
   ]
  },
  {
   "cell_type": "raw",
   "id": "seasonal-sociology",
   "metadata": {},
   "source": [
    "#pron.rhymes('cobra')"
   ]
  },
  {
   "cell_type": "raw",
   "id": "analyzed-numbers",
   "metadata": {},
   "source": [
    "\n",
    "#round(lev.distance( pron.phones_for_word(\"shark\")[0], pron.phones_for_word(\"s8df\")[0]) /3.5)\n",
    "#phon_fam = make_phon_fam_for_sem_fam_member( Close_word('china', .6 ))\n",
    "#phon_fam\n",
    "# for word in words_set:\n",
    "#     try:\n",
    "#         pron.phones_for_word(word)[0]\n",
    "#     except:\n",
    "#         print( word )"
   ]
  },
  {
   "cell_type": "code",
   "execution_count": 278,
   "id": "appointed-spirituality",
   "metadata": {},
   "outputs": [],
   "source": [
    "# To be replaced or enhanced with Word2Vec `most_similar()`\n",
    "def get_most_similar( w ):  \n",
    "    synonym_dist_setting = .5\n",
    "    #list_of_duples = [(syn, synonym_dist_setting) for syn in get_synonyms( w ) if syn !=  w.split('_')[0] else (syn, synonym_dist_setting-.5)]\n",
    "    list_of_duples = [(syn, synonym_dist_setting) for syn in get_synonyms( w ) ]\n",
    "    # Replace the above line with a for loop that takes into account the if w has an underscore, it's first\n",
    "    # item could be in the syn list and be more related than the the 1 penalty suggests\n",
    "    \n",
    "    if(w == 'two'):\n",
    "        additional_words =  [('pair', .95), ('twice', .90)]\n",
    "        list_of_duples.extend( additional_words )\n",
    "    list_of_close_words = [Close_word( word=w_str, distance= w_sim) for w_str, w_sim in list_of_duples ]\n",
    "    #print(\"list of semantically close words: \", list_of_close_words)    \n",
    "    return list_of_close_words"
   ]
  },
  {
   "cell_type": "code",
   "execution_count": 511,
   "id": "dominant-america",
   "metadata": {},
   "outputs": [],
   "source": [
    "\n",
    "#broad = False # True\n",
    "#subtle = True #False\n",
    "\n",
    "\n",
    "def make_phon_fams_and_sem_family( raw_w, nearby_words_dict_  ):\n",
    "    w = raw_w.lower()\n",
    "    w_words = w.split('_')\n",
    "    \n",
    "    if '_' not in w: # in other words if [w] == w_words\n",
    "        word_record_ = Close_word(w, 0.0)\n",
    "    else:\n",
    "        word_record_ = Close_word( w_words[-1], 0.1)\n",
    "\n",
    "    #phon_fams_word_set = set()\n",
    "    #phon_fams_word_set.add( word_record )\n",
    "\n",
    "    phon_fams_list = []\n",
    "    sem_sim_words = []\n",
    "    if broad or (word_record_.word not in nearby_words_dict_.keys() ):\n",
    "        print('broad code reached')\n",
    "        phon_fams_list.append( make_phon_fam_for_sem_fam_member( word_record_ ) )\n",
    "        sem_sim_words = get_most_similar(  w  )   # Eventually replace with call to Word2Vec\n",
    "    if subtle and (word_record_.word in nearby_words_dict_.keys() ):\n",
    "        print('sublety code reached')\n",
    "\n",
    "        for w_ in nearby_words_dict_[word_record_.word]:\n",
    "            near_word = Close_word(w_, 0.15)\n",
    "            phon_fams_list.append( make_phon_fam_for_sem_fam_member( near_word ) )\n",
    "            #sem_sim_words.extend( get_most_similar(  word_record_.word  ) )\n",
    "            \n",
    "        # use w2vec words now\n",
    "        # if label_word_cat_dict[raw_w] is 'object':\n",
    "        #     for w_ in w2v_model_bow.most_similar(positive = [*w_words, 'walks'], negative=['man'], topn=4):\n",
    "        #         if (w_ not in raw_w) and  (word_record_.word not in w_ ):\n",
    "        #             near_word = Close_word(w_, 0.13)\n",
    "        #             phon_fams_list.append( make_phon_fam_for_sem_fam_member( near_word ) )\n",
    "        #     for w_ in w2v_model_skp.most_similar(positive = [*w_words, 'walks'], negative=['man'], topn=4): \n",
    "        #         if (w_ not in raw_w) and  (word_record_.word not in w_ ):\n",
    "        #             near_word = Close_word(w_, 0.13)\n",
    "        #             phon_fams_list.append( make_phon_fam_for_sem_fam_member( near_word ) )\n",
    "        # elif label_word_cat_dict[raw_w] is 'animal':\n",
    "        #     for w_ in w2v_model_bow.most_similar(positive = [*w_words, 'walks'], negative=['man'], topn=4):\n",
    "        #         if (w_ not in raw_w) and  (word_record_.word not in w_ ):\n",
    "        #             if w_.endswith(('ing', 'ed', 's', 'e', 'er'))\n",
    "        #                 near_word = Close_word(w_, 0.13)\n",
    "        #                 phon_fams_list.append( make_phon_fam_for_sem_fam_member( near_word ) ) \n",
    "        # else:  \n",
    "        #     for w_ in w2v_model_bow.most_similar(positive = [*w_words, 'walks'], negative=['man'], topn=4):    \n",
    "        #         if (w_ not in raw_w) and  (word_record_.word not in w_ ):\n",
    "        #             near_word = Close_word(w_, 0.12)\n",
    "        #             phon_fams_list.append( make_phon_fam_for_sem_fam_member( near_word ) )\n",
    "        \n",
    "        \n",
    "\n",
    "        \n",
    "    if contrary:\n",
    "        if word_record_.word in w2v_kv_model.vocab:\n",
    "            print('word is in word2vec')\n",
    "            w2v_word_duples = w2v_kv_model.most_similar( word_record_.word, topn=5 )\n",
    "            w2v_word_duples = [(w, score) for w, score in w2v_word_duples if w != word_record_.word]\n",
    "            print(w2v_word_duples)\n",
    "            for w_duple in w2v_word_duples:\n",
    "                print(w_duple[0], 1-w_duple[1])\n",
    "                if (word_record_.word not in w_duple[0] and w_duple[0] not in word_record_.word):\n",
    "                    near_word = Close_word(w_duple[0], 1-w_duple[1])\n",
    "                    phon_fams_list.append( make_phon_fam_for_sem_fam_member( near_word ) )\n",
    "        else: \n",
    "            for w_ in nearby_words_dict_[word_record_.word]:\n",
    "                near_word = Close_word(w_, 0.15)\n",
    "                phon_fams_list.append( make_phon_fam_for_sem_fam_member( near_word ) )\n",
    "\n",
    "            \n",
    "    #phon_fams_word_set = phon_fams_word_set.union( sem_sim_words )\n",
    "\n",
    "    for close_w_record in sem_sim_words:\n",
    "        #print( close_w_record )\n",
    "        if( len(close_w_record.word ) >=2 ):\n",
    "            phon_fams_list.append( make_phon_fam_for_sem_fam_member( close_w_record ) )\n",
    "\n",
    "    #print('phon_fams_list length: ', len(phon_fams_list))\n",
    "\n",
    "    return Sem_family(locus_word= word_record_, sem_fam_words = phon_fams_list)"
   ]
  },
  {
   "cell_type": "code",
   "execution_count": 510,
   "id": "operational-hearts",
   "metadata": {},
   "outputs": [
    {
     "data": {
      "text/plain": [
       "True"
      ]
     },
     "execution_count": 510,
     "metadata": {},
     "output_type": "execute_result"
    }
   ],
   "source": []
  },
  {
   "cell_type": "code",
   "execution_count": 280,
   "id": "minus-indonesian",
   "metadata": {},
   "outputs": [],
   "source": [
    "#make_phon_fams_and_sem_family( \"china\" )"
   ]
  },
  {
   "cell_type": "code",
   "execution_count": 387,
   "id": "understood-compression",
   "metadata": {},
   "outputs": [
    {
     "data": {
      "text/plain": [
       "True"
      ]
     },
     "execution_count": 387,
     "metadata": {},
     "output_type": "execute_result"
    }
   ],
   "source": [
    "# w=image_topic_word\n",
    "# word_record = Close_word(w.split('_')[-1], 0.1)\n",
    "# word_record.word in w2v_kv_model.vocab"
   ]
  },
  {
   "cell_type": "code",
   "execution_count": 388,
   "id": "democratic-subsection",
   "metadata": {},
   "outputs": [],
   "source": [
    "# word_record"
   ]
  },
  {
   "cell_type": "markdown",
   "id": "curious-medline",
   "metadata": {},
   "source": [
    "## 4 — Gather candidate phrases\n",
    "\n",
    "For each word in the phonetic family, of each word in the semantic family, of each object label, retrieve phrases containing the word.\n",
    "Add the phrase_Id, as well as the stats on the object centrality, semantic distance, and phonetic distance, to a dataframe.\n",
    "\n",
    "Compute _suitability score_ for each word-phrase match and add this to that column of the dataframe\n",
    "\n",
    "Also, for each word in the semantic family, search the joke list for match and add that these to a joke_match dataframe, to use if there's too low a suitability score using a substitution.\n"
   ]
  },
  {
   "cell_type": "markdown",
   "id": "prime-yemen",
   "metadata": {},
   "source": [
    "## TO CODE NEXT\n",
    "\n",
    "Write code that takes the word `twice` and returns its `semantic_family` which is a list of words \n",
    "('pair', and 'twice' in this case) and returns either (TBD) the list phonetically similar words or \n",
    "the pboneticized version of the word to be compared with the phoneticized variants of words in\n",
    "the phrases\n",
    "\n"
   ]
  },
  {
   "cell_type": "markdown",
   "id": "strategic-ambassador",
   "metadata": {},
   "source": [
    "#### Define dataframe for candidate phrases"
   ]
  },
  {
   "cell_type": "markdown",
   "id": "heavy-thumb",
   "metadata": {},
   "source": [
    "#### Need to write body of function that will convert to phoneticized version of word"
   ]
  },
  {
   "cell_type": "code",
   "execution_count": 281,
   "id": "valid-chorus",
   "metadata": {},
   "outputs": [],
   "source": [
    "def phoneticized( w ):\n",
    "    return w"
   ]
  },
  {
   "cell_type": "markdown",
   "id": "revised-dialogue",
   "metadata": {},
   "source": [
    "### ALERT:  Instead, pre-generate a dictionary of phoneticized versions of the words in the list of idioms. Each phonetic word should map to a list of duples each of which is a phrase id and the corresponding word"
   ]
  },
  {
   "cell_type": "code",
   "execution_count": 282,
   "id": "agreed-strand",
   "metadata": {},
   "outputs": [],
   "source": [
    "# def get_matching_phrases( w, phrase_dict_ ):\n",
    "#     matched_id_list = []\n",
    "#     for phrase_id in phrase_dict_.keys():\n",
    "#         if w in phrase_dict_[phrase_id].phon_list:\n",
    "#             matched_id_list.append(phrase_id)\n",
    "#             #print( phrase_dict_[ phrase_id] )\n",
    "#             return matched_id_list"
   ]
  },
  {
   "cell_type": "code",
   "execution_count": 283,
   "id": "explicit-november",
   "metadata": {},
   "outputs": [],
   "source": [
    "def get_matching_phrases( w, phrase_dict_, word_to_phrase_dict_  ):\n",
    "    try:\n",
    "        return word_to_phrase_dict_[w]    \n",
    "    except:\n",
    "        return None\n",
    "    \n",
    "#     matched_id_list = []\n",
    "#     for phrase_id, phrase in phrase_dict_.items():\n",
    "#          if w in phrase.phon_list:\n",
    "#             matched_id_list.append(phrase_id)\n",
    "#             #print( phrase_dict_[ phrase_id] )\n",
    "#             return matched_id_list"
   ]
  },
  {
   "cell_type": "code",
   "execution_count": 284,
   "id": "stopped-direction",
   "metadata": {},
   "outputs": [],
   "source": [
    "import streamlit as st\n",
    "#  cycles through each phonetic family in the semantic family to get matching phrases\n",
    "#@st.cache(suppress_st_warning=True)\n",
    "#@st.cache\n",
    "def get_phrases_for_phon_fam( phon_fam_, phrase_dict_, word_to_phrase_dict_, bar_ ):\n",
    "    #bar = st.progress(0)\n",
    "    word_match_records_ = []\n",
    "    outer_count = 0\n",
    "\n",
    "    max=len(phrase_dict_)\n",
    "    #st.write(max)\n",
    "    #status_text = \"Exploring potential captions\"\n",
    "    count = 0\n",
    "    for word in phon_fam_.close_words:\n",
    "        # TIMEING THIS CODE\n",
    "        #start = time.time()\n",
    "        matched_phrases = get_matching_phrases( word.word, phrase_dict_, word_to_phrase_dict_ )\n",
    "        if matched_phrases:\n",
    "            for p_id in matched_phrases:\n",
    "                word_match_records_.append({'semantic_match': phon_fam_.locus_word.word, 'sem_dist': phon_fam_.locus_word.distance, 'phonetic_match': word.word, 'phon_dist': word.distance, 'phrase_id': p_id, 'dist_score': ''})\n",
    "        #end = time.time()\n",
    "        #st.write(\"Time consumed in working on : \", word,  end - start)\n",
    "        #print(\"Time consumed in working : \", word,   end - start) \n",
    "        # END THE TIMING HERE\n",
    "        count+=1\n",
    "        #bar.progress( min(100, int( 100 * 15 * float(count)/max)) )\n",
    "        bar_.progress( min( 100, int(2.5 * count/max) ))\n",
    "        outer_count+=1\n",
    "        #more_mult = int(outer_count/30000)\n",
    "        #status_text = \"Exploring more \" + 'and more '* (more_mult - 1)+ \"potential captions\"\n",
    "\n",
    "\n",
    "    #st.write(status_text )\n",
    "    #my_placeholder.text('Replaced!')\n",
    "\n",
    "    #del bar\n",
    "    #bar = st.empty()\n",
    "    #st.write(status_text )\n",
    "    #print(\"phon fam's number of word_match_records:\", len(word_match_records_ ))\n",
    "    return word_match_records_, bar\n"
   ]
  },
  {
   "cell_type": "code",
   "execution_count": 285,
   "id": "controlling-plaza",
   "metadata": {},
   "outputs": [],
   "source": [
    "# global variable\n",
    "#progress_text = \"Exploring\"\n",
    "\n",
    "def get_phrases_for_sem_fam( sem_fam_, phrase_dict_, word_to_phrase_dict_,  bar_  ):\n",
    "    word_match_records_ = []\n",
    "\n",
    "    global progress_text\n",
    "       \n",
    "    for phon_fam_ in sem_fam_.sem_fam_words:\n",
    "        status_text.text( progress_text + ' captioning possibilities')\n",
    "        #print( phon_fam_.locus_word.distance )\n",
    "        #word_match_records_.extend( get_phrases_for_phon_fam( phon_fam_, sem_fam_.locus_word.distance ) )\n",
    "        #phrases_ =      get_phrases_for_phon_fam( phon_fam_, phrase_dict_, word_to_phrase_dict_ ) \n",
    "        phrases_, bar = get_phrases_for_phon_fam( phon_fam_, phrase_dict_, word_to_phrase_dict_,  bar_  )\n",
    "        #bar = st.empty()\n",
    "        #phrases_ = get_phrases_for_phon_fam( phon_fam_, phrase_dict_, word_to_phrase_dict_ )\n",
    "        #bar = st.empty()\n",
    "        \n",
    "        if len( phrases_ ) > 0:\n",
    "            #print( phrases_ )\n",
    "            word_match_records_.extend( phrases_ )\n",
    "        #if len(word_match_records_) > 500:\n",
    "        #   break\n",
    "        if ('more' in progress_text):\n",
    "            progress_text = ' '.join([progress_text,'and more'])\n",
    "        else:\n",
    "            progress_text = ' '.join([progress_text,'more'])\n",
    "        \n",
    "        \n",
    "        \n",
    "        \n",
    "        \n",
    "    #print(\"SEM fam's number of word_match_records:\", len(word_match_records_ ))\n",
    "    return word_match_records_"
   ]
  },
  {
   "cell_type": "code",
   "execution_count": 286,
   "id": "arctic-marshall",
   "metadata": {},
   "outputs": [],
   "source": [
    "# word_match_records = []   \n",
    "# word_match_records.extend( get_phrases_for_phon_fam( two_phon_fam ) ) \n",
    "# word_match_records.extend( get_phrases_for_phon_fam( pair_phon_fam ) )\n",
    "# word_match_records.extend( get_phrases_for_phon_fam( twice_phon_fam ) )  \n",
    "# word_match_records"
   ]
  },
  {
   "cell_type": "code",
   "execution_count": 287,
   "id": "mental-aaron",
   "metadata": {},
   "outputs": [],
   "source": [
    "# To be replaced with image recognition algorithms\n",
    "def get_image_topics():\n",
    "    return [image_topic]\n"
   ]
  },
  {
   "cell_type": "code",
   "execution_count": null,
   "id": "heard-process",
   "metadata": {},
   "outputs": [],
   "source": []
  },
  {
   "cell_type": "code",
   "execution_count": 288,
   "id": "heard-flower",
   "metadata": {},
   "outputs": [],
   "source": [
    "# with open(\"data/\" + \"image_topics.pickle\", 'rb') as to_read:\n",
    "#     image_topics_ =  pickle.load(to_read)\n",
    "\n",
    "# with open(\"data/\" + \"phrase_dictionary.pickle\", 'rb') as to_read:\n",
    "#     phrase_dict_ =  pickle.load(to_read)    \n",
    "\n",
    "# col_names = ['semantic_match', 'sem_dist', 'phonetic_match', 'phon_dist', 'phrase_id', 'dist_score']\n",
    "# cand_df_ = pd.DataFrame(columns= col_names)\n"
   ]
  },
  {
   "cell_type": "code",
   "execution_count": 289,
   "id": "supported-vegetable",
   "metadata": {},
   "outputs": [],
   "source": [
    "# image_sem_fam = make_phon_fams_and_sem_family( image_topics_[0] )"
   ]
  },
  {
   "cell_type": "code",
   "execution_count": 290,
   "id": "asian-annual",
   "metadata": {},
   "outputs": [],
   "source": [
    "# cand_df_"
   ]
  },
  {
   "cell_type": "code",
   "execution_count": 291,
   "id": "attractive-settle",
   "metadata": {},
   "outputs": [],
   "source": [
    "# image_sem_fam[1]"
   ]
  },
  {
   "cell_type": "code",
   "execution_count": 292,
   "id": "geographic-white",
   "metadata": {},
   "outputs": [],
   "source": [
    "# get_image_topics()"
   ]
  },
  {
   "cell_type": "markdown",
   "id": "congressional-arkansas",
   "metadata": {},
   "source": [
    "## The equivalent of `main` for the time being, until two or more image topics are handled"
   ]
  },
  {
   "cell_type": "code",
   "execution_count": 293,
   "id": "extreme-better",
   "metadata": {},
   "outputs": [],
   "source": [
    "import time"
   ]
  },
  {
   "cell_type": "code",
   "execution_count": 294,
   "id": "micro-nicholas",
   "metadata": {},
   "outputs": [],
   "source": [
    "#image_topics_\n",
    "import streamlit as st"
   ]
  },
  {
   "cell_type": "code",
   "execution_count": 295,
   "id": "bacterial-secondary",
   "metadata": {},
   "outputs": [],
   "source": [
    "\n",
    "\n",
    "##### SOMEHWERE IN HERE IS THE BOTTLENECK\n",
    "def generate_the_captions( bar_ ):\n",
    "    with open(\"data/\" + \"image_topics.pickle\", 'rb') as to_read:\n",
    "        image_topics_ =  pickle.load(to_read)\n",
    "        \n",
    "    with open(\"data/\" + \"phrase_dictionary.pickle\", 'rb') as to_read:\n",
    "        phrase_dict_ =  pickle.load(to_read)    \n",
    "\n",
    "    with open(\"data/\" + 'word_to_phrase_dict.pickle', 'rb') as to_read:  \n",
    "        word_to_phrase_dict_  =  pickle.load(to_read)       \n",
    "\n",
    "    with open(\"data/\" + 'nearby_words_dict.pickle', 'rb') as to_read:  \n",
    "        nearby_words_dict_  =  pickle.load(to_read)          \n",
    "      \n",
    "        \n",
    "    col_names = ['semantic_match', 'sem_dist', 'phonetic_match', 'phon_dist', 'phrase_id', 'dist_score']\n",
    "    cand_df_ = pd.DataFrame(columns= col_names)\n",
    "\n",
    "    image_topic_word_ = image_topics_[0]\n",
    "#   image_topic_word_ = image_topics_\n",
    "    image_sem_fam = make_phon_fams_and_sem_family( image_topic_word_, nearby_words_dict_ )\n",
    "\n",
    "    #progress_text = 'changed'\n",
    "    #t.markdown( progress_text )\n",
    "    #t.markdown( 'new')\n",
    "    #status_text.text('Status text')\n",
    "    \n",
    "    #start = time.time()\n",
    "    word_match_records = get_phrases_for_sem_fam( image_sem_fam, phrase_dict_, word_to_phrase_dict_, bar_ )\n",
    "    #end = time.time()\n",
    "    #st.write(\"Time consumed in working: \",end - start)\n",
    "    #print(\"Time consumed in working: \",end - start)\n",
    "        \n",
    "    cand_df_ = cand_df_.append(word_match_records)\n",
    "    return cand_df_, image_topic_word_, phrase_dict_\n",
    "    #return\n",
    "\n",
    "#generate_the_captions( )\n",
    "#cand_df_, image_topic_word_, phrase_dict_= generate_the_captions( )"
   ]
  },
  {
   "cell_type": "code",
   "execution_count": null,
   "id": "engaging-elder",
   "metadata": {},
   "outputs": [],
   "source": []
  },
  {
   "cell_type": "code",
   "execution_count": 296,
   "id": "joined-translator",
   "metadata": {},
   "outputs": [],
   "source": [
    "#phrase_dict_"
   ]
  },
  {
   "cell_type": "code",
   "execution_count": 297,
   "id": "completed-campaign",
   "metadata": {},
   "outputs": [],
   "source": [
    "#cand_df_"
   ]
  },
  {
   "cell_type": "code",
   "execution_count": 534,
   "id": "adjusted-berlin",
   "metadata": {},
   "outputs": [],
   "source": [
    "def compute_candidate_caption_scores(cand_df_):\n",
    "    #cand_df_['dist_score'] = cand_df_.apply(lambda row: (float(row['sem_dist']) + row['phon_dist']/len(row['semantic_match'])), axis=1)\n",
    "    #semantic_weight = 1.1 # Raising this value pushes away semantically more distant connections from consideration\n",
    "    #match_length_weight = .025\n",
    "    #cand_df_['dist_score'] = cand_df_.apply(lambda row: (float(row['sem_dist']*semantic_weight) + row['phon_dist'] - float(len(row['semantic_match']))*match_length_weight), axis=1)\n",
    "    cand_df_['dist_score'] = cand_df_.apply(lambda row: (float(row['sem_dist']) + row['phon_dist']/len(row['semantic_match'])), axis=1)\n",
    "\n",
    "    return cand_df_"
   ]
  },
  {
   "cell_type": "markdown",
   "id": "accepted-lightning",
   "metadata": {},
   "source": [
    "## 5 —  Choose captions\n",
    "\n",
    "Sort captions dataframe by the _suitability score_\n",
    "\n",
    "Choose the top 10(?) and generate a list containing each caption with the original semantic family word substituted into the idiom in addition to jokes containing any of the semantic family words"
   ]
  },
  {
   "cell_type": "code",
   "execution_count": 553,
   "id": "casual-poster",
   "metadata": {},
   "outputs": [],
   "source": [
    "def construct_caption_by_substitution(row_, phon_match, sem_match, phrase_dict_ ):\n",
    "    #print (phrase_dict_[ row_['phrase_id'] ])\n",
    " \n",
    "    \n",
    "    original_phrase = phrase_dict_[ row_['phrase_id'] ].text_string\n",
    "    sub_word_or_phrase = sem_match\n",
    "\n",
    "    if contrary:\n",
    "#         if sem_match[-1] !='s' :\n",
    "#             if sem_match[0] not in {'a', 'e', 'i', 'o'}:\n",
    "#                 sub_word_or_phrase = 'not just a ' + sub_word_or_phrase\n",
    "#             else:     \n",
    "#                 sub_word_or_phrase = 'not just an ' + sub_word_or_phrase\n",
    "#         else:\n",
    "#             sub_word_or_phrase = 'not just ' + sub_word_or_phrase    \n",
    "         sub_word_or_phrase =  sub_word_or_phrase + ' not'\n",
    "\n",
    "    altered_phrase = original_phrase.replace(phon_match, sub_word_or_phrase).replace('_', ' ')\n",
    "\n",
    "    \n",
    "#     original_phrase = phrase_dict_[ row_['phrase_id'] ].text_string\n",
    "#     altered_phrase = original_phrase.replace(phon_match, sem_match).replace('_', ' ')\n",
    "    #return altered_phrase\n",
    "\n",
    "    \n",
    "    \n",
    "    \n",
    "    return altered_phrase\n"
   ]
  },
  {
   "cell_type": "code",
   "execution_count": 300,
   "id": "studied-margin",
   "metadata": {},
   "outputs": [],
   "source": [
    "\n",
    "def get_best_captions(df, phrase_dict_, selection_size=25):\n",
    "    df.sort_values(by='dist_score', inplace=True)\n",
    "    best_df = df.head(selection_size)\n",
    "    best_df['caption'] = best_df.apply(lambda row: construct_caption_by_substitution(row, row['phonetic_match'],  row['semantic_match'], phrase_dict_, ), axis=1 )        # Is it not to pass a dictionary to a function?\n",
    "    return best_df"
   ]
  },
  {
   "cell_type": "code",
   "execution_count": 379,
   "id": "martial-first",
   "metadata": {},
   "outputs": [
    {
     "data": {
      "text/html": [
       "<div>\n",
       "<style scoped>\n",
       "    .dataframe tbody tr th:only-of-type {\n",
       "        vertical-align: middle;\n",
       "    }\n",
       "\n",
       "    .dataframe tbody tr th {\n",
       "        vertical-align: top;\n",
       "    }\n",
       "\n",
       "    .dataframe thead th {\n",
       "        text-align: right;\n",
       "    }\n",
       "</style>\n",
       "<table border=\"1\" class=\"dataframe\">\n",
       "  <thead>\n",
       "    <tr style=\"text-align: right;\">\n",
       "      <th></th>\n",
       "      <th>semantic_match</th>\n",
       "      <th>sem_dist</th>\n",
       "      <th>phonetic_match</th>\n",
       "      <th>phon_dist</th>\n",
       "      <th>phrase_id</th>\n",
       "      <th>dist_score</th>\n",
       "    </tr>\n",
       "  </thead>\n",
       "  <tbody>\n",
       "  </tbody>\n",
       "</table>\n",
       "</div>"
      ],
      "text/plain": [
       "Empty DataFrame\n",
       "Columns: [semantic_match, sem_dist, phonetic_match, phon_dist, phrase_id, dist_score]\n",
       "Index: []"
      ]
     },
     "execution_count": 379,
     "metadata": {},
     "output_type": "execute_result"
    }
   ],
   "source": []
  },
  {
   "cell_type": "code",
   "execution_count": 301,
   "id": "german-appearance",
   "metadata": {},
   "outputs": [],
   "source": [
    "def process_best_captions_df_and_make_list(cand_df, phrase_dict):\n",
    "    best_captions_df = get_best_captions(cand_df, phrase_dict)\n",
    "    #best_captions_df\n",
    "    best_captions_list = best_captions_df['caption'].tolist()\n",
    "    #best_captions_list = [caption.capitalize() for caption in best_captions_df['caption'].to_list()]\n",
    "    return best_captions_df, best_captions_list"
   ]
  },
  {
   "cell_type": "code",
   "execution_count": null,
   "id": "premium-blank",
   "metadata": {},
   "outputs": [],
   "source": []
  },
  {
   "cell_type": "code",
   "execution_count": 302,
   "id": "traditional-satisfaction",
   "metadata": {},
   "outputs": [],
   "source": [
    "def get_display_df(best_captions_df_):\n",
    "    best_captions_display_df = best_captions_df_[['caption', 'dist_score', 'semantic_match', 'sem_dist', 'phonetic_match', 'phon_dist']]\n",
    "    best_captions_display_df['caption'] =best_captions_display_df['caption'].apply(lambda x: x.capitalize())\n",
    "    best_captions_display_df.set_index('caption', inplace=True)\n",
    "    return best_captions_display_df"
   ]
  },
  {
   "cell_type": "code",
   "execution_count": 303,
   "id": "japanese-heating",
   "metadata": {},
   "outputs": [],
   "source": [
    "import matplotlib.image as mpimg\n",
    "img = mpimg.imread('data/temp.png')"
   ]
  },
  {
   "cell_type": "code",
   "execution_count": 304,
   "id": "french-tuner",
   "metadata": {},
   "outputs": [],
   "source": [
    "# ax = plt.axes([0,0,1,1], frameon=False)\n",
    "# ax.get_xaxis().set_visible(False)\n",
    "# ax.get_yaxis().set_visible(False)\n",
    "# plt.autoscale(tight=True)\n",
    "# ax.axes.xaxis.set_visible(False)\n",
    "# ax.axes.yaxis.set_visible(False)\n",
    "#plt.imshow(recognized_image/255.)\n",
    "#plt.imshow(global_var_img/255.)\n",
    "#plt.imshow(img)\n"
   ]
  },
  {
   "cell_type": "code",
   "execution_count": null,
   "id": "facial-bracelet",
   "metadata": {},
   "outputs": [],
   "source": []
  },
  {
   "cell_type": "code",
   "execution_count": null,
   "id": "australian-nickel",
   "metadata": {},
   "outputs": [],
   "source": []
  },
  {
   "cell_type": "code",
   "execution_count": 547,
   "id": "measured-charity",
   "metadata": {},
   "outputs": [],
   "source": [
    "def make_image_with_caption( image, caption):\n",
    "\n",
    "    ax = plt.subplot(1, 1, 1)\n",
    "    plt.axis('off')\n",
    "    f_reduction = max((len(caption)-35), 0)/5\n",
    "    \n",
    "    f_size = 16-f_reduction\n",
    "    caption = caption[0].upper() + caption[1:]\n",
    "    #plt.text( 0.5, -0.1, caption.capitalize(), \\\n",
    "    plt.text( 0.5, -0.1, caption, \\\n",
    "    horizontalalignment='center', verticalalignment='center', \\\n",
    "    transform=ax.transAxes, fontsize=f_size)\n",
    "    plt.imshow( image)\n",
    "\n",
    "    plt.tight_layout()\n",
    "    plt.savefig('data/image_with_caption.png')\n",
    "    plt.show()\n"
   ]
  },
  {
   "cell_type": "code",
   "execution_count": 306,
   "id": "acquired-vegetation",
   "metadata": {},
   "outputs": [],
   "source": [
    "# THIS BLOCK WILL EVENTUALLY BE OMMITTED FROM THE APP CODE\n",
    "def build_phrase_dictionary(idiom_list_, phrase_dict_):\n",
    "\n",
    "    for idiom_str in idiom_list_:\n",
    "        w_list = idiom_str.lower().split()\n",
    "        phrase_dict_[uuid.uuid1()] = Phrase(text_string = idiom_str, word_list = w_list, phon_list = w_list, string_length = len(idiom_str), word_count = len(w_list), prefix=\"Yeah, right, like  \", phrase_type='idiom' )\n",
    "\n",
    "           \n",
    "    with open(\"data/\" + \"phrase_dictionary.pickle\", 'wb') as to_write:\n",
    "        pickle.dump(phrase_dict_, to_write)     \n",
    "\n",
    "        \n",
    "    # Make backwards dictionary: word_to_phrase    \n",
    "    phrase_words_set = set()\n",
    "    \n",
    "    for k, v in phrase_dict_.items():\n",
    "        phrase_words_set = phrase_words_set.union( set(v.word_list) ) \n",
    "\n",
    "    word_to_phrase_dict = dict()\n",
    "\n",
    "    for word in phrase_words_set:\n",
    "        phrase_id_list = []\n",
    "        for k, v in phrase_dict_.items():\n",
    "            if word in v.word_list:\n",
    "                phrase_id_list.append( k )\n",
    "            word_to_phrase_dict[word] = phrase_id_list       \n",
    "\n",
    "    with open(\"data/\" + \"word_to_phrase_dict.pickle\", 'wb') as to_write:\n",
    "        pickle.dump(word_to_phrase_dict, to_write)     \n",
    "\n",
    "   \n",
    "        \n"
   ]
  },
  {
   "cell_type": "code",
   "execution_count": null,
   "id": "theoretical-volleyball",
   "metadata": {},
   "outputs": [],
   "source": []
  },
  {
   "cell_type": "code",
   "execution_count": 307,
   "id": "blocked-richardson",
   "metadata": {},
   "outputs": [],
   "source": [
    "# THIS BLOCK WILL EVENTUALLY BE OMMITTED FROM THE APP CODE\n",
    "# @st.cache\n",
    "def setup():\n",
    "    phrase_dict = dict()\n",
    "    seed_the_phrase_dictionary_with_examples( phrase_dict )\n",
    "\n",
    "    idiom_list_ = compile_idiom_lists()\n",
    "    \n",
    "    build_phrase_dictionary(idiom_list_, phrase_dict )\n",
    "    \n",
    "#setup()"
   ]
  },
  {
   "cell_type": "code",
   "execution_count": 363,
   "id": "nuclear-renaissance",
   "metadata": {},
   "outputs": [],
   "source": [
    "#def process_captioning_the_image( ):\n",
    "\n",
    "#def process_captioning_the_image_part0( ):\n",
    "\n",
    "#def process_captioning_the_image_part1( ):\n",
    "def process_captioning_the_image_part1( cand_df_, image_topic_word_, phrase_dict_ ):\n",
    "    \n",
    "    #cand_df_, image_topic_word_, phrase_dict_ = generate_the_captions()\n",
    "\n",
    "    cand_df_ = compute_candidate_caption_scores(cand_df_)\n",
    "\n",
    "    best_captions_df_ = get_best_captions(cand_df_, phrase_dict_)\n",
    "\n",
    "    return cand_df_, best_captions_df_, phrase_dict_\n",
    "    \n",
    "def process_captioning_the_image_part2( cand_df_, best_captions_, phrase_dict_ ):   \n",
    "    \n",
    "    best_captions_df_, best_captions_list_ = process_best_captions_df_and_make_list(cand_df_, phrase_dict_)\n",
    "\n",
    "    img_ = mpimg.imread('data/temp.png')\n",
    "\n",
    "    return img_, best_captions_list_, best_captions_df_\n",
    "\n",
    "def process_captioning_the_image_part3( img_, best_captions_list_, best_captions_df_):\n",
    "    #random_choice = random.randint(0, 5)\n",
    "    \n",
    "\n",
    "    \n",
    "    cream_of_captions_df = best_captions_df_[best_captions_df_['dist_score'] == best_captions_df_['dist_score'].min()].sample(1)\n",
    "    \n",
    "    make_image_with_caption( img_, cream_of_captions_df['caption'].to_list()[0])\n",
    "\n",
    "    display_df_ = get_display_df( best_captions_df_ )\n",
    "\n",
    "    return display_df_\n",
    "\n",
    "#process_captioning_the_image( )"
   ]
  },
  {
   "cell_type": "code",
   "execution_count": 391,
   "id": "hispanic-duncan",
   "metadata": {},
   "outputs": [],
   "source": [
    "#cand_df = compute_candidate_caption_scores(cand_df)\n",
    "#best_captions_df = get_best_captions(cand_df, phrase_dict)"
   ]
  },
  {
   "cell_type": "code",
   "execution_count": 309,
   "id": "surprising-military",
   "metadata": {},
   "outputs": [],
   "source": [
    "#type(display_df.index.tolist())"
   ]
  },
  {
   "cell_type": "code",
   "execution_count": 310,
   "id": "regular-entrance",
   "metadata": {},
   "outputs": [],
   "source": [
    "#make_image_with_caption( img, display_df.index[0] )"
   ]
  },
  {
   "cell_type": "code",
   "execution_count": 311,
   "id": "associate-metropolitan",
   "metadata": {},
   "outputs": [],
   "source": [
    "# cand_df_, image_topic_word_, phrase_dict_ = generate_the_captions()\n",
    "\n",
    "\n",
    "# cand_df_ = compute_candidate_caption_scores(cand_df_)\n",
    "\n",
    "# best_captions_df = get_best_captions(cand_df_, phrase_dict_)\n",
    "\n",
    "# best_captions_df, best_captions_list = process_best_captions_df_and_make_list(cand_df_, phrase_dict_)\n",
    "\n",
    "# img = mpimg.imread('data/temp.png')\n",
    "\n",
    "# make_image_with_caption( img, best_captions_list[0])\n",
    "\n",
    "# display_df_ = get_display_df( best_captions_df )\n",
    "\n",
    "# display_df"
   ]
  },
  {
   "cell_type": "code",
   "execution_count": null,
   "id": "rolled-current",
   "metadata": {},
   "outputs": [],
   "source": []
  },
  {
   "cell_type": "code",
   "execution_count": 312,
   "id": "sharp-violin",
   "metadata": {},
   "outputs": [],
   "source": [
    "# cand_df_, image_topic_word_, phrase_dict_ = generate_the_captions()"
   ]
  },
  {
   "cell_type": "code",
   "execution_count": 313,
   "id": "fantastic-month",
   "metadata": {},
   "outputs": [],
   "source": [
    "# cand_df"
   ]
  },
  {
   "cell_type": "code",
   "execution_count": 403,
   "id": "adopted-foundation",
   "metadata": {},
   "outputs": [],
   "source": [
    "def display_image():\n",
    "    img = mpimg.imread('data/image_with_caption.png')\n",
    "    try:\n",
    "        st.image(img, width=800)\n",
    "    except:\n",
    "        pass"
   ]
  },
  {
   "cell_type": "markdown",
   "id": "precise-lexington",
   "metadata": {},
   "source": [
    "### Streamlit code"
   ]
  },
  {
   "cell_type": "raw",
   "id": "comparable-visiting",
   "metadata": {},
   "source": [
    "import streamlit as st\n",
    "st.markdown(\"<h2 style='text-align: center;'>  &nbsp; &nbsp;  &nbsp;  &nbsp;  &nbsp; <B>Experiments in Captioning, <i>Wit</i> a Twist </B></h2>\", unsafe_allow_html=True)\n",
    "st.markdown(\"<h3 style='text-align: center;'> &nbsp; &nbsp; &nbsp; &nbsp; &nbsp; &nbsp; &nbsp; The Amusemater Captioner</h3>\", unsafe_allow_html=True)\n",
    "st.markdown(\"<P>  &nbsp; </P>\", unsafe_allow_html=True)\n",
    "st.write(\n",
    "'''\n",
    " &nbsp;\n",
    "'''\n",
    ")\n",
    "\n",
    "# https://towardsdatascience.com/image-classification-of-uploaded-files-using-streamlits-killer-new-feature-7dd6aa35fe0\n",
    "# ### Excluding Imports ###\n",
    "# st.title(\"Upload + Classification Example\")\n",
    "# uploaded_file = st.file_uploader(\"Choose an image...\", type=\"jpg\")\n",
    "# if uploaded_file is not None:\n",
    "#     image = Image.open(uploaded_file)\n",
    "#     st.image(image, caption='Uploaded Image.', use_column_width=True)\n",
    "#     st.write(\"\")\n",
    "#     st.write(\"Classifying...\")\n",
    "#     label = predict(uploaded_file)\n",
    "#     st.write('%s (%.2f%%)' % (label[1], label[2]*100))\n",
    "# uploaded_file = st.file_uploader(\"text here\", type=\"file_type\")\n",
    "# Using PIL\n",
    "# image = Image.open(uploaded_file)\n",
    "# st.image(image, caption='Uploaded Image.')\n",
    "\n",
    "img_num = st.slider('Slide to select a picture from IMAGENET', 1, 5500, value = 971)"
   ]
  },
  {
   "cell_type": "markdown",
   "id": "earned-restriction",
   "metadata": {},
   "source": [
    "### non-streamlit code"
   ]
  },
  {
   "cell_type": "code",
   "execution_count": 404,
   "id": "frequent-interface",
   "metadata": {},
   "outputs": [
    {
     "name": "stderr",
     "output_type": "stream",
     "text": [
      "2021-03-21 01:34:59.542 INFO    gensim.scripts.glove2word2vec: converting 400000 vectors from data/glove.6B/glove.6B.100d.txt to data/glove.6B/glove.6B.100d.txt.w2v\n",
      "2021-03-21 01:35:00.332 INFO    gensim.models.utils_any2vec: loading projection weights from data/glove.6B/glove.6B.100d.txt.w2v\n",
      "2021-03-21 01:35:15.392 INFO    gensim.models.utils_any2vec: loaded (400000, 100) matrix from data/glove.6B/glove.6B.100d.txt.w2v\n"
     ]
    }
   ],
   "source": [
    "img_label_dict = get_curated_img_label_dict()\n",
    "img_model = load_image_classification_model()\n",
    "#w2v_kv_model = load_w2v_kv_model()\n",
    "\n",
    "# setup()"
   ]
  },
  {
   "cell_type": "code",
   "execution_count": 405,
   "id": "active-senate",
   "metadata": {},
   "outputs": [
    {
     "name": "stderr",
     "output_type": "stream",
     "text": [
      "2021-03-21 01:35:16.082 WARNING tensorflow: 5 out of the last 6 calls to <function Model.make_predict_function.<locals>.predict_function at 0x7fcd899d3e50> triggered tf.function retracing. Tracing is expensive and the excessive number of tracings could be due to (1) creating @tf.function repeatedly in a loop, (2) passing tensors with different shapes, (3) passing Python objects instead of tensors. For (1), please define your @tf.function outside of the loop. For (2), @tf.function has experimental_relax_shapes=True option that relaxes argument shapes that can avoid unnecessary retracing. For (3), please refer to https://www.tensorflow.org/guide/function#controlling_retracing and https://www.tensorflow.org/api_docs/python/tf/function for  more details.\n"
     ]
    },
    {
     "data": {
      "image/png": "[encoded data removed]",
      "text/plain": [
       "<Figure size 432x288 with 1 Axes>"
      ]
     },
     "metadata": {
      "needs_background": "light"
     },
     "output_type": "display_data"
    }
   ],
   "source": [
    "import random\n",
    "#img_num=random.randint(1,5500)\n",
    "if img_num is None:\n",
    "    img_num = 10\n",
    "    \n",
    "img, image_topics_list =image_recognition_pipeline(img_model, img_label_dict, img_num )"
   ]
  },
  {
   "cell_type": "code",
   "execution_count": 406,
   "id": "identified-badge",
   "metadata": {},
   "outputs": [],
   "source": [
    "#image_topics_list"
   ]
  },
  {
   "cell_type": "code",
   "execution_count": 407,
   "id": "blind-brook",
   "metadata": {},
   "outputs": [],
   "source": [
    "# def get_progress_text():\n",
    "#     return progress_text"
   ]
  },
  {
   "cell_type": "raw",
   "id": "alleged-prospect",
   "metadata": {},
   "source": [
    "broad = st.checkbox('Brandish this for broad', value=True)\n",
    "subtle = st.checkbox('Touch me for subtlety', value=False)\n",
    "contrary = st.checkbox('Click me for contrary craziness', value=False)\n",
    "\n",
    "if contrary:\n",
    "    broad = False\n",
    "    subtle = False\n",
    "    w2v_kv_model = load_w2v_kv_model()\n",
    " \n",
    "if broad or subtle:\n",
    "    contrary = False\n",
    "\n",
    "if subtle:\n",
    "    w2v_model_bow, w2v_model_skp = load_w2v_models()\n",
    "\n",
    "\n",
    "#if broad is None:\n",
    "#    broad = True"
   ]
  },
  {
   "cell_type": "code",
   "execution_count": 408,
   "id": "stainless-parking",
   "metadata": {},
   "outputs": [],
   "source": [
    "# broad = True\n",
    "# subtle = False\n",
    "# contrary = False"
   ]
  },
  {
   "cell_type": "code",
   "execution_count": 430,
   "id": "reduced-danish",
   "metadata": {},
   "outputs": [],
   "source": [
    "# broad = False\n",
    "# subtle = False\n",
    "# contrary = True"
   ]
  },
  {
   "cell_type": "code",
   "execution_count": 431,
   "id": "matched-egyptian",
   "metadata": {},
   "outputs": [
    {
     "name": "stdout",
     "output_type": "stream",
     "text": [
      "word is in word2vec\n",
      "[('lizards', 0.7120301723480225), ('snake', 0.7016227841377258), ('snakes', 0.636357843875885), ('parrot', 0.6323928236961365), ('tortoise', 0.6307032704353333)]\n",
      "lizards 0.28796982765197754\n",
      "snake 0.29837721586227417\n",
      "snakes 0.363642156124115\n",
      "parrot 0.3676071763038635\n",
      "tortoise 0.36929672956466675\n"
     ]
    },
    {
     "data": {
      "text/plain": [
       "<streamlit.delta_generator.DeltaGenerator at 0x7fcdf03805b0>"
      ]
     },
     "execution_count": 431,
     "metadata": {},
     "output_type": "execute_result"
    }
   ],
   "source": [
    "#display_df = process_captioning_the_image(phrase_dict)\n",
    "#display_df = process_captioning_the_image()\n",
    "\n",
    "bar = st.progress(0)\n",
    "status_text = st.empty()\n",
    "progress_text = \"Exploring\"\n",
    "\n",
    "#cand_df, image_topic_word, phrase_dict = generate_the_captions()\n",
    "cand_df, image_topic_word, phrase_dict = generate_the_captions(bar )\n",
    "\n",
    "status_text.text('Done!')\n",
    "#st.balloons()\n"
   ]
  },
  {
   "cell_type": "code",
   "execution_count": 432,
   "id": "perceived-debate",
   "metadata": {},
   "outputs": [],
   "source": [
    "#!ls data"
   ]
  },
  {
   "cell_type": "code",
   "execution_count": 433,
   "id": "molecular-testament",
   "metadata": {},
   "outputs": [],
   "source": [
    "#cand_df"
   ]
  },
  {
   "cell_type": "code",
   "execution_count": 434,
   "id": "twelve-spectrum",
   "metadata": {},
   "outputs": [],
   "source": [
    "# with open(\"data/\" + 'word_to_phrase_dict.pickle', 'rb') as to_read:  \n",
    "#     word_to_phrase_dict  =  pickle.load(to_read)      \n",
    "# word_to_phrase_dict['dispope']"
   ]
  },
  {
   "cell_type": "code",
   "execution_count": 446,
   "id": "affected-anthropology",
   "metadata": {},
   "outputs": [
    {
     "name": "stderr",
     "output_type": "stream",
     "text": [
      "<ipython-input-300-9a4e40ee8091>:4: SettingWithCopyWarning: \n",
      "A value is trying to be set on a copy of a slice from a DataFrame.\n",
      "Try using .loc[row_indexer,col_indexer] = value instead\n",
      "\n",
      "See the caveats in the documentation: https://pandas.pydata.org/pandas-docs/stable/user_guide/indexing.html#returning-a-view-versus-a-copy\n",
      "  best_df['caption'] = best_df.apply(lambda row: construct_caption_by_substitution(row, row['phonetic_match'],  row['semantic_match'], phrase_dict_, ), axis=1 )        # Is it not to pass a dictionary to a function?\n"
     ]
    }
   ],
   "source": [
    "\n",
    "cand_df, best_captions_df, phrase_dict = process_captioning_the_image_part1(cand_df, image_topic_word, phrase_dict)"
   ]
  },
  {
   "cell_type": "code",
   "execution_count": 447,
   "id": "competent-camcorder",
   "metadata": {},
   "outputs": [],
   "source": [
    "#best_captions_df"
   ]
  },
  {
   "cell_type": "code",
   "execution_count": 448,
   "id": "bridal-lightning",
   "metadata": {},
   "outputs": [],
   "source": [
    "#cand_df"
   ]
  },
  {
   "cell_type": "code",
   "execution_count": 449,
   "id": "subjective-space",
   "metadata": {},
   "outputs": [],
   "source": [
    "#phrase_dict['91df2c78-854a-11eb-a9e5-acde48001122']"
   ]
  },
  {
   "cell_type": "code",
   "execution_count": 450,
   "id": "decreased-edmonton",
   "metadata": {},
   "outputs": [],
   "source": [
    "#cand_df[cand_df['semantic_match']=='window']"
   ]
  },
  {
   "cell_type": "code",
   "execution_count": 451,
   "id": "scheduled-consultancy",
   "metadata": {},
   "outputs": [],
   "source": [
    "#best_captions_df"
   ]
  },
  {
   "cell_type": "code",
   "execution_count": 452,
   "id": "artistic-robin",
   "metadata": {},
   "outputs": [
    {
     "name": "stderr",
     "output_type": "stream",
     "text": [
      "<ipython-input-300-9a4e40ee8091>:4: SettingWithCopyWarning: \n",
      "A value is trying to be set on a copy of a slice from a DataFrame.\n",
      "Try using .loc[row_indexer,col_indexer] = value instead\n",
      "\n",
      "See the caveats in the documentation: https://pandas.pydata.org/pandas-docs/stable/user_guide/indexing.html#returning-a-view-versus-a-copy\n",
      "  best_df['caption'] = best_df.apply(lambda row: construct_caption_by_substitution(row, row['phonetic_match'],  row['semantic_match'], phrase_dict_, ), axis=1 )        # Is it not to pass a dictionary to a function?\n"
     ]
    }
   ],
   "source": [
    "img, best_captions_list, best_captions_df = process_captioning_the_image_part2(cand_df, best_captions_df, phrase_dict )"
   ]
  },
  {
   "cell_type": "code",
   "execution_count": 453,
   "id": "plastic-primary",
   "metadata": {},
   "outputs": [],
   "source": [
    "#best_captions_df"
   ]
  },
  {
   "cell_type": "code",
   "execution_count": 454,
   "id": "rental-perry",
   "metadata": {},
   "outputs": [
    {
     "data": {
      "image/png": "[encoded data removed]",
      "text/plain": [
       "<Figure size 432x288 with 1 Axes>"
      ]
     },
     "metadata": {
      "needs_background": "light"
     },
     "output_type": "display_data"
    },
    {
     "name": "stderr",
     "output_type": "stream",
     "text": [
      "<ipython-input-302-12bec329cc17>:3: SettingWithCopyWarning: \n",
      "A value is trying to be set on a copy of a slice from a DataFrame.\n",
      "Try using .loc[row_indexer,col_indexer] = value instead\n",
      "\n",
      "See the caveats in the documentation: https://pandas.pydata.org/pandas-docs/stable/user_guide/indexing.html#returning-a-view-versus-a-copy\n",
      "  best_captions_display_df['caption'] =best_captions_display_df['caption'].apply(lambda x: x.capitalize())\n"
     ]
    }
   ],
   "source": [
    "    \n",
    "display_df = process_captioning_the_image_part3( img, best_captions_list, best_captions_df)\n"
   ]
  },
  {
   "cell_type": "code",
   "execution_count": 333,
   "id": "defined-ethics",
   "metadata": {},
   "outputs": [],
   "source": [
    "#image_topic_word"
   ]
  },
  {
   "cell_type": "code",
   "execution_count": null,
   "id": "simple-cancellation",
   "metadata": {},
   "outputs": [],
   "source": []
  },
  {
   "cell_type": "code",
   "execution_count": 334,
   "id": "global-hospital",
   "metadata": {},
   "outputs": [],
   "source": [
    "display_image()"
   ]
  },
  {
   "cell_type": "markdown",
   "id": "green-giant",
   "metadata": {},
   "source": [
    "### Streamlit code"
   ]
  },
  {
   "cell_type": "raw",
   "id": "exposed-middle",
   "metadata": {},
   "source": [
    "\n",
    "st.markdown(\"<P>  &nbsp; </P>\", unsafe_allow_html=True)\n",
    "st.markdown(\"<P>  &nbsp; </P>\", unsafe_allow_html=True)\n",
    "\n",
    "\n",
    "show_other_captions = st.checkbox('Show other captions', value=True)\n",
    "if show_other_captions:\n",
    "    st.dataframe(display_df)"
   ]
  },
  {
   "cell_type": "markdown",
   "id": "impressive-boost",
   "metadata": {},
   "source": [
    "### Non-streamlit code"
   ]
  },
  {
   "cell_type": "code",
   "execution_count": 90,
   "id": "generic-wireless",
   "metadata": {},
   "outputs": [],
   "source": [
    "#get_best_captions(cand_df)"
   ]
  },
  {
   "cell_type": "code",
   "execution_count": 91,
   "id": "tribal-timer",
   "metadata": {},
   "outputs": [],
   "source": [
    "#image_topic"
   ]
  },
  {
   "cell_type": "code",
   "execution_count": 92,
   "id": "central-buying",
   "metadata": {},
   "outputs": [],
   "source": [
    "#display_df"
   ]
  },
  {
   "cell_type": "code",
   "execution_count": null,
   "id": "intimate-interference",
   "metadata": {},
   "outputs": [],
   "source": []
  },
  {
   "cell_type": "code",
   "execution_count": 1,
   "id": "thousand-seminar",
   "metadata": {},
   "outputs": [
    {
     "name": "stdout",
     "output_type": "stream",
     "text": [
      "[NbConvertApp] WARNING | Config option `kernel_spec_manager_class` not recognized by `NbConvertApp`.\n",
      "[NbConvertApp] Converting notebook amusemater_captioner_cleaned____.ipynb to script\n",
      "[NbConvertApp] Writing 48534 bytes to amusemater_captioner_cleaned____.py\n"
     ]
    }
   ],
   "source": [
    "!jupyter nbconvert --to script amusemater_captioner_cleaned____.ipynb\n",
    "with open('amusemater_captioner_cleaned____.py', 'r') as f:\n",
    "    lines = f.readlines()\n",
    "with open('amusemater_captioner_cleaned____.py', 'w') as f:\n",
    "    for line in lines:\n",
    "        if 'nbconvert --to script' in line:\n",
    "            break\n",
    "      #  elif ( not( '# In[' in line) and (']:' in line)) and ('\\%matplotlib inline' not in line):\n",
    "        else:\n",
    "            f.write(line)"
   ]
  },
  {
   "cell_type": "code",
   "execution_count": 612,
   "id": "drawn-newspaper",
   "metadata": {},
   "outputs": [],
   "source": [
    "#display_df[display_df['dist_score'] == display_df['dist_score'].min()].sample(1)"
   ]
  },
  {
   "cell_type": "code",
   "execution_count": null,
   "id": "complicated-engineer",
   "metadata": {},
   "outputs": [],
   "source": []
  },
  {
   "cell_type": "code",
   "execution_count": 579,
   "id": "likely-education",
   "metadata": {},
   "outputs": [
    {
     "data": {
      "text/plain": [
       "'dining table'"
      ]
     },
     "execution_count": 579,
     "metadata": {},
     "output_type": "execute_result"
    }
   ],
   "source": [
    "#'dining_table'.replace('_', ' ')"
   ]
  },
  {
   "cell_type": "code",
   "execution_count": 545,
   "id": "western-proof",
   "metadata": {},
   "outputs": [],
   "source": [
    "word = \"this is all I want\"\n",
    "word = word[0].upper() + word[1:]"
   ]
  },
  {
   "cell_type": "code",
   "execution_count": 546,
   "id": "valid-sympathy",
   "metadata": {},
   "outputs": [
    {
     "data": {
      "text/plain": [
       "'This is all I want'"
      ]
     },
     "execution_count": 546,
     "metadata": {},
     "output_type": "execute_result"
    }
   ],
   "source": []
  },
  {
   "cell_type": "code",
   "execution_count": null,
   "id": "knowing-federal",
   "metadata": {},
   "outputs": [],
   "source": []
  }
 ],
 "metadata": {
  "kernelspec": {
   "display_name": "Python [conda env:metis] *",
   "language": "python",
   "name": "conda-env-metis-py"
  },
  "language_info": {
   "codemirror_mode": {
    "name": "ipython",
    "version": 3
   },
   "file_extension": ".py",
   "mimetype": "text/x-python",
   "name": "python",
   "nbconvert_exporter": "python",
   "pygments_lexer": "ipython3",
   "version": "3.8.6"
  }
 },
 "nbformat": 4,
 "nbformat_minor": 5
}
