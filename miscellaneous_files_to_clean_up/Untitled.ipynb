{
 "cells": [
  {
   "cell_type": "code",
   "execution_count": 1,
   "id": "intermediate-suffering",
   "metadata": {},
   "outputs": [],
   "source": [
    "def outer_letter_discount(w1, w2, discount_value = .25):\n",
    "    return discount_value if w1[-1] == w2[-1] else 0"
   ]
  },
  {
   "cell_type": "code",
   "execution_count": 3,
   "id": "following-timeline",
   "metadata": {},
   "outputs": [
    {
     "data": {
      "text/plain": [
       "0.25"
      ]
     },
     "execution_count": 3,
     "metadata": {},
     "output_type": "execute_result"
    }
   ],
   "source": [
    "outer_letter_discount('tow', 'elbow')"
   ]
  },
  {
   "cell_type": "code",
   "execution_count": null,
   "id": "south-agreement",
   "metadata": {},
   "outputs": [],
   "source": []
  }
 ],
 "metadata": {
  "kernelspec": {
   "display_name": "Python [conda env:metis] *",
   "language": "python",
   "name": "conda-env-metis-py"
  },
  "language_info": {
   "codemirror_mode": {
    "name": "ipython",
    "version": 3
   },
   "file_extension": ".py",
   "mimetype": "text/x-python",
   "name": "python",
   "nbconvert_exporter": "python",
   "pygments_lexer": "ipython3",
   "version": "3.8.6"
  }
 },
 "nbformat": 4,
 "nbformat_minor": 5
}
