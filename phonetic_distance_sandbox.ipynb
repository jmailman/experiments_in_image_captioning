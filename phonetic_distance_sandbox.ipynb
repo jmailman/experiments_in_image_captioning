{
 "cells": [
  {
   "cell_type": "code",
   "execution_count": 216,
   "id": "responsible-flash",
   "metadata": {},
   "outputs": [],
   "source": [
    "import fuzzy\n",
    "import phonetics\n",
    "import Levenshtein as lev\n",
    "import numpy as np\n",
    "\n",
    "soundex = fuzzy.Soundex(6)\n",
    "dmeta = fuzzy.DMetaphone()\n",
    "\n",
    "word1 = 'oyster'\n",
    "word2 = 'otis'\n"
   ]
  },
  {
   "cell_type": "code",
   "execution_count": 259,
   "id": "olympic-drawing",
   "metadata": {},
   "outputs": [],
   "source": [
    "def phonetic_distance(w1, w2):\n",
    "    print('fuzzy soundex', lev.distance( soundex(w1), soundex(w2)) )\n",
    "    print('fuzzy dmeta  ', lev.distance( dmeta(w1)[0], dmeta(w2)[0]) )\n",
    "    print('phon dmet    ', lev.distance( phonetics.dmetaphone(w1)[0], phonetics.dmetaphone(w2)[0]) )\n",
    "    print('phon met     ', lev.distance( phonetics.metaphone(w1), phonetics.metaphone(w2)) )\n",
    "    print('fuzzy nysiis ', lev.distance( fuzzy.nysiis(w1), fuzzy.nysiis(w2)) )\n",
    "    print('phon nysiis  ', lev.distance( phonetics.nysiis(w1), phonetics.nysiis(w2)) )\n",
    "    soundex_dist = lev.distance( soundex(w1), soundex(w2))\n",
    "    dmeta_dist  = lev.distance( dmeta(w1)[0], dmeta(w2)[0])\n",
    "    nysiis_dist = lev.distance( fuzzy.nysiis(w1), fuzzy.nysiis(w2))\n",
    "\n",
    "    return np.mean( np.array([  dmeta_dist, nysiis_dist]) )"
   ]
  },
  {
   "cell_type": "code",
   "execution_count": 260,
   "id": "atomic-smart",
   "metadata": {},
   "outputs": [
    {
     "data": {
      "text/plain": [
       "2"
      ]
     },
     "execution_count": 260,
     "metadata": {},
     "output_type": "execute_result"
    }
   ],
   "source": [
    "lev.distance( dmeta(word1)[0], dmeta(word2)[0])"
   ]
  },
  {
   "cell_type": "code",
   "execution_count": 263,
   "id": "crude-bikini",
   "metadata": {},
   "outputs": [
    {
     "name": "stdout",
     "output_type": "stream",
     "text": [
      "fuzzy soundex 2\n",
      "fuzzy dmeta   2\n",
      "phon dmet     2\n",
      "phon met      2\n",
      "fuzzy nysiis  4\n",
      "phon nysiis   1\n"
     ]
    },
    {
     "data": {
      "text/plain": [
       "3.0"
      ]
     },
     "execution_count": 263,
     "metadata": {},
     "output_type": "execute_result"
    }
   ],
   "source": [
    "word1 = 'oyster'\n",
    "word2 = 'folder'\n",
    "\n",
    "phonetic_distance(word1, word2)"
   ]
  },
  {
   "cell_type": "code",
   "execution_count": 215,
   "id": "stuck-continuity",
   "metadata": {},
   "outputs": [],
   "source": [
    "from nltk.corpus import words\n",
    "\n",
    "words_set = set( words.words())\n",
    "english_dictionary = words_set"
   ]
  },
  {
   "cell_type": "code",
   "execution_count": 137,
   "id": "endangered-plumbing",
   "metadata": {},
   "outputs": [],
   "source": [
    "from collections import namedtuple\n",
    "Close_word = namedtuple('Close_word', ['word', 'distance'])\n",
    "\n",
    "thresh=2\n",
    "close_word_list = []\n",
    "for word in words_set:\n",
    "    phon_dist = phonetic_distance( word1, word) \n",
    "    if phon_dist <= thresh:\n",
    "        close_word_list.append( Close_word(word.lower(), phon_dist ))"
   ]
  },
  {
   "cell_type": "code",
   "execution_count": 138,
   "id": "fleet-heart",
   "metadata": {},
   "outputs": [
    {
     "data": {
      "text/plain": [
       "[Close_word(word='ortheris', distance=1),\n",
       " Close_word(word='stower', distance=1),\n",
       " Close_word(word='outtire', distance=1),\n",
       " Close_word(word='ostiary', distance=1),\n",
       " Close_word(word='osteal', distance=1),\n",
       " Close_word(word='ostein', distance=1),\n",
       " Close_word(word='star', distance=1),\n",
       " Close_word(word='ostiole', distance=1),\n",
       " Close_word(word='oyster', distance=0),\n",
       " Close_word(word='otorrhea', distance=1),\n",
       " Close_word(word='ostent', distance=1),\n",
       " Close_word(word='oturia', distance=1),\n",
       " Close_word(word='osmerus', distance=1),\n",
       " Close_word(word='otorrhoea', distance=1),\n",
       " Close_word(word='ostleress', distance=1),\n",
       " Close_word(word='asteer', distance=1),\n",
       " Close_word(word='ostic', distance=1),\n",
       " Close_word(word='otter', distance=1),\n",
       " Close_word(word='stero', distance=1),\n",
       " Close_word(word='ostitis', distance=1),\n",
       " Close_word(word='aisteoir', distance=1),\n",
       " Close_word(word='outtower', distance=1),\n",
       " Close_word(word='steer', distance=1),\n",
       " Close_word(word='otaria', distance=1),\n",
       " Close_word(word='other', distance=1),\n",
       " Close_word(word='store', distance=1),\n",
       " Close_word(word='ostiate', distance=1),\n",
       " Close_word(word='oatear', distance=1),\n",
       " Close_word(word='stereo', distance=1),\n",
       " Close_word(word='oscar', distance=1),\n",
       " Close_word(word='octarius', distance=1),\n",
       " Close_word(word='auster', distance=1),\n",
       " Close_word(word='asteria', distance=1),\n",
       " Close_word(word='ostial', distance=1),\n",
       " Close_word(word='ostrya', distance=1),\n",
       " Close_word(word='ostosis', distance=1),\n",
       " Close_word(word='astor', distance=1),\n",
       " Close_word(word='ustorious', distance=1),\n",
       " Close_word(word='osteoid', distance=1),\n",
       " Close_word(word='ossature', distance=1),\n",
       " Close_word(word='outhire', distance=1),\n",
       " Close_word(word='oskar', distance=1),\n",
       " Close_word(word='oysterous', distance=0),\n",
       " Close_word(word='outhear', distance=1),\n",
       " Close_word(word='osteosis', distance=1),\n",
       " Close_word(word='star', distance=1),\n",
       " Close_word(word='esther', distance=1),\n",
       " Close_word(word='outtear', distance=1),\n",
       " Close_word(word='outer', distance=1),\n",
       " Close_word(word='estheria', distance=1),\n",
       " Close_word(word='aster', distance=1),\n",
       " Close_word(word='ostrea', distance=1),\n",
       " Close_word(word='osteitis', distance=1),\n",
       " Close_word(word='outher', distance=1),\n",
       " Close_word(word='ofter', distance=1),\n",
       " Close_word(word='ester', distance=1),\n",
       " Close_word(word='stare', distance=1),\n",
       " Close_word(word='osteoma', distance=1),\n",
       " Close_word(word='austere', distance=1),\n",
       " Close_word(word='asthore', distance=1),\n",
       " Close_word(word='astur', distance=1),\n",
       " Close_word(word='ouster', distance=1),\n",
       " Close_word(word='stearrhea', distance=1),\n",
       " Close_word(word='steri', distance=1),\n",
       " Close_word(word='astare', distance=1),\n",
       " Close_word(word='ottar', distance=1),\n",
       " Close_word(word='stere', distance=1),\n",
       " Close_word(word='oxter', distance=1),\n",
       " Close_word(word='stair', distance=1),\n",
       " Close_word(word='ostium', distance=1),\n",
       " Close_word(word='asterias', distance=1),\n",
       " Close_word(word='osier', distance=1),\n",
       " Close_word(word='stirra', distance=1),\n",
       " Close_word(word='octuor', distance=1),\n",
       " Close_word(word='osiris', distance=1),\n",
       " Close_word(word='stour', distance=1),\n",
       " Close_word(word='ostemia', distance=1),\n",
       " Close_word(word='ostyak', distance=1),\n",
       " Close_word(word='stir', distance=1),\n",
       " Close_word(word='uster', distance=1),\n",
       " Close_word(word='ostara', distance=0),\n",
       " Close_word(word='astir', distance=1)]"
      ]
     },
     "execution_count": 138,
     "metadata": {},
     "output_type": "execute_result"
    }
   ],
   "source": [
    "phon_fam_word_list"
   ]
  },
  {
   "cell_type": "code",
   "execution_count": null,
   "id": "emerging-joyce",
   "metadata": {},
   "outputs": [],
   "source": []
  },
  {
   "cell_type": "code",
   "execution_count": 220,
   "id": "clear-explosion",
   "metadata": {},
   "outputs": [
    {
     "data": {
      "text/plain": [
       "'O36'"
      ]
     },
     "execution_count": 220,
     "metadata": {},
     "output_type": "execute_result"
    }
   ],
   "source": [
    "soundex(word2)"
   ]
  },
  {
   "cell_type": "code",
   "execution_count": 40,
   "id": "postal-dress",
   "metadata": {},
   "outputs": [
    {
     "name": "stdout",
     "output_type": "stream",
     "text": [
      "fuzzy soundex  0\n"
     ]
    }
   ],
   "source": [
    "compare_words(word, word2)"
   ]
  },
  {
   "cell_type": "code",
   "execution_count": 27,
   "id": "popular-accreditation",
   "metadata": {},
   "outputs": [
    {
     "data": {
      "text/plain": [
       "'O236'"
      ]
     },
     "execution_count": 27,
     "metadata": {},
     "output_type": "execute_result"
    }
   ],
   "source": [
    "soundex(word)"
   ]
  },
  {
   "cell_type": "code",
   "execution_count": 28,
   "id": "attached-boundary",
   "metadata": {},
   "outputs": [
    {
     "data": {
      "text/plain": [
       "[b'ASTR', None]"
      ]
     },
     "execution_count": 28,
     "metadata": {},
     "output_type": "execute_result"
    }
   ],
   "source": [
    "\n",
    "dmeta(word)"
   ]
  },
  {
   "cell_type": "code",
   "execution_count": 29,
   "id": "assured-stake",
   "metadata": {},
   "outputs": [
    {
     "data": {
      "text/plain": [
       "'OSTAR'"
      ]
     },
     "execution_count": 29,
     "metadata": {},
     "output_type": "execute_result"
    }
   ],
   "source": [
    "fuzzy.nysiis(word)"
   ]
  },
  {
   "cell_type": "code",
   "execution_count": 30,
   "id": "personal-track",
   "metadata": {},
   "outputs": [
    {
     "data": {
      "text/plain": [
       "('ASTR', '')"
      ]
     },
     "execution_count": 30,
     "metadata": {},
     "output_type": "execute_result"
    }
   ],
   "source": [
    "\n",
    "\n",
    "phonetics.dmetaphone(word)"
   ]
  },
  {
   "cell_type": "code",
   "execution_count": 31,
   "id": "seeing-reverse",
   "metadata": {},
   "outputs": [
    {
     "data": {
      "text/plain": [
       "'ASTR'"
      ]
     },
     "execution_count": 31,
     "metadata": {},
     "output_type": "execute_result"
    }
   ],
   "source": [
    "phonetics.metaphone(word)"
   ]
  },
  {
   "cell_type": "code",
   "execution_count": 63,
   "id": "caroline-effects",
   "metadata": {},
   "outputs": [
    {
     "data": {
      "text/plain": [
       "'OA'"
      ]
     },
     "execution_count": 63,
     "metadata": {},
     "output_type": "execute_result"
    }
   ],
   "source": [
    "phonetics.nysiis(word)"
   ]
  },
  {
   "cell_type": "code",
   "execution_count": null,
   "id": "musical-commission",
   "metadata": {},
   "outputs": [],
   "source": []
  },
  {
   "cell_type": "code",
   "execution_count": null,
   "id": "junior-queens",
   "metadata": {},
   "outputs": [],
   "source": []
  }
 ],
 "metadata": {
  "kernelspec": {
   "display_name": "Python [conda env:metis] *",
   "language": "python",
   "name": "conda-env-metis-py"
  },
  "language_info": {
   "codemirror_mode": {
    "name": "ipython",
    "version": 3
   },
   "file_extension": ".py",
   "mimetype": "text/x-python",
   "name": "python",
   "nbconvert_exporter": "python",
   "pygments_lexer": "ipython3",
   "version": "3.8.6"
  }
 },
 "nbformat": 4,
 "nbformat_minor": 5
}
