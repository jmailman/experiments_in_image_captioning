{
 "cells": [
  {
   "cell_type": "markdown",
   "id": "loving-discipline",
   "metadata": {},
   "source": [
    "## 1 — Recognize objects in image (or classify image)\n",
    "\n",
    "Using trained NN, get object label or labels for image, or otherwise provide a label for the image. Also store the centrality of the object. "
   ]
  },
  {
   "cell_type": "markdown",
   "id": "posted-voltage",
   "metadata": {},
   "source": [
    "## 2  — Generate semantic word families\n",
    "\n",
    "For each label, use Word2Vec `similar` to retrieve list of words semantically related to the image object labels"
   ]
  },
  {
   "cell_type": "markdown",
   "id": "located-chosen",
   "metadata": {},
   "source": [
    "## 3 — Generate all related words\n",
    "\n",
    "For each semantically related (below a distance threshold) word to each object label, measure its phonetic similarity to all words in the dictionary. Also store each words's distance.\n",
    "\n",
    "For each word in each semantic family, sort and choose the phonetically closest (below a distance threshold) words.\n",
    "(One way is to convert the word to IPA and compare to an IPA converted version of every word in the CMU dictionary.)"
   ]
  },
  {
   "cell_type": "markdown",
   "id": "together-mississippi",
   "metadata": {},
   "source": [
    "## 4 — Gather candidate phrases\n",
    "\n",
    "For each word in the phonetic family, of each word in the semantic family, of each object label, retrieve each idiom containing the word.\n",
    "Add the idiom Id, as well as the stats on the object centrality, semantic distance, and phonetic distance, to a dataframe.\n",
    "\n",
    "Compute _suitability score_ for each word-idiom match and add this to that column of the dataframe\n",
    "\n",
    "Also, for each word in the semantic family, search the joke list for match and add that these to a joke_match dataframe, to use if there's too low a suitability score using a substitution.\n"
   ]
  },
  {
   "cell_type": "markdown",
   "id": "incorporate-application",
   "metadata": {},
   "source": [
    "## 5 — Choose captions\n",
    "\n",
    "Sort captions dataframe by the _suitability score_\n",
    "\n",
    "Choose the top 10 and generate a list containing each caption with the original semantic family word substituted into the idiom in addition to jokes containing any of the semantic family words"
   ]
  },
  {
   "cell_type": "code",
   "execution_count": 510,
   "id": "lovely-programmer",
   "metadata": {},
   "outputs": [],
   "source": [
    "test_image_topic=  'two'\n",
    "image_topic = test_image_topic"
   ]
  },
  {
   "cell_type": "code",
   "execution_count": 511,
   "id": "polished-inside",
   "metadata": {},
   "outputs": [],
   "source": [
    "import pandas as pd\n",
    "from collections import namedtuple\n",
    "import uuid"
   ]
  },
  {
   "cell_type": "markdown",
   "id": "going-waste",
   "metadata": {},
   "source": [
    "## -1  — Webscrape and process phrases (idioms, sayings, aphorisms)\n",
    "\n",
    "They should be converted into lists of phonetic sounds"
   ]
  },
  {
   "cell_type": "markdown",
   "id": "typical-omega",
   "metadata": {},
   "source": [
    "## 0  — Load `phrase_dict` pickled and processed after being scraped"
   ]
  },
  {
   "cell_type": "markdown",
   "id": "material-indication",
   "metadata": {},
   "source": [
    "#### Data structures defined"
   ]
  },
  {
   "cell_type": "code",
   "execution_count": 512,
   "id": "polish-pierre",
   "metadata": {},
   "outputs": [],
   "source": [
    "\n",
    "Phrase = namedtuple('Phrase',['text_string', 'word_list','phon_list','string_length', 'word_count', 'prefix', 'phrase_type'])\n",
    "phrase_dict = dict()\n",
    "\n",
    "Close_word = namedtuple('Close_word', ['word', 'distance'])\n",
    "\n",
    "Sem_family = namedtuple('Sem_family', ['locus_word', 'sem_fam_words'])\n",
    "\n",
    "Phon_family = namedtuple('Phon_family', ['locus_word', 'close_words'])"
   ]
  },
  {
   "cell_type": "markdown",
   "id": "unable-browser",
   "metadata": {},
   "source": [
    "#### Temporary toy example of the dict of phrases, to be replaced with idioms etc. scraped from web"
   ]
  },
  {
   "cell_type": "code",
   "execution_count": 513,
   "id": "eastern-brain",
   "metadata": {},
   "outputs": [],
   "source": [
    "t_string = 'Smarter than the average bear'\n",
    "w_list = t_string.lower().split()\n",
    "ph_id1 = uuid.uuid1()\n",
    "phrase_dict[ph_id1] = Phrase(text_string = t_string, word_list = w_list, phon_list = w_list, string_length = len(t_string), word_count = len(w_list), prefix=\"As usual: \", phrase_type='idiom' )\n",
    "\n",
    "# toy example of the dict\n",
    "t_string = 'Not a hair out of place'\n",
    "w_list = t_string.lower().split()\n",
    "ph_id2 = uuid.uuid1()\n",
    "phrase_dict[ph_id2] = Phrase(text_string = t_string, word_list = w_list, phon_list = w_list, string_length = len(t_string), word_count = len(w_list), prefix=\"As usual: \", phrase_type='idiom' )\n",
    "\n",
    "# toy example of the dict\n",
    "t_string = 'Three blind mice'\n",
    "w_list = t_string.lower().split()\n",
    "ph_id3 = uuid.uuid1()\n",
    "phrase_dict[ph_id3] = Phrase(text_string = t_string, word_list = w_list, phon_list = w_list, string_length = len(t_string), word_count = len(w_list), prefix=\"As usual: \", phrase_type='idiom' )\n",
    "\n",
    "# toy example of the dict\n",
    "t_string = 'I just called to say I love you'\n",
    "w_list = t_string.lower().split()\n",
    "ph_id4 = uuid.uuid1()\n",
    "phrase_dict[ph_id4] = Phrase(text_string = t_string, word_list = w_list, phon_list = w_list, string_length = len(t_string), word_count = len(w_list), prefix=\"As usual: \", phrase_type='idiom' )\n",
    "\n",
    "t_string = 'Up, up in the air'\n",
    "w_list = t_string.lower().split()\n",
    "ph_id5 = uuid.uuid1()\n",
    "phrase_dict[ph_id5] = Phrase(text_string = t_string, word_list = w_list, phon_list = w_list, string_length = len(t_string), word_count = len(w_list), prefix=\"As usual: \", phrase_type='idiom' )\n",
    "\n",
    "t_string = 'Wouldn\\'t it be nice'\n",
    "w_list = t_string.lower().split()\n",
    "ph_id6 = uuid.uuid1()\n",
    "phrase_dict[ph_id6] = Phrase(text_string = t_string, word_list = w_list, phon_list = w_list, string_length = len(t_string), word_count = len(w_list), prefix=\"As usual: \", phrase_type='idiom' )\n",
    "\n",
    "t_string = 'Roses are red, violets are blue'\n",
    "w_list = t_string.lower().split()\n",
    "ph_id7 = uuid.uuid1()\n",
    "phrase_dict[ph_id7] = Phrase(text_string = t_string, word_list = w_list, phon_list = w_list, string_length = len(t_string), word_count = len(w_list), prefix=\"As usual: \", phrase_type='idiom' )\n",
    "\n"
   ]
  },
  {
   "cell_type": "code",
   "execution_count": 514,
   "id": "connected-average",
   "metadata": {},
   "outputs": [
    {
     "data": {
      "text/plain": [
       "{UUID('14f04310-8148-11eb-abae-acde48001122'): Phrase(text_string='Smarter than the average bear', word_list=['smarter', 'than', 'the', 'average', 'bear'], phon_list=['smarter', 'than', 'the', 'average', 'bear'], string_length=29, word_count=5, prefix='As usual: ', phrase_type='idiom'),\n",
       " UUID('14f04914-8148-11eb-abae-acde48001122'): Phrase(text_string='Not a hair out of place', word_list=['not', 'a', 'hair', 'out', 'of', 'place'], phon_list=['not', 'a', 'hair', 'out', 'of', 'place'], string_length=23, word_count=6, prefix='As usual: ', phrase_type='idiom'),\n",
       " UUID('14f04eaa-8148-11eb-abae-acde48001122'): Phrase(text_string='Three blind mice', word_list=['three', 'blind', 'mice'], phon_list=['three', 'blind', 'mice'], string_length=16, word_count=3, prefix='As usual: ', phrase_type='idiom'),\n",
       " UUID('14f0535a-8148-11eb-abae-acde48001122'): Phrase(text_string='I just called to say I love you', word_list=['i', 'just', 'called', 'to', 'say', 'i', 'love', 'you'], phon_list=['i', 'just', 'called', 'to', 'say', 'i', 'love', 'you'], string_length=31, word_count=8, prefix='As usual: ', phrase_type='idiom'),\n",
       " UUID('14f057ec-8148-11eb-abae-acde48001122'): Phrase(text_string='Up, up in the air', word_list=['up,', 'up', 'in', 'the', 'air'], phon_list=['up,', 'up', 'in', 'the', 'air'], string_length=17, word_count=5, prefix='As usual: ', phrase_type='idiom'),\n",
       " UUID('14f05c7e-8148-11eb-abae-acde48001122'): Phrase(text_string=\"Wouldn't it be nice\", word_list=[\"wouldn't\", 'it', 'be', 'nice'], phon_list=[\"wouldn't\", 'it', 'be', 'nice'], string_length=19, word_count=4, prefix='As usual: ', phrase_type='idiom'),\n",
       " UUID('14f0611a-8148-11eb-abae-acde48001122'): Phrase(text_string='Roses are red, violets are blue', word_list=['roses', 'are', 'red,', 'violets', 'are', 'blue'], phon_list=['roses', 'are', 'red,', 'violets', 'are', 'blue'], string_length=31, word_count=6, prefix='As usual: ', phrase_type='idiom')}"
      ]
     },
     "execution_count": 514,
     "metadata": {},
     "output_type": "execute_result"
    }
   ],
   "source": [
    "phrase_dict"
   ]
  },
  {
   "cell_type": "code",
   "execution_count": 515,
   "id": "handled-juice",
   "metadata": {},
   "outputs": [
    {
     "data": {
      "text/plain": [
       "['a bit much',\n",
       " 'a bite at the cherry',\n",
       " 'a busy bee',\n",
       " 'a cat has nine lives',\n",
       " 'a cat in gloves catches no mice',\n",
       " 'a cat nap',\n",
       " 'a cold day in july',\n",
       " 'a cold fish',\n",
       " 'a cut above',\n",
       " 'a cut below',\n",
       " 'a day late and a dollar short',\n",
       " 'a dog in the manger',\n",
       " 'a few sandwiches short of a picnic',\n",
       " 'a good deal',\n",
       " 'a great dea',\n",
       " 'a guinea pig',\n",
       " 'a hair’s breadth',\n",
       " 'a home bird',\n",
       " 'a hundred and ten percent',\n",
       " 'a lame duck',\n",
       " 'a leg up',\n",
       " 'a lemon',\n",
       " 'a life of its own',\n",
       " 'a little bird told me',\n",
       " 'a little bird told me',\n",
       " 'a little from column a, a little from column b',\n",
       " 'a lone wolf',\n",
       " 'a lot on one’s plate',\n",
       " 'a million and one',\n",
       " 'a notch above',\n",
       " 'a penny for your thoughts',\n",
       " 'a penny saved is a penny earned',\n",
       " 'a picture is worth a thousand words',\n",
       " 'a plum job',\n",
       " 'a rare bird',\n",
       " 'a scaredy-cat',\n",
       " 'a second bite at the cherry',\n",
       " 'a sight for sore eye',\n",
       " 'a sitting duck',\n",
       " 'a snowball’s chance in hell',\n",
       " 'a stitch in time saves nine',\n",
       " 'a stone’s throw',\n",
       " 'a storm in a teacup',\n",
       " 'a tall order',\n",
       " 'a week is a long time in',\n",
       " 'about time',\n",
       " 'about to',\n",
       " 'above and beyond',\n",
       " 'above board',\n",
       " 'above the law',\n",
       " 'above the salt',\n",
       " 'above water',\n",
       " 'accident of birth',\n",
       " 'accident waiting to happen',\n",
       " 'according to hoyle',\n",
       " 'ace in the hole',\n",
       " 'ace up one’s sleeve',\n",
       " 'acid test',\n",
       " 'acknowledge the corn',\n",
       " 'acquired taste:',\n",
       " 'across the board',\n",
       " 'across the pond',\n",
       " 'act high and mighty',\n",
       " 'act of congress',\n",
       " 'act one’s age',\n",
       " 'actions speak louder than words',\n",
       " 'achilles’ heel',\n",
       " 'add fuel to the fire',\n",
       " 'add insult to injury',\n",
       " 'add insult to injury',\n",
       " 'after one’s own heart',\n",
       " 'after the fact',\n",
       " 'after the lord mayor’s show (uk)',\n",
       " 'against the clock',\n",
       " 'against the clock',\n",
       " 'against the grain',\n",
       " 'against the run of play',\n",
       " 'age before beauty',\n",
       " 'agree to disagree',\n",
       " 'agreement in principle',\n",
       " 'aha moment',\n",
       " 'ahead of one’s time',\n",
       " 'ahead of the curve',\n",
       " 'ahead of the curve',\n",
       " 'ahead of the game',\n",
       " 'air rage',\n",
       " 'airy fairy',\n",
       " 'albatross around one’s neck',\n",
       " 'alive and kicking',\n",
       " 'all along',\n",
       " 'all and sundry',\n",
       " 'all bark and no bite',\n",
       " 'all bets are off',\n",
       " 'all dressed up and nowhere to go',\n",
       " 'all ears',\n",
       " 'all eyes and ears',\n",
       " 'all eyes are on',\n",
       " 'all fur coat and no knickers',\n",
       " 'all hands on deck',\n",
       " 'all hat and no cattle',\n",
       " 'all hell breaks loose',\n",
       " 'all in a day’s work (excl',\n",
       " 'all in good time',\n",
       " 'all in one piece',\n",
       " 'all it’s cracked up to be',\n",
       " 'all mouth and no trousers',\n",
       " 'all over but the shouting',\n",
       " 'all over hell’s half acre',\n",
       " 'all over the board',\n",
       " 'all over the map',\n",
       " 'all over the place',\n",
       " 'all rights reserved',\n",
       " 'all roads lead to rome',\n",
       " 'all set',\n",
       " 'all sizzle and no steak',\n",
       " 'all talk and no trousers',\n",
       " 'all told',\n",
       " 'all that jazz',\n",
       " 'all the marbles',\n",
       " 'all the rage',\n",
       " 'all the rage',\n",
       " 'all the same',\n",
       " 'all the tea in china',\n",
       " 'all things being equal',\n",
       " 'all things considered',\n",
       " 'all thumbs',\n",
       " 'all very well',\n",
       " 'all wet',\n",
       " 'along the lines of',\n",
       " 'amateur hour',\n",
       " 'amber gambler',\n",
       " 'amber nectar',\n",
       " 'american dream (the)',\n",
       " 'an apple a day keeps the doctor away',\n",
       " 'an axe',\n",
       " 'an early bird',\n",
       " 'an eye for an eye',\n",
       " 'an offer one can’t refuse',\n",
       " 'ancient history',\n",
       " 'and all that',\n",
       " 'and counting',\n",
       " 'and change',\n",
       " 'and his mother',\n",
       " 'and so forth',\n",
       " 'and so on',\n",
       " 'and the like',\n",
       " 'and then some',\n",
       " 'another nail in one’s coffin',\n",
       " 'answer back',\n",
       " 'ants in your pants',\n",
       " 'any port in a storm',\n",
       " 'any tom, dick or harry',\n",
       " 'angel’s advocate',\n",
       " 'angle for',\n",
       " 'apple of one’s eye',\n",
       " 'apple of someone’s eye',\n",
       " 'apples and oranges',\n",
       " 'apples and oranges',\n",
       " 'arm candy',\n",
       " 'armed to the teeth',\n",
       " 'around the clock',\n",
       " 'as american as apple pie',\n",
       " 'as far as i can throw (someone)',\n",
       " 'as fit as a fiddle',\n",
       " 'as pale as a ghost',\n",
       " 'as pale as death',\n",
       " 'as poor as a church mouse',\n",
       " 'as red as a cherry',\n",
       " 'asleep at the wheel (switch)',\n",
       " 'at death’s door',\n",
       " 'at each other’s throats',\n",
       " 'at loggerheads',\n",
       " 'at loggerheads',\n",
       " 'at sixes and sevens',\n",
       " 'at the drop of a hat',\n",
       " 'at the eleventh hour',\n",
       " 'at the end of one’s rope (tether)',\n",
       " 'at the end of the day',\n",
       " 'at wit’s end',\n",
       " 'babe in arms',\n",
       " 'babe in the wood',\n",
       " 'babe magnet',\n",
       " 'baby blues',\n",
       " 'baby boomer',\n",
       " 'babysitter test',\n",
       " 'back and forth',\n",
       " 'back at you',\n",
       " 'back burner (on the)',\n",
       " 'back forty',\n",
       " 'back in the day',\n",
       " 'back of beyond',\n",
       " 'back office',\n",
       " 'back on one’s feet',\n",
       " 'back to square one',\n",
       " 'back to square one',\n",
       " 'back to the drawing board',\n",
       " 'back to the salt mine(s)',\n",
       " 'back to the salt mines',\n",
       " 'back the wrong horse',\n",
       " 'backing and filling',\n",
       " 'backseat driver',\n",
       " 'backseat driver',\n",
       " 'bad apple',\n",
       " 'bad blood',\n",
       " 'bad egg',\n",
       " 'bad taste in one’s mouth',\n",
       " 'bag of tricks',\n",
       " 'bail out',\n",
       " 'ball and chain',\n",
       " 'ballpark figure',\n",
       " 'banner year',\n",
       " 'bang for your buck',\n",
       " 'bang for your buck',\n",
       " 'bang one’s head against the wall (against a brick wall)',\n",
       " 'baptism by fire',\n",
       " 'bar fly (or barfly)',\n",
       " 'bare one’s heart (soul)',\n",
       " 'bark up the wrong tree',\n",
       " 'basket case',\n",
       " 'bat/play for both teams',\n",
       " 'bat/play for the other team',\n",
       " 'batten down the hatches',\n",
       " 'batten down the hatches',\n",
       " 'be a barrel of laughs',\n",
       " 'be a cold day in hell',\n",
       " 'be an item',\n",
       " 'be footloose and fancy-free',\n",
       " 'be head over heels (in love)',\n",
       " 'be in seventh heaven',\n",
       " 'be in two minds (about something)',\n",
       " 'be like chalk and cheese',\n",
       " 'be lovey – dovey',\n",
       " 'be on the mend',\n",
       " 'be snowed under',\n",
       " 'bean counters',\n",
       " 'bean counters',\n",
       " 'beat around the bush',\n",
       " 'beat someone to the draw',\n",
       " 'beat someone to the punch',\n",
       " 'beat the drum for (something)',\n",
       " 'beauty is only skin deep',\n",
       " 'bed of roses',\n",
       " 'bedroom eyes',\n",
       " 'bee in one’s bonnet',\n",
       " 'beggar thy neighbor',\n",
       " 'behind the eight (or 8) ball',\n",
       " 'behind the scene',\n",
       " 'behind the times',\n",
       " 'bell the cat',\n",
       " 'bells and whistles',\n",
       " 'belly laugh',\n",
       " 'bend an elbow',\n",
       " 'best (greatest) thing since sliced bread',\n",
       " 'best of both worlds',\n",
       " 'bet one’s bottom dollar (on something)',\n",
       " 'bet the farm',\n",
       " 'better late than never',\n",
       " 'between a rock and a hard place',\n",
       " 'between the devil and the deep blue sea',\n",
       " 'beyond the pale',\n",
       " 'beyond the shadow of a doubt',\n",
       " 'big apple',\n",
       " 'big brother',\n",
       " 'big cheese',\n",
       " 'big deal',\n",
       " 'big fish',\n",
       " 'big picture',\n",
       " 'big time',\n",
       " 'birds of a feather',\n",
       " 'bird’s-eye view',\n",
       " 'bite off more than you can chew',\n",
       " 'bite the bullet',\n",
       " 'bite the hand that feeds you',\n",
       " 'bitter pill to swallow',\n",
       " 'black and white',\n",
       " 'black eye',\n",
       " 'black sheep',\n",
       " 'black-and-blue',\n",
       " 'blank check',\n",
       " 'blind date',\n",
       " 'blinded by love',\n",
       " 'blood and thunder',\n",
       " 'blow away the cobwebs',\n",
       " 'blow hot and cold',\n",
       " 'blow off steam',\n",
       " 'blow one’s top',\n",
       " 'blow one’s stack',\n",
       " 'blow the cobwebs away',\n",
       " '(or out of something)',\n",
       " 'blow the whistle',\n",
       " 'blow up',\n",
       " 'blow your own trumpet',\n",
       " 'blue blood',\n",
       " 'blue eyed boy',\n",
       " 'blue light special',\n",
       " 'bob’s your uncle',\n",
       " 'bolt from the blue',\n",
       " 'bone dry:',\n",
       " 'born on the wrong side of the blanket',\n",
       " 'borrow trouble',\n",
       " 'bottom of the barrel',\n",
       " 'boy toy',\n",
       " 'boys will be boys',\n",
       " 'brainstorm',\n",
       " 'break a leg',\n",
       " 'break out in a cold sweat',\n",
       " 'break the bank',\n",
       " 'break the ice',\n",
       " 'break up/ split up',\n",
       " '(with somebody)',\n",
       " 'bring home the bacon',\n",
       " 'bringing a knife to a gunfight',\n",
       " 'brush under the carpet',\n",
       " 'bucket list',\n",
       " 'bull in a china shop',\n",
       " 'bump in the road',\n",
       " 'bundle up',\n",
       " 'burn one’s bridges',\n",
       " 'burn the candle at both ends',\n",
       " 'burn the candle at both ends',\n",
       " 'burn the midnight oil',\n",
       " 'burn the midnight oil',\n",
       " 'bury (hide) one’s head in the sand',\n",
       " 'bury the hatchet',\n",
       " 'business as usual',\n",
       " 'busman’s holiday',\n",
       " 'busman’s holiday',\n",
       " 'busted flush',\n",
       " 'butter wouldn’t melt in (someone’s)',\n",
       " 'buy a pig in a poke',\n",
       " 'buy time',\n",
       " 'by a whisker',\n",
       " 'by all means',\n",
       " 'by hook or by crook',\n",
       " 'by the skin of one’s teeth',\n",
       " 'by word of mouth',\n",
       " 'call a spade a spade',\n",
       " 'call it a day',\n",
       " 'call it a night:',\n",
       " 'call the shots',\n",
       " 'call the tune',\n",
       " 'can’t see the forest for the trees',\n",
       " 'can’t swing a dead cat in',\n",
       " '(place)',\n",
       " 'carrot-and-stick (approach)',\n",
       " 'carry a torch (for)',\n",
       " 'carry coals to newcastle',\n",
       " 'carry the can',\n",
       " 'cash in one’s chips',\n",
       " 'cash-strapped',\n",
       " 'cast the first stone',\n",
       " 'castle in the air',\n",
       " 'cat fight',\n",
       " 'cat got your tongue?',\n",
       " 'cat on a hot tin roof',\n",
       " 'cat-and-mouse',\n",
       " '(adj.)',\n",
       " 'catch one’s death of cold',\n",
       " 'catch some rays',\n",
       " 'catch someone’s eye',\n",
       " 'catch-22',\n",
       " 'cat’s paw',\n",
       " 'caught red-handed',\n",
       " 'circle the wagons',\n",
       " 'claim to fame',\n",
       " 'clean up nicely',\n",
       " 'clear the air',\n",
       " 'clip someone’s wings',\n",
       " 'close, but no cigar',\n",
       " 'cock and bull story',\n",
       " 'cock-a-hoop',\n",
       " 'cold day in hel',\n",
       " 'come by something honestly',\n",
       " 'come clean',\n",
       " 'come hell or high water',\n",
       " 'come out in the wash',\n",
       " 'come out of the closet',\n",
       " 'come out swinging',\n",
       " 'come rain and shine',\n",
       " 'come to grips with',\n",
       " 'come to terms with (something)',\n",
       " 'coming down the pike',\n",
       " 'cook someone’s goose',\n",
       " 'cook up a storm',\n",
       " 'cooking up a storm',\n",
       " 'cool as a cucumber',\n",
       " 'cool cat',\n",
       " 'cool your heels',\n",
       " 'couch potato',\n",
       " 'crash a party',\n",
       " 'crickets',\n",
       " 'cross to bear',\n",
       " 'crunch time',\n",
       " 'crunch the numbers',\n",
       " 'cry over spilt (usa: spilled)',\n",
       " 'cry wolf',\n",
       " '(verb)',\n",
       " 'cry your eyes out',\n",
       " 'cry your eyes out',\n",
       " 'curiosity killed the cat',\n",
       " 'cut (someone) to the quick',\n",
       " 'cut corners',\n",
       " 'cut it fine',\n",
       " 'cut off your nose to spite your face',\n",
       " 'cut someone some slack',\n",
       " 'cut to the chase',\n",
       " 'cut the gordian knot',\n",
       " 'cut the mustard',\n",
       " 'cut your teeth on something',\n",
       " 'cutting-edge',\n",
       " 'champagne taste on a beer budget',\n",
       " 'change horses in midstream',\n",
       " 'change of heart',\n",
       " 'change one’s tune',\n",
       " 'changing of the guard',\n",
       " 'chase rainbows',\n",
       " 'cheap shot',\n",
       " 'cherry-pick',\n",
       " 'cherry-pick',\n",
       " 'chew the fat',\n",
       " 'chickens come home to roost',\n",
       " 'child’s play',\n",
       " 'chill out',\n",
       " 'chin music',\n",
       " 'chin up/ keep your chin up',\n",
       " 'chip off the old block',\n",
       " 'chomp (champ) at the bit',\n",
       " 'chomp at the bit',\n",
       " 'chop chop',\n",
       " 'chop shop',\n",
       " 'chuck a wobbly',\n",
       " 'da man (slang)',\n",
       " 'dance to someone’s tune',\n",
       " 'dance with the devil',\n",
       " 'dark horse',\n",
       " 'darken someone’s door',\n",
       " '(step)',\n",
       " 'dead ahead',\n",
       " 'dead as the dodo',\n",
       " 'dead eye',\n",
       " 'dead heat',\n",
       " 'dead of winter',\n",
       " 'dead ringer',\n",
       " 'dead run',\n",
       " 'dead shot',\n",
       " 'deep pockets',\n",
       " 'deliver the goods',\n",
       " 'devil’s advocate',\n",
       " 'dirty look',\n",
       " 'do 12-ounce curls',\n",
       " 'dodge a bullet',\n",
       " 'doesn’t amount to a hill of beans',\n",
       " 'dog days of the summer',\n",
       " 'dog in the manger',\n",
       " 'dog-and-pony show',\n",
       " 'dog-eat-dog',\n",
       " 'don’t judge a book by its cover',\n",
       " 'don’t cry over spilled milk',\n",
       " 'don’t look a gift horse in the mouth',\n",
       " 'double-dip',\n",
       " 'double-edged sword',\n",
       " 'down in the dumps',\n",
       " 'down the road',\n",
       " 'drag one’s feet (or heels)',\n",
       " 'drag your feet',\n",
       " 'drain the lizard',\n",
       " 'draw a blank',\n",
       " 'draw a line in the sand',\n",
       " 'draw a line under (something)',\n",
       " 'draw a long bow',\n",
       " 'draw the line',\n",
       " 'dressed up to the nines',\n",
       " 'drink the kool-aid',\n",
       " 'drive a hard bargain',\n",
       " 'drive a hard bargain',\n",
       " 'drive a wedge between',\n",
       " 'drive someone up the wall',\n",
       " 'drop a line',\n",
       " 'drop the ball',\n",
       " 'dry run',\n",
       " 'dutch courage',\n",
       " 'dutch uncle',\n",
       " 'dyed-in-the-wool (adj.)',\n",
       " 'eager beaver',\n",
       " 'eagle-eyed',\n",
       " 'early bird',\n",
       " '[noun or adjective]',\n",
       " 'eat crow',\n",
       " 'eat humble pie',\n",
       " 'eat someone’s lunch',\n",
       " 'eat your heart out!',\n",
       " 'eighty-six (v.)',\n",
       " 'elephant in the room',\n",
       " 'elevator music',\n",
       " 'elevator pitch',\n",
       " 'eleventh hour',\n",
       " 'even steven',\n",
       " 'every dog has his',\n",
       " '(its)',\n",
       " 'every man and his dog',\n",
       " 'every man for himself',\n",
       " 'excused boots',\n",
       " 'face the music',\n",
       " 'face the music',\n",
       " 'fall for something',\n",
       " 'fall in love with somebody',\n",
       " 'fall off the wagon',\n",
       " 'fall on one’s sword',\n",
       " 'fall prey to',\n",
       " 'fancy someone (british english)',\n",
       " 'farther (on) down the road',\n",
       " 'farther (on) down the road',\n",
       " 'fashion-forward',\n",
       " 'fat cat',\n",
       " 'father figure',\n",
       " 'feast your eyes on',\n",
       " 'feather in one’s cap',\n",
       " 'feather one’s (own) nest',\n",
       " 'feather one’s nest',\n",
       " 'fed up with',\n",
       " 'feel like a million dollars',\n",
       " 'feel on top of the world',\n",
       " 'fell off a truck',\n",
       " 'fell off the back of a lorry',\n",
       " 'fifteen minutes of fame',\n",
       " 'fifth wheel',\n",
       " 'fight fire with fire',\n",
       " 'fight like cat and dog',\n",
       " 'find one’s voice',\n",
       " 'find your feet',\n",
       " 'finger-pointing',\n",
       " 'finger-pointing',\n",
       " 'fire in the belly',\n",
       " 'first in, best dressed',\n",
       " 'fish for compliments',\n",
       " 'fish or cut bait',\n",
       " 'fish out of water',\n",
       " 'five-finger discount',\n",
       " 'flash in the pan',\n",
       " 'flat broke',\n",
       " 'flat out like a lizard',\n",
       " 'flesh and blood',\n",
       " 'flew the coop',\n",
       " 'flip-flop',\n",
       " 'fly by the seat of one’s pants',\n",
       " 'fly high',\n",
       " 'fly off the handle',\n",
       " 'fly off the handle',\n",
       " 'follow in someone’s footsteps',\n",
       " '(tracks)',\n",
       " 'follow your heart',\n",
       " 'food for thought',\n",
       " 'for a song',\n",
       " 'for a song',\n",
       " 'for crying out loud (excl.)',\n",
       " 'for xyz reasons',\n",
       " 'foul play',\n",
       " 'fourth estate',\n",
       " 'fox in the henhouse (chickenhouse)',\n",
       " 'freak out',\n",
       " 'french leave',\n",
       " 'freudian slip',\n",
       " 'from pillar to post',\n",
       " 'from scratch',\n",
       " 'from soup to nuts',\n",
       " 'from the bottom of one’s heart',\n",
       " 'fubar',\n",
       " 'fu** (or screw) the dog (pooch)',\n",
       " 'full fathom five',\n",
       " 'full of the joys of spring',\n",
       " 'game of chicken',\n",
       " 'get a charley horse',\n",
       " 'get a word in edgewise',\n",
       " 'get along (with someone)',\n",
       " 'get bent out of shape',\n",
       " 'get carried away',\n",
       " 'get in on the ground floor',\n",
       " 'get in shape',\n",
       " 'get off scot free',\n",
       " 'get off scot free',\n",
       " 'get one’s ducks in a row',\n",
       " 'get one’s hands dirty',\n",
       " 'get someone’s goat',\n",
       " 'get to grips with',\n",
       " 'get the ball rolling',\n",
       " 'get the picture',\n",
       " 'get the runaround',\n",
       " 'get the sack, be sacked',\n",
       " 'get the third degree',\n",
       " 'get wind of',\n",
       " 'get with the program',\n",
       " 'go along',\n",
       " '(with)',\n",
       " 'go ape',\n",
       " 'go ballistic',\n",
       " 'go bananas',\n",
       " 'go bananas',\n",
       " 'go belly up',\n",
       " 'go berserk',\n",
       " 'go bonkers',\n",
       " 'go cold turkey',\n",
       " 'go down in flames',\n",
       " 'go mental',\n",
       " 'go nuclear',\n",
       " 'go nuts',\n",
       " 'go off half-cocked',\n",
       " 'go off the deep end',\n",
       " 'go off the rails',\n",
       " 'go out on a limb',\n",
       " 'go pear-shaped',\n",
       " 'go see a man about a dog',\n",
       " 'go to the dogs',\n",
       " 'go to the mattresses',\n",
       " 'go the extra mile',\n",
       " 'go under the knife',\n",
       " 'go viral',\n",
       " 'go with the flow',\n",
       " 'grab (take) the bull by the horns',\n",
       " 'grasp (grab) at straws',\n",
       " 'grease monkey',\n",
       " 'grease the wheels',\n",
       " 'greasy spoon',\n",
       " 'green around the gills',\n",
       " 'green as grass',\n",
       " 'grind one’s teeth',\n",
       " 'guilty pleasure',\n",
       " 'guinea pig',\n",
       " 'give and take',\n",
       " 'give ’em hell (often excl.)',\n",
       " 'give lip service\\xa0to',\n",
       " 'give lip service',\n",
       " 'give one’s two cents (that’s my two cents)',\n",
       " 'give someone a holler',\n",
       " 'give someone a piece of your mind:',\n",
       " 'give someone a run for their money',\n",
       " 'give someone an earful',\n",
       " 'give someone the cold shoulder',\n",
       " 'give someone the old heave-ho',\n",
       " 'give something a whirl',\n",
       " 'give the green light',\n",
       " 'hail mary (n. or adj.)',\n",
       " 'hair of the dog (that bit you)',\n",
       " 'hands are tied',\n",
       " 'hands down',\n",
       " 'hang it up',\n",
       " 'hang tough',\n",
       " 'hanging by a thread',\n",
       " 'happy-go-lucky',\n",
       " 'hard nut to crack',\n",
       " 'has the cat got your tongue?',\n",
       " 'hat trick',\n",
       " 'hatchet job',\n",
       " 'haul over the coals',\n",
       " 'have (one’s) head in the clouds',\n",
       " 'have a ball',\n",
       " 'have a bone to pick (with someone)',\n",
       " 'have a bone to pick (with someone)',\n",
       " 'have a chip on one’s shoulder',\n",
       " 'have a dog in the hunt (fight, race)',\n",
       " 'have a lead foot',\n",
       " 'have a lot on one’s plate',\n",
       " 'have a lot riding on (something)',\n",
       " 'have a nose for (something)',\n",
       " 'have a screw loose',\n",
       " 'have a tough row to hoe',\n",
       " 'have a whale of a time',\n",
       " 'have an ace up one’s sleeve',\n",
       " 'have bigger fish to fry',\n",
       " 'have egg on your face',\n",
       " 'have foot-in-mouth disease',\n",
       " 'have hand of aces/hold all the aces',\n",
       " 'have it out with someone',\n",
       " 'have one foot in the grave',\n",
       " 'have one over the eight',\n",
       " 'have one too many',\n",
       " 'have one’s cake and eat it, too',\n",
       " 'have skin in the game',\n",
       " 'have something in the bag',\n",
       " 'have the hots for (somebody',\n",
       " 'have the hots for somebody',\n",
       " 'have the time of your life',\n",
       " 'have the time of your life',\n",
       " 'have your nose in the air:',\n",
       " 'have your say',\n",
       " 'have your thumb up your ass',\n",
       " 'he who laughs last laughs best',\n",
       " 'he would put legs under a chicken',\n",
       " 'head (go) south',\n",
       " 'head and shoulders above',\n",
       " 'head and shoulders',\n",
       " 'head start',\n",
       " 'heads up (excl.)',\n",
       " 'heads up',\n",
       " 'heads will roll (are going to roll)',\n",
       " 'heads will roll (are going to roll)',\n",
       " 'hear (something) through the grapevine',\n",
       " 'heart and sou',\n",
       " 'heavens open',\n",
       " 'heavy hitter',\n",
       " 'helicopter parenting',\n",
       " 'hell for leather',\n",
       " 'high as a kite',\n",
       " 'high as a kite',\n",
       " 'high as a kite',\n",
       " 'hightail it (out of there',\n",
       " 'highways and byways',\n",
       " 'hit a wall',\n",
       " 'hit it out of the park',\n",
       " 'hit the books',\n",
       " 'hit the ground runnin',\n",
       " 'hit the hay',\n",
       " 'hit the jackpot',\n",
       " 'hit the nail on the head',\n",
       " 'hit the road',\n",
       " 'hit the roof',\n",
       " 'hit the roof',\n",
       " 'hit the sack',\n",
       " 'hit the spot',\n",
       " 'hive mind',\n",
       " 'hobson’s choice',\n",
       " 'hold one’s liquor',\n",
       " 'hold one’s peace',\n",
       " 'hold the phone',\n",
       " 'hold the phone',\n",
       " 'hold your horses',\n",
       " '(generally excl.)',\n",
       " 'home away from home',\n",
       " 'home truths',\n",
       " 'honor system',\n",
       " 'hot mess',\n",
       " 'hot on the heels (of)',\n",
       " 'hot on the heels (of)',\n",
       " 'hot potato',\n",
       " 'i wouldn’t put it past (someone)',\n",
       " 'if it had been a snake, it would have bitten me',\n",
       " 'if the shoe fits, wear it',\n",
       " 'i’m all ears',\n",
       " 'in a fog',\n",
       " 'in a heartbeat',\n",
       " 'in a jam',\n",
       " 'in a new york minute',\n",
       " 'in a nutshell',\n",
       " 'in a pickle',\n",
       " 'in a rut',\n",
       " 'in broad daylight',\n",
       " 'in clover',\n",
       " 'in for a penny, in for a pound',\n",
       " 'in full swing',\n",
       " 'in his cups',\n",
       " 'in hot water',\n",
       " 'in one fell swoop',\n",
       " 'in one’s element',\n",
       " 'in someone’s wheelhous',\n",
       " 'in touch',\n",
       " 'in the blink of an eye',\n",
       " 'in the cards',\n",
       " 'in the crosshairs',\n",
       " '(cross hairs)',\n",
       " 'in the dark',\n",
       " 'in the dark',\n",
       " 'in the driver’s sea',\n",
       " 'in the hot seat',\n",
       " 'in the interim',\n",
       " 'in the limelight, in the spotlight',\n",
       " 'in the long run',\n",
       " 'in the nick of time',\n",
       " 'in the pipeline',\n",
       " 'in the red',\n",
       " 'in the same boat',\n",
       " 'in the toilet',\n",
       " 'in the works',\n",
       " 'iron out (problems, difficulties)',\n",
       " 'is the pope catholic?',\n",
       " 'it never rains but it pours',\n",
       " 'it takes two to tango',\n",
       " 'it takes two to tango',\n",
       " 'it won’t fly',\n",
       " 'itchy feet',\n",
       " 'it’s a wash',\n",
       " 'it’s all greek to me',\n",
       " 'it’s no skin off my (your) nose (back)',\n",
       " 'it’s not over till the fat lady sings',\n",
       " 'it’s not rocket science',\n",
       " 'i’ve had it up to here',\n",
       " 'jack of all trades',\n",
       " 'jam session',\n",
       " 'jim crow',\n",
       " 'join the club (excl.)',\n",
       " 'jump in with both feet',\n",
       " 'jump on the bandwagon',\n",
       " 'jump on the bandwagon',\n",
       " 'jump the gun',\n",
       " 'jump the shark',\n",
       " 'jump the track',\n",
       " 'jump through hoops',\n",
       " 'just around the corner',\n",
       " 'just for the record',\n",
       " 'just what the doctor ordered',\n",
       " 'kangaroo court',\n",
       " 'keep (something) at bay',\n",
       " 'keep a stiff upper lip',\n",
       " 'keep an eye on',\n",
       " 'keep an eye peeled',\n",
       " 'keep it under your hat',\n",
       " 'keep someone at arm’s length',\n",
       " 'keep your nose clean',\n",
       " 'keep your powder dry',\n",
       " 'keeping one’s nose to the grindstone',\n",
       " 'kick ass, kick butt',\n",
       " 'kick the bucket',\n",
       " 'kick the can down the road',\n",
       " 'kill a fly with an elephant gun',\n",
       " 'kill two birds with one stone',\n",
       " 'kill two birds with one stone',\n",
       " 'kill the goose that laid the golden egg',\n",
       " 'kink in one’s neck',\n",
       " 'king of the hill',\n",
       " 'kiss and make up',\n",
       " 'kith and kin',\n",
       " 'knock on wood; touch wood',\n",
       " 'knock some sense into',\n",
       " 'knock someone’s socks off',\n",
       " 'knock up',\n",
       " 'knockout',\n",
       " 'know (something) like the back of one’s hand',\n",
       " 'larger than life',\n",
       " 'last but not least',\n",
       " 'laughter is the best medicine',\n",
       " 'learn the ropes',\n",
       " 'leave someone in the lurch',\n",
       " 'lend an ea',\n",
       " 'let bygones be bygones',\n",
       " 'let bygones be bygones',\n",
       " 'let off steam',\n",
       " 'let one’s hair down',\n",
       " 'let sleeping dogs lie',\n",
       " 'let the cat out of the bag',\n",
       " 'let the genie out of the bottle',\n",
       " 'letter of the law',\n",
       " 'lick one’s wounds',\n",
       " 'life is a bowl of cherries',\n",
       " 'light a fire under someone',\n",
       " 'light at the end of the tunnel',\n",
       " 'like a kid in a candy store',\n",
       " 'like a moth to a flame',\n",
       " 'like father, like son',\n",
       " 'like shooting',\n",
       " 'like taking candy from a baby',\n",
       " 'like two peas in a pod',\n",
       " 'like the cat that got the cream',\n",
       " 'lion’s den',\n",
       " 'lion’s share',\n",
       " 'live large',\n",
       " 'living in cloud cuckooland',\n",
       " 'living on borrowed time',\n",
       " 'living under a rock',\n",
       " 'loaded for bear',\n",
       " 'loan shark',\n",
       " 'lock horns',\n",
       " 'long shot',\n",
       " 'look the other way',\n",
       " 'look what the cat dragged in',\n",
       " 'loose cannon',\n",
       " 'lose it',\n",
       " 'lose one’s touch',\n",
       " 'lose touch',\n",
       " 'lose the thread',\n",
       " 'love at first sight',\n",
       " 'love rat',\n",
       " 'love someone with all of one’s heart and soul',\n",
       " 'lower the boom',\n",
       " 'low-hanging fruit',\n",
       " 'mad as a box of (soapy) frogs',\n",
       " 'mad as a hatter',\n",
       " 'main squeeze',\n",
       " 'make a break for it',\n",
       " 'make a mountain out of a molehill',\n",
       " 'make a silk purse out of a sow’s ear',\n",
       " 'make ends meet',\n",
       " 'make hay (while the sun shines)',\n",
       " 'make love',\n",
       " 'make nice:',\n",
       " 'make one’s mark',\n",
       " 'make someone’s day',\n",
       " 'make waves',\n",
       " 'man cave',\n",
       " 'march to the beat of your own drum',\n",
       " 'match made in heaven',\n",
       " 'may-december',\n",
       " '(adj.)',\n",
       " 'may-december marriage',\n",
       " 'me time',\n",
       " 'meeting of the minds',\n",
       " 'mend fences',\n",
       " 'mind one’s p’s and q’s',\n",
       " 'miss the boat',\n",
       " 'monday morning quarterback',\n",
       " 'month of sundays',\n",
       " 'more fun than a barrel of monkeys',\n",
       " 'mother nature',\n",
       " 'move heaven and earth',\n",
       " 'move the needle',\n",
       " 'move up in the world',\n",
       " 'movers and shakers',\n",
       " 'much of a muchness',\n",
       " 'mum’s the word',\n",
       " 'music to my ears',\n",
       " 'mutton dressed up as lamb',\n",
       " 'my dogs are barking',\n",
       " 'my old man, my old lady',\n",
       " 'my way or the highway',\n",
       " 'nail-biter',\n",
       " 'nailing jelly/jello/pudding to a wall/tree',\n",
       " 'neck and neck',\n",
       " 'neck of the woods',\n",
       " 'nest egg',\n",
       " 'never in a million years',\n",
       " 'never look a gift horse in the mouth',\n",
       " 'new wrinkle',\n",
       " 'nice chunk of change',\n",
       " 'nickel and dime',\n",
       " 'nine times out of ten',\n",
       " 'nine-to-five job',\n",
       " 'nip (something) in the bud',\n",
       " 'no holds barred',\n",
       " 'no love lost between',\n",
       " 'no names, no pack drill',\n",
       " 'no names, no pack drill',\n",
       " 'no rhyme or reason (to)',\n",
       " 'no room to swing a cat',\n",
       " 'no shit, sherlock',\n",
       " 'no tree grows to the sky',\n",
       " 'not cut out for',\n",
       " '(something)',\n",
       " 'not enough room to swing a cat',\n",
       " 'not give a fig',\n",
       " 'not have a cat in hell’s chance',\n",
       " 'not have a prayer',\n",
       " 'not know jack',\n",
       " 'not lift a finger',\n",
       " 'not mince words',\n",
       " 'not one’s cup of tea',\n",
       " 'not playing with a full deck',\n",
       " 'not ready for prime time',\n",
       " 'not sit well with (someone)',\n",
       " 'nothing to write home about',\n",
       " 'nuts and bolts',\n",
       " 'nutty as a fruitcake',\n",
       " 'pack heat',\n",
       " 'paddle one’s own canoe',\n",
       " 'page-turner',\n",
       " 'pain in the ass;',\n",
       " 'pain in the neck',\n",
       " 'paint the town red',\n",
       " 'par for the course',\n",
       " 'pass the buck',\n",
       " 'pass with flying colors',\n",
       " 'passing fancy',\n",
       " 'pay through the nose (for something)',\n",
       " 'peaches and cream',\n",
       " 'pecking order',\n",
       " 'pencil something in',\n",
       " 'penny-pinching',\n",
       " 'pep talk',\n",
       " 'perfect storm',\n",
       " 'pet peeve',\n",
       " 'pick a fight:',\n",
       " 'pick up the slack',\n",
       " 'pick up the tab',\n",
       " 'pie in the sky',\n",
       " 'piece of cake',\n",
       " 'pin someone down',\n",
       " 'pinch pennies',\n",
       " 'pink slip',\n",
       " 'pipe dream',\n",
       " 'piping hot',\n",
       " 'pipped to the post',\n",
       " 'pissing contest',\n",
       " 'play ball',\n",
       " 'play cat and mouse',\n",
       " 'play hardball',\n",
       " 'play it by ear',\n",
       " 'play it by ear',\n",
       " 'play the percentages',\n",
       " 'play the ponies',\n",
       " 'play with fire',\n",
       " 'play your cards right',\n",
       " 'point of no return',\n",
       " 'point the finger at',\n",
       " 'point the finger',\n",
       " 'poison pill',\n",
       " '(n)',\n",
       " 'poison pill',\n",
       " 'pop one’s clogs',\n",
       " 'pop one’s cork',\n",
       " 'pop the question',\n",
       " 'pot calling the kettle black',\n",
       " 'pour (rub) salt into (on) the wound (an open wound)',\n",
       " 'powder keg',\n",
       " 'powder keg',\n",
       " ...]"
      ]
     },
     "execution_count": 515,
     "metadata": {},
     "output_type": "execute_result"
    }
   ],
   "source": [
    "# change this so that it imports into a pandas dataframe, so that we can import conversational \n",
    "# prefixes and suffixes manually editied in Excel\n",
    "\n",
    "import csv\n",
    "idiom_list = []\n",
    "with open('data/idioms_1500.csv', 'r') as idioms_data: \n",
    "    for line in csv.reader(idioms_data):\n",
    "        idiom_list.extend(line)\n",
    "idiom_list = idiom_list[1:]\n",
    "idiom_list\n"
   ]
  },
  {
   "cell_type": "code",
   "execution_count": 516,
   "id": "happy-indicator",
   "metadata": {},
   "outputs": [],
   "source": [
    "for idiom_str in idiom_list:\n",
    "    w_list = idiom_str.lower().split()\n",
    "    phrase_dict[uuid.uuid1()] = Phrase(text_string = idiom_str, word_list = w_list, phon_list = w_list, string_length = len(idiom_str), word_count = len(w_list), prefix=\"Yeah, right, like  \", phrase_type='idiom' )\n"
   ]
  },
  {
   "cell_type": "code",
   "execution_count": null,
   "id": "noted-wheel",
   "metadata": {},
   "outputs": [],
   "source": []
  },
  {
   "cell_type": "markdown",
   "id": "innocent-limitation",
   "metadata": {},
   "source": [
    "## 1 — Recognize objects in image (or classify image)\n",
    "\n",
    "Using trained NN, get object label or labels for image, or otherwise provide a label for the image. Also store the centrality of the object. "
   ]
  },
  {
   "cell_type": "code",
   "execution_count": 517,
   "id": "selective-influence",
   "metadata": {},
   "outputs": [],
   "source": [
    "import numpy as np\n",
    "import tensorflow as tf\n",
    "import matplotlib.pyplot as plt\n",
    "from tf_explain.core.activations import ExtractActivations\n",
    "from tensorflow.keras.applications.xception import decode_predictions\n",
    "\n",
    "\n",
    "%matplotlib inline"
   ]
  },
  {
   "cell_type": "code",
   "execution_count": 518,
   "id": "written-michael",
   "metadata": {},
   "outputs": [],
   "source": [
    "def prepare_image_classification_model():\n",
    "    model_ = tf.keras.applications.xception.Xception(weights = 'imagenet', include_top=True)\n",
    "    return model_\n",
    "\n",
    "import requests\n",
    "def get_image_category_labels():  # is this function even necessary?\n",
    "    #fetching labels from Imagenet\n",
    "    response=requests.get('https://storage.googleapis.com/download.tensorflow.org/data/imagenet_class_index.json')\n",
    "    imgnet_map=response.json()\n",
    "    imgnet_map   # {'0': ['n01440764', 'tench'],   '1': ['n01443537', 'goldfish'], etc.\n",
    "    \n",
    "    imgnet_num_from_label = {v[1]:k for k, v in imgnet_map.items()}\n",
    "    imgnet_label_from_num = {k:v[1] for k, v in imgnet_map.items()}\n",
    "\n",
    "    return ( imgnet_num_from_label, imgnet_label_from_num ) \n"
   ]
  },
  {
   "cell_type": "code",
   "execution_count": 519,
   "id": "rolled-malpractice",
   "metadata": {},
   "outputs": [],
   "source": [
    "def get_num_str( num, max_digits=4 ):\n",
    "    leading_zeros = int(max_digits - (np.trunc(np.log10(num))+1))\n",
    "    return '0'*leading_zeros + str(num)"
   ]
  },
  {
   "cell_type": "code",
   "execution_count": 520,
   "id": "transparent-jewel",
   "metadata": {},
   "outputs": [],
   "source": [
    "import random\n",
    "\n",
    "def get_image_path():\n",
    "    path_prefix = 'data/ILSVRC/Data/DET/test/'\n",
    "    filename_stem ='ILSVRC2017_test_0000'\n",
    "    filename_suffix = '.JPEG'\n",
    "    random.seed()\n",
    "    file_number = rand_num = random.randint(1, 5500)   \n",
    "    IMAGE_PATH_ = path_prefix + filename_stem + get_num_str( rand_num ) + filename_suffix\n",
    "    return IMAGE_PATH_\n",
    "    \n",
    "def preprocess_image( IMAGE_PATH_ ):\n",
    "    img_ =tf.keras.preprocessing.image.load_img(IMAGE_PATH_, target_size=(299, 299))\n",
    "    img_ =tf.keras.preprocessing.image.img_to_array(img_)\n",
    "    # prepare to show and save image\n",
    "    ax = plt.axes([0,0,1,1], frameon=False)\n",
    "    ax.get_xaxis().set_visible(False)\n",
    "    ax.get_yaxis().set_visible(False)\n",
    "    plt.autoscale(tight=True)\n",
    "    ax.axes.xaxis.set_visible(False)\n",
    "    ax.axes.yaxis.set_visible(False)\n",
    "    plt.imshow(img_/255.)\n",
    "    plt.savefig('data/temp.png',bbox_inches='tight')\n",
    "    return img_ # It seems futile to return this image\n",
    "\n",
    "def process_and_classify_image( img_, model_):\n",
    "    img_ = tf.keras.applications.xception.preprocess_input(img_)\n",
    "    print( 'img.shape: ', img_.shape )\n",
    "    prediction_array = model_.predict(np.array([img_]))\n",
    "    return prediction_array\n",
    "\n",
    "def extract_best_prediction( prediction_array_ ):\n",
    "    prediction_decoded = decode_predictions(prediction_array_, top=5)\n",
    "    print( prediction_decoded )\n",
    "    best_prediction_str = prediction_decoded[0][0][1]\n",
    "    return best_prediction_str\n",
    "    "
   ]
  },
  {
   "cell_type": "code",
   "execution_count": 521,
   "id": "micro-native",
   "metadata": {},
   "outputs": [],
   "source": [
    "#global_var_img = None\n",
    "\n",
    "def image_recognition_pipeline( ):\n",
    "    model = prepare_image_classification_model()\n",
    "    get_image_category_labels()\n",
    "    IMAGE_PATH = get_image_path()\n",
    "    img = preprocess_image( IMAGE_PATH )\n",
    "    prediction_array = process_and_classify_image( img, model)\n",
    "    image_topic_ = extract_best_prediction( prediction_array )\n",
    "    #global_var_img = img\n",
    "    return  img, image_topic_"
   ]
  },
  {
   "cell_type": "code",
   "execution_count": null,
   "id": "advisory-iceland",
   "metadata": {},
   "outputs": [],
   "source": []
  },
  {
   "cell_type": "code",
   "execution_count": 522,
   "id": "protecting-prompt",
   "metadata": {},
   "outputs": [
    {
     "name": "stdout",
     "output_type": "stream",
     "text": [
      "img.shape:  (299, 299, 3)\n",
      "WARNING:tensorflow:5 out of the last 5 calls to <function Model.make_predict_function.<locals>.predict_function at 0x7fa611295b80> triggered tf.function retracing. Tracing is expensive and the excessive number of tracings could be due to (1) creating @tf.function repeatedly in a loop, (2) passing tensors with different shapes, (3) passing Python objects instead of tensors. For (1), please define your @tf.function outside of the loop. For (2), @tf.function has experimental_relax_shapes=True option that relaxes argument shapes that can avoid unnecessary retracing. For (3), please refer to https://www.tensorflow.org/guide/function#controlling_retracing and https://www.tensorflow.org/api_docs/python/tf/function for  more details.\n",
      "[[('n04254680', 'soccer_ball', 0.9546597), ('n04118538', 'rugby_ball', 0.019362682), ('n03379051', 'football_helmet', 0.0009913942), ('n02802426', 'basketball', 0.00043793517), ('n02799071', 'baseball', 0.0003313163)]]\n"
     ]
    },
    {
     "data": {
      "image/png": "[encoded data removed]",
      "text/plain": [
       "<Figure size 432x288 with 1 Axes>"
      ]
     },
     "metadata": {
      "needs_background": "light"
     },
     "output_type": "display_data"
    }
   ],
   "source": [
    "recognized_image, image_topic  = image_recognition_pipeline( )"
   ]
  },
  {
   "cell_type": "code",
   "execution_count": null,
   "id": "selected-turning",
   "metadata": {},
   "outputs": [],
   "source": []
  },
  {
   "cell_type": "code",
   "execution_count": 523,
   "id": "administrative-admission",
   "metadata": {},
   "outputs": [],
   "source": [
    "#image_topic='dragonfly'"
   ]
  },
  {
   "cell_type": "code",
   "execution_count": 524,
   "id": "afraid-update",
   "metadata": {},
   "outputs": [],
   "source": [
    "#plt.imshow(recognized_image/255.)"
   ]
  },
  {
   "cell_type": "markdown",
   "id": "appropriate-thought",
   "metadata": {},
   "source": [
    "## 2 — Generate semantic word families\n",
    "\n",
    "For each label, use Word2Vec `similar` to retrieve list of words semantically related to the image object labels"
   ]
  },
  {
   "cell_type": "code",
   "execution_count": 525,
   "id": "awful-recipe",
   "metadata": {},
   "outputs": [],
   "source": [
    "from nltk.corpus import wordnet\n",
    "\n",
    "def get_synonyms( w ):\n",
    "    #L = [l.name() if '_' not in l.name() else l.name().split('_') for l in wordnet.synsets( w )[0].lemmas()]  # There may be other synonyms in the synset\n",
    "    #flattened_list = [w if type()]\n",
    "    #return L #flattened_list\n",
    "    return [word for object_name in [syn.name().split('_') for syn in wordnet.synsets( w )[0].lemmas()] for word in object_name]"
   ]
  },
  {
   "cell_type": "code",
   "execution_count": 526,
   "id": "proof-bracket",
   "metadata": {},
   "outputs": [
    {
     "data": {
      "text/plain": [
       "['oystercatcher', 'oyster', 'catcher']"
      ]
     },
     "execution_count": 526,
     "metadata": {},
     "output_type": "execute_result"
    }
   ],
   "source": [
    "get_synonyms( 'oystercatcher' )"
   ]
  },
  {
   "cell_type": "code",
   "execution_count": 527,
   "id": "polyphonic-rainbow",
   "metadata": {},
   "outputs": [
    {
     "data": {
      "text/plain": [
       "[Lemma('oystercatcher.n.01.oystercatcher'),\n",
       " Lemma('oystercatcher.n.01.oyster_catcher')]"
      ]
     },
     "execution_count": 527,
     "metadata": {},
     "output_type": "execute_result"
    }
   ],
   "source": [
    "wordnet.synsets( 'oystercatcher' )[0].lemmas()\n",
    "#get_synonyms( 'ladybug')"
   ]
  },
  {
   "cell_type": "markdown",
   "id": "meaningful-fraction",
   "metadata": {},
   "source": [
    "## 3 — Generate all related words\n",
    "\n",
    "For each semantically related (below a distance threshold) word to each object label, measure its phonetic similarity to all words in the dictionary. Also store each words's distance.\n",
    "\n",
    "For each word in each semantic family, sort and choose the phonetically closest (below a distance threshold) words.\n",
    "(One way is to convert the word to IPA and compare to an IPA converted version of every word in the CMU dictionary.)"
   ]
  },
  {
   "cell_type": "code",
   "execution_count": 528,
   "id": "differential-headquarters",
   "metadata": {},
   "outputs": [],
   "source": [
    "#english_dictionary = ['two', 'pair', 'bear', 'scare', 'you', 'twice', 'hair', 'mice', 'speaker', 'book']"
   ]
  },
  {
   "cell_type": "code",
   "execution_count": 529,
   "id": "armed-burning",
   "metadata": {},
   "outputs": [],
   "source": [
    "# two_phon_fam = Phon_family(locus_word=Close_word('two', 3), close_words = [Close_word('you', 2.1)])\n",
    "# two_phon_fam\n",
    "\n",
    "# pair_phon_fam = Phon_family(locus_word=Close_word('pair', 5), close_words = [Close_word('bear', 1.5), Close_word('hair', 2.7)])\n",
    "# pair_phon_fam\n",
    "\n",
    "# twice_phon_fam = Phon_family(locus_word=Close_word('twice', 4.1), close_words = [Close_word('mice', 2.1)])\n",
    "# twice_phon_fam"
   ]
  },
  {
   "cell_type": "code",
   "execution_count": 530,
   "id": "royal-platinum",
   "metadata": {},
   "outputs": [],
   "source": [
    "from nltk.corpus import words\n",
    "\n",
    "words_set = set( words.words())\n",
    "english_dictionary = words_set"
   ]
  },
  {
   "cell_type": "code",
   "execution_count": 531,
   "id": "traditional-detector",
   "metadata": {},
   "outputs": [],
   "source": [
    "import eng_to_ipa as ipa\n",
    "\n",
    "def syllable_count_diff( w1, w2 ):\n",
    "    return abs( ipa.syllable_count( w1 ) - ipa.syllable_count( w2 ))\n",
    "\n",
    "def same_syllable_count( w1, w2 ):\n",
    "    return syllable_count_diff(w1, w2) == 0\n",
    "\n",
    "def close_syllable_count( w1, w2, threshold=1):\n",
    "    return syllable_count_diff( w1, w2 ) <= threshold"
   ]
  },
  {
   "cell_type": "code",
   "execution_count": 532,
   "id": "angry-movement",
   "metadata": {},
   "outputs": [],
   "source": [
    "# Eventually will need to to filter for the word-frequency sweet-spot or at least for only Engllish words\n",
    "# Possibly rewrite with a decororater so that it uses memoization to speed this up\n",
    "\n",
    "# Rewrite this so it vectorizes the subtraction of the syllable counts\n",
    "\n",
    "def get_sized_rhymes( w ):\n",
    "    word_length_min = 2\n",
    "    rhyme_list = ipa.get_rhymes( w )\n",
    "    return [ [rhyme for rhyme  in rhyme_list if same_syllable_count( w, rhyme) and len(rhyme) >= word_length_min and rhyme in words_set]]\n",
    "   "
   ]
  },
  {
   "cell_type": "code",
   "execution_count": null,
   "id": "miniature-romance",
   "metadata": {},
   "outputs": [],
   "source": []
  },
  {
   "cell_type": "code",
   "execution_count": 533,
   "id": "abandoned-infrared",
   "metadata": {},
   "outputs": [],
   "source": [
    "#ipa.isin_cmu('xue')"
   ]
  },
  {
   "cell_type": "code",
   "execution_count": 534,
   "id": "controversial-geneva",
   "metadata": {},
   "outputs": [
    {
     "data": {
      "text/plain": [
       "[['cloister', 'foister', 'roister']]"
      ]
     },
     "execution_count": 534,
     "metadata": {},
     "output_type": "execute_result"
    }
   ],
   "source": [
    "get_sized_rhymes('oyster')"
   ]
  },
  {
   "cell_type": "code",
   "execution_count": null,
   "id": "promising-aviation",
   "metadata": {},
   "outputs": [],
   "source": []
  },
  {
   "cell_type": "code",
   "execution_count": 535,
   "id": "fluid-conspiracy",
   "metadata": {},
   "outputs": [],
   "source": [
    "## Temporary stand-in function, to be replaced with one that computes phonetic distance\n",
    "\n",
    "# https://stackabuse.com/phonetic-similarity-of-words-a-vectorized-approach-in-python/\n",
    "# \"Phonetic Similarity of Words: A Vectorized Approach in Python\"\n",
    "\n",
    "def lev_dist( phon1, phon2 ):\n",
    "    return 100"
   ]
  },
  {
   "cell_type": "code",
   "execution_count": 536,
   "id": "seven-skating",
   "metadata": {},
   "outputs": [],
   "source": [
    "from random import random\n",
    "\n",
    "\n",
    "# Are these three lines necessary?\n",
    "two_fam_member_list = ['you']\n",
    "pair_fam_member_list = ['bear', 'hair']\n",
    "twice_fam_member_list = ['mice']\n",
    "\n",
    "def make_phon_fam_for_sem_fam_member( w_record, thresh=10 ):\n",
    "    w_phon_code = w_record.word # To be replaced with phonetic version if needed\n",
    "    close_word_list = []\n",
    "    \n",
    "    # Find words that are not necessarily rhyms but phonetically similar\n",
    "    for word in english_dictionary:\n",
    "        word_phon_code = word\n",
    "        dist = lev_dist(w_phon_code, word_phon_code)\n",
    "        if dist < thresh:\n",
    "            close_word_list.append( Close_word(word, dist) )\n",
    "    \n",
    "    rhyme_dist = .1 + random()/10\n",
    "    rhyme_word_list = get_sized_rhymes( w_record.word )[0]\n",
    "    \n",
    "    # Find words that are rhymes\n",
    "    for word in rhyme_word_list:\n",
    "         close_word_list.append( Close_word(word, rhyme_dist) )\n",
    "    \n",
    "    \n",
    "    return Phon_family(locus_word = w_record, close_words=close_word_list )\n",
    "    \n",
    "    "
   ]
  },
  {
   "cell_type": "code",
   "execution_count": null,
   "id": "wireless-cartridge",
   "metadata": {},
   "outputs": [],
   "source": []
  },
  {
   "cell_type": "code",
   "execution_count": 537,
   "id": "manual-platinum",
   "metadata": {},
   "outputs": [],
   "source": [
    "# two_phon_fam = get_phon_fam_for_sem_fam_member( 'two' )\n",
    "# pair_phon_fam = get_phon_fam_for_sem_fam_member( 'pair' )\n",
    "# twice_phon_fam = get_phon_fam_for_sem_fam_member( 'twice' )\n"
   ]
  },
  {
   "cell_type": "code",
   "execution_count": 538,
   "id": "anticipated-application",
   "metadata": {},
   "outputs": [],
   "source": [
    "## ALERT:  Need to incorporate the semantic distance somewhere"
   ]
  },
  {
   "cell_type": "code",
   "execution_count": 539,
   "id": "blank-jordan",
   "metadata": {},
   "outputs": [],
   "source": [
    "# two_sem_fam = Sem_family(locus_word='two', phon_fams = [make_phon_fam_for_sem_fam_member( 'two' ), \\\n",
    "#                                                         make_phon_fam_for_sem_fam_member( 'pair' ), \\\n",
    "#                                                         make_phon_fam_for_sem_fam_member( 'twice' )])"
   ]
  },
  {
   "cell_type": "code",
   "execution_count": 540,
   "id": "welcome-tactics",
   "metadata": {},
   "outputs": [],
   "source": [
    "# To be replaced with Word2Vec `most_similar()`\n",
    "\n",
    "def get_most_similar_obsolete( w ):  \n",
    "    list_of_duples =  [('pair', .95), ('twice', .90)]\n",
    "    list_of_close_words = [Close_word( word=w_str, distance= 1 - w_sim) for w_str, w_sim in list_of_duples ]\n",
    "        \n",
    "    return list_of_close_words"
   ]
  },
  {
   "cell_type": "code",
   "execution_count": 541,
   "id": "appointed-spirituality",
   "metadata": {},
   "outputs": [],
   "source": [
    "def get_most_similar( w ):  \n",
    "    list_of_duples = [(syn, 1) for syn in get_synonyms( w )]\n",
    "    if(w == 'two'):\n",
    "        additional_words =  [('pair', .95), ('twice', .90)]\n",
    "        list_of_duples.extend( additional_words )\n",
    "    list_of_close_words = [Close_word( word=w_str, distance= 1 - w_sim) for w_str, w_sim in list_of_duples ]\n",
    "        \n",
    "    return list_of_close_words"
   ]
  },
  {
   "cell_type": "code",
   "execution_count": 542,
   "id": "restricted-concentration",
   "metadata": {},
   "outputs": [
    {
     "data": {
      "text/plain": [
       "[Close_word(word='oyster', distance=0)]"
      ]
     },
     "execution_count": 542,
     "metadata": {},
     "output_type": "execute_result"
    }
   ],
   "source": [
    "get_most_similar( 'oyster' )"
   ]
  },
  {
   "cell_type": "code",
   "execution_count": 543,
   "id": "decent-frank",
   "metadata": {},
   "outputs": [],
   "source": [
    "def make_phon_fams_and_sem_family( w ):\n",
    "    word_record_ = Close_word(w, 0.0)\n",
    "    \n",
    "    sem_sim_words = get_most_similar( w )  # Eventually replace with call to Word2Vec\n",
    "    \n",
    "    #phon_fams_list = [make_phon_fam_for_sem_fam_member( word_record_  )]\n",
    "    phon_fams_list = []\n",
    "\n",
    "    \n",
    "    for close_w_record in sem_sim_words:\n",
    "        print( close_w_record )\n",
    "        phon_fams_list.append( make_phon_fam_for_sem_fam_member( close_w_record ) )\n",
    "    \n",
    "    return Sem_family(locus_word= word_record_, sem_fam_words = phon_fams_list)\n",
    "   \n",
    " "
   ]
  },
  {
   "cell_type": "code",
   "execution_count": 582,
   "id": "absolute-manner",
   "metadata": {},
   "outputs": [
    {
     "name": "stdout",
     "output_type": "stream",
     "text": [
      "Close_word(word='soccer', distance=0)\n",
      "Close_word(word='association', distance=0)\n",
      "Close_word(word='football', distance=0)\n"
     ]
    },
    {
     "data": {
      "text/plain": [
       "Sem_family(locus_word=Close_word(word='soccer', distance=0.0), sem_fam_words=[Phon_family(locus_word=Close_word(word='soccer', distance=0), close_words=[Close_word(word='blocker', distance=0.1676909474261452), Close_word(word='clocker', distance=0.1676909474261452), Close_word(word='cocker', distance=0.1676909474261452), Close_word(word='crocker', distance=0.1676909474261452), Close_word(word='docker', distance=0.1676909474261452), Close_word(word='hocker', distance=0.1676909474261452), Close_word(word='laugher', distance=0.1676909474261452), Close_word(word='locker', distance=0.1676909474261452), Close_word(word='rocker', distance=0.1676909474261452), Close_word(word='shocker', distance=0.1676909474261452), Close_word(word='stocker', distance=0.1676909474261452)]), Phon_family(locus_word=Close_word(word='association', distance=0), close_words=[Close_word(word='abbreviation', distance=0.18736663799751724), Close_word(word='abomination', distance=0.18736663799751724), Close_word(word='accommodation', distance=0.18736663799751724), Close_word(word='accreditation', distance=0.18736663799751724), Close_word(word='accumulation', distance=0.18736663799751724), Close_word(word='adjudication', distance=0.18736663799751724), Close_word(word='administration', distance=0.18736663799751724), Close_word(word='affiliation', distance=0.18736663799751724), Close_word(word='alienation', distance=0.18736663799751724), Close_word(word='alleviation', distance=0.18736663799751724), Close_word(word='amalgamation', distance=0.18736663799751724), Close_word(word='amortization', distance=0.18736663799751724), Close_word(word='amplification', distance=0.18736663799751724), Close_word(word='anticipation', distance=0.18736663799751724), Close_word(word='appreciation', distance=0.18736663799751724), Close_word(word='appropriation', distance=0.18736663799751724), Close_word(word='approximation', distance=0.18736663799751724), Close_word(word='argumentation', distance=0.18736663799751724), Close_word(word='articulation', distance=0.18736663799751724), Close_word(word='assassination', distance=0.18736663799751724), Close_word(word='assimilation', distance=0.18736663799751724), Close_word(word='authentication', distance=0.18736663799751724), Close_word(word='canonization', distance=0.18736663799751724), Close_word(word='capitulation', distance=0.18736663799751724), Close_word(word='categorization', distance=0.18736663799751724), Close_word(word='centralization', distance=0.18736663799751724), Close_word(word='certification', distance=0.18736663799751724), Close_word(word='characterization', distance=0.18736663799751724), Close_word(word='civilization', distance=0.18736663799751724), Close_word(word='clarification', distance=0.18736663799751724), Close_word(word='classification', distance=0.18736663799751724), Close_word(word='codification', distance=0.18736663799751724), Close_word(word='cohabitation', distance=0.18736663799751724), Close_word(word='colonization', distance=0.18736663799751724), Close_word(word='communication', distance=0.18736663799751724), Close_word(word='communization', distance=0.18736663799751724), Close_word(word='concatenation', distance=0.18736663799751724), Close_word(word='conciliation', distance=0.18736663799751724), Close_word(word='confabulation', distance=0.18736663799751724), Close_word(word='congratulation', distance=0.18736663799751724), Close_word(word='consolidation', distance=0.18736663799751724), Close_word(word='contamination', distance=0.18736663799751724), Close_word(word='decapitation', distance=0.18736663799751724), Close_word(word='defenestration', distance=0.18736663799751724), Close_word(word='deforestation', distance=0.18736663799751724), Close_word(word='deification', distance=0.18736663799751724), Close_word(word='delineation', distance=0.18736663799751724), Close_word(word='demodulation', distance=0.18736663799751724), Close_word(word='denomination', distance=0.18736663799751724), Close_word(word='denunciation', distance=0.18736663799751724), Close_word(word='depopulation', distance=0.18736663799751724), Close_word(word='depreciation', distance=0.18736663799751724), Close_word(word='determination', distance=0.18736663799751724), Close_word(word='detoxication', distance=0.18736663799751724), Close_word(word='discontinuation', distance=0.18736663799751724), Close_word(word='discrimination', distance=0.18736663799751724), Close_word(word='disembarkation', distance=0.18736663799751724), Close_word(word='disinclination', distance=0.18736663799751724), Close_word(word='disintegration', distance=0.18736663799751724), Close_word(word='dissemination', distance=0.18736663799751724), Close_word(word='dissociation', distance=0.18736663799751724), Close_word(word='documentation', distance=0.18736663799751724), Close_word(word='domestication', distance=0.18736663799751724), Close_word(word='dramatization', distance=0.18736663799751724), Close_word(word='edification', distance=0.18736663799751724), Close_word(word='ejaculation', distance=0.18736663799751724), Close_word(word='elimination', distance=0.18736663799751724), Close_word(word='emancipation', distance=0.18736663799751724), Close_word(word='equalization', distance=0.18736663799751724), Close_word(word='equivocation', distance=0.18736663799751724), Close_word(word='eradication', distance=0.18736663799751724), Close_word(word='evacuation', distance=0.18736663799751724), Close_word(word='exacerbation', distance=0.18736663799751724), Close_word(word='examination', distance=0.18736663799751724), Close_word(word='exfoliation', distance=0.18736663799751724), Close_word(word='expatriation', distance=0.18736663799751724), Close_word(word='expropriation', distance=0.18736663799751724), Close_word(word='extermination', distance=0.18736663799751724), Close_word(word='extrapolation', distance=0.18736663799751724), Close_word(word='facilitation', distance=0.18736663799751724), Close_word(word='falsification', distance=0.18736663799751724), Close_word(word='fertilization', distance=0.18736663799751724), Close_word(word='fortification', distance=0.18736663799751724), Close_word(word='gasification', distance=0.18736663799751724), Close_word(word='generalization', distance=0.18736663799751724), Close_word(word='glorification', distance=0.18736663799751724), Close_word(word='gratification', distance=0.18736663799751724), Close_word(word='hallucination', distance=0.18736663799751724), Close_word(word='harmonization', distance=0.18736663799751724), Close_word(word='humiliation', distance=0.18736663799751724), Close_word(word='hybridization', distance=0.18736663799751724), Close_word(word='hydrogenation', distance=0.18736663799751724), Close_word(word='illumination', distance=0.18736663799751724), Close_word(word='imagination', distance=0.18736663799751724), Close_word(word='immunization', distance=0.18736663799751724), Close_word(word='impersonation', distance=0.18736663799751724), Close_word(word='implementation', distance=0.18736663799751724), Close_word(word='improvisation', distance=0.18736663799751724), Close_word(word='inactivation', distance=0.18736663799751724), Close_word(word='inauguration', distance=0.18736663799751724), Close_word(word='incrimination', distance=0.18736663799751724), Close_word(word='indoctrination', distance=0.18736663799751724), Close_word(word='inhabitation', distance=0.18736663799751724), Close_word(word='initiation', distance=0.18736663799751724), Close_word(word='inoculation', distance=0.18736663799751724), Close_word(word='insemination', distance=0.18736663799751724), Close_word(word='instrumentation', distance=0.18736663799751724), Close_word(word='interpretation', distance=0.18736663799751724), Close_word(word='interrogation', distance=0.18736663799751724), Close_word(word='intimidation', distance=0.18736663799751724), Close_word(word='intoxication', distance=0.18736663799751724), Close_word(word='invalidation', distance=0.18736663799751724), Close_word(word='investigation', distance=0.18736663799751724), Close_word(word='irradiation', distance=0.18736663799751724), Close_word(word='justification', distance=0.18736663799751724), Close_word(word='legalization', distance=0.18736663799751724), Close_word(word='liberalization', distance=0.18736663799751724), Close_word(word='localization', distance=0.18736663799751724), Close_word(word='magnetization', distance=0.18736663799751724), Close_word(word='magnification', distance=0.18736663799751724), Close_word(word='manifestation', distance=0.18736663799751724), Close_word(word='manipulation', distance=0.18736663799751724), Close_word(word='maximization', distance=0.18736663799751724), Close_word(word='mechanization', distance=0.18736663799751724), Close_word(word='mineralization', distance=0.18736663799751724), Close_word(word='misapplication', distance=0.18736663799751724), Close_word(word='miscalculation', distance=0.18736663799751724), Close_word(word='misinformation', distance=0.18736663799751724), Close_word(word='mobilization', distance=0.18736663799751724), Close_word(word='modernization', distance=0.18736663799751724), Close_word(word='modification', distance=0.18736663799751724), Close_word(word='multiplication', distance=0.18736663799751724), Close_word(word='mummification', distance=0.18736663799751724), Close_word(word='naturalization', distance=0.18736663799751724), Close_word(word='negotiation', distance=0.18736663799751724), Close_word(word='neutralization', distance=0.18736663799751724), Close_word(word='normalization', distance=0.18736663799751724), Close_word(word='notification', distance=0.18736663799751724), Close_word(word='nullification', distance=0.18736663799751724), Close_word(word='optimization', distance=0.18736663799751724), Close_word(word='organization', distance=0.18736663799751724), Close_word(word='ornamentation', distance=0.18736663799751724), Close_word(word='ossification', distance=0.18736663799751724), Close_word(word='overvaluation', distance=0.18736663799751724), Close_word(word='pacification', distance=0.18736663799751724), Close_word(word='participation', distance=0.18736663799751724), Close_word(word='perpetuation', distance=0.18736663799751724), Close_word(word='polymerization', distance=0.18736663799751724), Close_word(word='pontification', distance=0.18736663799751724), Close_word(word='popularization', distance=0.18736663799751724), Close_word(word='precipitation', distance=0.18736663799751724), Close_word(word='predestination', distance=0.18736663799751724), Close_word(word='prefabrication', distance=0.18736663799751724), Close_word(word='premeditation', distance=0.18736663799751724), Close_word(word='prevarication', distance=0.18736663799751724), Close_word(word='procrastination', distance=0.18736663799751724), Close_word(word='prognostication', distance=0.18736663799751724), Close_word(word='pronunciation', distance=0.18736663799751724), Close_word(word='purification', distance=0.18736663799751724), Close_word(word='qualification', distance=0.18736663799751724), Close_word(word='quantification', distance=0.18736663799751724), Close_word(word='ramification', distance=0.18736663799751724), Close_word(word='ratification', distance=0.18736663799751724), Close_word(word='recalculation', distance=0.18736663799751724), Close_word(word='recommendation', distance=0.18736663799751724), Close_word(word='reconfirmation', distance=0.18736663799751724), Close_word(word='reconsideration', distance=0.18736663799751724), Close_word(word='recrimination', distance=0.18736663799751724), Close_word(word='rectification', distance=0.18736663799751724), Close_word(word='rededication', distance=0.18736663799751724), Close_word(word='reforestation', distance=0.18736663799751724), Close_word(word='regimentation', distance=0.18736663799751724), Close_word(word='reinterpretation', distance=0.18736663799751724), Close_word(word='rejuvenation', distance=0.18736663799751724), Close_word(word='remediation', distance=0.18736663799751724), Close_word(word='renomination', distance=0.18736663799751724), Close_word(word='renunciation', distance=0.18736663799751724), Close_word(word='reorganization', distance=0.18736663799751724), Close_word(word='repatriation', distance=0.18736663799751724), Close_word(word='representation', distance=0.18736663799751724), Close_word(word='repudiation', distance=0.18736663799751724), Close_word(word='reregulation', distance=0.18736663799751724), Close_word(word='resuscitation', distance=0.18736663799751724), Close_word(word='retaliation', distance=0.18736663799751724), Close_word(word='reunification', distance=0.18736663799751724), Close_word(word='sanctification', distance=0.18736663799751724), Close_word(word='sedimentation', distance=0.18736663799751724), Close_word(word='simplification', distance=0.18736663799751724), Close_word(word='singularization', distance=0.18736663799751724), Close_word(word='socialization', distance=0.18736663799751724), Close_word(word='solicitation', distance=0.18736663799751724), Close_word(word='sophistication', distance=0.18736663799751724), Close_word(word='specialization', distance=0.18736663799751724), Close_word(word='specification', distance=0.18736663799751724), Close_word(word='stabilization', distance=0.18736663799751724), Close_word(word='standardization', distance=0.18736663799751724), Close_word(word='sterilization', distance=0.18736663799751724), Close_word(word='subordination', distance=0.18736663799751724), Close_word(word='subsidization', distance=0.18736663799751724), Close_word(word='substantiation', distance=0.18736663799751724), Close_word(word='synchronization', distance=0.18736663799751724), Close_word(word='undervaluation', distance=0.18736663799751724), Close_word(word='unification', distance=0.18736663799751724), Close_word(word='unionization', distance=0.18736663799751724), Close_word(word='urbanization', distance=0.18736663799751724), Close_word(word='utilization', distance=0.18736663799751724), Close_word(word='verification', distance=0.18736663799751724), Close_word(word='victimization', distance=0.18736663799751724), Close_word(word='vilification', distance=0.18736663799751724), Close_word(word='visualization', distance=0.18736663799751724), Close_word(word='westernization', distance=0.18736663799751724)]), Phon_family(locus_word=Close_word(word='football', distance=0), close_words=[])])"
      ]
     },
     "execution_count": 582,
     "metadata": {},
     "output_type": "execute_result"
    }
   ],
   "source": [
    "make_phon_fams_and_sem_family('soccer')"
   ]
  },
  {
   "cell_type": "code",
   "execution_count": 545,
   "id": "certified-grant",
   "metadata": {},
   "outputs": [],
   "source": [
    "# two_sem_fam = make_phon_fams_and_sem_family('two')\n",
    "# two_sem_fam"
   ]
  },
  {
   "cell_type": "markdown",
   "id": "curious-medline",
   "metadata": {},
   "source": [
    "## 4 — Gather candidate phrases\n",
    "\n",
    "For each word in the phonetic family, of each word in the semantic family, of each object label, retrieve phrases containing the word.\n",
    "Add the phrase_Id, as well as the stats on the object centrality, semantic distance, and phonetic distance, to a dataframe.\n",
    "\n",
    "Compute _suitability score_ for each word-phrase match and add this to that column of the dataframe\n",
    "\n",
    "Also, for each word in the semantic family, search the joke list for match and add that these to a joke_match dataframe, to use if there's too low a suitability score using a substitution.\n"
   ]
  },
  {
   "cell_type": "code",
   "execution_count": 581,
   "id": "particular-produce",
   "metadata": {},
   "outputs": [
    {
     "data": {
      "text/plain": [
       "[Close_word(word='soccer', distance=0),\n",
       " Close_word(word='association', distance=0),\n",
       " Close_word(word='football', distance=0)]"
      ]
     },
     "execution_count": 581,
     "metadata": {},
     "output_type": "execute_result"
    }
   ],
   "source": [
    "get_most_similar('soccer')"
   ]
  },
  {
   "cell_type": "markdown",
   "id": "assumed-favorite",
   "metadata": {},
   "source": []
  },
  {
   "cell_type": "markdown",
   "id": "prime-yemen",
   "metadata": {},
   "source": [
    "## TO CODE NEXT\n",
    "\n",
    "Write code that takes the word `twice` and returns its `semantic_family` which is a list of words \n",
    "('pair', and 'twice' in this case) and returns either (TBD) the list phonetically similar words or \n",
    "the pboneticized version of the word to be compared with the phoneticized variants of words in\n",
    "the phrases\n",
    "\n"
   ]
  },
  {
   "cell_type": "markdown",
   "id": "strategic-ambassador",
   "metadata": {},
   "source": [
    "#### Define dataframe for candidate phrases"
   ]
  },
  {
   "cell_type": "code",
   "execution_count": 546,
   "id": "south-payday",
   "metadata": {},
   "outputs": [
    {
     "data": {
      "text/html": [
       "<div>\n",
       "<style scoped>\n",
       "    .dataframe tbody tr th:only-of-type {\n",
       "        vertical-align: middle;\n",
       "    }\n",
       "\n",
       "    .dataframe tbody tr th {\n",
       "        vertical-align: top;\n",
       "    }\n",
       "\n",
       "    .dataframe thead th {\n",
       "        text-align: right;\n",
       "    }\n",
       "</style>\n",
       "<table border=\"1\" class=\"dataframe\">\n",
       "  <thead>\n",
       "    <tr style=\"text-align: right;\">\n",
       "      <th></th>\n",
       "      <th>semantic_match</th>\n",
       "      <th>sem_dist</th>\n",
       "      <th>phonetic_match</th>\n",
       "      <th>phon_dist</th>\n",
       "      <th>phrase_id</th>\n",
       "      <th>score</th>\n",
       "    </tr>\n",
       "  </thead>\n",
       "  <tbody>\n",
       "  </tbody>\n",
       "</table>\n",
       "</div>"
      ],
      "text/plain": [
       "Empty DataFrame\n",
       "Columns: [semantic_match, sem_dist, phonetic_match, phon_dist, phrase_id, score]\n",
       "Index: []"
      ]
     },
     "execution_count": 546,
     "metadata": {},
     "output_type": "execute_result"
    }
   ],
   "source": [
    "col_names = ['semantic_match', 'sem_dist', 'phonetic_match', 'phon_dist', 'phrase_id', 'score']\n",
    "\n",
    "cand_df = pd.DataFrame(columns= col_names)\n",
    "cand_df"
   ]
  },
  {
   "cell_type": "markdown",
   "id": "heavy-thumb",
   "metadata": {},
   "source": [
    "#### Need to write body of function that will convert to phoneticized version of word"
   ]
  },
  {
   "cell_type": "code",
   "execution_count": 547,
   "id": "valid-chorus",
   "metadata": {},
   "outputs": [],
   "source": [
    "def phoneticized( w ):\n",
    "    return w"
   ]
  },
  {
   "cell_type": "markdown",
   "id": "revised-dialogue",
   "metadata": {},
   "source": [
    "### ALERT:  Instead, pre-generate a dictionary of phoneticized versions of the words in the list of idioms. Each phonetic word should map to a list of duples each of which is a phrase id and the corresponding word"
   ]
  },
  {
   "cell_type": "code",
   "execution_count": 548,
   "id": "agreed-strand",
   "metadata": {},
   "outputs": [],
   "source": [
    "def get_matching_phrases( w ):\n",
    "    matched_id_list = []\n",
    "    for phrase_id in phrase_dict.keys():\n",
    "        if w in phrase_dict[phrase_id].phon_list:\n",
    "            matched_id_list.append(phrase_id)\n",
    "            print( phrase_dict[ phrase_id] )\n",
    "            return matched_id_list"
   ]
  },
  {
   "cell_type": "code",
   "execution_count": 549,
   "id": "bulgarian-plain",
   "metadata": {},
   "outputs": [
    {
     "name": "stdout",
     "output_type": "stream",
     "text": [
      "Phrase(text_string='the world is your oyster', word_list=['the', 'world', 'is', 'your', 'oyster'], phon_list=['the', 'world', 'is', 'your', 'oyster'], string_length=24, word_count=5, prefix='Yeah, right, like  ', phrase_type='idiom')\n"
     ]
    },
    {
     "data": {
      "text/plain": [
       "[UUID('15de1d42-8148-11eb-abae-acde48001122')]"
      ]
     },
     "execution_count": 549,
     "metadata": {},
     "output_type": "execute_result"
    }
   ],
   "source": [
    "get_matching_phrases('oyster') "
   ]
  },
  {
   "cell_type": "code",
   "execution_count": 550,
   "id": "stopped-direction",
   "metadata": {},
   "outputs": [],
   "source": [
    "#  cycles through each phonetic family in the semantic family to get matching phrases\n",
    "\n",
    "#def get_phrases_for_phon_fam( phon_fam_, sem_dist_ ):\n",
    "def get_phrases_for_phon_fam( phon_fam_ ):\n",
    "\n",
    "    word_match_records_ = []\n",
    "\n",
    "    #phon_fam_ = pair_phon_fam\n",
    "    for word in phon_fam_.close_words:\n",
    "        matched_phrases = get_matching_phrases( word.word )\n",
    "        #print(word, len(matched_phrases))\n",
    "        if matched_phrases:\n",
    "            for p_id in matched_phrases:\n",
    "                word_match_records_.append({'semantic_match': phon_fam_.locus_word.word, 'sem_dist': phon_fam_.locus_word.distance, 'phonetic_match': word.word, 'phon_dist': word.distance, 'phrase_id': p_id, 'score': ''})\n",
    "    return word_match_records_ \n"
   ]
  },
  {
   "cell_type": "code",
   "execution_count": 551,
   "id": "controlling-plaza",
   "metadata": {},
   "outputs": [],
   "source": [
    "def get_phrases_for_sem_fam( sem_fam_ ):\n",
    "    word_match_records_ = []\n",
    "    for phon_fam_ in sem_fam_.sem_fam_words:\n",
    "        print( phon_fam_.locus_word.distance )\n",
    "        #word_match_records_.extend( get_phrases_for_phon_fam( phon_fam_, sem_fam_.locus_word.distance ) )\n",
    "        phrases_ = get_phrases_for_phon_fam( phon_fam_ ) \n",
    "\n",
    "        if len( phrases_ ) > 0:\n",
    "            print( phrases_ )\n",
    "            word_match_records_.extend( phrases_ )\n",
    "    return word_match_records_"
   ]
  },
  {
   "cell_type": "code",
   "execution_count": 552,
   "id": "arctic-marshall",
   "metadata": {},
   "outputs": [],
   "source": [
    "# word_match_records = []   \n",
    "\n",
    "# word_match_records.extend( get_phrases_for_phon_fam( two_phon_fam ) ) \n",
    "# word_match_records.extend( get_phrases_for_phon_fam( pair_phon_fam ) )\n",
    "# word_match_records.extend( get_phrases_for_phon_fam( twice_phon_fam ) )  \n",
    "# word_match_records"
   ]
  },
  {
   "cell_type": "code",
   "execution_count": 553,
   "id": "recent-tension",
   "metadata": {},
   "outputs": [],
   "source": [
    "#cand_df = cand_df.append(word_match_records)"
   ]
  },
  {
   "cell_type": "code",
   "execution_count": 554,
   "id": "short-profit",
   "metadata": {},
   "outputs": [],
   "source": [
    "#two_sem_fam"
   ]
  },
  {
   "cell_type": "code",
   "execution_count": 555,
   "id": "fancy-albania",
   "metadata": {},
   "outputs": [],
   "source": [
    "# word_match_records = get_phrases_for_sem_fam( two_sem_fam )\n",
    "# word_match_records"
   ]
  },
  {
   "cell_type": "code",
   "execution_count": 556,
   "id": "mental-aaron",
   "metadata": {},
   "outputs": [],
   "source": [
    "# To be replaced with image recognition algorithms\n",
    "def get_image_topics():\n",
    "    return [image_topic]\n",
    "    #return [test_image_topic]"
   ]
  },
  {
   "cell_type": "markdown",
   "id": "congressional-arkansas",
   "metadata": {},
   "source": [
    "## The equivalent of `main` for the time being, until two or more image topics are handled"
   ]
  },
  {
   "cell_type": "code",
   "execution_count": 557,
   "id": "bacterial-secondary",
   "metadata": {},
   "outputs": [
    {
     "name": "stdout",
     "output_type": "stream",
     "text": [
      "Close_word(word='soccer', distance=0)\n",
      "Close_word(word='ball', distance=0)\n",
      "0\n",
      "0\n",
      "Phrase(text_string='all along', word_list=['all', 'along'], phon_list=['all', 'along'], string_length=9, word_count=2, prefix='Yeah, right, like  ', phrase_type='idiom')\n",
      "Phrase(text_string='call a spade a spade', word_list=['call', 'a', 'spade', 'a', 'spade'], phon_list=['call', 'a', 'spade', 'a', 'spade'], string_length=20, word_count=5, prefix='Yeah, right, like  ', phrase_type='idiom')\n",
      "Phrase(text_string='fall for something', word_list=['fall', 'for', 'something'], phon_list=['fall', 'for', 'something'], string_length=18, word_count=3, prefix='Yeah, right, like  ', phrase_type='idiom')\n",
      "Phrase(text_string='haul over the coals', word_list=['haul', 'over', 'the', 'coals'], phon_list=['haul', 'over', 'the', 'coals'], string_length=19, word_count=4, prefix='Yeah, right, like  ', phrase_type='idiom')\n",
      "Phrase(text_string='small beer', word_list=['small', 'beer'], phon_list=['small', 'beer'], string_length=10, word_count=2, prefix='Yeah, right, like  ', phrase_type='idiom')\n",
      "Phrase(text_string='a tall order', word_list=['a', 'tall', 'order'], phon_list=['a', 'tall', 'order'], string_length=12, word_count=3, prefix='Yeah, right, like  ', phrase_type='idiom')\n",
      "Phrase(text_string='bang one’s head against the wall (against a brick wall)', word_list=['bang', 'one’s', 'head', 'against', 'the', 'wall', '(against', 'a', 'brick', 'wall)'], phon_list=['bang', 'one’s', 'head', 'against', 'the', 'wall', '(against', 'a', 'brick', 'wall)'], string_length=55, word_count=10, prefix='Yeah, right, like  ', phrase_type='idiom')\n",
      "[{'semantic_match': 'ball', 'sem_dist': 0, 'phonetic_match': 'all', 'phon_dist': 0.1740453293730056, 'phrase_id': UUID('15dd1190-8148-11eb-abae-acde48001122'), 'score': ''}, {'semantic_match': 'ball', 'sem_dist': 0, 'phonetic_match': 'call', 'phon_dist': 0.1740453293730056, 'phrase_id': UUID('15dd4b74-8148-11eb-abae-acde48001122'), 'score': ''}, {'semantic_match': 'ball', 'sem_dist': 0, 'phonetic_match': 'fall', 'phon_dist': 0.1740453293730056, 'phrase_id': UUID('15dd6e06-8148-11eb-abae-acde48001122'), 'score': ''}, {'semantic_match': 'ball', 'sem_dist': 0, 'phonetic_match': 'haul', 'phon_dist': 0.1740453293730056, 'phrase_id': UUID('15dd8ac6-8148-11eb-abae-acde48001122'), 'score': ''}, {'semantic_match': 'ball', 'sem_dist': 0, 'phonetic_match': 'small', 'phon_dist': 0.1740453293730056, 'phrase_id': UUID('15ddfbc8-8148-11eb-abae-acde48001122'), 'score': ''}, {'semantic_match': 'ball', 'sem_dist': 0, 'phonetic_match': 'tall', 'phon_dist': 0.1740453293730056, 'phrase_id': UUID('15dd07fe-8148-11eb-abae-acde48001122'), 'score': ''}, {'semantic_match': 'ball', 'sem_dist': 0, 'phonetic_match': 'wall', 'phon_dist': 0.1740453293730056, 'phrase_id': UUID('15dd31c0-8148-11eb-abae-acde48001122'), 'score': ''}]\n"
     ]
    }
   ],
   "source": [
    "image_topics     = get_image_topics()\n",
    "image_topic_word = image_topics[0]\n",
    "#image_topic_word = 'boy'\n",
    "\n",
    "image_sem_fam = make_phon_fams_and_sem_family( image_topic_word )\n",
    "#two_sem_fam\n",
    "\n",
    "word_match_records = get_phrases_for_sem_fam( image_sem_fam )\n",
    "\n",
    "cand_df = cand_df.append(word_match_records)"
   ]
  },
  {
   "cell_type": "code",
   "execution_count": 558,
   "id": "celtic-decimal",
   "metadata": {},
   "outputs": [
    {
     "data": {
      "text/plain": [
       "Phon_family(locus_word=Close_word(word='soccer', distance=0), close_words=[Close_word(word='blocker', distance=0.1998232344694376), Close_word(word='clocker', distance=0.1998232344694376), Close_word(word='cocker', distance=0.1998232344694376), Close_word(word='crocker', distance=0.1998232344694376), Close_word(word='docker', distance=0.1998232344694376), Close_word(word='hocker', distance=0.1998232344694376), Close_word(word='laugher', distance=0.1998232344694376), Close_word(word='locker', distance=0.1998232344694376), Close_word(word='rocker', distance=0.1998232344694376), Close_word(word='shocker', distance=0.1998232344694376), Close_word(word='stocker', distance=0.1998232344694376)])"
      ]
     },
     "execution_count": 558,
     "metadata": {},
     "output_type": "execute_result"
    }
   ],
   "source": [
    "image_sem_fam.sem_fam_words[0]"
   ]
  },
  {
   "cell_type": "code",
   "execution_count": 559,
   "id": "weekly-stone",
   "metadata": {},
   "outputs": [
    {
     "data": {
      "text/plain": [
       "Phon_family(locus_word=Close_word(word='ball', distance=0), close_words=[Close_word(word='all', distance=0.1740453293730056), Close_word(word='brawl', distance=0.1740453293730056), Close_word(word='call', distance=0.1740453293730056), Close_word(word='caul', distance=0.1740453293730056), Close_word(word='crawl', distance=0.1740453293730056), Close_word(word='drawl', distance=0.1740453293730056), Close_word(word='fall', distance=0.1740453293730056), Close_word(word='gall', distance=0.1740453293730056), Close_word(word='hall', distance=0.1740453293730056), Close_word(word='haul', distance=0.1740453293730056), Close_word(word='lall', distance=0.1740453293730056), Close_word(word='mall', distance=0.1740453293730056), Close_word(word='maul', distance=0.1740453293730056), Close_word(word='pall', distance=0.1740453293730056), Close_word(word='pol', distance=0.1740453293730056), Close_word(word='scrawl', distance=0.1740453293730056), Close_word(word='shaul', distance=0.1740453293730056), Close_word(word='shawl', distance=0.1740453293730056), Close_word(word='small', distance=0.1740453293730056), Close_word(word='spall', distance=0.1740453293730056), Close_word(word='sprawl', distance=0.1740453293730056), Close_word(word='squall', distance=0.1740453293730056), Close_word(word='stall', distance=0.1740453293730056), Close_word(word='tall', distance=0.1740453293730056), Close_word(word='thrall', distance=0.1740453293730056), Close_word(word='tol', distance=0.1740453293730056), Close_word(word='wall', distance=0.1740453293730056)])"
      ]
     },
     "execution_count": 559,
     "metadata": {},
     "output_type": "execute_result"
    }
   ],
   "source": [
    "test_sem_fam_word = image_sem_fam.sem_fam_words[1]\n",
    "test_sem_fam_word"
   ]
  },
  {
   "cell_type": "code",
   "execution_count": 560,
   "id": "equipped-greeting",
   "metadata": {},
   "outputs": [
    {
     "data": {
      "text/plain": [
       "[Close_word(word='all', distance=0.1740453293730056),\n",
       " Close_word(word='brawl', distance=0.1740453293730056),\n",
       " Close_word(word='call', distance=0.1740453293730056),\n",
       " Close_word(word='caul', distance=0.1740453293730056),\n",
       " Close_word(word='crawl', distance=0.1740453293730056),\n",
       " Close_word(word='drawl', distance=0.1740453293730056),\n",
       " Close_word(word='fall', distance=0.1740453293730056),\n",
       " Close_word(word='gall', distance=0.1740453293730056),\n",
       " Close_word(word='hall', distance=0.1740453293730056),\n",
       " Close_word(word='haul', distance=0.1740453293730056),\n",
       " Close_word(word='lall', distance=0.1740453293730056),\n",
       " Close_word(word='mall', distance=0.1740453293730056),\n",
       " Close_word(word='maul', distance=0.1740453293730056),\n",
       " Close_word(word='pall', distance=0.1740453293730056),\n",
       " Close_word(word='pol', distance=0.1740453293730056),\n",
       " Close_word(word='scrawl', distance=0.1740453293730056),\n",
       " Close_word(word='shaul', distance=0.1740453293730056),\n",
       " Close_word(word='shawl', distance=0.1740453293730056),\n",
       " Close_word(word='small', distance=0.1740453293730056),\n",
       " Close_word(word='spall', distance=0.1740453293730056),\n",
       " Close_word(word='sprawl', distance=0.1740453293730056),\n",
       " Close_word(word='squall', distance=0.1740453293730056),\n",
       " Close_word(word='stall', distance=0.1740453293730056),\n",
       " Close_word(word='tall', distance=0.1740453293730056),\n",
       " Close_word(word='thrall', distance=0.1740453293730056),\n",
       " Close_word(word='tol', distance=0.1740453293730056),\n",
       " Close_word(word='wall', distance=0.1740453293730056)]"
      ]
     },
     "execution_count": 560,
     "metadata": {},
     "output_type": "execute_result"
    }
   ],
   "source": [
    "test_sem_fam_word.close_words"
   ]
  },
  {
   "cell_type": "code",
   "execution_count": 586,
   "id": "effective-rider",
   "metadata": {},
   "outputs": [
    {
     "data": {
      "text/plain": [
       "[['blocker',\n",
       "  'clocker',\n",
       "  'cocker',\n",
       "  'crocker',\n",
       "  'docker',\n",
       "  'hocker',\n",
       "  'laugher',\n",
       "  'locker',\n",
       "  'rocker',\n",
       "  'shocker',\n",
       "  'stocker']]"
      ]
     },
     "execution_count": 586,
     "metadata": {},
     "output_type": "execute_result"
    }
   ],
   "source": [
    "get_sized_rhymes('soccer')"
   ]
  },
  {
   "cell_type": "code",
   "execution_count": 561,
   "id": "alive-broadway",
   "metadata": {},
   "outputs": [
    {
     "data": {
      "text/plain": [
       "'all'"
      ]
     },
     "execution_count": 561,
     "metadata": {},
     "output_type": "execute_result"
    }
   ],
   "source": [
    "test_sem_fam_word.close_words[0].word"
   ]
  },
  {
   "cell_type": "code",
   "execution_count": 593,
   "id": "generic-parish",
   "metadata": {},
   "outputs": [
    {
     "name": "stdout",
     "output_type": "stream",
     "text": [
      "Phrase(text_string='a life of its own', word_list=['a', 'life', 'of', 'its', 'own'], phon_list=['a', 'life', 'of', 'its', 'own'], string_length=17, word_count=5, prefix='Yeah, right, like  ', phrase_type='idiom')\n",
      "[UUID('15dd038a-8148-11eb-abae-acde48001122')]\n"
     ]
    }
   ],
   "source": [
    "print( get_matching_phrases( 'life') )"
   ]
  },
  {
   "cell_type": "code",
   "execution_count": 563,
   "id": "looking-reach",
   "metadata": {},
   "outputs": [
    {
     "name": "stdout",
     "output_type": "stream",
     "text": [
      "Phrase(text_string='all along', word_list=['all', 'along'], phon_list=['all', 'along'], string_length=9, word_count=2, prefix='Yeah, right, like  ', phrase_type='idiom')\n",
      "[UUID('15dd1190-8148-11eb-abae-acde48001122')]\n"
     ]
    }
   ],
   "source": [
    "print( get_matching_phrases( test_sem_fam_word.close_words[0].word ) )"
   ]
  },
  {
   "cell_type": "code",
   "execution_count": 564,
   "id": "little-smooth",
   "metadata": {},
   "outputs": [
    {
     "ename": "IndexError",
     "evalue": "list index out of range",
     "output_type": "error",
     "traceback": [
      "\u001b[0;31m---------------------------------------------------------------------------\u001b[0m",
      "\u001b[0;31mIndexError\u001b[0m                                Traceback (most recent call last)",
      "\u001b[0;32m<ipython-input-564-ab28ed887fef>\u001b[0m in \u001b[0;36m<module>\u001b[0;34m\u001b[0m\n\u001b[0;32m----> 1\u001b[0;31m \u001b[0mimage_sem_fam\u001b[0m\u001b[0;34m.\u001b[0m\u001b[0msem_fam_words\u001b[0m\u001b[0;34m[\u001b[0m\u001b[0;36m2\u001b[0m\u001b[0;34m]\u001b[0m\u001b[0;34m\u001b[0m\u001b[0;34m\u001b[0m\u001b[0m\n\u001b[0m",
      "\u001b[0;31mIndexError\u001b[0m: list index out of range"
     ]
    }
   ],
   "source": [
    "image_sem_fam.sem_fam_words[2]"
   ]
  },
  {
   "cell_type": "code",
   "execution_count": 565,
   "id": "figured-concert",
   "metadata": {},
   "outputs": [],
   "source": [
    "# cand_df = pd.DataFrame({\"semantic_match\": ['pair','pair','twice'], \"sem_dist\": [5, 5, 4.1], \"phonetic_match\": ['bear', 'hair','mice'], \"phon_dist\": [1.5, 2.7, 2.1], \"phrase_id\":  [ph_id1, ph_id2,ph_id3], \"phrase_type\":  ['idiom', 'idiom','idiom'],'score': [.5, .3, 1.1]})\n"
   ]
  },
  {
   "cell_type": "code",
   "execution_count": 566,
   "id": "devoted-organizer",
   "metadata": {},
   "outputs": [
    {
     "data": {
      "text/html": [
       "<div>\n",
       "<style scoped>\n",
       "    .dataframe tbody tr th:only-of-type {\n",
       "        vertical-align: middle;\n",
       "    }\n",
       "\n",
       "    .dataframe tbody tr th {\n",
       "        vertical-align: top;\n",
       "    }\n",
       "\n",
       "    .dataframe thead th {\n",
       "        text-align: right;\n",
       "    }\n",
       "</style>\n",
       "<table border=\"1\" class=\"dataframe\">\n",
       "  <thead>\n",
       "    <tr style=\"text-align: right;\">\n",
       "      <th></th>\n",
       "      <th>semantic_match</th>\n",
       "      <th>sem_dist</th>\n",
       "      <th>phonetic_match</th>\n",
       "      <th>phon_dist</th>\n",
       "      <th>phrase_id</th>\n",
       "      <th>score</th>\n",
       "    </tr>\n",
       "  </thead>\n",
       "  <tbody>\n",
       "    <tr>\n",
       "      <th>0</th>\n",
       "      <td>ball</td>\n",
       "      <td>0</td>\n",
       "      <td>all</td>\n",
       "      <td>0.174045</td>\n",
       "      <td>15dd1190-8148-11eb-abae-acde48001122</td>\n",
       "      <td></td>\n",
       "    </tr>\n",
       "    <tr>\n",
       "      <th>1</th>\n",
       "      <td>ball</td>\n",
       "      <td>0</td>\n",
       "      <td>call</td>\n",
       "      <td>0.174045</td>\n",
       "      <td>15dd4b74-8148-11eb-abae-acde48001122</td>\n",
       "      <td></td>\n",
       "    </tr>\n",
       "    <tr>\n",
       "      <th>2</th>\n",
       "      <td>ball</td>\n",
       "      <td>0</td>\n",
       "      <td>fall</td>\n",
       "      <td>0.174045</td>\n",
       "      <td>15dd6e06-8148-11eb-abae-acde48001122</td>\n",
       "      <td></td>\n",
       "    </tr>\n",
       "    <tr>\n",
       "      <th>3</th>\n",
       "      <td>ball</td>\n",
       "      <td>0</td>\n",
       "      <td>haul</td>\n",
       "      <td>0.174045</td>\n",
       "      <td>15dd8ac6-8148-11eb-abae-acde48001122</td>\n",
       "      <td></td>\n",
       "    </tr>\n",
       "    <tr>\n",
       "      <th>4</th>\n",
       "      <td>ball</td>\n",
       "      <td>0</td>\n",
       "      <td>small</td>\n",
       "      <td>0.174045</td>\n",
       "      <td>15ddfbc8-8148-11eb-abae-acde48001122</td>\n",
       "      <td></td>\n",
       "    </tr>\n",
       "    <tr>\n",
       "      <th>5</th>\n",
       "      <td>ball</td>\n",
       "      <td>0</td>\n",
       "      <td>tall</td>\n",
       "      <td>0.174045</td>\n",
       "      <td>15dd07fe-8148-11eb-abae-acde48001122</td>\n",
       "      <td></td>\n",
       "    </tr>\n",
       "    <tr>\n",
       "      <th>6</th>\n",
       "      <td>ball</td>\n",
       "      <td>0</td>\n",
       "      <td>wall</td>\n",
       "      <td>0.174045</td>\n",
       "      <td>15dd31c0-8148-11eb-abae-acde48001122</td>\n",
       "      <td></td>\n",
       "    </tr>\n",
       "  </tbody>\n",
       "</table>\n",
       "</div>"
      ],
      "text/plain": [
       "  semantic_match sem_dist phonetic_match  phon_dist  \\\n",
       "0           ball        0            all   0.174045   \n",
       "1           ball        0           call   0.174045   \n",
       "2           ball        0           fall   0.174045   \n",
       "3           ball        0           haul   0.174045   \n",
       "4           ball        0          small   0.174045   \n",
       "5           ball        0           tall   0.174045   \n",
       "6           ball        0           wall   0.174045   \n",
       "\n",
       "                              phrase_id score  \n",
       "0  15dd1190-8148-11eb-abae-acde48001122        \n",
       "1  15dd4b74-8148-11eb-abae-acde48001122        \n",
       "2  15dd6e06-8148-11eb-abae-acde48001122        \n",
       "3  15dd8ac6-8148-11eb-abae-acde48001122        \n",
       "4  15ddfbc8-8148-11eb-abae-acde48001122        \n",
       "5  15dd07fe-8148-11eb-abae-acde48001122        \n",
       "6  15dd31c0-8148-11eb-abae-acde48001122        "
      ]
     },
     "execution_count": 566,
     "metadata": {},
     "output_type": "execute_result"
    }
   ],
   "source": [
    "cand_df"
   ]
  },
  {
   "cell_type": "code",
   "execution_count": 567,
   "id": "adjusted-berlin",
   "metadata": {},
   "outputs": [
    {
     "data": {
      "text/html": [
       "<div>\n",
       "<style scoped>\n",
       "    .dataframe tbody tr th:only-of-type {\n",
       "        vertical-align: middle;\n",
       "    }\n",
       "\n",
       "    .dataframe tbody tr th {\n",
       "        vertical-align: top;\n",
       "    }\n",
       "\n",
       "    .dataframe thead th {\n",
       "        text-align: right;\n",
       "    }\n",
       "</style>\n",
       "<table border=\"1\" class=\"dataframe\">\n",
       "  <thead>\n",
       "    <tr style=\"text-align: right;\">\n",
       "      <th></th>\n",
       "      <th>semantic_match</th>\n",
       "      <th>sem_dist</th>\n",
       "      <th>phonetic_match</th>\n",
       "      <th>phon_dist</th>\n",
       "      <th>phrase_id</th>\n",
       "      <th>score</th>\n",
       "    </tr>\n",
       "  </thead>\n",
       "  <tbody>\n",
       "    <tr>\n",
       "      <th>0</th>\n",
       "      <td>ball</td>\n",
       "      <td>0</td>\n",
       "      <td>all</td>\n",
       "      <td>0.174045</td>\n",
       "      <td>15dd1190-8148-11eb-abae-acde48001122</td>\n",
       "      <td>5.74563</td>\n",
       "    </tr>\n",
       "    <tr>\n",
       "      <th>1</th>\n",
       "      <td>ball</td>\n",
       "      <td>0</td>\n",
       "      <td>call</td>\n",
       "      <td>0.174045</td>\n",
       "      <td>15dd4b74-8148-11eb-abae-acde48001122</td>\n",
       "      <td>5.74563</td>\n",
       "    </tr>\n",
       "    <tr>\n",
       "      <th>2</th>\n",
       "      <td>ball</td>\n",
       "      <td>0</td>\n",
       "      <td>fall</td>\n",
       "      <td>0.174045</td>\n",
       "      <td>15dd6e06-8148-11eb-abae-acde48001122</td>\n",
       "      <td>5.74563</td>\n",
       "    </tr>\n",
       "    <tr>\n",
       "      <th>3</th>\n",
       "      <td>ball</td>\n",
       "      <td>0</td>\n",
       "      <td>haul</td>\n",
       "      <td>0.174045</td>\n",
       "      <td>15dd8ac6-8148-11eb-abae-acde48001122</td>\n",
       "      <td>5.74563</td>\n",
       "    </tr>\n",
       "    <tr>\n",
       "      <th>4</th>\n",
       "      <td>ball</td>\n",
       "      <td>0</td>\n",
       "      <td>small</td>\n",
       "      <td>0.174045</td>\n",
       "      <td>15ddfbc8-8148-11eb-abae-acde48001122</td>\n",
       "      <td>5.74563</td>\n",
       "    </tr>\n",
       "    <tr>\n",
       "      <th>5</th>\n",
       "      <td>ball</td>\n",
       "      <td>0</td>\n",
       "      <td>tall</td>\n",
       "      <td>0.174045</td>\n",
       "      <td>15dd07fe-8148-11eb-abae-acde48001122</td>\n",
       "      <td>5.74563</td>\n",
       "    </tr>\n",
       "    <tr>\n",
       "      <th>6</th>\n",
       "      <td>ball</td>\n",
       "      <td>0</td>\n",
       "      <td>wall</td>\n",
       "      <td>0.174045</td>\n",
       "      <td>15dd31c0-8148-11eb-abae-acde48001122</td>\n",
       "      <td>5.74563</td>\n",
       "    </tr>\n",
       "  </tbody>\n",
       "</table>\n",
       "</div>"
      ],
      "text/plain": [
       "  semantic_match sem_dist phonetic_match  phon_dist  \\\n",
       "0           ball        0            all   0.174045   \n",
       "1           ball        0           call   0.174045   \n",
       "2           ball        0           fall   0.174045   \n",
       "3           ball        0           haul   0.174045   \n",
       "4           ball        0          small   0.174045   \n",
       "5           ball        0           tall   0.174045   \n",
       "6           ball        0           wall   0.174045   \n",
       "\n",
       "                              phrase_id    score  \n",
       "0  15dd1190-8148-11eb-abae-acde48001122  5.74563  \n",
       "1  15dd4b74-8148-11eb-abae-acde48001122  5.74563  \n",
       "2  15dd6e06-8148-11eb-abae-acde48001122  5.74563  \n",
       "3  15dd8ac6-8148-11eb-abae-acde48001122  5.74563  \n",
       "4  15ddfbc8-8148-11eb-abae-acde48001122  5.74563  \n",
       "5  15dd07fe-8148-11eb-abae-acde48001122  5.74563  \n",
       "6  15dd31c0-8148-11eb-abae-acde48001122  5.74563  "
      ]
     },
     "execution_count": 567,
     "metadata": {},
     "output_type": "execute_result"
    }
   ],
   "source": [
    "cand_df['score'] = cand_df.apply(lambda row: 1.0/(row['sem_dist'] + row['phon_dist']), axis=1)\n",
    "cand_df"
   ]
  },
  {
   "cell_type": "markdown",
   "id": "accepted-lightning",
   "metadata": {},
   "source": [
    "## 5 —  Choose captions\n",
    "\n",
    "Sort captions dataframe by the _suitability score_\n",
    "\n",
    "Choose the top 10(?) and generate a list containing each caption with the original semantic family word substituted into the idiom in addition to jokes containing any of the semantic family words"
   ]
  },
  {
   "cell_type": "code",
   "execution_count": 568,
   "id": "differential-performer",
   "metadata": {},
   "outputs": [],
   "source": [
    "def sub_raw_string(phrase_string, orig_word='', new_word=''):\n",
    "    return phrase_string.replace(orig_word, new_word)"
   ]
  },
  {
   "cell_type": "code",
   "execution_count": 569,
   "id": "bored-error",
   "metadata": {},
   "outputs": [],
   "source": [
    "def sub(phrase, orig_word='', new_word=''):\n",
    "    return phrase.text_string.replace(orig_word, new_word)"
   ]
  },
  {
   "cell_type": "code",
   "execution_count": 570,
   "id": "middle-python",
   "metadata": {},
   "outputs": [
    {
     "data": {
      "text/plain": [
       "'Wild Goose Chase'"
      ]
     },
     "execution_count": 570,
     "metadata": {},
     "output_type": "execute_result"
    }
   ],
   "source": [
    "phrase_string = 'Wild Goose Chase'\n",
    "sub_raw_string(phrase_string, 'wild', 'child')"
   ]
  },
  {
   "cell_type": "code",
   "execution_count": 571,
   "id": "nominated-extra",
   "metadata": {},
   "outputs": [],
   "source": [
    "def construct_caption( row ):\n",
    "    return sub( phrase_dict[ row['phrase_id']], row['phonetic_match'],  row['semantic_match']  )"
   ]
  },
  {
   "cell_type": "code",
   "execution_count": 572,
   "id": "studied-margin",
   "metadata": {},
   "outputs": [],
   "source": [
    "def get_best_captions(df, selection_size=10):\n",
    "    df.sort_values(by='score', inplace=True)\n",
    "    best_df = df.head(selection_size)\n",
    "    #best_df['caption'] = best_df.apply(construct_caption, axis=1 )\n",
    "    best_df.loc[:, 'caption'] = best_df.apply(construct_caption, axis=1 ) \n",
    "    return best_df\n",
    "    #return best_df['_caption'].to_list()"
   ]
  },
  {
   "cell_type": "code",
   "execution_count": null,
   "id": "inclusive-journal",
   "metadata": {},
   "outputs": [],
   "source": [
    "\n"
   ]
  },
  {
   "cell_type": "code",
   "execution_count": 573,
   "id": "german-appearance",
   "metadata": {},
   "outputs": [
    {
     "name": "stderr",
     "output_type": "stream",
     "text": [
      "/opt/anaconda3/envs/metis/lib/python3.8/site-packages/pandas/core/indexing.py:1596: SettingWithCopyWarning: \n",
      "A value is trying to be set on a copy of a slice from a DataFrame.\n",
      "Try using .loc[row_indexer,col_indexer] = value instead\n",
      "\n",
      "See the caveats in the documentation: https://pandas.pydata.org/pandas-docs/stable/user_guide/indexing.html#returning-a-view-versus-a-copy\n",
      "  self.obj[key] = _infer_fill_value(value)\n",
      "/opt/anaconda3/envs/metis/lib/python3.8/site-packages/pandas/core/indexing.py:1743: SettingWithCopyWarning: \n",
      "A value is trying to be set on a copy of a slice from a DataFrame.\n",
      "Try using .loc[row_indexer,col_indexer] = value instead\n",
      "\n",
      "See the caveats in the documentation: https://pandas.pydata.org/pandas-docs/stable/user_guide/indexing.html#returning-a-view-versus-a-copy\n",
      "  isetter(ilocs[0], value)\n"
     ]
    },
    {
     "data": {
      "text/html": [
       "<div>\n",
       "<style scoped>\n",
       "    .dataframe tbody tr th:only-of-type {\n",
       "        vertical-align: middle;\n",
       "    }\n",
       "\n",
       "    .dataframe tbody tr th {\n",
       "        vertical-align: top;\n",
       "    }\n",
       "\n",
       "    .dataframe thead th {\n",
       "        text-align: right;\n",
       "    }\n",
       "</style>\n",
       "<table border=\"1\" class=\"dataframe\">\n",
       "  <thead>\n",
       "    <tr style=\"text-align: right;\">\n",
       "      <th></th>\n",
       "      <th>semantic_match</th>\n",
       "      <th>sem_dist</th>\n",
       "      <th>phonetic_match</th>\n",
       "      <th>phon_dist</th>\n",
       "      <th>phrase_id</th>\n",
       "      <th>score</th>\n",
       "      <th>caption</th>\n",
       "    </tr>\n",
       "  </thead>\n",
       "  <tbody>\n",
       "    <tr>\n",
       "      <th>0</th>\n",
       "      <td>ball</td>\n",
       "      <td>0</td>\n",
       "      <td>all</td>\n",
       "      <td>0.174045</td>\n",
       "      <td>15dd1190-8148-11eb-abae-acde48001122</td>\n",
       "      <td>5.74563</td>\n",
       "      <td>ball along</td>\n",
       "    </tr>\n",
       "    <tr>\n",
       "      <th>1</th>\n",
       "      <td>ball</td>\n",
       "      <td>0</td>\n",
       "      <td>call</td>\n",
       "      <td>0.174045</td>\n",
       "      <td>15dd4b74-8148-11eb-abae-acde48001122</td>\n",
       "      <td>5.74563</td>\n",
       "      <td>ball a spade a spade</td>\n",
       "    </tr>\n",
       "    <tr>\n",
       "      <th>2</th>\n",
       "      <td>ball</td>\n",
       "      <td>0</td>\n",
       "      <td>fall</td>\n",
       "      <td>0.174045</td>\n",
       "      <td>15dd6e06-8148-11eb-abae-acde48001122</td>\n",
       "      <td>5.74563</td>\n",
       "      <td>ball for something</td>\n",
       "    </tr>\n",
       "    <tr>\n",
       "      <th>3</th>\n",
       "      <td>ball</td>\n",
       "      <td>0</td>\n",
       "      <td>haul</td>\n",
       "      <td>0.174045</td>\n",
       "      <td>15dd8ac6-8148-11eb-abae-acde48001122</td>\n",
       "      <td>5.74563</td>\n",
       "      <td>ball over the coals</td>\n",
       "    </tr>\n",
       "    <tr>\n",
       "      <th>4</th>\n",
       "      <td>ball</td>\n",
       "      <td>0</td>\n",
       "      <td>small</td>\n",
       "      <td>0.174045</td>\n",
       "      <td>15ddfbc8-8148-11eb-abae-acde48001122</td>\n",
       "      <td>5.74563</td>\n",
       "      <td>ball beer</td>\n",
       "    </tr>\n",
       "    <tr>\n",
       "      <th>5</th>\n",
       "      <td>ball</td>\n",
       "      <td>0</td>\n",
       "      <td>tall</td>\n",
       "      <td>0.174045</td>\n",
       "      <td>15dd07fe-8148-11eb-abae-acde48001122</td>\n",
       "      <td>5.74563</td>\n",
       "      <td>a ball order</td>\n",
       "    </tr>\n",
       "    <tr>\n",
       "      <th>6</th>\n",
       "      <td>ball</td>\n",
       "      <td>0</td>\n",
       "      <td>wall</td>\n",
       "      <td>0.174045</td>\n",
       "      <td>15dd31c0-8148-11eb-abae-acde48001122</td>\n",
       "      <td>5.74563</td>\n",
       "      <td>bang one’s head against the ball (against a br...</td>\n",
       "    </tr>\n",
       "  </tbody>\n",
       "</table>\n",
       "</div>"
      ],
      "text/plain": [
       "  semantic_match sem_dist phonetic_match  phon_dist  \\\n",
       "0           ball        0            all   0.174045   \n",
       "1           ball        0           call   0.174045   \n",
       "2           ball        0           fall   0.174045   \n",
       "3           ball        0           haul   0.174045   \n",
       "4           ball        0          small   0.174045   \n",
       "5           ball        0           tall   0.174045   \n",
       "6           ball        0           wall   0.174045   \n",
       "\n",
       "                              phrase_id    score  \\\n",
       "0  15dd1190-8148-11eb-abae-acde48001122  5.74563   \n",
       "1  15dd4b74-8148-11eb-abae-acde48001122  5.74563   \n",
       "2  15dd6e06-8148-11eb-abae-acde48001122  5.74563   \n",
       "3  15dd8ac6-8148-11eb-abae-acde48001122  5.74563   \n",
       "4  15ddfbc8-8148-11eb-abae-acde48001122  5.74563   \n",
       "5  15dd07fe-8148-11eb-abae-acde48001122  5.74563   \n",
       "6  15dd31c0-8148-11eb-abae-acde48001122  5.74563   \n",
       "\n",
       "                                             caption  \n",
       "0                                         ball along  \n",
       "1                               ball a spade a spade  \n",
       "2                                 ball for something  \n",
       "3                                ball over the coals  \n",
       "4                                          ball beer  \n",
       "5                                       a ball order  \n",
       "6  bang one’s head against the ball (against a br...  "
      ]
     },
     "execution_count": 573,
     "metadata": {},
     "output_type": "execute_result"
    }
   ],
   "source": [
    "best_captions_df = get_best_captions(cand_df)\n",
    "best_captions_df"
   ]
  },
  {
   "cell_type": "code",
   "execution_count": 574,
   "id": "cosmetic-tower",
   "metadata": {},
   "outputs": [],
   "source": [
    "best_captions_list = best_captions_df['caption'].to_list()\n"
   ]
  },
  {
   "cell_type": "code",
   "execution_count": 575,
   "id": "exempt-department",
   "metadata": {},
   "outputs": [],
   "source": [
    "import matplotlib.image as mpimg\n",
    "img = mpimg.imread('data/temp.png')"
   ]
  },
  {
   "cell_type": "code",
   "execution_count": 576,
   "id": "french-tuner",
   "metadata": {},
   "outputs": [
    {
     "data": {
      "text/plain": [
       "<matplotlib.image.AxesImage at 0x7fa5b2ab29a0>"
      ]
     },
     "execution_count": 576,
     "metadata": {},
     "output_type": "execute_result"
    },
    {
     "data": {
      "image/png": "[encoded data removed]",
      "text/plain": [
       "<Figure size 432x288 with 1 Axes>"
      ]
     },
     "metadata": {
      "needs_background": "light"
     },
     "output_type": "display_data"
    }
   ],
   "source": [
    "ax = plt.axes([0,0,1,1], frameon=False)\n",
    "\n",
    "# Then we disable our xaxis and yaxis completely. If we just say plt.axis('off'),\n",
    "# they are still used in the computation of the image padding.\n",
    "ax.get_xaxis().set_visible(False)\n",
    "ax.get_yaxis().set_visible(False)\n",
    "\n",
    "# Even though our axes (plot region) are set to cover the whole image with [0,0,1,1],\n",
    "# by default they leave padding between the plotted data and the frame. We use tigher=True\n",
    "# to make sure the data gets scaled to the full extents of the axes.\n",
    "plt.autoscale(tight=True)\n",
    "\n",
    "ax.axes.xaxis.set_visible(False)\n",
    "ax.axes.yaxis.set_visible(False)\n",
    "\n",
    "#plt.imshow(recognized_image/255.)\n",
    "#plt.imshow(global_var_img/255.)\n",
    "plt.imshow(img)\n"
   ]
  },
  {
   "cell_type": "code",
   "execution_count": 577,
   "id": "facial-bracelet",
   "metadata": {},
   "outputs": [
    {
     "data": {
      "text/plain": [
       "['ball along',\n",
       " 'ball a spade a spade',\n",
       " 'ball for something',\n",
       " 'ball over the coals',\n",
       " 'ball beer',\n",
       " 'a ball order',\n",
       " 'bang one’s head against the ball (against a brick ball)']"
      ]
     },
     "execution_count": 577,
     "metadata": {},
     "output_type": "execute_result"
    }
   ],
   "source": [
    "best_captions_list "
   ]
  },
  {
   "cell_type": "code",
   "execution_count": 370,
   "id": "australian-nickel",
   "metadata": {},
   "outputs": [
    {
     "data": {
      "text/plain": [
       "'oystercatcher'"
      ]
     },
     "execution_count": 370,
     "metadata": {},
     "output_type": "execute_result"
    }
   ],
   "source": [
    "image_topic"
   ]
  },
  {
   "cell_type": "code",
   "execution_count": null,
   "id": "measured-charity",
   "metadata": {},
   "outputs": [],
   "source": []
  },
  {
   "cell_type": "code",
   "execution_count": null,
   "id": "victorian-cowboy",
   "metadata": {},
   "outputs": [],
   "source": []
  },
  {
   "cell_type": "code",
   "execution_count": null,
   "id": "overall-bernard",
   "metadata": {},
   "outputs": [],
   "source": []
  }
 ],
 "metadata": {
  "kernelspec": {
   "display_name": "Python [conda env:metis] *",
   "language": "python",
   "name": "conda-env-metis-py"
  },
  "language_info": {
   "codemirror_mode": {
    "name": "ipython",
    "version": 3
   },
   "file_extension": ".py",
   "mimetype": "text/x-python",
   "name": "python",
   "nbconvert_exporter": "python",
   "pygments_lexer": "ipython3",
   "version": "3.8.6"
  }
 },
 "nbformat": 4,
 "nbformat_minor": 5
}
