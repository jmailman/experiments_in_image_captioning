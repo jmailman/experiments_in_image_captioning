{
 "cells": [
  {
   "cell_type": "markdown",
   "id": "loving-discipline",
   "metadata": {},
   "source": [
    "## 1 — Recognize objects in image (or classify image)\n",
    "\n",
    "Using trained NN, get object label or labels for image, or otherwise provide a label for the image. Also store the centrality of the object. "
   ]
  },
  {
   "cell_type": "markdown",
   "id": "posted-voltage",
   "metadata": {},
   "source": [
    "## 2  — Generate semantic word families\n",
    "\n",
    "For each label, use Word2Vec `similar` to retrieve list of words semantically related to the image object labels"
   ]
  },
  {
   "cell_type": "markdown",
   "id": "located-chosen",
   "metadata": {},
   "source": [
    "## 3 — Generate all related words\n",
    "\n",
    "For each semantically related (below a distance threshold) word to each object label, measure its phonetic similarity to all words in the dictionary. Also store each words's distance.\n",
    "\n",
    "For each word in each semantic family, sort and choose the phonetically closest (below a distance threshold) words.\n",
    "(One way is to convert the word to IPA and compare to an IPA converted version of every word in the CMU dictionary.)"
   ]
  },
  {
   "cell_type": "markdown",
   "id": "together-mississippi",
   "metadata": {},
   "source": [
    "## 4 — Gather candidate phrases\n",
    "\n",
    "For each word in the phonetic family, of each word in the semantic family, of each object label, retrieve each idiom containing the word.\n",
    "Add the idiom Id, as well as the stats on the object centrality, semantic distance, and phonetic distance, to a dataframe.\n",
    "\n",
    "Compute _suitability score_ for each word-idiom match and add this to that column of the dataframe\n",
    "\n",
    "Also, for each word in the semantic family, search the joke list for match and add that these to a joke_match dataframe, to use if there's too low a suitability score using a substitution.\n"
   ]
  },
  {
   "cell_type": "markdown",
   "id": "incorporate-application",
   "metadata": {},
   "source": [
    "## 5 — Choose captions\n",
    "\n",
    "Sort captions dataframe by the _suitability score_\n",
    "\n",
    "Choose the top 10 and generate a list containing each caption with the original semantic family word substituted into the idiom in addition to jokes containing any of the semantic family words"
   ]
  },
  {
   "cell_type": "code",
   "execution_count": null,
   "id": "destroyed-median",
   "metadata": {},
   "outputs": [],
   "source": [
    "# \"\"\"\n",
    "# In jupyter notebook simple logging to console\n",
    "# \"\"\"\n",
    "# import logging\n",
    "# import sys\n",
    "\n",
    "# logging.basicConfig(stream=sys.stdout, level=logging.INFO)\n",
    "\n",
    "# # Test\n",
    "# logger = logging.getLogger('LOGGER_NAME')\n",
    "\n",
    "# logger.debug('This is hidden')\n",
    "# logger.info('So this is shown on the console')\n",
    "# logger.warning('This too')"
   ]
  },
  {
   "cell_type": "code",
   "execution_count": 9,
   "id": "polished-inside",
   "metadata": {},
   "outputs": [],
   "source": [
    "import pandas as pd\n",
    "from collections import namedtuple\n",
    "import uuid"
   ]
  },
  {
   "cell_type": "markdown",
   "id": "going-waste",
   "metadata": {},
   "source": [
    "## -1  — Webscrape and process phrases (idioms, sayings, aphorisms)\n",
    "\n",
    "They should be converted into lists of phonetic sounds"
   ]
  },
  {
   "cell_type": "markdown",
   "id": "typical-omega",
   "metadata": {},
   "source": [
    "## 0  — Load `phrase_dict` pickled and processed after being scraped"
   ]
  },
  {
   "cell_type": "markdown",
   "id": "material-indication",
   "metadata": {},
   "source": [
    "#### Data structures defined"
   ]
  },
  {
   "cell_type": "code",
   "execution_count": 10,
   "id": "polish-pierre",
   "metadata": {},
   "outputs": [],
   "source": [
    "Phrase = namedtuple('Phrase',['text_string', 'word_list','phon_list','string_length', 'word_count', 'prefix', 'phrase_type'])\n",
    "\n",
    "Close_word = namedtuple('Close_word', ['word', 'distance'])\n",
    "Sem_family = namedtuple('Sem_family', ['locus_word', 'sem_fam_words'])\n",
    "Phon_family = namedtuple('Phon_family', ['locus_word', 'close_words'])"
   ]
  },
  {
   "cell_type": "markdown",
   "id": "unable-browser",
   "metadata": {},
   "source": [
    "#### Temporary toy example of the dict of phrases, to be replaced with idioms etc. scraped from web"
   ]
  },
  {
   "cell_type": "code",
   "execution_count": 11,
   "id": "eastern-brain",
   "metadata": {},
   "outputs": [],
   "source": [
    "def seed_the_phrase_dictionary_with_examples(phrase_dict_ ):\n",
    "    t_string = 'smarter than the average bear'\n",
    "    w_list = t_string.lower().split()\n",
    "    ph_id1 = uuid.uuid1()\n",
    "    phrase_dict_[ph_id1] = Phrase(text_string = t_string, word_list = w_list, phon_list = w_list, string_length = len(t_string), word_count = len(w_list), prefix=\"As usual: \", phrase_type='idiom' )\n",
    "\n",
    "    # toy example of the dict\n",
    "    t_string = 'not a hair out of place'\n",
    "    w_list = t_string.lower().split()\n",
    "    ph_id2 = uuid.uuid1()\n",
    "    phrase_dict_[ph_id2] = Phrase(text_string = t_string, word_list = w_list, phon_list = w_list, string_length = len(t_string), word_count = len(w_list), prefix=\"As usual: \", phrase_type='idiom' )\n",
    "\n",
    "    # toy example of the dict\n",
    "    t_string = 'three blind mice'\n",
    "    w_list = t_string.lower().split()\n",
    "    ph_id3 = uuid.uuid1()\n",
    "    phrase_dict_[ph_id3] = Phrase(text_string = t_string, word_list = w_list, phon_list = w_list, string_length = len(t_string), word_count = len(w_list), prefix=\"As usual: \", phrase_type='idiom' )\n",
    "\n",
    "    # toy example of the dict\n",
    "    t_string = 'i just called to say I love you'\n",
    "    w_list = t_string.lower().split()\n",
    "    ph_id4 = uuid.uuid1()\n",
    "    phrase_dict_[ph_id4] = Phrase(text_string = t_string, word_list = w_list, phon_list = w_list, string_length = len(t_string), word_count = len(w_list), prefix=\"As usual: \", phrase_type='idiom' )\n",
    "\n",
    "    t_string = 'up, up in the air'\n",
    "    w_list = t_string.lower().split()\n",
    "    ph_id5 = uuid.uuid1()\n",
    "    phrase_dict_[ph_id5] = Phrase(text_string = t_string, word_list = w_list, phon_list = w_list, string_length = len(t_string), word_count = len(w_list), prefix=\"As usual: \", phrase_type='idiom' )\n",
    "\n",
    "    t_string = 'wouldn\\'t it be nice'\n",
    "    w_list = t_string.lower().split()\n",
    "    ph_id6 = uuid.uuid1()\n",
    "    phrase_dict_[ph_id6] = Phrase(text_string = t_string, word_list = w_list, phon_list = w_list, string_length = len(t_string), word_count = len(w_list), prefix=\"As usual: \", phrase_type='idiom' )\n",
    "\n",
    "    t_string = 'roses are red, violets are blue'\n",
    "    w_list = t_string.lower().split()\n",
    "    ph_id7 = uuid.uuid1()\n",
    "    phrase_dict_[ph_id7] = Phrase(text_string = t_string, word_list = w_list, phon_list = w_list, string_length = len(t_string), word_count = len(w_list), prefix=\"As usual: \", phrase_type='idiom' )\n",
    "\n",
    "#seed_the_phrase_dictionary_with_examples()"
   ]
  },
  {
   "cell_type": "code",
   "execution_count": 12,
   "id": "brilliant-destination",
   "metadata": {},
   "outputs": [],
   "source": [
    "# change this so that it imports into a pandas dataframe, so that we can import conversational \n",
    "# prefixes and suffixes manually editied in Excel\n",
    "\n",
    "import csv\n",
    "\n",
    "def compile_idiom_lists():\n",
    "    idiom_list_ = []\n",
    "    with open('data/idioms_1500.csv', 'r') as idioms_data: \n",
    "        for line in csv.reader(idioms_data):\n",
    "            idiom_list_.extend(line)\n",
    "    idiom_list_ = idiom_list_[1:]\n",
    "    return idiom_list_\n",
    "    \n",
    "#idiom_list = compile_idiom_lists()\n"
   ]
  },
  {
   "cell_type": "code",
   "execution_count": 13,
   "id": "final-casting",
   "metadata": {},
   "outputs": [],
   "source": [
    "import pickle\n",
    "   "
   ]
  },
  {
   "cell_type": "markdown",
   "id": "innocent-limitation",
   "metadata": {},
   "source": [
    "## 1 — Recognize objects in image (or classify image)\n",
    "\n",
    "Using trained NN, get object label or labels for image, or otherwise provide a label for the image. Also store the centrality of the object. "
   ]
  },
  {
   "cell_type": "code",
   "execution_count": 14,
   "id": "leading-surge",
   "metadata": {},
   "outputs": [],
   "source": [
    "import numpy as np\n",
    "import tensorflow as tf\n",
    "import matplotlib.pyplot as plt\n",
    "from tf_explain.core.activations import ExtractActivations\n",
    "from tensorflow.keras.applications.xception import decode_predictions\n",
    "\n",
    "\n",
    "#%matplotlib inline"
   ]
  },
  {
   "cell_type": "code",
   "execution_count": 15,
   "id": "polar-summer",
   "metadata": {},
   "outputs": [],
   "source": [
    "def load_image_classification_model():\n",
    "    model_ = tf.keras.applications.xception.Xception(weights = 'imagenet', include_top=True)\n",
    "    return model_\n",
    "\n",
    "import requests\n",
    "def get_image_category_labels():  # is this function even necessary?\n",
    "    #fetching labels from Imagenet\n",
    "    response=requests.get('https://storage.googleapis.com/download.tensorflow.org/data/imagenet_class_index.json')\n",
    "    imgnet_map=response.json()\n",
    "    #imgnet_map   # {'0': ['n01440764', 'tench'],   '1': ['n01443537', 'goldfish'], etc.\n",
    "    \n",
    "    imgnet_num_from_label = {v[1]:k for k, v in imgnet_map.items()}\n",
    "    imgnet_label_from_num = {k:v[1] for k, v in imgnet_map.items()}\n",
    "\n",
    "    return ( imgnet_num_from_label, imgnet_label_from_num ) \n",
    "\n",
    "#model = prepare_image_classification_model()"
   ]
  },
  {
   "cell_type": "code",
   "execution_count": 16,
   "id": "tired-lotus",
   "metadata": {},
   "outputs": [],
   "source": [
    "import re\n",
    "import csv\n",
    "\n",
    "def get_curated_img_label_dict():    \n",
    "    img_label_dict = {}\n",
    "\n",
    "    with open('data/image_net_labels_with_original_index_numbers.txt', newline = '') as labels:                                                                                          \n",
    "        label_reader = csv.reader(labels, delimiter=' ')\n",
    "        for label_row in label_reader:\n",
    "            img_label_dict[label_row[0]] = label_row[2]\n",
    "            #img_label_dict        \n",
    "             \n",
    "\n",
    "#     filepath = 'data/imagenet1000_clsidx_to_labels.txt'\n",
    "#     with open(filepath) as fp:\n",
    "#         line = fp.readline()\n",
    "#         cnt = 0\n",
    "#         pattern = re.compile('([^\\s\\w]|_)+')\n",
    "#         while line:\n",
    "#             cleaner_line = re.sub(r'^\"', '', line, flags=re.I)\n",
    "#             cleaner_line = re.sub(r'^\\\"{', '', line, flags=re.I)\n",
    "#             cleaner_line = re.sub(r'\"$', '', cleaner_line, flags=re.I)\n",
    "#             # cleaner_line = re.sub(r'}$', '', cleaner_line, flags=re.I)\n",
    "#             label_string = cleaner_line.split(':')[1]\n",
    "#             stripped_string = pattern.sub('', label_string)\n",
    "#             stripped_string_list = stripped_string.split()\n",
    "#             img_label_dict[cnt] = stripped_string_list\n",
    "#             line=fp.readline()\n",
    "#             cnt+=1\n",
    "\n",
    "    return img_label_dict\n",
    "\n",
    "#img_label_dict = get_curated_img_label_dict()"
   ]
  },
  {
   "cell_type": "code",
   "execution_count": null,
   "id": "sought-dealer",
   "metadata": {},
   "outputs": [],
   "source": []
  },
  {
   "cell_type": "code",
   "execution_count": 17,
   "id": "united-equity",
   "metadata": {},
   "outputs": [],
   "source": [
    "def get_num_str( num, max_digits=4 ):\n",
    "    leading_zeros = int(max_digits - (np.trunc(np.log10(num))+1))\n",
    "    return '0'*leading_zeros + str(num)"
   ]
  },
  {
   "cell_type": "code",
   "execution_count": 18,
   "id": "first-honduras",
   "metadata": {},
   "outputs": [],
   "source": [
    "import random\n",
    "\n",
    "def get_image_path(img_num):\n",
    "    path_prefix = 'data/ILSVRC/Data/DET/test/'\n",
    "    filename_stem ='ILSVRC2017_test_0000'\n",
    "    filename_suffix = '.JPEG'\n",
    "    #file_number = rand_num = np.random.randint(1, 5500)   \n",
    "    IMAGE_PATH_ = path_prefix + filename_stem + get_num_str( img_num ) + filename_suffix\n",
    "    return IMAGE_PATH_\n",
    "    \n",
    "def preprocess_image( IMAGE_PATH_ ):\n",
    "    img_ =tf.keras.preprocessing.image.load_img(IMAGE_PATH_, target_size=(299, 299))\n",
    "    img_ =tf.keras.preprocessing.image.img_to_array(img_)\n",
    "    # prepare to show and save image\n",
    "    ax = plt.axes([0,0,1,1], frameon=False)\n",
    "    ax.get_xaxis().set_visible(False)\n",
    "    ax.get_yaxis().set_visible(False)\n",
    "    plt.autoscale(tight=True)\n",
    "    ax.axes.xaxis.set_visible(False)\n",
    "    ax.axes.yaxis.set_visible(False)\n",
    "    plt.imshow(img_/255.)\n",
    "    plt.savefig('data/temp.png',bbox_inches='tight')\n",
    "    return img_ # It seems futile to return this image\n",
    "\n",
    "def process_and_classify_image( img_, model_):\n",
    "    img_ = tf.keras.applications.xception.preprocess_input(img_)\n",
    "    #print( 'img.shape: ', img_.shape )\n",
    "    prediction_array = model_.predict(np.array([img_]))\n",
    "    return prediction_array\n",
    "\n",
    "def extract_best_prediction(img_label_dict_, prediction_array_ ):\n",
    "    prediction_decoded = decode_predictions(prediction_array_, top=1)\n",
    "    #print( prediction_decoded[0][0][0] )\n",
    "#   best_prediction_str = prediction_decoded[0][0][1]\n",
    "    best_prediction_str = img_label_dict_[ prediction_decoded[0][0][0] ]\n",
    "    #print(best_prediction_str)\n",
    "    return best_prediction_str\n",
    "#    \n",
    "\n",
    "    "
   ]
  },
  {
   "cell_type": "code",
   "execution_count": 19,
   "id": "injured-coast",
   "metadata": {},
   "outputs": [],
   "source": [
    "#!pwd"
   ]
  },
  {
   "cell_type": "code",
   "execution_count": 20,
   "id": "iraqi-cleaners",
   "metadata": {},
   "outputs": [],
   "source": [
    "import pickle\n",
    "import streamlit\n",
    "\n",
    "#@st.cache\n",
    "def image_recognition_pipeline( model_,  img_label_dict_, img_num = np.random.randint(1, 5500)):\n",
    "    #model_ = prepare_image_classification_model()\n",
    "    IMAGE_PATH = get_image_path( img_num )\n",
    "    img = preprocess_image( IMAGE_PATH )\n",
    "    prediction_array = process_and_classify_image( img, model_)\n",
    "    # image_topic_ = extract_best_prediction( img_label_dict_, prediction_array )\n",
    "    # image_topics_ = [image_topic_]\n",
    "    image_topics_  = extract_best_prediction( img_label_dict_, prediction_array )\n",
    "    with open(\"data/\" + \"image_topics.pickle\", 'wb') as to_write:\n",
    "        pickle.dump([image_topics_], to_write)\n",
    "      \n",
    "    return  img, [image_topics_]\n",
    "\n",
    "#image_recognition_pipeline(model, img_label_dict )\n",
    "\n",
    "#model = prepare_image_classification_model()\n",
    "#img, image_topics = image_recognition_pipeline(model, img_label_dict )\n",
    "# image_topics"
   ]
  },
  {
   "cell_type": "code",
   "execution_count": null,
   "id": "consecutive-lemon",
   "metadata": {},
   "outputs": [],
   "source": []
  },
  {
   "cell_type": "markdown",
   "id": "appropriate-thought",
   "metadata": {},
   "source": [
    "## 2 — Generate semantic word families\n",
    "\n",
    "For each label, use Word2Vec `similar` to retrieve list of words semantically related to the image object labels"
   ]
  },
  {
   "cell_type": "code",
   "execution_count": 21,
   "id": "awful-recipe",
   "metadata": {},
   "outputs": [],
   "source": [
    "from nltk.corpus import wordnet\n",
    "\n",
    "def get_synonyms( w ):\n",
    "   # L = [l.name() if '_' not in l.name() else l.name().split('_') for l in wordnet.synsets( w )[0].lemmas()]  # There may be other synonyms in the synset\n",
    "   # print(L)\n",
    "    #flattened_list = [w if type()]\n",
    "    #return L #flattened_list\n",
    "    syn_list = []\n",
    "    try:\n",
    "        syn_list = [word.split('.')[0] for object_name in \\\n",
    "                                    [syn.name().split('_') for syn in wordnet.synsets( w )[0].hypernyms() ] \\\n",
    "                                    for word in object_name if (('_' not in w) or (word.split('.')[0] != w.split('_')[-1]))]\n",
    "    except:\n",
    "        pass\n",
    "            \n",
    "#    L_set = set(L)\n",
    "#    syn_list_set = set(syn_list)\n",
    "#    unn = ( L_set | syn_list )                  \n",
    "#    syn_list = list(  set(syn_list) | set(L) )    \n",
    "#              list(  set(lst1)     | set(lst2)   )\n",
    "    #syn_list.extend([word.split('.')[0] for object_name in [syn.name().split('_') for syn in wordnet.synsets( w )[0].lemmas() ] for word in object_name])\n",
    "    #syn_list=[word for object_name in [syn.name().split('_') for syn in wordnet.synsets( w )[0].hypernyms()[0].hyponyms() ] for word in object_name]\n",
    "    #syn_list.extend([word for object_name in [syn.name().split('_') for syn in wordnet.synsets( w )[0].root_hypernyms()] for word in object_name])\n",
    " \n",
    "    return syn_list\n",
    "\n"
   ]
  },
  {
   "cell_type": "code",
   "execution_count": null,
   "id": "south-corporation",
   "metadata": {},
   "outputs": [],
   "source": []
  },
  {
   "cell_type": "code",
   "execution_count": 22,
   "id": "involved-sister",
   "metadata": {},
   "outputs": [],
   "source": [
    "#'bird.n.01'.split('.')[0]"
   ]
  },
  {
   "cell_type": "markdown",
   "id": "meaningful-fraction",
   "metadata": {},
   "source": [
    "## 3 — Generate all related words\n",
    "\n",
    "For each semantically related (below a distance threshold) word to each object label, measure its phonetic similarity to all words in the dictionary. Also store each words's distance.\n",
    "\n",
    "For each word in each semantic family, sort and choose the phonetically closest (below a distance threshold) words.\n",
    "(One way is to convert the word to IPA and compare to an IPA converted version of every word in the CMU dictionary.)"
   ]
  },
  {
   "cell_type": "code",
   "execution_count": 23,
   "id": "royal-platinum",
   "metadata": {},
   "outputs": [],
   "source": [
    "from nltk.corpus import words\n",
    "\n",
    "words_set = set( words.words())"
   ]
  },
  {
   "cell_type": "code",
   "execution_count": 24,
   "id": "traditional-detector",
   "metadata": {},
   "outputs": [],
   "source": [
    "import eng_to_ipa as ipa\n",
    "import pronouncing as pron\n",
    "import syllables\n",
    "\n",
    "def syllable_count_diff( w1, w2, syllable_count_dict_ ): \n",
    "    if w2 not in syllable_count_dict_.keys():\n",
    "        try:\n",
    "            syllable_count_dict_[w2] = syllables.estimate(w2)\n",
    "        except:\n",
    "            try:\n",
    "                syllable_count_dict_[w2] = ipa.syllable_count(w2)\n",
    "            except:\n",
    "                try:\n",
    "                    syllable_count_dict_[w2] = pron.syllablle_count(pron.get_phones_for_word( w2 )[0])\n",
    "                except:\n",
    "                    return 0\n",
    "    if w1 not in syllable_count_dict_.keys():\n",
    "        try:\n",
    "            syllable_count_dict_[w1] = syllables.estimate(w1)\n",
    "        except:\n",
    "            try:\n",
    "                syllable_count_dict_[w1] = ipa.syllable_count(w1)\n",
    "            except:\n",
    "                try:\n",
    "                    syllable_count_dict_[w1] = pron.syllablle_count(pron.get_phones_for_word( w1 )[0])\n",
    "                except:\n",
    "                    return 0   \n",
    "\n",
    "    return abs( syllable_count_dict_[ w1 ] - syllable_count_dict_[ w2 ])\n",
    "    #return pron.syllable\n",
    "\n",
    "def same_syllable_count( w1, w2, syllable_count_dict_  ):\n",
    "    return syllable_count_diff(w1, w2, syllable_count_dict_ ) == 0\n",
    "\n",
    "def close_syllable_count( w1, w2, syllable_count_dict_, threshold=2):\n",
    "    return syllable_count_diff( w1, w2, syllable_count_dict_ ) <= threshold"
   ]
  },
  {
   "cell_type": "code",
   "execution_count": 25,
   "id": "encouraging-jacob",
   "metadata": {},
   "outputs": [],
   "source": [
    "#pron.syllable_count(pron.phones_for_word(\"delinquent\")[0])"
   ]
  },
  {
   "cell_type": "code",
   "execution_count": 26,
   "id": "angry-movement",
   "metadata": {},
   "outputs": [],
   "source": [
    "# Eventually will need to to filter for the word-frequency sweet-spot or at least for only Engllish words\n",
    "# Possibly rewrite with a decororater so that it uses memoization to speed this up\n",
    "\n",
    "# Rewrite this so it vectorizes the subtraction of the syllable counts\n",
    "\n",
    "def get_sized_rhymes( w, syllable_count_dict_ ):\n",
    "    word_length_min = 2\n",
    "    rhyme_list = pron.rhymes( w )\n",
    "    #print(rhyme_list)\n",
    "    #rhyme_list = ipa.get_rhymes( w )\n",
    "    return [ [rhyme for rhyme  in rhyme_list if close_syllable_count( w, rhyme, syllable_count_dict_, 1) and len(rhyme) >= word_length_min ]]\n",
    "    #return [ [rhyme for rhyme  in rhyme_list if close_syllable_count( w, rhyme, syllable_count_dict_, 1) and len(rhyme) >= word_length_min and rhyme in words_set]]\n",
    "    #return [ [rhyme for rhyme  in rhyme_list if len(rhyme) >= word_length_min and rhyme in words_set]]\n",
    " "
   ]
  },
  {
   "cell_type": "code",
   "execution_count": 27,
   "id": "controversial-geneva",
   "metadata": {},
   "outputs": [],
   "source": [
    "# pron.rhymes('studio')\n",
    "# syllable_count_dict_ = dict({'studio': 3})\n",
    "# get_sized_rhymes('studio', syllable_count_dict_ )\n",
    "#syllable_count_dict_['studio'] = 3"
   ]
  },
  {
   "cell_type": "code",
   "execution_count": 28,
   "id": "promising-aviation",
   "metadata": {},
   "outputs": [],
   "source": [
    "import fuzzy\n",
    "import phonetics\n",
    "import Levenshtein as lev\n",
    "\n",
    "#soundex = fuzzy.Soundex(4)\n",
    "dmeta = fuzzy.DMetaphone()"
   ]
  },
  {
   "cell_type": "code",
   "execution_count": 29,
   "id": "noble-filling",
   "metadata": {},
   "outputs": [],
   "source": [
    "import eng_to_ipa as ipa\n",
    "\n",
    "\n",
    "def syllable_penalty(w1, w2, syllable_count_dict_, penalty_factor = 0.2):\n",
    "\n",
    "    return syllable_count_diff( w1, w2, syllable_count_dict_ ) * penalty_factor"
   ]
  },
  {
   "cell_type": "code",
   "execution_count": 30,
   "id": "fixed-rover",
   "metadata": {},
   "outputs": [],
   "source": [
    "def first_letter_discount(w1, w2, discount_value = .4):\n",
    "    return discount_value if w1[0] == w2[0] else 0\n",
    "\n",
    "def last_letter_discount(w1, w2, discount_value = .25):\n",
    "    return discount_value if w1[-1] == w2[-1] else 0"
   ]
  },
  {
   "cell_type": "code",
   "execution_count": 31,
   "id": "fluid-conspiracy",
   "metadata": {},
   "outputs": [],
   "source": [
    "def phonetic_distance(w1, w2, fuzzy_meta_dict_, fuzzy_nysiis_dict_):\n",
    "#     print('fuzzy soundex', lev.distance( soundex(w1), soundex(w2)) )\n",
    "#     print('fuzzy dmeta  ', lev.distance( dmeta(w1)[0], dmeta(w2)[0]) )\n",
    "#     print('phon dmet    ', lev.distance( phonetics.dmetaphone(w1)[0], phonetics.dmetaphone(w2)[0]) )\n",
    "#     print('phon met     ', lev.distance( phonetics.metaphone(w1), phonetics.metaphone(w2)) )\n",
    "#     print('fuzzy nysiis ', lev.distance( fuzzy.nysiis(w1), fuzzy.nysiis(w2)) )\n",
    "#     print('phon nysiis  ', lev.distance( phonetics.nysiis(w1), phonetics.nysiis(w2)) )\n",
    "#     soundex_dist = lev.distance( soundex(w1), soundex(w2))\n",
    "    num_of_measures = 1\n",
    "    sum_of_measures = 0\n",
    "    if w2 not in words_set:\n",
    "        fuzzy_nysiis_dict_[w2] = fuzzy.nysiis(w2)\n",
    "        fuzzy_meta_dict_[w2] = dmeta(w2)[0]\n",
    "        \n",
    "    nysiis_dist = lev.distance( fuzzy_nysiis_dict_[w1],fuzzy_nysiis_dict_[w2])\n",
    "    num_of_measures +=1\n",
    "    sum_of_measures+= nysiis_dist\n",
    "    try:\n",
    "        dmeta_dist  = lev.distance( fuzzy_meta_dict_[w1],fuzzy_meta_dict_[w2])\n",
    "        num_of_measures +=1\n",
    "        sum_of_measures+= dmeta_dist\n",
    "        #return np.mean( np.array([  dmeta_dist, nysiis_dist, pron_dist]) )\n",
    "    except:\n",
    "        pass\n",
    "    try:\n",
    "        pron_dist = round(lev.distance( pron.phones_for_word(w1)[0], pron.phones_for_word(w2)[0]) /3.5)  \n",
    "        num_of_measures +=1\n",
    "        sum_of_measures+= pron_dist\n",
    "    except:\n",
    "        pass\n",
    "    \n",
    "    distance = sum_of_measures/float(num_of_measures)\n",
    "    if (w1 in w2) or (w2 in w1):\n",
    "        distance -= .2\n",
    "    \n",
    "    return distance \n",
    "    # return np.mean( nysiis_dist, pron_dist )\n",
    "   "
   ]
  },
  {
   "cell_type": "code",
   "execution_count": null,
   "id": "moral-sampling",
   "metadata": {},
   "outputs": [],
   "source": []
  },
  {
   "cell_type": "code",
   "execution_count": null,
   "id": "consolidated-performer",
   "metadata": {},
   "outputs": [],
   "source": []
  },
  {
   "cell_type": "code",
   "execution_count": 32,
   "id": "communist-security",
   "metadata": {},
   "outputs": [],
   "source": [
    "#     with open(\"data/\" + \"fuzzy_meta_dictionary.pickle\", 'rb') as to_read:\n",
    "#         fuzzy_meta_dict =  pickle.load(to_read)\n",
    "#     with open(\"data/\" + \"fuzzy_nysiis_dictionary.pickle\", 'rb') as to_read:\n",
    "#         fuzzy_nysiis_dict =  pickle.load(to_read)\n",
    "#     with open(\"data/\" + \"syllable_count_dictionary.pickle\", 'rb') as to_read:\n",
    "#         syllable_count_dict =  pickle.load(to_read)"
   ]
  },
  {
   "cell_type": "code",
   "execution_count": 33,
   "id": "visible-jason",
   "metadata": {},
   "outputs": [],
   "source": [
    "#'sweatshirt' in words_set"
   ]
  },
  {
   "cell_type": "code",
   "execution_count": 34,
   "id": "parental-flush",
   "metadata": {},
   "outputs": [],
   "source": [
    "#syllable_count_dict['sweatshirt']"
   ]
  },
  {
   "cell_type": "code",
   "execution_count": 133,
   "id": "seven-skating",
   "metadata": {},
   "outputs": [],
   "source": [
    "from random import random\n",
    "\n",
    "def make_phon_fam_for_sem_fam_member( w_record, thresh=3 ):\n",
    "    with open(\"data/\" + \"fuzzy_meta_dictionary.pickle\", 'rb') as to_read:\n",
    "        fuzzy_meta_dict =  pickle.load(to_read)\n",
    "    with open(\"data/\" + \"fuzzy_nysiis_dictionary.pickle\", 'rb') as to_read:\n",
    "        fuzzy_nysiis_dict =  pickle.load(to_read)\n",
    "    with open(\"data/\" + \"syllable_count_dictionary.pickle\", 'rb') as to_read:\n",
    "        syllable_count_dict =  pickle.load(to_read)\n",
    "        \n",
    "    \n",
    "    w_phon_code = w_record.word # To be replaced with phonetic version if needed\n",
    "    close_word_list = []\n",
    "    rhyme_dist = .3\n",
    "    non_rhyme_penalty = rhyme_dist + .3\n",
    "    \n",
    "    # Find words that are not necessarily rhyms but phonetically similar\n",
    "\n",
    "    rhyme_word_list = get_sized_rhymes( w_record.word, syllable_count_dict )[0]\n",
    "    rhyme_bounty = len( rhyme_word_list )\n",
    "    #print('length of rhyme list', rhyme_bounty )    \n",
    "    \n",
    "    \n",
    "    for word in words_set:\n",
    "        phon_dist = phonetic_distance( word, w_record.word, fuzzy_meta_dict, fuzzy_nysiis_dict) \n",
    "        if (phon_dist <= thresh) and (word != w_record.word):\n",
    "            syll_pen = syllable_penalty( word, w_record.word, syllable_count_dict)\n",
    "            last_let_disc = last_letter_discount(word, w_record.word)\n",
    "            first_letter_disc = first_letter_discount(word, w_record.word)\n",
    "            close_word_list.append( Close_word(word.lower(), phon_dist + non_rhyme_penalty + syll_pen - last_let_disc - first_letter_disc ))\n",
    "        #if len( close_word_list ) > 100:\n",
    "        #   break\n",
    "    #print(len( close_word_list))       \n",
    "\n",
    "\n",
    "    \n",
    "    # Find words that are rhymes\n",
    "    for word in rhyme_word_list:\n",
    "            syll_pen = syllable_penalty( word, w_record.word, syllable_count_dict)\n",
    "            last_let_disc = last_letter_discount(word, w_record.word)\n",
    "            close_word_list.append( Close_word(word, rhyme_dist + syll_pen - last_let_disc - first_letter_disc) )\n",
    "            first_letter_disc = first_letter_discount(word, w_record.word)\n",
    "            #logger.info('word in rhyme_list: ', word)\n",
    "            \n",
    "    #print(len( close_word_list))           \n",
    "    #logger.info('returning a phonic family: ')\n",
    "    return Phon_family(locus_word = w_record, close_words=close_word_list )\n",
    "    \n",
    "    "
   ]
  },
  {
   "cell_type": "raw",
   "id": "blocked-filter",
   "metadata": {},
   "source": [
    "#with open(\"data/\" + \"syllable_count_dictionary.pickle\", 'rb') as to_read:\n",
    "#    syllable_count_dict =  pickle.load(to_read)"
   ]
  },
  {
   "cell_type": "raw",
   "id": "governmental-ladder",
   "metadata": {},
   "source": [
    "#get_sized_rhymes('entertainment', syllable_count_dict)"
   ]
  },
  {
   "cell_type": "raw",
   "id": "subtle-charge",
   "metadata": {},
   "source": [
    "#syllable_count_diff('entertainment', 'arraignment', syllable_count_dict)"
   ]
  },
  {
   "cell_type": "raw",
   "id": "pressed-litigation",
   "metadata": {},
   "source": [
    "#pron.syllable_count(pron.phones_for_word('liason')[0])"
   ]
  },
  {
   "cell_type": "raw",
   "id": "welcome-vegetarian",
   "metadata": {},
   "source": [
    "#len(syllable_count_dict)"
   ]
  },
  {
   "cell_type": "raw",
   "id": "unavailable-excerpt",
   "metadata": {},
   "source": [
    "#ipa.get_rhymes('entertainment')\n"
   ]
  },
  {
   "cell_type": "raw",
   "id": "bigger-building",
   "metadata": {},
   "source": [
    "#syllable_count_dict['entertainment']"
   ]
  },
  {
   "cell_type": "raw",
   "id": "nervous-preliminary",
   "metadata": {},
   "source": [
    "#'entertainment' in words_set"
   ]
  },
  {
   "cell_type": "raw",
   "id": "seasonal-sociology",
   "metadata": {},
   "source": [
    "#pron.rhymes('cobra')"
   ]
  },
  {
   "cell_type": "raw",
   "id": "analyzed-numbers",
   "metadata": {},
   "source": [
    "\n",
    "#round(lev.distance( pron.phones_for_word(\"shark\")[0], pron.phones_for_word(\"s8df\")[0]) /3.5)\n",
    "#phon_fam = make_phon_fam_for_sem_fam_member( Close_word('china', .6 ))\n",
    "#phon_fam\n",
    "# for word in words_set:\n",
    "#     try:\n",
    "#         pron.phones_for_word(word)[0]\n",
    "#     except:\n",
    "#         print( word )"
   ]
  },
  {
   "cell_type": "code",
   "execution_count": 36,
   "id": "appointed-spirituality",
   "metadata": {},
   "outputs": [],
   "source": [
    "# To be replaced or enhanced with Word2Vec `most_similar()`\n",
    "def get_most_similar( w ):  \n",
    "    synonym_dist_setting = .5\n",
    "    #list_of_duples = [(syn, synonym_dist_setting) for syn in get_synonyms( w ) if syn !=  w.split('_')[0] else (syn, synonym_dist_setting-.5)]\n",
    "    list_of_duples = [(syn, synonym_dist_setting) for syn in get_synonyms( w ) ]\n",
    "    # Replace the above line with a for loop that takes into account the if w has an underscore, it's first\n",
    "    # item could be in the syn list and be more related than the the 1 penalty suggests\n",
    "    \n",
    "    if(w == 'two'):\n",
    "        additional_words =  [('pair', .95), ('twice', .90)]\n",
    "        list_of_duples.extend( additional_words )\n",
    "    list_of_close_words = [Close_word( word=w_str, distance= w_sim) for w_str, w_sim in list_of_duples ]\n",
    "    #print(\"list of semantically close words: \", list_of_close_words)    \n",
    "    return list_of_close_words"
   ]
  },
  {
   "cell_type": "code",
   "execution_count": 37,
   "id": "dominant-america",
   "metadata": {},
   "outputs": [],
   "source": [
    "\n",
    "#broad = False # True\n",
    "#subtle = True #False\n",
    "\n",
    "\n",
    "def make_phon_fams_and_sem_family( w, nearby_words_dict_  ):\n",
    "\n",
    "    if '_' not in w:\n",
    "        word_record_ = Close_word(w, 0.0)\n",
    "    else:\n",
    "        word_record_ = Close_word(w.split('_')[-1], 0.1)\n",
    "\n",
    "    #phon_fams_word_set = set()\n",
    "    #phon_fams_word_set.add( word_record )\n",
    "\n",
    "    phon_fams_list = []\n",
    "    sem_sim_words = []\n",
    "    if broad or (word_record_.word not in nearby_words_dict_.keys() ):\n",
    "        print('broad code reached')\n",
    "        phon_fams_list.append( make_phon_fam_for_sem_fam_member( word_record_ ) )\n",
    "        sem_sim_words = get_most_similar(  w  )   # Eventually replace with call to Word2Vec\n",
    "    if subtle and (word_record_.word in nearby_words_dict_.keys() ):\n",
    "        print('sublety code reached')\n",
    "\n",
    "        for w in nearby_words_dict_[word_record_.word]:\n",
    "            near_word = Close_word(w, 0.15)\n",
    "            phon_fams_list.append( make_phon_fam_for_sem_fam_member( near_word ) )\n",
    "            #sem_sim_words.extend( get_most_similar(  word_record_.word  ) )\n",
    "    if contrary_crazy and (word_record_.word in word2vec.)\n",
    "            \n",
    "    #phon_fams_word_set = phon_fams_word_set.union( sem_sim_words )\n",
    "\n",
    "    for close_w_record in sem_sim_words:\n",
    "        #print( close_w_record )\n",
    "        if( len(close_w_record.word ) >=2 ):\n",
    "            phon_fams_list.append( make_phon_fam_for_sem_fam_member( close_w_record ) )\n",
    "\n",
    "    #print('phon_fams_list length: ', len(phon_fams_list))\n",
    "\n",
    "    return Sem_family(locus_word= word_record_, sem_fam_words = phon_fams_list)"
   ]
  },
  {
   "cell_type": "code",
   "execution_count": 38,
   "id": "minus-indonesian",
   "metadata": {},
   "outputs": [],
   "source": [
    "#make_phon_fams_and_sem_family( \"china\" )"
   ]
  },
  {
   "cell_type": "code",
   "execution_count": null,
   "id": "understood-compression",
   "metadata": {},
   "outputs": [],
   "source": []
  },
  {
   "cell_type": "markdown",
   "id": "curious-medline",
   "metadata": {},
   "source": [
    "## 4 — Gather candidate phrases\n",
    "\n",
    "For each word in the phonetic family, of each word in the semantic family, of each object label, retrieve phrases containing the word.\n",
    "Add the phrase_Id, as well as the stats on the object centrality, semantic distance, and phonetic distance, to a dataframe.\n",
    "\n",
    "Compute _suitability score_ for each word-phrase match and add this to that column of the dataframe\n",
    "\n",
    "Also, for each word in the semantic family, search the joke list for match and add that these to a joke_match dataframe, to use if there's too low a suitability score using a substitution.\n"
   ]
  },
  {
   "cell_type": "markdown",
   "id": "prime-yemen",
   "metadata": {},
   "source": [
    "## TO CODE NEXT\n",
    "\n",
    "Write code that takes the word `twice` and returns its `semantic_family` which is a list of words \n",
    "('pair', and 'twice' in this case) and returns either (TBD) the list phonetically similar words or \n",
    "the pboneticized version of the word to be compared with the phoneticized variants of words in\n",
    "the phrases\n",
    "\n"
   ]
  },
  {
   "cell_type": "markdown",
   "id": "strategic-ambassador",
   "metadata": {},
   "source": [
    "#### Define dataframe for candidate phrases"
   ]
  },
  {
   "cell_type": "markdown",
   "id": "heavy-thumb",
   "metadata": {},
   "source": [
    "#### Need to write body of function that will convert to phoneticized version of word"
   ]
  },
  {
   "cell_type": "code",
   "execution_count": 39,
   "id": "valid-chorus",
   "metadata": {},
   "outputs": [],
   "source": [
    "def phoneticized( w ):\n",
    "    return w"
   ]
  },
  {
   "cell_type": "markdown",
   "id": "revised-dialogue",
   "metadata": {},
   "source": [
    "### ALERT:  Instead, pre-generate a dictionary of phoneticized versions of the words in the list of idioms. Each phonetic word should map to a list of duples each of which is a phrase id and the corresponding word"
   ]
  },
  {
   "cell_type": "code",
   "execution_count": 40,
   "id": "agreed-strand",
   "metadata": {},
   "outputs": [],
   "source": [
    "# def get_matching_phrases( w, phrase_dict_ ):\n",
    "#     matched_id_list = []\n",
    "#     for phrase_id in phrase_dict_.keys():\n",
    "#         if w in phrase_dict_[phrase_id].phon_list:\n",
    "#             matched_id_list.append(phrase_id)\n",
    "#             #print( phrase_dict_[ phrase_id] )\n",
    "#             return matched_id_list"
   ]
  },
  {
   "cell_type": "code",
   "execution_count": 104,
   "id": "explicit-november",
   "metadata": {},
   "outputs": [],
   "source": [
    "def get_matching_phrases( w, phrase_dict_, word_to_phrase_dict_  ):\n",
    "    try:\n",
    "        return word_to_phrase_dict_[w]    \n",
    "    except:\n",
    "        return None\n",
    "    \n",
    "#     matched_id_list = []\n",
    "#     for phrase_id, phrase in phrase_dict_.items():\n",
    "#          if w in phrase.phon_list:\n",
    "#             matched_id_list.append(phrase_id)\n",
    "#             #print( phrase_dict_[ phrase_id] )\n",
    "#             return matched_id_list"
   ]
  },
  {
   "cell_type": "code",
   "execution_count": 191,
   "id": "stopped-direction",
   "metadata": {},
   "outputs": [],
   "source": [
    "import streamlit as st\n",
    "#  cycles through each phonetic family in the semantic family to get matching phrases\n",
    "#@st.cache(suppress_st_warning=True)\n",
    "#@st.cache\n",
    "def get_phrases_for_phon_fam( phon_fam_, phrase_dict_, word_to_phrase_dict_, bar_ ):\n",
    "    #bar = st.progress(0)\n",
    "    word_match_records_ = []\n",
    "    outer_count = 0\n",
    "\n",
    "    max=len(phrase_dict_)\n",
    "    #st.write(max)\n",
    "    #status_text = \"Exploring potential captions\"\n",
    "    count = 0\n",
    "    for word in phon_fam_.close_words:\n",
    "        # TIMEING THIS CODE\n",
    "        #start = time.time()\n",
    "        matched_phrases = get_matching_phrases( word.word, phrase_dict_, word_to_phrase_dict_ )\n",
    "        if matched_phrases:\n",
    "            for p_id in matched_phrases:\n",
    "                word_match_records_.append({'semantic_match': phon_fam_.locus_word.word, 'sem_dist': phon_fam_.locus_word.distance, 'phonetic_match': word.word, 'phon_dist': word.distance, 'phrase_id': p_id, 'dist_score': ''})\n",
    "        #end = time.time()\n",
    "        #st.write(\"Time consumed in working on : \", word,  end - start)\n",
    "        #print(\"Time consumed in working : \", word,   end - start) \n",
    "        # END THE TIMING HERE\n",
    "        count+=1\n",
    "        #bar.progress( min(100, int( 100 * 15 * float(count)/max)) )\n",
    "        bar_.progress( min( 100, int(2.5 * count/max) ))\n",
    "        outer_count+=1\n",
    "        #more_mult = int(outer_count/30000)\n",
    "        #status_text = \"Exploring more \" + 'and more '* (more_mult - 1)+ \"potential captions\"\n",
    "\n",
    "\n",
    "    #st.write(status_text )\n",
    "    #my_placeholder.text('Replaced!')\n",
    "\n",
    "    #del bar\n",
    "    #bar = st.empty()\n",
    "    #st.write(status_text )\n",
    "    #print(\"phon fam's number of word_match_records:\", len(word_match_records_ ))\n",
    "    return word_match_records_, bar\n"
   ]
  },
  {
   "cell_type": "code",
   "execution_count": 240,
   "id": "controlling-plaza",
   "metadata": {},
   "outputs": [],
   "source": [
    "# global variable\n",
    "#progress_text = \"Exploring\"\n",
    "\n",
    "def get_phrases_for_sem_fam( sem_fam_, phrase_dict_, word_to_phrase_dict_,  bar_  ):\n",
    "    word_match_records_ = []\n",
    "\n",
    "    global progress_text\n",
    "       \n",
    "    for phon_fam_ in sem_fam_.sem_fam_words:\n",
    "        status_text.text( progress_text + ' captioning possibilities')\n",
    "        #print( phon_fam_.locus_word.distance )\n",
    "        #word_match_records_.extend( get_phrases_for_phon_fam( phon_fam_, sem_fam_.locus_word.distance ) )\n",
    "        #phrases_ =      get_phrases_for_phon_fam( phon_fam_, phrase_dict_, word_to_phrase_dict_ ) \n",
    "        phrases_, bar = get_phrases_for_phon_fam( phon_fam_, phrase_dict_, word_to_phrase_dict_,  bar_  )\n",
    "        #bar = st.empty()\n",
    "        #phrases_ = get_phrases_for_phon_fam( phon_fam_, phrase_dict_, word_to_phrase_dict_ )\n",
    "        #bar = st.empty()\n",
    "        \n",
    "        if len( phrases_ ) > 0:\n",
    "            #print( phrases_ )\n",
    "            word_match_records_.extend( phrases_ )\n",
    "        #if len(word_match_records_) > 500:\n",
    "        #   break\n",
    "        if ('more' in progress_text):\n",
    "            progress_text = ' '.join([progress_text,'and more'])\n",
    "        else:\n",
    "            progress_text = ' '.join([progress_text,'more'])\n",
    "        \n",
    "        \n",
    "        \n",
    "        \n",
    "        \n",
    "    #print(\"SEM fam's number of word_match_records:\", len(word_match_records_ ))\n",
    "    return word_match_records_"
   ]
  },
  {
   "cell_type": "code",
   "execution_count": 227,
   "id": "arctic-marshall",
   "metadata": {},
   "outputs": [],
   "source": [
    "# word_match_records = []   \n",
    "# word_match_records.extend( get_phrases_for_phon_fam( two_phon_fam ) ) \n",
    "# word_match_records.extend( get_phrases_for_phon_fam( pair_phon_fam ) )\n",
    "# word_match_records.extend( get_phrases_for_phon_fam( twice_phon_fam ) )  \n",
    "# word_match_records"
   ]
  },
  {
   "cell_type": "code",
   "execution_count": 228,
   "id": "mental-aaron",
   "metadata": {},
   "outputs": [],
   "source": [
    "# To be replaced with image recognition algorithms\n",
    "def get_image_topics():\n",
    "    return [image_topic]\n"
   ]
  },
  {
   "cell_type": "code",
   "execution_count": 236,
   "id": "heard-process",
   "metadata": {},
   "outputs": [
    {
     "data": {
      "text/plain": [
       "'striing sss'"
      ]
     },
     "execution_count": 236,
     "metadata": {},
     "output_type": "execute_result"
    }
   ],
   "source": []
  },
  {
   "cell_type": "code",
   "execution_count": 230,
   "id": "heard-flower",
   "metadata": {},
   "outputs": [],
   "source": [
    "# with open(\"data/\" + \"image_topics.pickle\", 'rb') as to_read:\n",
    "#     image_topics_ =  pickle.load(to_read)\n",
    "\n",
    "# with open(\"data/\" + \"phrase_dictionary.pickle\", 'rb') as to_read:\n",
    "#     phrase_dict_ =  pickle.load(to_read)    \n",
    "\n",
    "# col_names = ['semantic_match', 'sem_dist', 'phonetic_match', 'phon_dist', 'phrase_id', 'dist_score']\n",
    "# cand_df_ = pd.DataFrame(columns= col_names)\n"
   ]
  },
  {
   "cell_type": "code",
   "execution_count": 231,
   "id": "supported-vegetable",
   "metadata": {},
   "outputs": [],
   "source": [
    "# image_sem_fam = make_phon_fams_and_sem_family( image_topics_[0] )"
   ]
  },
  {
   "cell_type": "code",
   "execution_count": 232,
   "id": "asian-annual",
   "metadata": {},
   "outputs": [],
   "source": [
    "# cand_df_"
   ]
  },
  {
   "cell_type": "code",
   "execution_count": 233,
   "id": "attractive-settle",
   "metadata": {},
   "outputs": [],
   "source": [
    "# image_sem_fam[1]"
   ]
  },
  {
   "cell_type": "code",
   "execution_count": 113,
   "id": "geographic-white",
   "metadata": {},
   "outputs": [],
   "source": [
    "# get_image_topics()"
   ]
  },
  {
   "cell_type": "markdown",
   "id": "congressional-arkansas",
   "metadata": {},
   "source": [
    "## The equivalent of `main` for the time being, until two or more image topics are handled"
   ]
  },
  {
   "cell_type": "code",
   "execution_count": 114,
   "id": "extreme-better",
   "metadata": {},
   "outputs": [],
   "source": [
    "import time"
   ]
  },
  {
   "cell_type": "code",
   "execution_count": 115,
   "id": "micro-nicholas",
   "metadata": {},
   "outputs": [],
   "source": [
    "#image_topics_\n",
    "import streamlit as st"
   ]
  },
  {
   "cell_type": "code",
   "execution_count": 189,
   "id": "bacterial-secondary",
   "metadata": {},
   "outputs": [],
   "source": [
    "\n",
    "\n",
    "##### SOMEHWERE IN HERE IS THE BOTTLENECK\n",
    "def generate_the_captions( bar_ ):\n",
    "    with open(\"data/\" + \"image_topics.pickle\", 'rb') as to_read:\n",
    "        image_topics_ =  pickle.load(to_read)\n",
    "        \n",
    "    with open(\"data/\" + \"phrase_dictionary.pickle\", 'rb') as to_read:\n",
    "        phrase_dict_ =  pickle.load(to_read)    \n",
    "\n",
    "    with open(\"data/\" + 'word_to_phrase_dict.pickle', 'rb') as to_read:  \n",
    "        word_to_phrase_dict_  =  pickle.load(to_read)       \n",
    "\n",
    "    with open(\"data/\" + 'nearby_words_dict.pickle', 'rb') as to_read:  \n",
    "        nearby_words_dict_  =  pickle.load(to_read)          \n",
    "      \n",
    "        \n",
    "    col_names = ['semantic_match', 'sem_dist', 'phonetic_match', 'phon_dist', 'phrase_id', 'dist_score']\n",
    "    cand_df_ = pd.DataFrame(columns= col_names)\n",
    "\n",
    "    image_topic_word_ = image_topics_[0]\n",
    "#   image_topic_word_ = image_topics_\n",
    "    image_sem_fam = make_phon_fams_and_sem_family( image_topic_word_, nearby_words_dict_ )\n",
    "\n",
    "    #progress_text = 'changed'\n",
    "    #t.markdown( progress_text )\n",
    "    #t.markdown( 'new')\n",
    "    #status_text.text('Status text')\n",
    "    \n",
    "    #start = time.time()\n",
    "    word_match_records = get_phrases_for_sem_fam( image_sem_fam, phrase_dict_, word_to_phrase_dict_, bar_ )\n",
    "    #end = time.time()\n",
    "    #st.write(\"Time consumed in working: \",end - start)\n",
    "    #print(\"Time consumed in working: \",end - start)\n",
    "        \n",
    "    cand_df_ = cand_df_.append(word_match_records)\n",
    "    return cand_df_, image_topic_word_, phrase_dict_\n",
    "    #return\n",
    "\n",
    "#generate_the_captions( )\n",
    "#cand_df_, image_topic_word_, phrase_dict_= generate_the_captions( )"
   ]
  },
  {
   "cell_type": "code",
   "execution_count": null,
   "id": "engaging-elder",
   "metadata": {},
   "outputs": [],
   "source": []
  },
  {
   "cell_type": "code",
   "execution_count": 117,
   "id": "joined-translator",
   "metadata": {},
   "outputs": [],
   "source": [
    "#phrase_dict_"
   ]
  },
  {
   "cell_type": "code",
   "execution_count": 118,
   "id": "completed-campaign",
   "metadata": {},
   "outputs": [],
   "source": [
    "#cand_df_"
   ]
  },
  {
   "cell_type": "code",
   "execution_count": 119,
   "id": "adjusted-berlin",
   "metadata": {},
   "outputs": [],
   "source": [
    "def compute_candidate_caption_scores(cand_df_):\n",
    "    cand_df_['dist_score'] = cand_df_.apply(lambda row: (float(row['sem_dist']) + row['phon_dist']/len(row['semantic_match'])), axis=1)\n",
    "    return cand_df_"
   ]
  },
  {
   "cell_type": "markdown",
   "id": "accepted-lightning",
   "metadata": {},
   "source": [
    "## 5 —  Choose captions\n",
    "\n",
    "Sort captions dataframe by the _suitability score_\n",
    "\n",
    "Choose the top 10(?) and generate a list containing each caption with the original semantic family word substituted into the idiom in addition to jokes containing any of the semantic family words"
   ]
  },
  {
   "cell_type": "code",
   "execution_count": 120,
   "id": "casual-poster",
   "metadata": {},
   "outputs": [],
   "source": [
    "def construct_caption_by_substitution(row_, phon_match, sem_match, phrase_dict_ ):\n",
    "    #print (phrase_dict_[ row_['phrase_id'] ])\n",
    "    original_phrase = phrase_dict_[ row_['phrase_id'] ].text_string\n",
    "    altered_phrase = original_phrase.replace(phon_match, sem_match).replace('_', ' ')\n",
    "    return altered_phrase\n"
   ]
  },
  {
   "cell_type": "code",
   "execution_count": 121,
   "id": "studied-margin",
   "metadata": {},
   "outputs": [],
   "source": [
    "\n",
    "def get_best_captions(df, phrase_dict_, selection_size=25):\n",
    "    df.sort_values(by='dist_score', inplace=True)\n",
    "    best_df = df.head(selection_size)\n",
    "    best_df['caption'] = best_df.apply(lambda row: construct_caption_by_substitution(row, row['phonetic_match'],  row['semantic_match'], phrase_dict_, ), axis=1 )        # Is it not to pass a dictionary to a function?\n",
    "    return best_df"
   ]
  },
  {
   "cell_type": "code",
   "execution_count": 122,
   "id": "german-appearance",
   "metadata": {},
   "outputs": [],
   "source": [
    "def process_best_captions_df_and_make_list(cand_df, phrase_dict):\n",
    "    best_captions_df = get_best_captions(cand_df, phrase_dict)\n",
    "    #best_captions_df\n",
    "    best_captions_list = best_captions_df['caption'].tolist()\n",
    "    #best_captions_list = [caption.capitalize() for caption in best_captions_df['caption'].to_list()]\n",
    "    return best_captions_df, best_captions_list"
   ]
  },
  {
   "cell_type": "code",
   "execution_count": null,
   "id": "premium-blank",
   "metadata": {},
   "outputs": [],
   "source": []
  },
  {
   "cell_type": "code",
   "execution_count": 123,
   "id": "traditional-satisfaction",
   "metadata": {},
   "outputs": [],
   "source": [
    "def get_display_df(best_captions_df_):\n",
    "    best_captions_display_df = best_captions_df_[['caption', 'dist_score', 'semantic_match', 'sem_dist', 'phonetic_match', 'phon_dist']]\n",
    "    best_captions_display_df['caption'] =best_captions_display_df['caption'].apply(lambda x: x.capitalize())\n",
    "    best_captions_display_df.set_index('caption', inplace=True)\n",
    "    return best_captions_display_df"
   ]
  },
  {
   "cell_type": "code",
   "execution_count": 124,
   "id": "japanese-heating",
   "metadata": {},
   "outputs": [],
   "source": [
    "import matplotlib.image as mpimg\n",
    "img = mpimg.imread('data/temp.png')"
   ]
  },
  {
   "cell_type": "code",
   "execution_count": 125,
   "id": "french-tuner",
   "metadata": {},
   "outputs": [],
   "source": [
    "# ax = plt.axes([0,0,1,1], frameon=False)\n",
    "# ax.get_xaxis().set_visible(False)\n",
    "# ax.get_yaxis().set_visible(False)\n",
    "# plt.autoscale(tight=True)\n",
    "# ax.axes.xaxis.set_visible(False)\n",
    "# ax.axes.yaxis.set_visible(False)\n",
    "#plt.imshow(recognized_image/255.)\n",
    "#plt.imshow(global_var_img/255.)\n",
    "#plt.imshow(img)\n"
   ]
  },
  {
   "cell_type": "code",
   "execution_count": null,
   "id": "facial-bracelet",
   "metadata": {},
   "outputs": [],
   "source": []
  },
  {
   "cell_type": "code",
   "execution_count": null,
   "id": "australian-nickel",
   "metadata": {},
   "outputs": [],
   "source": []
  },
  {
   "cell_type": "code",
   "execution_count": 126,
   "id": "measured-charity",
   "metadata": {},
   "outputs": [],
   "source": [
    "def make_image_with_caption( image, caption):\n",
    "    ax = plt.subplot(1, 1, 1)\n",
    "    plt.axis('off')\n",
    "    plt.text( 0.5, -0.1, caption.capitalize(), \\\n",
    "    horizontalalignment='center', verticalalignment='center', \\\n",
    "    transform=ax.transAxes, fontsize=15)\n",
    "    plt.imshow( image)\n",
    "\n",
    "    plt.tight_layout()\n",
    "    plt.savefig('data/image_with_caption.png')\n",
    "    plt.show()\n"
   ]
  },
  {
   "cell_type": "code",
   "execution_count": 127,
   "id": "acquired-vegetation",
   "metadata": {},
   "outputs": [],
   "source": [
    "# THIS BLOCK WILL EVENTUALLY BE OMMITTED FROM THE APP CODE\n",
    "def build_phrase_dictionary(idiom_list_, phrase_dict_):\n",
    "\n",
    "    for idiom_str in idiom_list_:\n",
    "        w_list = idiom_str.lower().split()\n",
    "        phrase_dict_[uuid.uuid1()] = Phrase(text_string = idiom_str, word_list = w_list, phon_list = w_list, string_length = len(idiom_str), word_count = len(w_list), prefix=\"Yeah, right, like  \", phrase_type='idiom' )\n",
    "\n",
    "           \n",
    "    with open(\"data/\" + \"phrase_dictionary.pickle\", 'wb') as to_write:\n",
    "        pickle.dump(phrase_dict_, to_write)     \n",
    "\n",
    "        \n",
    "    # Make backwards dictionary: word_to_phrase    \n",
    "    phrase_words_set = set()\n",
    "    \n",
    "    for k, v in phrase_dict_.items():\n",
    "        phrase_words_set = phrase_words_set.union( set(v.word_list) ) \n",
    "\n",
    "    word_to_phrase_dict = dict()\n",
    "\n",
    "    for word in phrase_words_set:\n",
    "        phrase_id_list = []\n",
    "        for k, v in phrase_dict_.items():\n",
    "            if word in v.word_list:\n",
    "                phrase_id_list.append( k )\n",
    "            word_to_phrase_dict[word] = phrase_id_list       \n",
    "\n",
    "    with open(\"data/\" + \"word_to_phrase_dict.pickle\", 'wb') as to_write:\n",
    "        pickle.dump(word_to_phrase_dict, to_write)     \n",
    "\n",
    "   \n",
    "        \n"
   ]
  },
  {
   "cell_type": "code",
   "execution_count": null,
   "id": "theoretical-volleyball",
   "metadata": {},
   "outputs": [],
   "source": []
  },
  {
   "cell_type": "code",
   "execution_count": 65,
   "id": "blocked-richardson",
   "metadata": {},
   "outputs": [],
   "source": [
    "# THIS BLOCK WILL EVENTUALLY BE OMMITTED FROM THE APP CODE\n",
    "# @st.cache\n",
    "def setup():\n",
    "    phrase_dict = dict()\n",
    "    seed_the_phrase_dictionary_with_examples( phrase_dict )\n",
    "\n",
    "    idiom_list_ = compile_idiom_lists()\n",
    "    \n",
    "    build_phrase_dictionary(idiom_list_, phrase_dict )\n",
    "    \n",
    "#setup()"
   ]
  },
  {
   "cell_type": "code",
   "execution_count": 66,
   "id": "nuclear-renaissance",
   "metadata": {},
   "outputs": [],
   "source": [
    "#def process_captioning_the_image( ):\n",
    "\n",
    "#def process_captioning_the_image_part0( ):\n",
    "\n",
    "#def process_captioning_the_image_part1( ):\n",
    "def process_captioning_the_image_part1( cand_df_, image_topic_word_, phrase_dict_ ):\n",
    "    \n",
    "    #cand_df_, image_topic_word_, phrase_dict_ = generate_the_captions()\n",
    "\n",
    "    cand_df_ = compute_candidate_caption_scores(cand_df_)\n",
    "\n",
    "    best_captions_df_ = get_best_captions(cand_df_, phrase_dict_)\n",
    "\n",
    "    return cand_df_, best_captions_df_, phrase_dict_\n",
    "    \n",
    "def process_captioning_the_image_part2( cand_df_, best_captions_, phrase_dict_ ):   \n",
    "    \n",
    "    best_captions_df_, best_captions_list_ = process_best_captions_df_and_make_list(cand_df_, phrase_dict_)\n",
    "\n",
    "    img_ = mpimg.imread('data/temp.png')\n",
    "\n",
    "    return img_, best_captions_list_, best_captions_df_\n",
    "\n",
    "def process_captioning_the_image_part3( img_, best_captions_list_, best_captions_df_):\n",
    "    #random_choice = random.randint(0, 5)\n",
    "    \n",
    "\n",
    "    \n",
    "    cream_of_captions_df = best_captions_df_[best_captions_df_['dist_score'] == best_captions_df_['dist_score'].min()].sample(1)\n",
    "    \n",
    "    make_image_with_caption( img_, cream_of_captions_df['caption'].to_list()[0])\n",
    "\n",
    "    display_df_ = get_display_df( best_captions_df_ )\n",
    "\n",
    "    return display_df_\n",
    "\n",
    "#process_captioning_the_image( )"
   ]
  },
  {
   "cell_type": "code",
   "execution_count": null,
   "id": "hispanic-duncan",
   "metadata": {},
   "outputs": [],
   "source": []
  },
  {
   "cell_type": "code",
   "execution_count": 67,
   "id": "surprising-military",
   "metadata": {},
   "outputs": [],
   "source": [
    "#type(display_df.index.tolist())"
   ]
  },
  {
   "cell_type": "code",
   "execution_count": 68,
   "id": "regular-entrance",
   "metadata": {},
   "outputs": [],
   "source": [
    "#make_image_with_caption( img, display_df.index[0] )"
   ]
  },
  {
   "cell_type": "code",
   "execution_count": 69,
   "id": "associate-metropolitan",
   "metadata": {},
   "outputs": [],
   "source": [
    "# cand_df_, image_topic_word_, phrase_dict_ = generate_the_captions()\n",
    "\n",
    "\n",
    "# cand_df_ = compute_candidate_caption_scores(cand_df_)\n",
    "\n",
    "# best_captions_df = get_best_captions(cand_df_, phrase_dict_)\n",
    "\n",
    "# best_captions_df, best_captions_list = process_best_captions_df_and_make_list(cand_df_, phrase_dict_)\n",
    "\n",
    "# img = mpimg.imread('data/temp.png')\n",
    "\n",
    "# make_image_with_caption( img, best_captions_list[0])\n",
    "\n",
    "# display_df_ = get_display_df( best_captions_df )\n",
    "\n",
    "# display_df"
   ]
  },
  {
   "cell_type": "code",
   "execution_count": null,
   "id": "rolled-current",
   "metadata": {},
   "outputs": [],
   "source": []
  },
  {
   "cell_type": "code",
   "execution_count": 70,
   "id": "sharp-violin",
   "metadata": {},
   "outputs": [],
   "source": [
    "# cand_df_, image_topic_word_, phrase_dict_ = generate_the_captions()"
   ]
  },
  {
   "cell_type": "code",
   "execution_count": 71,
   "id": "fantastic-month",
   "metadata": {},
   "outputs": [],
   "source": [
    "# cand_df"
   ]
  },
  {
   "cell_type": "code",
   "execution_count": 72,
   "id": "adopted-foundation",
   "metadata": {},
   "outputs": [],
   "source": [
    "def display_image():\n",
    "    img = mpimg.imread('data/image_with_caption.png')\n",
    "    try:\n",
    "        st.image(img, width=800)\n",
    "    except:\n",
    "        pass"
   ]
  },
  {
   "cell_type": "markdown",
   "id": "precise-lexington",
   "metadata": {},
   "source": [
    "### Streamlit code"
   ]
  },
  {
   "cell_type": "raw",
   "id": "comparable-visiting",
   "metadata": {},
   "source": [
    "import streamlit as st\n",
    "st.markdown(\"<h2 style='text-align: center;'>  &nbsp; &nbsp;  &nbsp;  &nbsp;  &nbsp; <B>Experiments in Captioning, <i>Wit</i> a Twist </B></h2>\", unsafe_allow_html=True)\n",
    "st.markdown(\"<h3 style='text-align: center;'> &nbsp; &nbsp; &nbsp; &nbsp; &nbsp; &nbsp; &nbsp; The Amusemater Captioner</h3>\", unsafe_allow_html=True)\n",
    "st.markdown(\"<P>  &nbsp; </P>\", unsafe_allow_html=True)\n",
    "st.write(\n",
    "'''\n",
    " &nbsp;\n",
    "'''\n",
    ")\n",
    "\n",
    "# https://towardsdatascience.com/image-classification-of-uploaded-files-using-streamlits-killer-new-feature-7dd6aa35fe0\n",
    "# ### Excluding Imports ###\n",
    "# st.title(\"Upload + Classification Example\")\n",
    "# uploaded_file = st.file_uploader(\"Choose an image...\", type=\"jpg\")\n",
    "# if uploaded_file is not None:\n",
    "#     image = Image.open(uploaded_file)\n",
    "#     st.image(image, caption='Uploaded Image.', use_column_width=True)\n",
    "#     st.write(\"\")\n",
    "#     st.write(\"Classifying...\")\n",
    "#     label = predict(uploaded_file)\n",
    "#     st.write('%s (%.2f%%)' % (label[1], label[2]*100))\n",
    "# uploaded_file = st.file_uploader(\"text here\", type=\"file_type\")\n",
    "# Using PIL\n",
    "# image = Image.open(uploaded_file)\n",
    "# st.image(image, caption='Uploaded Image.')\n",
    "\n",
    "img_num = st.slider('Slide to select a picture from IMAGENET', 1, 5500)"
   ]
  },
  {
   "cell_type": "markdown",
   "id": "earned-restriction",
   "metadata": {},
   "source": [
    "### non-streamlit code"
   ]
  },
  {
   "cell_type": "code",
   "execution_count": 73,
   "id": "frequent-interface",
   "metadata": {},
   "outputs": [],
   "source": [
    "img_label_dict = get_curated_img_label_dict()\n",
    "img_model = load_image_classification_model()\n",
    "\n",
    "# setup()"
   ]
  },
  {
   "cell_type": "code",
   "execution_count": 74,
   "id": "active-senate",
   "metadata": {},
   "outputs": [
    {
     "data": {
      "image/png": "[encoded data removed]",
      "text/plain": [
       "<Figure size 432x288 with 1 Axes>"
      ]
     },
     "metadata": {
      "needs_background": "light"
     },
     "output_type": "display_data"
    }
   ],
   "source": [
    "import random\n",
    "#img_num=random.randint(1,5500)\n",
    "if img_num is None:\n",
    "    img_num = 2\n",
    "    \n",
    "img, image_topics_list =image_recognition_pipeline(img_model, img_label_dict, img_num )"
   ]
  },
  {
   "cell_type": "code",
   "execution_count": 75,
   "id": "identified-badge",
   "metadata": {},
   "outputs": [],
   "source": [
    "#image_topics_list"
   ]
  },
  {
   "cell_type": "code",
   "execution_count": 156,
   "id": "blind-brook",
   "metadata": {},
   "outputs": [],
   "source": [
    "# def get_progress_text():\n",
    "#     return progress_text"
   ]
  },
  {
   "cell_type": "raw",
   "id": "alleged-prospect",
   "metadata": {},
   "source": [
    "broad = st.checkbox('Brandish this for broad', value=True)\n",
    "subtle = st.checkbox('Click me for subtlety', value=False)\n",
    "\n",
    "\n",
    "#if broad is None:\n",
    "#    broad = True"
   ]
  },
  {
   "cell_type": "code",
   "execution_count": 167,
   "id": "utility-characterization",
   "metadata": {},
   "outputs": [],
   "source": []
  },
  {
   "cell_type": "code",
   "execution_count": 218,
   "id": "matched-egyptian",
   "metadata": {},
   "outputs": [
    {
     "name": "stdout",
     "output_type": "stream",
     "text": [
      "broad code reached\n"
     ]
    },
    {
     "ename": "NameError",
     "evalue": "name 'subtle' is not defined",
     "output_type": "error",
     "traceback": [
      "\u001b[0;31m---------------------------------------------------------------------------\u001b[0m",
      "\u001b[0;31mNameError\u001b[0m                                 Traceback (most recent call last)",
      "\u001b[0;32m<ipython-input-218-85134110e77b>\u001b[0m in \u001b[0;36m<module>\u001b[0;34m\u001b[0m\n\u001b[1;32m      7\u001b[0m \u001b[0;34m\u001b[0m\u001b[0m\n\u001b[1;32m      8\u001b[0m \u001b[0;31m#cand_df, image_topic_word, phrase_dict = generate_the_captions()\u001b[0m\u001b[0;34m\u001b[0m\u001b[0;34m\u001b[0m\u001b[0;34m\u001b[0m\u001b[0m\n\u001b[0;32m----> 9\u001b[0;31m \u001b[0mcand_df\u001b[0m\u001b[0;34m,\u001b[0m \u001b[0mimage_topic_word\u001b[0m\u001b[0;34m,\u001b[0m \u001b[0mphrase_dict\u001b[0m \u001b[0;34m=\u001b[0m \u001b[0mgenerate_the_captions\u001b[0m\u001b[0;34m(\u001b[0m\u001b[0mbar\u001b[0m \u001b[0;34m)\u001b[0m\u001b[0;34m\u001b[0m\u001b[0;34m\u001b[0m\u001b[0m\n\u001b[0m\u001b[1;32m     10\u001b[0m \u001b[0;34m\u001b[0m\u001b[0m\n\u001b[1;32m     11\u001b[0m \u001b[0mstatus_text\u001b[0m\u001b[0;34m.\u001b[0m\u001b[0mtext\u001b[0m\u001b[0;34m(\u001b[0m\u001b[0;34m'Done!'\u001b[0m\u001b[0;34m)\u001b[0m\u001b[0;34m\u001b[0m\u001b[0;34m\u001b[0m\u001b[0m\n",
      "\u001b[0;32m<ipython-input-189-07e4519df30a>\u001b[0m in \u001b[0;36mgenerate_the_captions\u001b[0;34m(bar_)\u001b[0m\n\u001b[1;32m     19\u001b[0m     \u001b[0mimage_topic_word_\u001b[0m \u001b[0;34m=\u001b[0m \u001b[0mimage_topics_\u001b[0m\u001b[0;34m[\u001b[0m\u001b[0;36m0\u001b[0m\u001b[0;34m]\u001b[0m\u001b[0;34m\u001b[0m\u001b[0;34m\u001b[0m\u001b[0m\n\u001b[1;32m     20\u001b[0m \u001b[0;31m#   image_topic_word_ = image_topics_\u001b[0m\u001b[0;34m\u001b[0m\u001b[0;34m\u001b[0m\u001b[0;34m\u001b[0m\u001b[0m\n\u001b[0;32m---> 21\u001b[0;31m     \u001b[0mimage_sem_fam\u001b[0m \u001b[0;34m=\u001b[0m \u001b[0mmake_phon_fams_and_sem_family\u001b[0m\u001b[0;34m(\u001b[0m \u001b[0mimage_topic_word_\u001b[0m\u001b[0;34m,\u001b[0m \u001b[0mnearby_words_dict_\u001b[0m \u001b[0;34m)\u001b[0m\u001b[0;34m\u001b[0m\u001b[0;34m\u001b[0m\u001b[0m\n\u001b[0m\u001b[1;32m     22\u001b[0m \u001b[0;34m\u001b[0m\u001b[0m\n\u001b[1;32m     23\u001b[0m     \u001b[0;31m#progress_text = 'changed'\u001b[0m\u001b[0;34m\u001b[0m\u001b[0;34m\u001b[0m\u001b[0;34m\u001b[0m\u001b[0m\n",
      "\u001b[0;32m<ipython-input-37-34bc13667f79>\u001b[0m in \u001b[0;36mmake_phon_fams_and_sem_family\u001b[0;34m(w, nearby_words_dict_)\u001b[0m\n\u001b[1;32m     19\u001b[0m         \u001b[0mphon_fams_list\u001b[0m\u001b[0;34m.\u001b[0m\u001b[0mappend\u001b[0m\u001b[0;34m(\u001b[0m \u001b[0mmake_phon_fam_for_sem_fam_member\u001b[0m\u001b[0;34m(\u001b[0m \u001b[0mword_record_\u001b[0m \u001b[0;34m)\u001b[0m \u001b[0;34m)\u001b[0m\u001b[0;34m\u001b[0m\u001b[0;34m\u001b[0m\u001b[0m\n\u001b[1;32m     20\u001b[0m         \u001b[0msem_sim_words\u001b[0m \u001b[0;34m=\u001b[0m \u001b[0mget_most_similar\u001b[0m\u001b[0;34m(\u001b[0m  \u001b[0mw\u001b[0m  \u001b[0;34m)\u001b[0m   \u001b[0;31m# Eventually replace with call to Word2Vec\u001b[0m\u001b[0;34m\u001b[0m\u001b[0;34m\u001b[0m\u001b[0m\n\u001b[0;32m---> 21\u001b[0;31m     \u001b[0;32mif\u001b[0m \u001b[0msubtle\u001b[0m \u001b[0;32mand\u001b[0m \u001b[0;34m(\u001b[0m\u001b[0mword_record_\u001b[0m\u001b[0;34m.\u001b[0m\u001b[0mword\u001b[0m \u001b[0;32min\u001b[0m \u001b[0mnearby_words_dict_\u001b[0m\u001b[0;34m.\u001b[0m\u001b[0mkeys\u001b[0m\u001b[0;34m(\u001b[0m\u001b[0;34m)\u001b[0m \u001b[0;34m)\u001b[0m\u001b[0;34m:\u001b[0m\u001b[0;34m\u001b[0m\u001b[0;34m\u001b[0m\u001b[0m\n\u001b[0m\u001b[1;32m     22\u001b[0m         \u001b[0mprint\u001b[0m\u001b[0;34m(\u001b[0m\u001b[0;34m'sublety code reached'\u001b[0m\u001b[0;34m)\u001b[0m\u001b[0;34m\u001b[0m\u001b[0;34m\u001b[0m\u001b[0m\n\u001b[1;32m     23\u001b[0m \u001b[0;34m\u001b[0m\u001b[0m\n",
      "\u001b[0;31mNameError\u001b[0m: name 'subtle' is not defined"
     ]
    }
   ],
   "source": [
    "#display_df = process_captioning_the_image(phrase_dict)\n",
    "#display_df = process_captioning_the_image()\n",
    "\n",
    "bar = st.progress(0)\n",
    "status_text = st.empty()\n",
    "progress_text = \"Exploring\"\n",
    "\n",
    "#cand_df, image_topic_word, phrase_dict = generate_the_captions()\n",
    "cand_df, image_topic_word, phrase_dict = generate_the_captions(bar )\n",
    "\n",
    "status_text.text('Done!')\n",
    "#st.balloons()\n"
   ]
  },
  {
   "cell_type": "code",
   "execution_count": null,
   "id": "perceived-debate",
   "metadata": {},
   "outputs": [],
   "source": [
    "#!ls data"
   ]
  },
  {
   "cell_type": "code",
   "execution_count": 77,
   "id": "molecular-testament",
   "metadata": {},
   "outputs": [],
   "source": [
    "#cand_df"
   ]
  },
  {
   "cell_type": "code",
   "execution_count": 78,
   "id": "twelve-spectrum",
   "metadata": {},
   "outputs": [],
   "source": [
    "# with open(\"data/\" + 'word_to_phrase_dict.pickle', 'rb') as to_read:  \n",
    "#     word_to_phrase_dict  =  pickle.load(to_read)      \n",
    "# word_to_phrase_dict['dispope']"
   ]
  },
  {
   "cell_type": "code",
   "execution_count": 79,
   "id": "affected-anthropology",
   "metadata": {},
   "outputs": [
    {
     "ename": "NameError",
     "evalue": "name 'cand_df' is not defined",
     "output_type": "error",
     "traceback": [
      "\u001b[0;31m---------------------------------------------------------------------------\u001b[0m",
      "\u001b[0;31mNameError\u001b[0m                                 Traceback (most recent call last)",
      "\u001b[0;32m<ipython-input-79-647c9b10818a>\u001b[0m in \u001b[0;36m<module>\u001b[0;34m\u001b[0m\n\u001b[0;32m----> 1\u001b[0;31m \u001b[0mcand_df\u001b[0m\u001b[0;34m,\u001b[0m \u001b[0mbest_captions_df\u001b[0m\u001b[0;34m,\u001b[0m \u001b[0mphrase_dict\u001b[0m \u001b[0;34m=\u001b[0m \u001b[0mprocess_captioning_the_image_part1\u001b[0m\u001b[0;34m(\u001b[0m\u001b[0mcand_df\u001b[0m\u001b[0;34m,\u001b[0m \u001b[0mimage_topic_word\u001b[0m\u001b[0;34m,\u001b[0m \u001b[0mphrase_dict\u001b[0m\u001b[0;34m)\u001b[0m\u001b[0;34m\u001b[0m\u001b[0;34m\u001b[0m\u001b[0m\n\u001b[0m",
      "\u001b[0;31mNameError\u001b[0m: name 'cand_df' is not defined"
     ]
    }
   ],
   "source": [
    "\n",
    "cand_df, best_captions_df, phrase_dict = process_captioning_the_image_part1(cand_df, image_topic_word, phrase_dict)"
   ]
  },
  {
   "cell_type": "code",
   "execution_count": 80,
   "id": "competent-camcorder",
   "metadata": {},
   "outputs": [],
   "source": [
    "#best_captions_df"
   ]
  },
  {
   "cell_type": "code",
   "execution_count": 81,
   "id": "bridal-lightning",
   "metadata": {},
   "outputs": [],
   "source": [
    "#cand_df"
   ]
  },
  {
   "cell_type": "code",
   "execution_count": 82,
   "id": "subjective-space",
   "metadata": {},
   "outputs": [],
   "source": [
    "#phrase_dict['91df2c78-854a-11eb-a9e5-acde48001122']"
   ]
  },
  {
   "cell_type": "code",
   "execution_count": 83,
   "id": "decreased-edmonton",
   "metadata": {},
   "outputs": [],
   "source": [
    "#cand_df[cand_df['semantic_match']=='window']"
   ]
  },
  {
   "cell_type": "code",
   "execution_count": 84,
   "id": "scheduled-consultancy",
   "metadata": {},
   "outputs": [],
   "source": [
    "#best_captions_df"
   ]
  },
  {
   "cell_type": "code",
   "execution_count": 85,
   "id": "artistic-robin",
   "metadata": {},
   "outputs": [
    {
     "ename": "NameError",
     "evalue": "name 'cand_df' is not defined",
     "output_type": "error",
     "traceback": [
      "\u001b[0;31m---------------------------------------------------------------------------\u001b[0m",
      "\u001b[0;31mNameError\u001b[0m                                 Traceback (most recent call last)",
      "\u001b[0;32m<ipython-input-85-9075e5fe566b>\u001b[0m in \u001b[0;36m<module>\u001b[0;34m\u001b[0m\n\u001b[0;32m----> 1\u001b[0;31m \u001b[0mimg\u001b[0m\u001b[0;34m,\u001b[0m \u001b[0mbest_captions_list\u001b[0m\u001b[0;34m,\u001b[0m \u001b[0mbest_captions_df\u001b[0m \u001b[0;34m=\u001b[0m \u001b[0mprocess_captioning_the_image_part2\u001b[0m\u001b[0;34m(\u001b[0m\u001b[0mcand_df\u001b[0m\u001b[0;34m,\u001b[0m \u001b[0mbest_captions_df\u001b[0m\u001b[0;34m,\u001b[0m \u001b[0mphrase_dict\u001b[0m \u001b[0;34m)\u001b[0m\u001b[0;34m\u001b[0m\u001b[0;34m\u001b[0m\u001b[0m\n\u001b[0m",
      "\u001b[0;31mNameError\u001b[0m: name 'cand_df' is not defined"
     ]
    }
   ],
   "source": [
    "img, best_captions_list, best_captions_df = process_captioning_the_image_part2(cand_df, best_captions_df, phrase_dict )"
   ]
  },
  {
   "cell_type": "code",
   "execution_count": 86,
   "id": "plastic-primary",
   "metadata": {},
   "outputs": [],
   "source": [
    "#best_captions_df"
   ]
  },
  {
   "cell_type": "code",
   "execution_count": 87,
   "id": "rental-perry",
   "metadata": {},
   "outputs": [
    {
     "ename": "NameError",
     "evalue": "name 'best_captions_list' is not defined",
     "output_type": "error",
     "traceback": [
      "\u001b[0;31m---------------------------------------------------------------------------\u001b[0m",
      "\u001b[0;31mNameError\u001b[0m                                 Traceback (most recent call last)",
      "\u001b[0;32m<ipython-input-87-fa74ba0b20f0>\u001b[0m in \u001b[0;36m<module>\u001b[0;34m\u001b[0m\n\u001b[0;32m----> 1\u001b[0;31m \u001b[0mdisplay_df\u001b[0m \u001b[0;34m=\u001b[0m \u001b[0mprocess_captioning_the_image_part3\u001b[0m\u001b[0;34m(\u001b[0m \u001b[0mimg\u001b[0m\u001b[0;34m,\u001b[0m \u001b[0mbest_captions_list\u001b[0m\u001b[0;34m,\u001b[0m \u001b[0mbest_captions_df\u001b[0m\u001b[0;34m)\u001b[0m\u001b[0;34m\u001b[0m\u001b[0;34m\u001b[0m\u001b[0m\n\u001b[0m",
      "\u001b[0;31mNameError\u001b[0m: name 'best_captions_list' is not defined"
     ]
    }
   ],
   "source": [
    "    \n",
    "display_df = process_captioning_the_image_part3( img, best_captions_list, best_captions_df)\n"
   ]
  },
  {
   "cell_type": "code",
   "execution_count": 88,
   "id": "defined-ethics",
   "metadata": {},
   "outputs": [],
   "source": [
    "#image_topic_word"
   ]
  },
  {
   "cell_type": "code",
   "execution_count": null,
   "id": "simple-cancellation",
   "metadata": {},
   "outputs": [],
   "source": []
  },
  {
   "cell_type": "code",
   "execution_count": 89,
   "id": "global-hospital",
   "metadata": {},
   "outputs": [
    {
     "name": "stderr",
     "output_type": "stream",
     "text": [
      "2021-03-20 17:59:37.706 WARNING root: \n",
      "  \u001b[33m\u001b[1mWarning:\u001b[0m to view this Streamlit app on a browser, run it with the following\n",
      "  command:\n",
      "\n",
      "    streamlit run /opt/anaconda3/envs/metis/lib/python3.8/site-packages/ipykernel_launcher.py [ARGUMENTS]\n"
     ]
    }
   ],
   "source": [
    "display_image()"
   ]
  },
  {
   "cell_type": "markdown",
   "id": "green-giant",
   "metadata": {},
   "source": [
    "### Streamlit code"
   ]
  },
  {
   "cell_type": "raw",
   "id": "exposed-middle",
   "metadata": {},
   "source": [
    "\n",
    "st.markdown(\"<P>  &nbsp; </P>\", unsafe_allow_html=True)\n",
    "st.markdown(\"<P>  &nbsp; </P>\", unsafe_allow_html=True)\n",
    "\n",
    "\n",
    "show_other_captions = st.checkbox('Show other captions', value=True)\n",
    "if show_other_captions:\n",
    "    st.dataframe(display_df)"
   ]
  },
  {
   "cell_type": "markdown",
   "id": "impressive-boost",
   "metadata": {},
   "source": [
    "### Non-streamlit code"
   ]
  },
  {
   "cell_type": "code",
   "execution_count": 90,
   "id": "generic-wireless",
   "metadata": {},
   "outputs": [],
   "source": [
    "#get_best_captions(cand_df)"
   ]
  },
  {
   "cell_type": "code",
   "execution_count": 91,
   "id": "tribal-timer",
   "metadata": {},
   "outputs": [],
   "source": [
    "#image_topic"
   ]
  },
  {
   "cell_type": "code",
   "execution_count": 92,
   "id": "central-buying",
   "metadata": {},
   "outputs": [],
   "source": [
    "#display_df"
   ]
  },
  {
   "cell_type": "code",
   "execution_count": null,
   "id": "intimate-interference",
   "metadata": {},
   "outputs": [],
   "source": []
  },
  {
   "cell_type": "code",
   "execution_count": 242,
   "id": "thousand-seminar",
   "metadata": {},
   "outputs": [
    {
     "name": "stdout",
     "output_type": "stream",
     "text": [
      "[NbConvertApp] WARNING | Config option `kernel_spec_manager_class` not recognized by `NbConvertApp`.\n",
      "[NbConvertApp] Converting notebook amusemater_captioner_cleaned____.ipynb to script\n",
      "[NbConvertApp] Writing 42063 bytes to amusemater_captioner_cleaned____.py\n"
     ]
    }
   ],
   "source": [
    "!jupyter nbconvert --to script amusemater_captioner_cleaned____.ipynb\n",
    "with open('amusemater_captioner_cleaned____.py', 'r') as f:\n",
    "    lines = f.readlines()\n",
    "with open('amusemater_captioner_cleaned____.py', 'w') as f:\n",
    "    for line in lines:\n",
    "        if 'nbconvert --to script' in line:\n",
    "            break\n",
    "      #  elif ( not( '# In[' in line) and (']:' in line)) and ('\\%matplotlib inline' not in line):\n",
    "        else:\n",
    "            f.write(line)"
   ]
  },
  {
   "cell_type": "code",
   "execution_count": 612,
   "id": "drawn-newspaper",
   "metadata": {},
   "outputs": [],
   "source": [
    "#display_df[display_df['dist_score'] == display_df['dist_score'].min()].sample(1)"
   ]
  },
  {
   "cell_type": "code",
   "execution_count": null,
   "id": "complicated-engineer",
   "metadata": {},
   "outputs": [],
   "source": []
  },
  {
   "cell_type": "code",
   "execution_count": 579,
   "id": "likely-education",
   "metadata": {},
   "outputs": [
    {
     "data": {
      "text/plain": [
       "'dining table'"
      ]
     },
     "execution_count": 579,
     "metadata": {},
     "output_type": "execute_result"
    }
   ],
   "source": [
    "#'dining_table'.replace('_', ' ')"
   ]
  },
  {
   "cell_type": "code",
   "execution_count": null,
   "id": "western-proof",
   "metadata": {},
   "outputs": [],
   "source": []
  }
 ],
 "metadata": {
  "kernelspec": {
   "display_name": "Python [conda env:metis] *",
   "language": "python",
   "name": "conda-env-metis-py"
  },
  "language_info": {
   "codemirror_mode": {
    "name": "ipython",
    "version": 3
   },
   "file_extension": ".py",
   "mimetype": "text/x-python",
   "name": "python",
   "nbconvert_exporter": "python",
   "pygments_lexer": "ipython3",
   "version": "3.8.6"
  }
 },
 "nbformat": 4,
 "nbformat_minor": 5
}
