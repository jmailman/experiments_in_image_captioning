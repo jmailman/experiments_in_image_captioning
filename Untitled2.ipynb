{
 "cells": [
  {
   "cell_type": "code",
   "execution_count": 5,
   "id": "innovative-stranger",
   "metadata": {},
   "outputs": [
    {
     "data": {
      "text/plain": [
       "'T2'"
      ]
     },
     "execution_count": 5,
     "metadata": {},
     "output_type": "execute_result"
    }
   ],
   "source": [
    "import fuzzy\n",
    "soundex = fuzzy.Soundex(4)\n",
    "\n",
    "\n",
    "soundex('tough')\n"
   ]
  },
  {
   "cell_type": "code",
   "execution_count": 6,
   "id": "appreciated-transfer",
   "metadata": {},
   "outputs": [
    {
     "data": {
      "text/plain": [
       "[b'TF', None]"
      ]
     },
     "execution_count": 6,
     "metadata": {},
     "output_type": "execute_result"
    }
   ],
   "source": [
    "\n",
    "dmeta = fuzzy.DMetaphone()\n",
    "dmeta('tough')"
   ]
  },
  {
   "cell_type": "code",
   "execution_count": 7,
   "id": "large-hearing",
   "metadata": {},
   "outputs": [
    {
     "data": {
      "text/plain": [
       "'TAGH'"
      ]
     },
     "execution_count": 7,
     "metadata": {},
     "output_type": "execute_result"
    }
   ],
   "source": [
    "\n",
    "fuzzy.nysiis('tough')\n"
   ]
  },
  {
   "cell_type": "code",
   "execution_count": null,
   "id": "creative-forum",
   "metadata": {},
   "outputs": [],
   "source": []
  }
 ],
 "metadata": {
  "kernelspec": {
   "display_name": "Python [conda env:metis] *",
   "language": "python",
   "name": "conda-env-metis-py"
  },
  "language_info": {
   "codemirror_mode": {
    "name": "ipython",
    "version": 3
   },
   "file_extension": ".py",
   "mimetype": "text/x-python",
   "name": "python",
   "nbconvert_exporter": "python",
   "pygments_lexer": "ipython3",
   "version": "3.8.6"
  }
 },
 "nbformat": 4,
 "nbformat_minor": 5
}
