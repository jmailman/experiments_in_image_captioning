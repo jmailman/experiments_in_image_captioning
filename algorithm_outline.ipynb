{
 "cells": [
  {
   "cell_type": "markdown",
   "id": "coral-future",
   "metadata": {},
   "source": [
    "## 1 — Recognize objects in image (or classify image)\n",
    "\n",
    "Using trained NN, get object label or labels for image, or otherwise provide a label for the image. Also store the centrality of the object. "
   ]
  },
  {
   "cell_type": "markdown",
   "id": "occupied-spare",
   "metadata": {},
   "source": [
    "## 2  — Generate semantic word families\n",
    "\n",
    "For each label, use Word2Vec `similar` to retrieve list of words semantically related to the image object labels"
   ]
  },
  {
   "cell_type": "markdown",
   "id": "sonic-potential",
   "metadata": {},
   "source": [
    "## 3 — Generate all related words\n",
    "\n",
    "For each semantically related (below a distance threshold) word to each object label, measure its phonetic similarity to all words in the dictionary. Also store each words's distance.\n",
    "\n",
    "For each word in each semantic family, sort and choose the phonetically closest (below a distance threshold) words.\n",
    "(One way is to convert the word to IPA and compare to an IPA converted version of every word in the CMU dictionary.)"
   ]
  },
  {
   "cell_type": "markdown",
   "id": "directed-liabilities",
   "metadata": {},
   "source": [
    "## 4 — Gather candidate phrases\n",
    "\n",
    "For each word in the phonetic family, of each word in the semantic family, of each object label, retrieve each idiom containing the word.\n",
    "Add the idiom Id, as well as the stats on the object centrality, semantic distance, and phonetic distance, to a dataframe.\n",
    "\n",
    "Compute _suitability score_ for each word-idiom match and add this to that column of the dataframe\n",
    "\n",
    "Also, for each word in the semantic family, search the joke list for match and add that these to a joke_match dataframe, to use if there's too low a suitability score using a substitution.\n"
   ]
  },
  {
   "cell_type": "markdown",
   "id": "renewable-proportion",
   "metadata": {},
   "source": [
    "## 5 — Choose captions\n",
    "\n",
    "Sort captions dataframe by the _suitability score_\n",
    "\n",
    "Choose the top 10 and generate a list containing each caption with the original semantic family word substituted into the idiom in addition to jokes containing any of the semantic family words"
   ]
  },
  {
   "cell_type": "code",
   "execution_count": null,
   "id": "successful-leave",
   "metadata": {},
   "outputs": [],
   "source": []
  },
  {
   "cell_type": "code",
   "execution_count": 23,
   "id": "voluntary-works",
   "metadata": {},
   "outputs": [],
   "source": [
    "import pandas as pd\n",
    "from collections import namedtuple\n",
    "import uuid"
   ]
  },
  {
   "cell_type": "markdown",
   "id": "naked-phone",
   "metadata": {},
   "source": [
    "## -1  — Webscrape and process phrases (idioms, sayings, aphorisms)\n",
    "\n",
    "They should be converted into lists of phonetic sounds"
   ]
  },
  {
   "cell_type": "markdown",
   "id": "baking-university",
   "metadata": {},
   "source": [
    "## 0  — Load `phrase_dict` pickled and processed after being scraped"
   ]
  },
  {
   "cell_type": "markdown",
   "id": "accessory-sweet",
   "metadata": {},
   "source": [
    "#### Data structures defined"
   ]
  },
  {
   "cell_type": "code",
   "execution_count": 79,
   "id": "unique-constraint",
   "metadata": {},
   "outputs": [],
   "source": [
    "\n",
    "Phrase = namedtuple('Phrase',['text_string', 'word_list','phon_list','string_length', 'word_count', 'prefix', 'phrase_type'])\n",
    "phrase_dict = dict()\n",
    "\n",
    "Close_word = namedtuple('Close_word', ['word', 'distance'])\n",
    "#Sem_family = namedtuple('Sem_family', ['locus_word', 'close_words'])\n",
    "Sem_family = namedtuple('Sem_family', ['locus_word', 'phon_fams'])\n",
    "Phon_family = namedtuple('Phon_family', ['locus_word', 'close_words'])"
   ]
  },
  {
   "cell_type": "markdown",
   "id": "smooth-wales",
   "metadata": {},
   "source": [
    "#### Temporary toy example of the dict of phrases, to be replaced with idioms etc. scraped from web"
   ]
  },
  {
   "cell_type": "code",
   "execution_count": 25,
   "id": "prescription-brooklyn",
   "metadata": {},
   "outputs": [],
   "source": [
    "t_string = 'Smarter than the average bear'\n",
    "w_list = t_string.lower().split()\n",
    "ph_id1 = uuid.uuid1()\n",
    "phrase_dict[ph_id1] = Phrase(text_string = t_string, word_list = w_list, phon_list = w_list, string_length = len(t_string), word_count = len(w_list), prefix=\"As usual: \", phrase_type='idiom' )\n",
    "\n",
    "# toy example of the dict\n",
    "t_string = 'Not a hair out of place'\n",
    "w_list = t_string.lower().split()\n",
    "ph_id2 = uuid.uuid1()\n",
    "phrase_dict[ph_id2] = Phrase(text_string = t_string, word_list = w_list, phon_list = w_list, string_length = len(t_string), word_count = len(w_list), prefix=\"As usual: \", phrase_type='idiom' )\n",
    "\n",
    "# toy example of the dict\n",
    "t_string = 'Three blind mice'\n",
    "w_list = t_string.lower().split()\n",
    "ph_id3 = uuid.uuid1()\n",
    "phrase_dict[ph_id3] = Phrase(text_string = t_string, word_list = w_list, phon_list = w_list, string_length = len(t_string), word_count = len(w_list), prefix=\"As usual: \", phrase_type='idiom' )\n",
    "\n",
    "# toy example of the dict\n",
    "t_string = 'I just called to say I love you'\n",
    "w_list = t_string.lower().split()\n",
    "ph_id3 = uuid.uuid1()\n",
    "phrase_dict[ph_id3] = Phrase(text_string = t_string, word_list = w_list, phon_list = w_list, string_length = len(t_string), word_count = len(w_list), prefix=\"As usual: \", phrase_type='idiom' )\n"
   ]
  },
  {
   "cell_type": "markdown",
   "id": "legendary-poster",
   "metadata": {},
   "source": [
    "## 1 — Recognize objects in image (or classify image)\n",
    "\n",
    "Using trained NN, get object label or labels for image, or otherwise provide a label for the image. Also store the centrality of the object. "
   ]
  },
  {
   "cell_type": "markdown",
   "id": "muslim-mediterranean",
   "metadata": {},
   "source": [
    "## 2 — Generate semantic word families\n",
    "\n",
    "For each label, use Word2Vec `similar` to retrieve list of words semantically related to the image object labels"
   ]
  },
  {
   "cell_type": "markdown",
   "id": "raising-wisconsin",
   "metadata": {},
   "source": [
    "## 3 — Generate all related words\n",
    "\n",
    "For each semantically related (below a distance threshold) word to each object label, measure its phonetic similarity to all words in the dictionary. Also store each words's distance.\n",
    "\n",
    "For each word in each semantic family, sort and choose the phonetically closest (below a distance threshold) words.\n",
    "(One way is to convert the word to IPA and compare to an IPA converted version of every word in the CMU dictionary.)"
   ]
  },
  {
   "cell_type": "code",
   "execution_count": 48,
   "id": "anticipated-beast",
   "metadata": {},
   "outputs": [],
   "source": [
    "english_dictionary = ['two', 'pair', 'bear', 'scare', 'you', 'twice', 'hair', 'mice', 'speaker', 'book']"
   ]
  },
  {
   "cell_type": "code",
   "execution_count": 49,
   "id": "silver-script",
   "metadata": {},
   "outputs": [
    {
     "data": {
      "text/plain": [
       "Phon_family(locus_word=Close_word(word='twice', distance=4.1), close_words=[Close_word(word='mice', distance=2.1)])"
      ]
     },
     "execution_count": 49,
     "metadata": {},
     "output_type": "execute_result"
    }
   ],
   "source": [
    "# two_phon_fam = Phon_family(locus_word=Close_word('two', 3), close_words = [Close_word('you', 2.1)])\n",
    "# two_phon_fam\n",
    "\n",
    "# pair_phon_fam = Phon_family(locus_word=Close_word('pair', 5), close_words = [Close_word('bear', 1.5), Close_word('hair', 2.7)])\n",
    "# pair_phon_fam\n",
    "\n",
    "# twice_phon_fam = Phon_family(locus_word=Close_word('twice', 4.1), close_words = [Close_word('mice', 2.1)])\n",
    "# twice_phon_fam"
   ]
  },
  {
   "cell_type": "code",
   "execution_count": 50,
   "id": "dress-template",
   "metadata": {},
   "outputs": [],
   "source": [
    "# import eng_to_ipa as ipa\n",
    "# ipa.get_rhymes(\"words to rhyme with)"
   ]
  },
  {
   "cell_type": "code",
   "execution_count": 51,
   "id": "indirect-stage",
   "metadata": {},
   "outputs": [],
   "source": [
    "def IPA_get_rhymes( w ):\n",
    "    if w == 'two':\n",
    "        return [['you']]\n",
    "    elif w == 'pair':\n",
    "        return [['bear', 'hair']]\n",
    "    else:\n",
    "        return [['mice']]\n",
    "    "
   ]
  },
  {
   "cell_type": "code",
   "execution_count": 52,
   "id": "thrown-thought",
   "metadata": {},
   "outputs": [
    {
     "data": {
      "text/plain": [
       "['bear', 'hair']"
      ]
     },
     "execution_count": 52,
     "metadata": {},
     "output_type": "execute_result"
    }
   ],
   "source": []
  },
  {
   "cell_type": "code",
   "execution_count": 53,
   "id": "collective-gregory",
   "metadata": {},
   "outputs": [],
   "source": [
    "## Temporary stand-in function, to be replaced with one that computes phonetic distance\n",
    "def lev_dist( phon1, phon2 ):\n",
    "    return 100"
   ]
  },
  {
   "cell_type": "code",
   "execution_count": 65,
   "id": "banned-audit",
   "metadata": {},
   "outputs": [],
   "source": [
    "two_fam_member_list = ['you']\n",
    "pair_fam_member_list = ['bear', 'hair']\n",
    "twice_fam_member_list = ['mice']\n",
    "\n",
    "def make_phon_fam_for_sem_fam_member( w, thresh=.2 ):\n",
    "    w_phon_code = w\n",
    "    close_word_list = []\n",
    "    for word in english_dictionary:\n",
    "        word_phon_code = word\n",
    "        dist = lev_dist(w_phon_code, word_phon_code)\n",
    "        if dist < thresh:\n",
    "            close_word_list.append( Close_word(word, dist) )\n",
    "    \n",
    "    rhyme_dist = .1\n",
    "    rhyme_word_list = IPA_get_rhymes( w )[0]\n",
    "    for word in rhyme_word_list:\n",
    "         close_word_list.append( Close_word(word, rhyme_dist) )\n",
    "    \n",
    "    return Phon_family(locus_word= w, close_words=close_word_list )\n",
    "    \n",
    "    "
   ]
  },
  {
   "cell_type": "code",
   "execution_count": 73,
   "id": "raising-italy",
   "metadata": {},
   "outputs": [],
   "source": [
    "# two_phon_fam = get_phon_fam_for_sem_fam_member( 'two' )\n",
    "# pair_phon_fam = get_phon_fam_for_sem_fam_member( 'pair' )\n",
    "# twice_phon_fam = get_phon_fam_for_sem_fam_member( 'twice' )\n"
   ]
  },
  {
   "cell_type": "code",
   "execution_count": null,
   "id": "conservative-upset",
   "metadata": {},
   "outputs": [],
   "source": [
    "## ALERT:  Need to incorporate the semantic distance somewhere"
   ]
  },
  {
   "cell_type": "code",
   "execution_count": 82,
   "id": "becoming-answer",
   "metadata": {},
   "outputs": [],
   "source": [
    "two_sem_fam = Sem_family(locus_word='two', phon_fams = [make_phon_fam_for_sem_fam_member( 'two' ), \\\n",
    "                                                        make_phon_fam_for_sem_fam_member( 'pair' ), \\\n",
    "                                                        make_phon_fam_for_sem_fam_member( 'twice' )])"
   ]
  },
  {
   "cell_type": "code",
   "execution_count": 83,
   "id": "figured-montreal",
   "metadata": {},
   "outputs": [],
   "source": [
    "def make_phon_fams_for_sem_family( sem_fam ):\n",
    "    pass\n",
    "    # Use the code in the cell above as the basis for a for loop  \n",
    "    # First make a phonetic family for the locus word\n",
    "    # Then go trough each member of the semantic family and add a phonetic family for each\n",
    "    \n",
    "#     close_word_list = [sem_fam.locus_word]\n",
    "#     for w in sem_fam.close_words:\n",
    "        \n",
    "    \n",
    "    "
   ]
  },
  {
   "cell_type": "markdown",
   "id": "spoken-manner",
   "metadata": {},
   "source": [
    "## 4 — Gather candidate phrases\n",
    "\n",
    "For each word in the phonetic family, of each word in the semantic family, of each object label, retrieve phrases containing the word.\n",
    "Add the phrase_Id, as well as the stats on the object centrality, semantic distance, and phonetic distance, to a dataframe.\n",
    "\n",
    "Compute _suitability score_ for each word-phrase match and add this to that column of the dataframe\n",
    "\n",
    "Also, for each word in the semantic family, search the joke list for match and add that these to a joke_match dataframe, to use if there's too low a suitability score using a substitution.\n"
   ]
  },
  {
   "cell_type": "code",
   "execution_count": null,
   "id": "hazardous-making",
   "metadata": {},
   "outputs": [],
   "source": []
  },
  {
   "cell_type": "markdown",
   "id": "individual-musician",
   "metadata": {},
   "source": []
  },
  {
   "cell_type": "markdown",
   "id": "interstate-comparison",
   "metadata": {},
   "source": [
    "## TO CODE NEXT\n",
    "\n",
    "Write code that takes the word `twice` and returns its `semantic_family` which is a list of words \n",
    "('pair', and 'twice' in this case) and returns either (TBD) the list phonetically similar words or \n",
    "the pboneticized version of the word to be compared with the phoneticized variants of words in\n",
    "the phrases\n",
    "\n"
   ]
  },
  {
   "cell_type": "markdown",
   "id": "piano-piece",
   "metadata": {},
   "source": [
    "#### Define dataframe for candidate phrases"
   ]
  },
  {
   "cell_type": "code",
   "execution_count": 28,
   "id": "bigger-background",
   "metadata": {},
   "outputs": [
    {
     "data": {
      "text/html": [
       "<div>\n",
       "<style scoped>\n",
       "    .dataframe tbody tr th:only-of-type {\n",
       "        vertical-align: middle;\n",
       "    }\n",
       "\n",
       "    .dataframe tbody tr th {\n",
       "        vertical-align: top;\n",
       "    }\n",
       "\n",
       "    .dataframe thead th {\n",
       "        text-align: right;\n",
       "    }\n",
       "</style>\n",
       "<table border=\"1\" class=\"dataframe\">\n",
       "  <thead>\n",
       "    <tr style=\"text-align: right;\">\n",
       "      <th></th>\n",
       "      <th>semantic_match</th>\n",
       "      <th>sem_dist</th>\n",
       "      <th>phonetic_match</th>\n",
       "      <th>phon_dist</th>\n",
       "      <th>phrase_id</th>\n",
       "      <th>score</th>\n",
       "    </tr>\n",
       "  </thead>\n",
       "  <tbody>\n",
       "  </tbody>\n",
       "</table>\n",
       "</div>"
      ],
      "text/plain": [
       "Empty DataFrame\n",
       "Columns: [semantic_match, sem_dist, phonetic_match, phon_dist, phrase_id, score]\n",
       "Index: []"
      ]
     },
     "execution_count": 28,
     "metadata": {},
     "output_type": "execute_result"
    }
   ],
   "source": [
    "col_names = ['semantic_match', 'sem_dist', 'phonetic_match', 'phon_dist', 'phrase_id', 'score']\n",
    "\n",
    "cand_df = pd.DataFrame(columns= col_names)\n",
    "cand_df"
   ]
  },
  {
   "cell_type": "markdown",
   "id": "outer-scanning",
   "metadata": {},
   "source": [
    "#### Need to write body of function that will convert to phoneticized version of word"
   ]
  },
  {
   "cell_type": "code",
   "execution_count": 29,
   "id": "optimum-national",
   "metadata": {},
   "outputs": [],
   "source": [
    "def phoneticized( w ):\n",
    "    return w"
   ]
  },
  {
   "cell_type": "markdown",
   "id": "bound-duration",
   "metadata": {},
   "source": [
    "### ALERT:  Instead, pre-generate a dictionary of phoneticized versions of the words in the list of idioms. Each phonetic word should map to a list of duples each of which is a phrase id and the corresponding word"
   ]
  },
  {
   "cell_type": "code",
   "execution_count": 30,
   "id": "running-relaxation",
   "metadata": {},
   "outputs": [],
   "source": [
    "def get_matching_phrases( w ):\n",
    "    matched_id_list = []\n",
    "    for phrase_id in phrase_dict.keys():\n",
    "        if w in phrase_dict[phrase_id].phon_list:\n",
    "            matched_id_list.append(phrase_id)\n",
    "    return matched_id_list"
   ]
  },
  {
   "cell_type": "code",
   "execution_count": 31,
   "id": "facial-significance",
   "metadata": {},
   "outputs": [],
   "source": [
    "#get_matching_phrases('bear')"
   ]
  },
  {
   "cell_type": "code",
   "execution_count": 32,
   "id": "useful-kidney",
   "metadata": {},
   "outputs": [],
   "source": [
    "#  cycles through each phonetic family in the semantic family to get matching phrases\n",
    "\n",
    "def get_phrases_for_phon_fam( phon_fam_ ):\n",
    "\n",
    "    word_match_records_ = []\n",
    "\n",
    "    #phon_fam_ = pair_phon_fam\n",
    "    for word in phon_fam_.close_words:\n",
    "        matched_phrases = get_matching_phrases( word.word )\n",
    "        #print(word, len(matched_phrases))\n",
    "        if matched_phrases:\n",
    "            for p_id in matched_phrases:\n",
    "                word_match_records_.append({'semantic_match': phon_fam_.locus_word.word, 'sem_dist': phon_fam_.locus_word.distance, 'phonetic_match': word.word, 'phon_dist': word.distance, 'phrase_id': p_id, 'score': ''})\n",
    "    return word_match_records_ "
   ]
  },
  {
   "cell_type": "code",
   "execution_count": 33,
   "id": "small-theology",
   "metadata": {},
   "outputs": [
    {
     "data": {
      "text/plain": [
       "[{'semantic_match': 'two',\n",
       "  'sem_dist': 4.1,\n",
       "  'phonetic_match': 'you',\n",
       "  'phon_dist': 2.1,\n",
       "  'phrase_id': UUID('62270524-7f6d-11eb-bc0a-acde48001122'),\n",
       "  'score': ''},\n",
       " {'semantic_match': 'pair',\n",
       "  'sem_dist': 5,\n",
       "  'phonetic_match': 'bear',\n",
       "  'phon_dist': 1.5,\n",
       "  'phrase_id': UUID('6226f386-7f6d-11eb-bc0a-acde48001122'),\n",
       "  'score': ''},\n",
       " {'semantic_match': 'pair',\n",
       "  'sem_dist': 5,\n",
       "  'phonetic_match': 'hair',\n",
       "  'phon_dist': 2.7,\n",
       "  'phrase_id': UUID('6226fa16-7f6d-11eb-bc0a-acde48001122'),\n",
       "  'score': ''},\n",
       " {'semantic_match': 'twice',\n",
       "  'sem_dist': 4.1,\n",
       "  'phonetic_match': 'mice',\n",
       "  'phon_dist': 2.1,\n",
       "  'phrase_id': UUID('6226ffc0-7f6d-11eb-bc0a-acde48001122'),\n",
       "  'score': ''}]"
      ]
     },
     "execution_count": 33,
     "metadata": {},
     "output_type": "execute_result"
    }
   ],
   "source": [
    "word_match_records = []   \n",
    "\n",
    "word_match_records.extend( get_phrases_for_phon_fam( two_phon_fam ) ) \n",
    "word_match_records.extend( get_phrases_for_phon_fam( pair_phon_fam ) )\n",
    "word_match_records.extend( get_phrases_for_phon_fam( twice_phon_fam ) )  \n",
    "word_match_records"
   ]
  },
  {
   "cell_type": "code",
   "execution_count": 34,
   "id": "scientific-applicant",
   "metadata": {},
   "outputs": [],
   "source": [
    "cand_df = cand_df.append(word_match_records)"
   ]
  },
  {
   "cell_type": "code",
   "execution_count": 35,
   "id": "consecutive-volume",
   "metadata": {},
   "outputs": [],
   "source": [
    "# cand_df = pd.DataFrame({\"semantic_match\": ['pair','pair','twice'], \"sem_dist\": [5, 5, 4.1], \"phonetic_match\": ['bear', 'hair','mice'], \"phon_dist\": [1.5, 2.7, 2.1], \"phrase_id\":  [ph_id1, ph_id2,ph_id3], \"phrase_type\":  ['idiom', 'idiom','idiom'],'score': [.5, .3, 1.1]})\n"
   ]
  },
  {
   "cell_type": "code",
   "execution_count": 36,
   "id": "chubby-cricket",
   "metadata": {},
   "outputs": [
    {
     "data": {
      "text/html": [
       "<div>\n",
       "<style scoped>\n",
       "    .dataframe tbody tr th:only-of-type {\n",
       "        vertical-align: middle;\n",
       "    }\n",
       "\n",
       "    .dataframe tbody tr th {\n",
       "        vertical-align: top;\n",
       "    }\n",
       "\n",
       "    .dataframe thead th {\n",
       "        text-align: right;\n",
       "    }\n",
       "</style>\n",
       "<table border=\"1\" class=\"dataframe\">\n",
       "  <thead>\n",
       "    <tr style=\"text-align: right;\">\n",
       "      <th></th>\n",
       "      <th>semantic_match</th>\n",
       "      <th>sem_dist</th>\n",
       "      <th>phonetic_match</th>\n",
       "      <th>phon_dist</th>\n",
       "      <th>phrase_id</th>\n",
       "      <th>score</th>\n",
       "    </tr>\n",
       "  </thead>\n",
       "  <tbody>\n",
       "    <tr>\n",
       "      <th>0</th>\n",
       "      <td>two</td>\n",
       "      <td>4.1</td>\n",
       "      <td>you</td>\n",
       "      <td>2.1</td>\n",
       "      <td>62270524-7f6d-11eb-bc0a-acde48001122</td>\n",
       "      <td></td>\n",
       "    </tr>\n",
       "    <tr>\n",
       "      <th>1</th>\n",
       "      <td>pair</td>\n",
       "      <td>5.0</td>\n",
       "      <td>bear</td>\n",
       "      <td>1.5</td>\n",
       "      <td>6226f386-7f6d-11eb-bc0a-acde48001122</td>\n",
       "      <td></td>\n",
       "    </tr>\n",
       "    <tr>\n",
       "      <th>2</th>\n",
       "      <td>pair</td>\n",
       "      <td>5.0</td>\n",
       "      <td>hair</td>\n",
       "      <td>2.7</td>\n",
       "      <td>6226fa16-7f6d-11eb-bc0a-acde48001122</td>\n",
       "      <td></td>\n",
       "    </tr>\n",
       "    <tr>\n",
       "      <th>3</th>\n",
       "      <td>twice</td>\n",
       "      <td>4.1</td>\n",
       "      <td>mice</td>\n",
       "      <td>2.1</td>\n",
       "      <td>6226ffc0-7f6d-11eb-bc0a-acde48001122</td>\n",
       "      <td></td>\n",
       "    </tr>\n",
       "  </tbody>\n",
       "</table>\n",
       "</div>"
      ],
      "text/plain": [
       "  semantic_match  sem_dist phonetic_match  phon_dist  \\\n",
       "0            two       4.1            you        2.1   \n",
       "1           pair       5.0           bear        1.5   \n",
       "2           pair       5.0           hair        2.7   \n",
       "3          twice       4.1           mice        2.1   \n",
       "\n",
       "                              phrase_id score  \n",
       "0  62270524-7f6d-11eb-bc0a-acde48001122        \n",
       "1  6226f386-7f6d-11eb-bc0a-acde48001122        \n",
       "2  6226fa16-7f6d-11eb-bc0a-acde48001122        \n",
       "3  6226ffc0-7f6d-11eb-bc0a-acde48001122        "
      ]
     },
     "execution_count": 36,
     "metadata": {},
     "output_type": "execute_result"
    }
   ],
   "source": [
    "cand_df"
   ]
  },
  {
   "cell_type": "code",
   "execution_count": 37,
   "id": "understood-bedroom",
   "metadata": {},
   "outputs": [],
   "source": [
    "cand_df['score'] = cand_df.apply(lambda row: 1.0/(row['sem_dist'] + row['phon_dist']), axis=1)"
   ]
  },
  {
   "cell_type": "markdown",
   "id": "civic-arthritis",
   "metadata": {},
   "source": [
    "## 5 —  Choose captions\n",
    "\n",
    "Sort captions dataframe by the _suitability score_\n",
    "\n",
    "Choose the top 10(?) and generate a list containing each caption with the original semantic family word substituted into the idiom in addition to jokes containing any of the semantic family words"
   ]
  },
  {
   "cell_type": "code",
   "execution_count": 38,
   "id": "funny-symphony",
   "metadata": {},
   "outputs": [],
   "source": [
    "def sub(phrase, orig_word='', new_word=''):\n",
    "    return phrase.text_string.replace(orig_word, new_word)"
   ]
  },
  {
   "cell_type": "code",
   "execution_count": 39,
   "id": "charming-return",
   "metadata": {},
   "outputs": [],
   "source": [
    "def construct_caption( row ):\n",
    "    return sub( phrase_dict[ row['phrase_id']], row['phonetic_match'],  row['semantic_match']  )"
   ]
  },
  {
   "cell_type": "code",
   "execution_count": 40,
   "id": "devoted-shield",
   "metadata": {},
   "outputs": [],
   "source": [
    "def get_best_captions(df, selection_size=10):\n",
    "    df.sort_values(by='score', inplace=True)\n",
    "    best_df = df.head(selection_size)\n",
    "    best_df['caption'] = best_df.apply(construct_caption, axis=1 )    \n",
    "    return best_df\n",
    "    #return best_df['_caption'].to_list()"
   ]
  },
  {
   "cell_type": "code",
   "execution_count": null,
   "id": "mechanical-emphasis",
   "metadata": {},
   "outputs": [],
   "source": [
    "\n"
   ]
  },
  {
   "cell_type": "code",
   "execution_count": 41,
   "id": "victorian-software",
   "metadata": {},
   "outputs": [
    {
     "name": "stderr",
     "output_type": "stream",
     "text": [
      "<ipython-input-40-0abcd1c06ef8>:4: SettingWithCopyWarning: \n",
      "A value is trying to be set on a copy of a slice from a DataFrame.\n",
      "Try using .loc[row_indexer,col_indexer] = value instead\n",
      "\n",
      "See the caveats in the documentation: https://pandas.pydata.org/pandas-docs/stable/user_guide/indexing.html#returning-a-view-versus-a-copy\n",
      "  best_df['caption'] = best_df.apply(construct_caption, axis=1 )\n"
     ]
    },
    {
     "data": {
      "text/html": [
       "<div>\n",
       "<style scoped>\n",
       "    .dataframe tbody tr th:only-of-type {\n",
       "        vertical-align: middle;\n",
       "    }\n",
       "\n",
       "    .dataframe tbody tr th {\n",
       "        vertical-align: top;\n",
       "    }\n",
       "\n",
       "    .dataframe thead th {\n",
       "        text-align: right;\n",
       "    }\n",
       "</style>\n",
       "<table border=\"1\" class=\"dataframe\">\n",
       "  <thead>\n",
       "    <tr style=\"text-align: right;\">\n",
       "      <th></th>\n",
       "      <th>semantic_match</th>\n",
       "      <th>sem_dist</th>\n",
       "      <th>phonetic_match</th>\n",
       "      <th>phon_dist</th>\n",
       "      <th>phrase_id</th>\n",
       "      <th>score</th>\n",
       "      <th>caption</th>\n",
       "    </tr>\n",
       "  </thead>\n",
       "  <tbody>\n",
       "    <tr>\n",
       "      <th>2</th>\n",
       "      <td>pair</td>\n",
       "      <td>5.0</td>\n",
       "      <td>hair</td>\n",
       "      <td>2.7</td>\n",
       "      <td>6226fa16-7f6d-11eb-bc0a-acde48001122</td>\n",
       "      <td>0.129870</td>\n",
       "      <td>Not a pair out of place</td>\n",
       "    </tr>\n",
       "    <tr>\n",
       "      <th>1</th>\n",
       "      <td>pair</td>\n",
       "      <td>5.0</td>\n",
       "      <td>bear</td>\n",
       "      <td>1.5</td>\n",
       "      <td>6226f386-7f6d-11eb-bc0a-acde48001122</td>\n",
       "      <td>0.153846</td>\n",
       "      <td>Smarter than the average pair</td>\n",
       "    </tr>\n",
       "    <tr>\n",
       "      <th>0</th>\n",
       "      <td>two</td>\n",
       "      <td>4.1</td>\n",
       "      <td>you</td>\n",
       "      <td>2.1</td>\n",
       "      <td>62270524-7f6d-11eb-bc0a-acde48001122</td>\n",
       "      <td>0.161290</td>\n",
       "      <td>I just called to say I love two</td>\n",
       "    </tr>\n",
       "    <tr>\n",
       "      <th>3</th>\n",
       "      <td>twice</td>\n",
       "      <td>4.1</td>\n",
       "      <td>mice</td>\n",
       "      <td>2.1</td>\n",
       "      <td>6226ffc0-7f6d-11eb-bc0a-acde48001122</td>\n",
       "      <td>0.161290</td>\n",
       "      <td>Three blind twice</td>\n",
       "    </tr>\n",
       "  </tbody>\n",
       "</table>\n",
       "</div>"
      ],
      "text/plain": [
       "  semantic_match  sem_dist phonetic_match  phon_dist  \\\n",
       "2           pair       5.0           hair        2.7   \n",
       "1           pair       5.0           bear        1.5   \n",
       "0            two       4.1            you        2.1   \n",
       "3          twice       4.1           mice        2.1   \n",
       "\n",
       "                              phrase_id     score  \\\n",
       "2  6226fa16-7f6d-11eb-bc0a-acde48001122  0.129870   \n",
       "1  6226f386-7f6d-11eb-bc0a-acde48001122  0.153846   \n",
       "0  62270524-7f6d-11eb-bc0a-acde48001122  0.161290   \n",
       "3  6226ffc0-7f6d-11eb-bc0a-acde48001122  0.161290   \n",
       "\n",
       "                           caption  \n",
       "2          Not a pair out of place  \n",
       "1    Smarter than the average pair  \n",
       "0  I just called to say I love two  \n",
       "3                Three blind twice  "
      ]
     },
     "execution_count": 41,
     "metadata": {},
     "output_type": "execute_result"
    }
   ],
   "source": [
    "best_captions_df = get_best_captions(cand_df)\n",
    "best_captions_df"
   ]
  },
  {
   "cell_type": "code",
   "execution_count": 42,
   "id": "aggregate-underground",
   "metadata": {},
   "outputs": [
    {
     "data": {
      "text/plain": [
       "['Not a pair out of place',\n",
       " 'Smarter than the average pair',\n",
       " 'I just called to say I love two',\n",
       " 'Three blind twice']"
      ]
     },
     "execution_count": 42,
     "metadata": {},
     "output_type": "execute_result"
    }
   ],
   "source": [
    "best_captions_list = best_captions_df['caption'].to_list()\n",
    "best_captions_list "
   ]
  },
  {
   "cell_type": "code",
   "execution_count": null,
   "id": "mineral-homework",
   "metadata": {},
   "outputs": [],
   "source": []
  },
  {
   "cell_type": "code",
   "execution_count": null,
   "id": "atmospheric-toyota",
   "metadata": {},
   "outputs": [],
   "source": []
  },
  {
   "cell_type": "code",
   "execution_count": null,
   "id": "voluntary-michigan",
   "metadata": {},
   "outputs": [],
   "source": []
  },
  {
   "cell_type": "code",
   "execution_count": null,
   "id": "illegal-rover",
   "metadata": {},
   "outputs": [],
   "source": []
  },
  {
   "cell_type": "code",
   "execution_count": null,
   "id": "racial-chemical",
   "metadata": {},
   "outputs": [],
   "source": []
  }
 ],
 "metadata": {
  "kernelspec": {
   "display_name": "Python [conda env:metis] *",
   "language": "python",
   "name": "conda-env-metis-py"
  },
  "language_info": {
   "codemirror_mode": {
    "name": "ipython",
    "version": 3
   },
   "file_extension": ".py",
   "mimetype": "text/x-python",
   "name": "python",
   "nbconvert_exporter": "python",
   "pygments_lexer": "ipython3",
   "version": "3.8.6"
  }
 },
 "nbformat": 4,
 "nbformat_minor": 5
}
