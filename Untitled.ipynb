{
 "cells": [
  {
   "cell_type": "code",
   "execution_count": 13,
   "id": "blind-shield",
   "metadata": {},
   "outputs": [
    {
     "data": {
      "text/plain": [
       "['man', 'bird', ['lady', 'beetle'], ['sheep', 'dog']]"
      ]
     },
     "execution_count": 13,
     "metadata": {},
     "output_type": "execute_result"
    }
   ],
   "source": [
    "L = ['man', 'bird', 'lady_beetle', 'sheep_dog']\n",
    "[w.split('_') if '_' in w else w for w in L ]"
   ]
  },
  {
   "cell_type": "code",
   "execution_count": 14,
   "id": "annoying-kernel",
   "metadata": {},
   "outputs": [
    {
     "data": {
      "text/plain": [
       "True"
      ]
     },
     "execution_count": 14,
     "metadata": {},
     "output_type": "execute_result"
    }
   ],
   "source": [
    "isinstance('lady'.split('_'), list)"
   ]
  },
  {
   "cell_type": "code",
   "execution_count": 21,
   "id": "consolidated-tolerance",
   "metadata": {},
   "outputs": [
    {
     "data": {
      "text/plain": [
       "['no', 'yes', 'yeah', 'maybe']"
      ]
     },
     "execution_count": 21,
     "metadata": {},
     "output_type": "execute_result"
    }
   ],
   "source": [
    "list_ = ['no', 'yes_yeah', 'maybe']\n",
    "list_of_lists = [l.split('_') for l in list_]\n",
    "#list_of_lists = [['no'], ['yes', 'yeah'], ['maybe']]\n",
    "flattened_list = [word for object_name in [syn.split('_') for syn in list_] for word in object_name]\n",
    "flattened_list"
   ]
  },
  {
   "cell_type": "code",
   "execution_count": 23,
   "id": "adjusted-jefferson",
   "metadata": {},
   "outputs": [
    {
     "data": {
      "text/plain": [
       "['ladybug', 'ladybeetle', 'lady', 'beetle', 'ladybird', 'ladybird', 'beetle']"
      ]
     },
     "execution_count": 23,
     "metadata": {},
     "output_type": "execute_result"
    }
   ],
   "source": [
    "from nltk.corpus import wordnet\n",
    "\n",
    "#wordnet.synsets( w )[0].lemmas()\n",
    "\n",
    "w='ladybug'\n",
    "[word for object_name in [syn.name().split('_') for syn in wordnet.synsets( w )[0].lemmas()] for word in object_name]"
   ]
  },
  {
   "cell_type": "code",
   "execution_count": null,
   "id": "temporal-horse",
   "metadata": {},
   "outputs": [],
   "source": []
  }
 ],
 "metadata": {
  "kernelspec": {
   "display_name": "Python [conda env:metis] *",
   "language": "python",
   "name": "conda-env-metis-py"
  },
  "language_info": {
   "codemirror_mode": {
    "name": "ipython",
    "version": 3
   },
   "file_extension": ".py",
   "mimetype": "text/x-python",
   "name": "python",
   "nbconvert_exporter": "python",
   "pygments_lexer": "ipython3",
   "version": "3.8.6"
  }
 },
 "nbformat": 4,
 "nbformat_minor": 5
}
